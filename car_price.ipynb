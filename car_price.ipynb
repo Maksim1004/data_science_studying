{
 "cells": [
  {
   "cell_type": "markdown",
   "metadata": {},
   "source": [
    "# Определение стоимости автомобилей"
   ]
  },
  {
   "cell_type": "markdown",
   "metadata": {},
   "source": [
    "Сервис по продаже автомобилей с пробегом «Не бит, не крашен» разрабатывает приложение для привлечения новых клиентов. В нём можно быстро узнать рыночную стоимость своего автомобиля. В нашем распоряжении исторические данные: технические характеристики, комплектации и цены автомобилей. Нам нужно построить модель для определения стоимости. \n",
    "\n",
    "Заказчику важны:\n",
    "\n",
    "- качество предсказания;\n",
    "- скорость предсказания;\n",
    "- время обучения."
   ]
  },
  {
   "cell_type": "markdown",
   "metadata": {},
   "source": [
    "В данных имеются следующие входные признаки:\n",
    "- DateCrawled — дата скачивания анкеты из базы\n",
    "- VehicleType — тип автомобильного кузова\n",
    "- RegistrationYear — год регистрации автомобиля\n",
    "- Gearbox — тип коробки передач\n",
    "- Power — мощность (л. с.)\n",
    "- Model — модель автомобиля\n",
    "- Kilometer — пробег (км)\n",
    "- RegistrationMonth — месяц регистрации автомобиля\n",
    "- FuelType — тип топлива\n",
    "- Brand — марка автомобиля\n",
    "- Repaired — была машина в ремонте или нет\n",
    "- DateCreated — дата создания анкеты\n",
    "- NumberOfPictures — количество фотографий автомобиля\n",
    "- PostalCode — почтовый индекс владельца анкеты (пользователя)\n",
    "- LastSeen — дата последней активности пользователя\n",
    "\n",
    "А также целевой признак:\n",
    "- Price — цена (евро)"
   ]
  },
  {
   "cell_type": "code",
   "execution_count": 1,
   "metadata": {},
   "outputs": [
    {
     "data": {
      "text/plain": [
       "'1.5.1'"
      ]
     },
     "execution_count": 1,
     "metadata": {},
     "output_type": "execute_result"
    }
   ],
   "source": [
    "import sklearn # Проверка версии sklearn. Обновляем при необходимости\n",
    "if sklearn.__version__[0] == '0':\n",
    "    !pip install scikit-learn -U # После установки надо перезапустить ядро\n",
    "sklearn.__version__ "
   ]
  },
  {
   "cell_type": "code",
   "execution_count": 2,
   "metadata": {},
   "outputs": [],
   "source": [
    "#!pip install -U Pillow # Для решения ошибки с профайлером"
   ]
  },
  {
   "cell_type": "code",
   "execution_count": 3,
   "metadata": {},
   "outputs": [],
   "source": [
    "import pandas as pd\n",
    "import numpy as np\n",
    "\n",
    "try:\n",
    "    from ydata_profiling import ProfileReport\n",
    "except:\n",
    "    !pip install -U Pillow # Для решения ошибки с профайлером\n",
    "    !pip install -U ydata-profiling\n",
    "    from ydata_profiling import ProfileReport\n",
    "\n",
    "from sklearn.model_selection import train_test_split, cross_val_score, RandomizedSearchCV\n",
    "from sklearn.preprocessing import MinMaxScaler, OneHotEncoder\n",
    "from sklearn.impute import KNNImputer, SimpleImputer\n",
    "from sklearn.compose import ColumnTransformer\n",
    "from sklearn.pipeline import Pipeline\n",
    "from sklearn.metrics import root_mean_squared_error, make_scorer\n",
    "\n",
    "from sklearn.linear_model import LinearRegression\n",
    "from sklearn.tree import DecisionTreeRegressor\n",
    "from lightgbm import LGBMRegressor\n",
    "\n",
    "import warnings\n",
    "warnings.filterwarnings(\"ignore\", category=UserWarning)"
   ]
  },
  {
   "cell_type": "code",
   "execution_count": 4,
   "metadata": {},
   "outputs": [],
   "source": [
    "RANDOM_STATE = 42"
   ]
  },
  {
   "cell_type": "markdown",
   "metadata": {},
   "source": [
    "## Подготовка данных"
   ]
  },
  {
   "cell_type": "markdown",
   "metadata": {},
   "source": [
    "Для начала проведём EDA - разведочный анализ данных. Взглянем на них под всеми возможными углами, посмотрим на имеющиеся аномалии, корреляцию признаков и проверим общее качество имеющихся данных."
   ]
  },
  {
   "cell_type": "code",
   "execution_count": 5,
   "metadata": {},
   "outputs": [
    {
     "name": "stdout",
     "output_type": "stream",
     "text": [
      "<class 'pandas.core.frame.DataFrame'>\n",
      "RangeIndex: 354369 entries, 0 to 354368\n",
      "Data columns (total 16 columns):\n",
      " #   Column             Non-Null Count   Dtype \n",
      "---  ------             --------------   ----- \n",
      " 0   DateCrawled        354369 non-null  object\n",
      " 1   Price              354369 non-null  int64 \n",
      " 2   VehicleType        316879 non-null  object\n",
      " 3   RegistrationYear   354369 non-null  int64 \n",
      " 4   Gearbox            334536 non-null  object\n",
      " 5   Power              354369 non-null  int64 \n",
      " 6   Model              334664 non-null  object\n",
      " 7   Kilometer          354369 non-null  int64 \n",
      " 8   RegistrationMonth  354369 non-null  int64 \n",
      " 9   FuelType           321474 non-null  object\n",
      " 10  Brand              354369 non-null  object\n",
      " 11  Repaired           283215 non-null  object\n",
      " 12  DateCreated        354369 non-null  object\n",
      " 13  NumberOfPictures   354369 non-null  int64 \n",
      " 14  PostalCode         354369 non-null  int64 \n",
      " 15  LastSeen           354369 non-null  object\n",
      "dtypes: int64(7), object(9)\n",
      "memory usage: 43.3+ MB\n"
     ]
    }
   ],
   "source": [
    "try:\n",
    "    ds = pd.read_csv('/datasets/autos.csv')\n",
    "except:\n",
    "    ds = pd.read_csv('datasets/autos.csv')\n",
    "ds.info()"
   ]
  },
  {
   "cell_type": "code",
   "execution_count": 6,
   "metadata": {},
   "outputs": [],
   "source": [
    "#ProfileReport(ds)"
   ]
  },
  {
   "cell_type": "markdown",
   "metadata": {},
   "source": [
    "Пройдёмся по порядку. Профайлер любезно сгруппировал для нас все проблемы данных, на которые нам стоит взглянуть."
   ]
  },
  {
   "cell_type": "markdown",
   "metadata": {},
   "source": [
    "`NumberOfPictures` - константа, содержащая исключительно нули. Судя по всему, признак сломан. Сомневаюсь, что за 350 тысяч выставленных на продажу автомобилей не было сделано ни одного фото. От него можно избавиться"
   ]
  },
  {
   "cell_type": "code",
   "execution_count": 7,
   "metadata": {},
   "outputs": [
    {
     "data": {
      "text/plain": [
       "Index(['DateCrawled', 'Price', 'VehicleType', 'RegistrationYear', 'Gearbox',\n",
       "       'Power', 'Model', 'Kilometer', 'RegistrationMonth', 'FuelType', 'Brand',\n",
       "       'Repaired', 'DateCreated', 'PostalCode', 'LastSeen'],\n",
       "      dtype='object')"
      ]
     },
     "execution_count": 7,
     "metadata": {},
     "output_type": "execute_result"
    }
   ],
   "source": [
    "ds = ds.drop('NumberOfPictures', axis=1)\n",
    "ds.columns"
   ]
  },
  {
   "cell_type": "markdown",
   "metadata": {},
   "source": [
    "4 полных дубликата. Несмотря на то, что в данных нету полностью уникальных признаков, которые могли-бы исключить то, что это попросту похожие записи, в рамках обучения дубликаты нам будут только мешать. Удалим их."
   ]
  },
  {
   "cell_type": "code",
   "execution_count": 8,
   "metadata": {},
   "outputs": [
    {
     "data": {
      "text/plain": [
       "0"
      ]
     },
     "execution_count": 8,
     "metadata": {},
     "output_type": "execute_result"
    }
   ],
   "source": [
    "ds = ds.drop_duplicates()\n",
    "ds.duplicated().sum()"
   ]
  },
  {
   "cell_type": "markdown",
   "metadata": {},
   "source": [
    "Аномальные значения года регистрации. От 1000 до 9999"
   ]
  },
  {
   "cell_type": "code",
   "execution_count": 9,
   "metadata": {},
   "outputs": [
    {
     "data": {
      "image/png": "[encoded data removed]",
      "text/plain": [
       "<Figure size 432x288 with 1 Axes>"
      ]
     },
     "metadata": {
      "needs_background": "light"
     },
     "output_type": "display_data"
    }
   ],
   "source": [
    "ds['RegistrationYear'].plot(kind='hist', range=(1950, 2025));"
   ]
  },
  {
   "cell_type": "markdown",
   "metadata": {},
   "source": [
    "Основная масса значений находится в промежутке от 1950 до 2025, её мы и возьмём."
   ]
  },
  {
   "cell_type": "code",
   "execution_count": 10,
   "metadata": {},
   "outputs": [
    {
     "name": "stdout",
     "output_type": "stream",
     "text": [
      "max: 2019\n",
      "min: 1950\n"
     ]
    }
   ],
   "source": [
    "ds = ds[ds['RegistrationYear'].isin(range(1950, 2025))]\n",
    "print('max:', ds['RegistrationYear'].max())\n",
    "print('min:', ds['RegistrationYear'].min())"
   ]
  },
  {
   "cell_type": "markdown",
   "metadata": {},
   "source": [
    "`Power`, значение мощности в лошадиных силах, содержит аномально высокие значения. Исключим все записи со значениями выше, чем среднее плюс 3 стандартных отклонения."
   ]
  },
  {
   "cell_type": "code",
   "execution_count": 11,
   "metadata": {},
   "outputs": [
    {
     "data": {
      "text/plain": [
       "678"
      ]
     },
     "execution_count": 11,
     "metadata": {},
     "output_type": "execute_result"
    }
   ],
   "source": [
    "ds = ds[ds['Power']<=ds['Power'].mean()+np.std(ds['Power'])*3]\n",
    "ds['Power'].max()"
   ]
  },
  {
   "cell_type": "markdown",
   "metadata": {},
   "source": [
    "Оно-же содержит огромное количество нулей, около 11%. Однако, учитывая специфику магазина, можно предположить, что таким образом отображаются машины не на ходу. Оставим эти значения."
   ]
  },
  {
   "cell_type": "markdown",
   "metadata": {},
   "source": [
    "Все даты сохранились в формате строк."
   ]
  },
  {
   "cell_type": "code",
   "execution_count": 12,
   "metadata": {},
   "outputs": [
    {
     "name": "stdout",
     "output_type": "stream",
     "text": [
      "datetime64[ns]\n",
      "datetime64[ns]\n",
      "datetime64[ns]\n"
     ]
    }
   ],
   "source": [
    "for i in ['DateCrawled', 'DateCreated', 'LastSeen']:\n",
    "    ds[i] = pd.to_datetime(ds[i], format='%Y-%m-%d %H:%M:%S')\n",
    "    print(np.dtype(ds[i]))"
   ]
  },
  {
   "cell_type": "code",
   "execution_count": 13,
   "metadata": {},
   "outputs": [],
   "source": [
    "ds = ds.drop(['DateCrawled', 'DateCreated', 'LastSeen'], axis=1)"
   ]
  },
  {
   "cell_type": "markdown",
   "metadata": {},
   "source": [
    "## Обучение моделей"
   ]
  },
  {
   "cell_type": "markdown",
   "metadata": {},
   "source": [
    "Для начала распределим данные. Их у нас много, поэтому на тестовую выборку можем не жалеть, возьмём 20% от генеральной совокупности и отложим до готовности. Оставшиеся 80% будут для нас одновременно тренировочными и валидационными данными."
   ]
  },
  {
   "cell_type": "code",
   "execution_count": 14,
   "metadata": {},
   "outputs": [],
   "source": [
    "X_train, X_test, y_train, y_test = train_test_split(\n",
    "    ds.drop('Price', axis=1), \n",
    "    ds['Price'], \n",
    "    test_size=0.2, \n",
    "    random_state=RANDOM_STATE)"
   ]
  },
  {
   "cell_type": "markdown",
   "metadata": {},
   "source": [
    "Теперь нам нужно распределить признаки на численные и категориальные, это понадобится при составлении пайплайнов."
   ]
  },
  {
   "cell_type": "code",
   "execution_count": 15,
   "metadata": {},
   "outputs": [
    {
     "name": "stdout",
     "output_type": "stream",
     "text": [
      "Index(['VehicleType', 'Gearbox', 'Model', 'FuelType', 'Brand', 'Repaired'], dtype='object') Index(['RegistrationYear', 'Power', 'Kilometer', 'RegistrationMonth',\n",
      "       'PostalCode'],\n",
      "      dtype='object')\n"
     ]
    }
   ],
   "source": [
    "ohe_columns = X_train.select_dtypes(include='object').columns\n",
    "num_columns = X_train.select_dtypes(include='number').columns\n",
    "print(ohe_columns, num_columns)"
   ]
  },
  {
   "cell_type": "markdown",
   "metadata": {},
   "source": [
    "А вот и пайплайны. Создадим два для препроцессинга. Один из них будет обрабатывать категории при помощи OneHotEncoder, второй будет скейлить числа при помощи MinMaxScaler. Оба заполнят пропуски перед началом работы."
   ]
  },
  {
   "cell_type": "code",
   "execution_count": 16,
   "metadata": {},
   "outputs": [],
   "source": [
    "ohe_pipe = Pipeline([\n",
    "    ('impute_ohe', SimpleImputer(strategy='most_frequent')),\n",
    "    ('ohe', OneHotEncoder(sparse_output=False, drop='first', handle_unknown='ignore'))\n",
    "])\n",
    "num_pipe = Pipeline([\n",
    "    ('impute_num', KNNImputer(n_neighbors=15)),\n",
    "    ('scaler', MinMaxScaler())\n",
    "])"
   ]
  },
  {
   "cell_type": "markdown",
   "metadata": {},
   "source": [
    "Чтобы модель поняла куда какие признаки направлять - объединим пайплайны в ColumnsTransformer, и назначим соответствующие столбцы для каждого пайплайна препроцессинга."
   ]
  },
  {
   "cell_type": "code",
   "execution_count": 17,
   "metadata": {},
   "outputs": [],
   "source": [
    "data_preprocessor = ColumnTransformer([\n",
    "    ('ohe_encode', ohe_pipe, ohe_columns),\n",
    "    ('num', num_pipe, num_columns)\n",
    "    ], \n",
    "    remainder='passthrough'\n",
    ")"
   ]
  },
  {
   "cell_type": "markdown",
   "metadata": {},
   "source": [
    "С препроцессингом закончили, дальше составим пайплайны непосредственно для моделей. За основу мы возьмём три модели - лёгкий градиентный бустинг, линейную регрессию и регрессор дерева решений"
   ]
  },
  {
   "cell_type": "code",
   "execution_count": 18,
   "metadata": {},
   "outputs": [],
   "source": [
    "gbm = Pipeline([\n",
    "    ('preprocessor', data_preprocessor),\n",
    "    ('model', LGBMRegressor(random_state=RANDOM_STATE))\n",
    "])\n",
    "linear = Pipeline([\n",
    "    ('preprocessor', data_preprocessor),\n",
    "    ('model', LinearRegression())\n",
    "])\n",
    "tree = Pipeline([\n",
    "    ('preprocessor', data_preprocessor),\n",
    "    ('model', DecisionTreeRegressor())\n",
    "])"
   ]
  },
  {
   "cell_type": "markdown",
   "metadata": {},
   "source": [
    "Теперь создадим сетки параметров для дерева решений и градиентного бустинга. У линейной регрессии нету гиперпараметров, которые мы могли-бы подобрать для улучшения качества, поэтому она обойдётся обычной кросс-валидацией. Сразу-же создадим объекты RandomizedSearchCV. Данных много, модели будут обучаться долго, поэтому придётся довольствоваться малым количеством блоков при кросс-валидации и малым количеством итераций. "
   ]
  },
  {
   "cell_type": "code",
   "execution_count": 19,
   "metadata": {},
   "outputs": [],
   "source": [
    "tree_params = {\n",
    "    'model__max_depth':range(3, 15),\n",
    "    'model__min_samples_leaf':range(1, 10),\n",
    "    'model__min_samples_split':range(2, 10)\n",
    "}\n",
    "gbm_params = {\n",
    "    'model__boosting_type':['gbdt', 'dart'],\n",
    "    'model__max_depth':range(5, 20)\n",
    "}\n",
    "\n",
    "gbm_cval = RandomizedSearchCV(gbm, param_distributions=gbm_params, scoring='neg_root_mean_squared_error', n_jobs=-1, cv=2, n_iter=4, random_state=RANDOM_STATE)\n",
    "tree_cval = RandomizedSearchCV(tree, param_distributions=tree_params, scoring='neg_root_mean_squared_error', n_jobs=-1, cv=2, n_iter=4, random_state=RANDOM_STATE)"
   ]
  },
  {
   "cell_type": "markdown",
   "metadata": {},
   "source": [
    "А теперь последовательно запустим обучение моделей. При проверке качества мы будем использовать метрику RMSE - корень среднего квадрата ошибок. Чем ниже значение метрики - тем лучше работает наша модель."
   ]
  },
  {
   "cell_type": "code",
   "execution_count": 20,
   "metadata": {},
   "outputs": [
    {
     "name": "stdout",
     "output_type": "stream",
     "text": [
      "CPU times: user 3min 50s, sys: 9.44 s, total: 4min\n",
      "Wall time: 4min 2s\n"
     ]
    },
    {
     "data": {
      "text/plain": [
       "2090.737558584314"
      ]
     },
     "execution_count": 20,
     "metadata": {},
     "output_type": "execute_result"
    }
   ],
   "source": [
    "%%time\n",
    "gbm_cval.fit(X_train, y_train)\n",
    "abs(gbm_cval.best_score_)"
   ]
  },
  {
   "cell_type": "markdown",
   "metadata": {},
   "source": [
    "Значение неплохое, значительно ниже 2500, где находится наш критерий успеха. Однако обучение заняло немало времени."
   ]
  },
  {
   "cell_type": "code",
   "execution_count": 21,
   "metadata": {},
   "outputs": [
    {
     "name": "stdout",
     "output_type": "stream",
     "text": [
      "CPU times: user 1min 5s, sys: 24.1 s, total: 1min 29s\n",
      "Wall time: 1min 29s\n"
     ]
    },
    {
     "data": {
      "text/plain": [
       "2831.5017572969177"
      ]
     },
     "execution_count": 21,
     "metadata": {},
     "output_type": "execute_result"
    }
   ],
   "source": [
    "%%time\n",
    "abs(cross_val_score(linear, X_train, y_train, scoring='neg_root_mean_squared_error', cv=4, n_jobs=-1).max())"
   ]
  },
  {
   "cell_type": "markdown",
   "metadata": {},
   "source": [
    "Крайне плохой показатель. Судя по всему линейная регрессия нам не подойдёт, но проверить было не лишним."
   ]
  },
  {
   "cell_type": "code",
   "execution_count": 22,
   "metadata": {},
   "outputs": [
    {
     "name": "stdout",
     "output_type": "stream",
     "text": [
      "CPU times: user 41.1 s, sys: 8.79 s, total: 49.9 s\n",
      "Wall time: 50 s\n"
     ]
    },
    {
     "data": {
      "text/plain": [
       "2044.879134967468"
      ]
     },
     "execution_count": 22,
     "metadata": {},
     "output_type": "execute_result"
    }
   ],
   "source": [
    "%%time\n",
    "tree_cval.fit(X_train, y_train)\n",
    "abs(tree_cval.best_score_)"
   ]
  },
  {
   "cell_type": "markdown",
   "metadata": {},
   "source": []
  },
  {
   "cell_type": "markdown",
   "metadata": {},
   "source": [
    "## Анализ моделей"
   ]
  },
  {
   "cell_type": "code",
   "execution_count": 27,
   "metadata": {},
   "outputs": [
    {
     "name": "stdout",
     "output_type": "stream",
     "text": [
      "CPU times: user 48.3 s, sys: 1.48 s, total: 49.8 s\n",
      "Wall time: 50 s\n"
     ]
    },
    {
     "data": {
      "text/plain": [
       "2107.80786634613"
      ]
     },
     "execution_count": 27,
     "metadata": {},
     "output_type": "execute_result"
    }
   ],
   "source": [
    "%%time\n",
    "gbm_cval.best_estimator_.fit(X_train, y_train)\n",
    "root_mean_squared_error(y_test, gbm_cval.best_estimator_.predict(X_test))"
   ]
  },
  {
   "cell_type": "code",
   "execution_count": 28,
   "metadata": {},
   "outputs": [
    {
     "name": "stdout",
     "output_type": "stream",
     "text": [
      "CPU times: user 10.3 s, sys: 1.17 s, total: 11.5 s\n",
      "Wall time: 11.6 s\n"
     ]
    },
    {
     "data": {
      "text/plain": [
       "2003.9659094251035"
      ]
     },
     "execution_count": 28,
     "metadata": {},
     "output_type": "execute_result"
    }
   ],
   "source": [
    "%%time\n",
    "tree_cval.best_estimator_.fit(X_train, y_train)\n",
    "root_mean_squared_error(y_test, tree_cval.best_estimator_.predict(X_test))"
   ]
  },
  {
   "cell_type": "markdown",
   "metadata": {},
   "source": [
    "## Чек-лист проверки"
   ]
  },
  {
   "cell_type": "markdown",
   "metadata": {},
   "source": [
    "Поставьте 'x' в выполненных пунктах. Далее нажмите Shift+Enter."
   ]
  },
  {
   "cell_type": "markdown",
   "metadata": {},
   "source": [
    "- [x]  Jupyter Notebook открыт\n",
    "- [ ]  Весь код выполняется без ошибок\n",
    "- [ ]  Ячейки с кодом расположены в порядке исполнения\n",
    "- [ ]  Выполнена загрузка и подготовка данных\n",
    "- [ ]  Выполнено обучение моделей\n",
    "- [ ]  Есть анализ скорости работы и качества моделей"
   ]
  },
  {
   "cell_type": "code",
   "execution_count": null,
   "metadata": {},
   "outputs": [],
   "source": []
  }
 ],
 "metadata": {
  "ExecuteTimeLog": [
   {
    "duration": 374,
    "start_time": "2024-07-03T03:38:16.413Z"
   },
   {
    "duration": 29106,
    "start_time": "2024-07-03T03:39:15.974Z"
   },
   {
    "duration": 6476,
    "start_time": "2024-07-03T03:40:21.332Z"
   },
   {
    "duration": 748,
    "start_time": "2024-07-03T03:40:34.556Z"
   },
   {
    "duration": 1797,
    "start_time": "2024-07-03T03:40:35.308Z"
   },
   {
    "duration": 44195,
    "start_time": "2024-07-03T03:41:59.570Z"
   },
   {
    "duration": 779,
    "start_time": "2024-07-03T03:43:10.061Z"
   },
   {
    "duration": 1758,
    "start_time": "2024-07-03T03:43:10.842Z"
   },
   {
    "duration": 39054,
    "start_time": "2024-07-03T03:43:12.602Z"
   },
   {
    "duration": 4,
    "start_time": "2024-07-03T03:45:28.200Z"
   },
   {
    "duration": 3263,
    "start_time": "2024-07-03T03:45:32.883Z"
   },
   {
    "duration": 754,
    "start_time": "2024-07-03T03:45:47.354Z"
   },
   {
    "duration": 1780,
    "start_time": "2024-07-03T03:45:49.058Z"
   },
   {
    "duration": 39123,
    "start_time": "2024-07-03T03:45:53.441Z"
   },
   {
    "duration": 4290,
    "start_time": "2024-07-03T03:47:40.003Z"
   },
   {
    "duration": 697,
    "start_time": "2024-07-03T03:47:51.310Z"
   },
   {
    "duration": 3,
    "start_time": "2024-07-03T03:47:52.009Z"
   },
   {
    "duration": 1754,
    "start_time": "2024-07-03T03:47:52.013Z"
   },
   {
    "duration": 44959,
    "start_time": "2024-07-03T03:47:53.768Z"
   },
   {
    "duration": 35,
    "start_time": "2024-07-03T03:57:38.647Z"
   },
   {
    "duration": 186,
    "start_time": "2024-07-03T03:57:44.395Z"
   },
   {
    "duration": 775,
    "start_time": "2024-07-03T03:57:52.651Z"
   },
   {
    "duration": 3,
    "start_time": "2024-07-03T03:57:53.429Z"
   },
   {
    "duration": 1790,
    "start_time": "2024-07-03T03:57:53.434Z"
   },
   {
    "duration": 44009,
    "start_time": "2024-07-03T03:57:55.226Z"
   },
   {
    "duration": 43,
    "start_time": "2024-07-03T03:58:39.238Z"
   },
   {
    "duration": 175,
    "start_time": "2024-07-03T04:02:02.709Z"
   },
   {
    "duration": 995,
    "start_time": "2024-07-03T04:02:07.945Z"
   },
   {
    "duration": 924,
    "start_time": "2024-07-03T04:02:12.288Z"
   },
   {
    "duration": 127,
    "start_time": "2024-07-03T04:08:09.790Z"
   },
   {
    "duration": 141,
    "start_time": "2024-07-03T04:08:56.573Z"
   },
   {
    "duration": 161,
    "start_time": "2024-07-03T04:09:23.251Z"
   },
   {
    "duration": 165,
    "start_time": "2024-07-03T04:09:29.186Z"
   },
   {
    "duration": 152,
    "start_time": "2024-07-03T04:09:36.485Z"
   },
   {
    "duration": 150,
    "start_time": "2024-07-03T04:09:48.956Z"
   },
   {
    "duration": 161,
    "start_time": "2024-07-03T04:11:28.359Z"
   },
   {
    "duration": 14,
    "start_time": "2024-07-03T04:13:07.140Z"
   },
   {
    "duration": 57,
    "start_time": "2024-07-03T04:13:20.575Z"
   },
   {
    "duration": 210,
    "start_time": "2024-07-03T04:13:32.136Z"
   },
   {
    "duration": 57,
    "start_time": "2024-07-03T04:13:37.202Z"
   },
   {
    "duration": 63,
    "start_time": "2024-07-03T04:13:40.057Z"
   },
   {
    "duration": 71,
    "start_time": "2024-07-03T04:14:41.345Z"
   },
   {
    "duration": 3,
    "start_time": "2024-07-03T04:15:01.617Z"
   },
   {
    "duration": 5,
    "start_time": "2024-07-03T04:15:17.332Z"
   },
   {
    "duration": 52,
    "start_time": "2024-07-03T04:15:59.230Z"
   },
   {
    "duration": 4,
    "start_time": "2024-07-03T04:23:06.119Z"
   },
   {
    "duration": 6,
    "start_time": "2024-07-03T04:23:22.145Z"
   },
   {
    "duration": 6,
    "start_time": "2024-07-03T04:23:30.880Z"
   },
   {
    "duration": 63,
    "start_time": "2024-07-03T04:24:47.615Z"
   },
   {
    "duration": 64,
    "start_time": "2024-07-03T04:25:14.319Z"
   },
   {
    "duration": 51,
    "start_time": "2024-07-03T04:25:21.641Z"
   },
   {
    "duration": 58,
    "start_time": "2024-07-03T04:25:28.770Z"
   },
   {
    "duration": 67,
    "start_time": "2024-07-03T04:27:23.923Z"
   },
   {
    "duration": 60,
    "start_time": "2024-07-03T04:27:37.171Z"
   },
   {
    "duration": 7245,
    "start_time": "2024-07-04T05:53:51.533Z"
   },
   {
    "duration": 2,
    "start_time": "2024-07-04T05:53:58.780Z"
   },
   {
    "duration": 24459,
    "start_time": "2024-07-04T05:53:58.783Z"
   },
   {
    "duration": 0,
    "start_time": "2024-07-04T05:54:23.244Z"
   },
   {
    "duration": 0,
    "start_time": "2024-07-04T05:54:23.246Z"
   },
   {
    "duration": 0,
    "start_time": "2024-07-04T05:54:23.247Z"
   },
   {
    "duration": 0,
    "start_time": "2024-07-04T05:54:23.248Z"
   },
   {
    "duration": 0,
    "start_time": "2024-07-04T05:54:23.250Z"
   },
   {
    "duration": 0,
    "start_time": "2024-07-04T05:54:23.251Z"
   },
   {
    "duration": 649,
    "start_time": "2024-07-04T05:55:17.845Z"
   },
   {
    "duration": 2,
    "start_time": "2024-07-04T05:55:18.496Z"
   },
   {
    "duration": 1760,
    "start_time": "2024-07-04T05:55:18.499Z"
   },
   {
    "duration": 32301,
    "start_time": "2024-07-04T05:55:20.260Z"
   },
   {
    "duration": 41,
    "start_time": "2024-07-04T05:55:52.570Z"
   },
   {
    "duration": 738,
    "start_time": "2024-07-04T05:55:52.613Z"
   },
   {
    "duration": 144,
    "start_time": "2024-07-04T05:55:53.352Z"
   },
   {
    "duration": 41,
    "start_time": "2024-07-04T05:55:53.497Z"
   },
   {
    "duration": 55,
    "start_time": "2024-07-04T05:55:53.540Z"
   },
   {
    "duration": 656,
    "start_time": "2024-07-04T05:56:11.344Z"
   },
   {
    "duration": 1550,
    "start_time": "2024-07-04T05:56:12.002Z"
   },
   {
    "duration": 621,
    "start_time": "2024-07-04T05:56:21.879Z"
   },
   {
    "duration": 4620,
    "start_time": "2024-07-04T05:56:22.501Z"
   },
   {
    "duration": 1634,
    "start_time": "2024-07-04T05:56:27.125Z"
   },
   {
    "duration": 668,
    "start_time": "2024-07-04T05:56:42.141Z"
   },
   {
    "duration": 3,
    "start_time": "2024-07-04T05:56:42.811Z"
   },
   {
    "duration": 1622,
    "start_time": "2024-07-04T05:56:42.871Z"
   },
   {
    "duration": 37964,
    "start_time": "2024-07-04T05:56:44.692Z"
   },
   {
    "duration": 29,
    "start_time": "2024-07-04T05:57:35.491Z"
   },
   {
    "duration": 693,
    "start_time": "2024-07-04T05:57:36.124Z"
   },
   {
    "duration": 136,
    "start_time": "2024-07-04T05:57:38.088Z"
   },
   {
    "duration": 44,
    "start_time": "2024-07-04T05:57:38.841Z"
   },
   {
    "duration": 41,
    "start_time": "2024-07-04T05:57:39.587Z"
   },
   {
    "duration": 3,
    "start_time": "2024-07-04T05:57:53.645Z"
   },
   {
    "duration": 174,
    "start_time": "2024-07-04T06:01:45.335Z"
   },
   {
    "duration": 8,
    "start_time": "2024-07-04T06:01:54.076Z"
   },
   {
    "duration": 9,
    "start_time": "2024-07-04T06:01:58.449Z"
   },
   {
    "duration": 9,
    "start_time": "2024-07-04T06:02:18.192Z"
   },
   {
    "duration": 9,
    "start_time": "2024-07-04T06:02:20.893Z"
   },
   {
    "duration": 9,
    "start_time": "2024-07-04T06:02:25.752Z"
   },
   {
    "duration": 44,
    "start_time": "2024-07-04T06:02:44.821Z"
   },
   {
    "duration": 2,
    "start_time": "2024-07-04T06:03:53.633Z"
   },
   {
    "duration": 128,
    "start_time": "2024-07-04T06:04:42.974Z"
   },
   {
    "duration": 20,
    "start_time": "2024-07-04T06:04:48.231Z"
   },
   {
    "duration": 17,
    "start_time": "2024-07-04T06:04:51.859Z"
   },
   {
    "duration": 5,
    "start_time": "2024-07-04T06:04:55.100Z"
   },
   {
    "duration": 4,
    "start_time": "2024-07-04T06:04:58.088Z"
   },
   {
    "duration": 34,
    "start_time": "2024-07-04T06:07:09.913Z"
   },
   {
    "duration": 3,
    "start_time": "2024-07-04T06:08:53.174Z"
   },
   {
    "duration": 15,
    "start_time": "2024-07-04T06:08:55.573Z"
   },
   {
    "duration": 3,
    "start_time": "2024-07-04T06:09:00.676Z"
   },
   {
    "duration": 4,
    "start_time": "2024-07-04T06:09:53.815Z"
   },
   {
    "duration": 2,
    "start_time": "2024-07-04T06:12:37.322Z"
   },
   {
    "duration": 40,
    "start_time": "2024-07-04T06:16:17.447Z"
   },
   {
    "duration": 2,
    "start_time": "2024-07-04T06:17:39.381Z"
   },
   {
    "duration": 62,
    "start_time": "2024-07-04T06:17:40.967Z"
   },
   {
    "duration": 42,
    "start_time": "2024-07-04T06:24:08.216Z"
   },
   {
    "duration": 32,
    "start_time": "2024-07-04T06:24:13.277Z"
   },
   {
    "duration": 10,
    "start_time": "2024-07-04T06:25:57.173Z"
   },
   {
    "duration": 9,
    "start_time": "2024-07-04T06:26:05.941Z"
   },
   {
    "duration": 3,
    "start_time": "2024-07-04T06:26:09.484Z"
   },
   {
    "duration": 120,
    "start_time": "2024-07-04T06:26:20.876Z"
   },
   {
    "duration": 43,
    "start_time": "2024-07-04T06:26:47.742Z"
   },
   {
    "duration": 34,
    "start_time": "2024-07-04T06:27:07.141Z"
   },
   {
    "duration": 4,
    "start_time": "2024-07-04T06:27:24.381Z"
   },
   {
    "duration": 14,
    "start_time": "2024-07-04T06:29:31.080Z"
   },
   {
    "duration": 516,
    "start_time": "2024-07-04T06:29:51.816Z"
   },
   {
    "duration": 53,
    "start_time": "2024-07-04T06:30:47.050Z"
   },
   {
    "duration": 28,
    "start_time": "2024-07-04T06:30:56.760Z"
   },
   {
    "duration": 12,
    "start_time": "2024-07-04T06:31:06.399Z"
   },
   {
    "duration": 10,
    "start_time": "2024-07-04T06:31:16.092Z"
   },
   {
    "duration": 18,
    "start_time": "2024-07-04T06:31:29.184Z"
   },
   {
    "duration": 10,
    "start_time": "2024-07-04T06:31:37.684Z"
   },
   {
    "duration": 254,
    "start_time": "2024-07-04T06:31:42.376Z"
   },
   {
    "duration": 87,
    "start_time": "2024-07-04T06:31:49.345Z"
   },
   {
    "duration": 11,
    "start_time": "2024-07-04T06:32:00.470Z"
   },
   {
    "duration": 113,
    "start_time": "2024-07-04T06:32:44.353Z"
   },
   {
    "duration": 30,
    "start_time": "2024-07-04T06:32:57.181Z"
   },
   {
    "duration": 57,
    "start_time": "2024-07-04T06:35:29.290Z"
   },
   {
    "duration": 5,
    "start_time": "2024-07-04T06:35:34.860Z"
   },
   {
    "duration": 17,
    "start_time": "2024-07-04T06:36:39.384Z"
   },
   {
    "duration": 74,
    "start_time": "2024-07-04T06:36:42.590Z"
   },
   {
    "duration": 28,
    "start_time": "2024-07-04T06:36:47.565Z"
   },
   {
    "duration": 36189,
    "start_time": "2024-07-04T06:38:18.670Z"
   },
   {
    "duration": 27,
    "start_time": "2024-07-04T06:39:02.215Z"
   },
   {
    "duration": 680,
    "start_time": "2024-07-04T06:39:02.861Z"
   },
   {
    "duration": 139,
    "start_time": "2024-07-04T06:39:04.023Z"
   },
   {
    "duration": 42,
    "start_time": "2024-07-04T06:39:04.842Z"
   },
   {
    "duration": 43,
    "start_time": "2024-07-04T06:39:06.480Z"
   },
   {
    "duration": 174,
    "start_time": "2024-07-04T06:39:08.029Z"
   },
   {
    "duration": 70,
    "start_time": "2024-07-04T06:39:09.394Z"
   },
   {
    "duration": 114,
    "start_time": "2024-07-04T06:40:19.309Z"
   },
   {
    "duration": 18,
    "start_time": "2024-07-04T06:40:20.397Z"
   },
   {
    "duration": 4,
    "start_time": "2024-07-04T06:41:03.130Z"
   },
   {
    "duration": 13,
    "start_time": "2024-07-04T06:42:26.061Z"
   },
   {
    "duration": 12,
    "start_time": "2024-07-04T06:42:28.783Z"
   },
   {
    "duration": 47,
    "start_time": "2024-07-04T06:42:44.669Z"
   },
   {
    "duration": 5,
    "start_time": "2024-07-04T06:44:37.390Z"
   },
   {
    "duration": 14,
    "start_time": "2024-07-04T06:45:11.558Z"
   },
   {
    "duration": 3,
    "start_time": "2024-07-04T06:45:28.227Z"
   },
   {
    "duration": 10,
    "start_time": "2024-07-04T06:45:45.708Z"
   },
   {
    "duration": 11,
    "start_time": "2024-07-04T06:46:08.123Z"
   },
   {
    "duration": 4,
    "start_time": "2024-07-04T06:46:12.534Z"
   },
   {
    "duration": 4,
    "start_time": "2024-07-04T06:46:57.142Z"
   },
   {
    "duration": 3,
    "start_time": "2024-07-04T06:47:07.100Z"
   },
   {
    "duration": 3,
    "start_time": "2024-07-04T06:47:08.258Z"
   },
   {
    "duration": 3,
    "start_time": "2024-07-04T06:48:02.955Z"
   },
   {
    "duration": 64,
    "start_time": "2024-07-04T06:48:04.906Z"
   },
   {
    "duration": 19,
    "start_time": "2024-07-04T06:48:20.869Z"
   },
   {
    "duration": 3,
    "start_time": "2024-07-04T06:50:18.784Z"
   },
   {
    "duration": 2,
    "start_time": "2024-07-04T06:50:19.527Z"
   },
   {
    "duration": 1394,
    "start_time": "2024-07-04T06:50:20.194Z"
   },
   {
    "duration": 19,
    "start_time": "2024-07-04T06:53:35.714Z"
   },
   {
    "duration": 75,
    "start_time": "2024-07-04T06:53:36.512Z"
   },
   {
    "duration": 17,
    "start_time": "2024-07-04T06:53:36.986Z"
   },
   {
    "duration": 3,
    "start_time": "2024-07-04T06:53:37.406Z"
   },
   {
    "duration": 3,
    "start_time": "2024-07-04T06:53:37.680Z"
   },
   {
    "duration": 3,
    "start_time": "2024-07-04T06:53:38.048Z"
   },
   {
    "duration": 12960,
    "start_time": "2024-07-04T06:53:38.635Z"
   },
   {
    "duration": 9,
    "start_time": "2024-07-04T06:54:40.075Z"
   },
   {
    "duration": 5,
    "start_time": "2024-07-04T06:55:33.860Z"
   },
   {
    "duration": 878,
    "start_time": "2024-07-04T06:55:45.206Z"
   },
   {
    "duration": 6,
    "start_time": "2024-07-04T06:56:57.622Z"
   },
   {
    "duration": 2,
    "start_time": "2024-07-04T06:57:36.587Z"
   },
   {
    "duration": 8,
    "start_time": "2024-07-04T06:57:59.909Z"
   },
   {
    "duration": 12,
    "start_time": "2024-07-04T06:58:50.805Z"
   },
   {
    "duration": 11,
    "start_time": "2024-07-04T06:59:05.094Z"
   },
   {
    "duration": 16,
    "start_time": "2024-07-04T06:59:41.981Z"
   },
   {
    "duration": 10,
    "start_time": "2024-07-04T07:00:09.714Z"
   },
   {
    "duration": 7,
    "start_time": "2024-07-04T07:02:41.930Z"
   },
   {
    "duration": 6,
    "start_time": "2024-07-04T07:02:46.396Z"
   },
   {
    "duration": 3,
    "start_time": "2024-07-04T07:03:21.625Z"
   },
   {
    "duration": 1011,
    "start_time": "2024-07-04T07:03:43.203Z"
   },
   {
    "duration": 4,
    "start_time": "2024-07-04T07:03:44.216Z"
   },
   {
    "duration": 2964,
    "start_time": "2024-07-04T07:03:44.222Z"
   },
   {
    "duration": 2,
    "start_time": "2024-07-04T07:03:47.187Z"
   },
   {
    "duration": 37677,
    "start_time": "2024-07-04T07:03:47.191Z"
   },
   {
    "duration": 31,
    "start_time": "2024-07-04T07:04:24.870Z"
   },
   {
    "duration": 793,
    "start_time": "2024-07-04T07:04:24.902Z"
   },
   {
    "duration": 153,
    "start_time": "2024-07-04T07:04:25.697Z"
   },
   {
    "duration": 50,
    "start_time": "2024-07-04T07:04:25.851Z"
   },
   {
    "duration": 41,
    "start_time": "2024-07-04T07:04:25.903Z"
   },
   {
    "duration": 179,
    "start_time": "2024-07-04T07:04:25.945Z"
   },
   {
    "duration": 26,
    "start_time": "2024-07-04T07:04:26.126Z"
   },
   {
    "duration": 106,
    "start_time": "2024-07-04T07:04:26.153Z"
   },
   {
    "duration": 21,
    "start_time": "2024-07-04T07:04:26.261Z"
   },
   {
    "duration": 4,
    "start_time": "2024-07-04T07:04:26.283Z"
   },
   {
    "duration": 12,
    "start_time": "2024-07-04T07:04:26.288Z"
   },
   {
    "duration": 130,
    "start_time": "2024-07-04T07:04:26.302Z"
   },
   {
    "duration": 57,
    "start_time": "2024-07-04T07:04:26.434Z"
   },
   {
    "duration": 38883,
    "start_time": "2024-07-04T07:05:01.834Z"
   },
   {
    "duration": 12,
    "start_time": "2024-07-04T07:05:49.354Z"
   },
   {
    "duration": 21677,
    "start_time": "2024-07-04T07:05:55.309Z"
   },
   {
    "duration": 3489,
    "start_time": "2024-07-04T07:07:07.873Z"
   },
   {
    "duration": 5,
    "start_time": "2024-07-04T07:07:12.923Z"
   },
   {
    "duration": 2,
    "start_time": "2024-07-04T07:07:13.187Z"
   },
   {
    "duration": 5,
    "start_time": "2024-07-04T07:07:13.521Z"
   },
   {
    "duration": 3,
    "start_time": "2024-07-04T07:07:13.792Z"
   },
   {
    "duration": 1059,
    "start_time": "2024-07-04T07:07:25.955Z"
   },
   {
    "duration": 39,
    "start_time": "2024-07-04T07:07:28.252Z"
   },
   {
    "duration": 753,
    "start_time": "2024-07-04T07:07:28.552Z"
   },
   {
    "duration": 158,
    "start_time": "2024-07-04T07:07:29.306Z"
   },
   {
    "duration": 43,
    "start_time": "2024-07-04T07:07:29.466Z"
   },
   {
    "duration": 43,
    "start_time": "2024-07-04T07:07:29.569Z"
   },
   {
    "duration": 203,
    "start_time": "2024-07-04T07:07:30.132Z"
   },
   {
    "duration": 34,
    "start_time": "2024-07-04T07:07:30.337Z"
   },
   {
    "duration": 76,
    "start_time": "2024-07-04T07:07:30.530Z"
   },
   {
    "duration": 18,
    "start_time": "2024-07-04T07:07:30.665Z"
   },
   {
    "duration": 3,
    "start_time": "2024-07-04T07:07:30.797Z"
   },
   {
    "duration": 3,
    "start_time": "2024-07-04T07:07:30.945Z"
   },
   {
    "duration": 3,
    "start_time": "2024-07-04T07:07:31.195Z"
   },
   {
    "duration": 24296,
    "start_time": "2024-07-04T07:07:31.366Z"
   },
   {
    "duration": 2,
    "start_time": "2024-07-04T07:08:01.054Z"
   },
   {
    "duration": 3,
    "start_time": "2024-07-04T07:08:01.574Z"
   },
   {
    "duration": 3,
    "start_time": "2024-07-04T07:08:02.022Z"
   },
   {
    "duration": 24182,
    "start_time": "2024-07-04T07:08:06.502Z"
   },
   {
    "duration": 1061,
    "start_time": "2024-07-04T07:08:39.710Z"
   },
   {
    "duration": 2,
    "start_time": "2024-07-04T07:08:40.772Z"
   },
   {
    "duration": 2527,
    "start_time": "2024-07-04T07:08:40.999Z"
   },
   {
    "duration": 2,
    "start_time": "2024-07-04T07:08:43.527Z"
   },
   {
    "duration": 1084,
    "start_time": "2024-07-04T07:08:43.531Z"
   },
   {
    "duration": 42,
    "start_time": "2024-07-04T07:08:45.531Z"
   },
   {
    "duration": 739,
    "start_time": "2024-07-04T07:08:45.805Z"
   },
   {
    "duration": 182,
    "start_time": "2024-07-04T07:08:46.546Z"
   },
   {
    "duration": 42,
    "start_time": "2024-07-04T07:08:46.730Z"
   },
   {
    "duration": 45,
    "start_time": "2024-07-04T07:08:46.773Z"
   },
   {
    "duration": 220,
    "start_time": "2024-07-04T07:08:47.059Z"
   },
   {
    "duration": 27,
    "start_time": "2024-07-04T07:08:47.281Z"
   },
   {
    "duration": 72,
    "start_time": "2024-07-04T07:08:47.653Z"
   },
   {
    "duration": 19,
    "start_time": "2024-07-04T07:08:47.783Z"
   },
   {
    "duration": 3,
    "start_time": "2024-07-04T07:08:47.945Z"
   },
   {
    "duration": 2,
    "start_time": "2024-07-04T07:08:48.094Z"
   },
   {
    "duration": 2,
    "start_time": "2024-07-04T07:08:48.343Z"
   },
   {
    "duration": 12550,
    "start_time": "2024-07-04T07:08:50.321Z"
   },
   {
    "duration": 3,
    "start_time": "2024-07-04T07:12:00.517Z"
   },
   {
    "duration": 6,
    "start_time": "2024-07-04T07:12:04.173Z"
   },
   {
    "duration": 2,
    "start_time": "2024-07-04T07:12:04.331Z"
   },
   {
    "duration": 734,
    "start_time": "2024-07-04T07:12:05.216Z"
   },
   {
    "duration": 3,
    "start_time": "2024-07-04T07:12:08.121Z"
   },
   {
    "duration": 34,
    "start_time": "2024-07-04T07:12:08.897Z"
   },
   {
    "duration": 687,
    "start_time": "2024-07-04T07:12:09.200Z"
   },
   {
    "duration": 146,
    "start_time": "2024-07-04T07:12:09.889Z"
   },
   {
    "duration": 51,
    "start_time": "2024-07-04T07:12:10.037Z"
   },
   {
    "duration": 43,
    "start_time": "2024-07-04T07:12:10.410Z"
   },
   {
    "duration": 234,
    "start_time": "2024-07-04T07:12:10.876Z"
   },
   {
    "duration": 2,
    "start_time": "2024-07-04T07:12:11.112Z"
   },
   {
    "duration": 102,
    "start_time": "2024-07-04T07:12:11.443Z"
   },
   {
    "duration": 17,
    "start_time": "2024-07-04T07:12:11.601Z"
   },
   {
    "duration": 3,
    "start_time": "2024-07-04T07:12:11.736Z"
   },
   {
    "duration": 2,
    "start_time": "2024-07-04T07:12:11.872Z"
   },
   {
    "duration": 3,
    "start_time": "2024-07-04T07:12:12.156Z"
   },
   {
    "duration": 1615,
    "start_time": "2024-07-04T07:12:12.577Z"
   },
   {
    "duration": 596,
    "start_time": "2024-07-04T07:13:19.614Z"
   },
   {
    "duration": 2,
    "start_time": "2024-07-04T07:13:20.212Z"
   },
   {
    "duration": 1737,
    "start_time": "2024-07-04T07:13:20.216Z"
   },
   {
    "duration": 3,
    "start_time": "2024-07-04T07:13:21.955Z"
   },
   {
    "duration": 845,
    "start_time": "2024-07-04T07:13:21.959Z"
   },
   {
    "duration": 37228,
    "start_time": "2024-07-04T07:13:22.805Z"
   },
   {
    "duration": 37,
    "start_time": "2024-07-04T07:14:00.035Z"
   },
   {
    "duration": 803,
    "start_time": "2024-07-04T07:14:00.073Z"
   },
   {
    "duration": 157,
    "start_time": "2024-07-04T07:14:00.877Z"
   },
   {
    "duration": 47,
    "start_time": "2024-07-04T07:14:01.035Z"
   },
   {
    "duration": 44,
    "start_time": "2024-07-04T07:14:01.084Z"
   },
   {
    "duration": 190,
    "start_time": "2024-07-04T07:14:01.129Z"
   },
   {
    "duration": 2,
    "start_time": "2024-07-04T07:14:01.320Z"
   },
   {
    "duration": 4,
    "start_time": "2024-07-04T07:18:36.028Z"
   },
   {
    "duration": 189,
    "start_time": "2024-07-04T07:18:36.257Z"
   },
   {
    "duration": 10,
    "start_time": "2024-07-04T07:18:40.053Z"
   },
   {
    "duration": 95,
    "start_time": "2024-07-04T07:18:42.262Z"
   },
   {
    "duration": 18,
    "start_time": "2024-07-04T07:18:42.645Z"
   },
   {
    "duration": 3,
    "start_time": "2024-07-04T07:18:43.029Z"
   },
   {
    "duration": 3,
    "start_time": "2024-07-04T07:18:43.528Z"
   },
   {
    "duration": 3,
    "start_time": "2024-07-04T07:18:46.337Z"
   },
   {
    "duration": 55,
    "start_time": "2024-07-04T07:18:47.851Z"
   },
   {
    "duration": 105,
    "start_time": "2024-07-04T07:20:53.155Z"
   },
   {
    "duration": 18,
    "start_time": "2024-07-04T07:20:53.366Z"
   },
   {
    "duration": 3,
    "start_time": "2024-07-04T07:20:53.572Z"
   },
   {
    "duration": 3,
    "start_time": "2024-07-04T07:20:53.873Z"
   },
   {
    "duration": 2,
    "start_time": "2024-07-04T07:20:54.485Z"
   },
   {
    "duration": 43,
    "start_time": "2024-07-04T07:20:55.658Z"
   },
   {
    "duration": 63,
    "start_time": "2024-07-04T07:21:04.738Z"
   },
   {
    "duration": 3,
    "start_time": "2024-07-04T07:21:42.721Z"
   },
   {
    "duration": 3,
    "start_time": "2024-07-04T07:21:43.302Z"
   },
   {
    "duration": 3,
    "start_time": "2024-07-04T07:21:43.789Z"
   },
   {
    "duration": 63,
    "start_time": "2024-07-04T07:21:45.129Z"
   },
   {
    "duration": 49,
    "start_time": "2024-07-04T07:21:50.215Z"
   },
   {
    "duration": 5,
    "start_time": "2024-07-04T07:23:27.173Z"
   },
   {
    "duration": 3,
    "start_time": "2024-07-04T07:23:27.563Z"
   },
   {
    "duration": 3,
    "start_time": "2024-07-04T07:23:27.851Z"
   },
   {
    "duration": 60,
    "start_time": "2024-07-04T07:23:28.391Z"
   },
   {
    "duration": 1637,
    "start_time": "2024-07-04T07:23:32.307Z"
   },
   {
    "duration": 1608,
    "start_time": "2024-07-04T07:27:35.784Z"
   },
   {
    "duration": 28,
    "start_time": "2024-07-04T07:31:04.654Z"
   },
   {
    "duration": 21,
    "start_time": "2024-07-04T07:31:26.115Z"
   },
   {
    "duration": 76,
    "start_time": "2024-07-04T07:31:26.709Z"
   },
   {
    "duration": 17,
    "start_time": "2024-07-04T07:31:26.948Z"
   },
   {
    "duration": 3,
    "start_time": "2024-07-04T07:31:27.156Z"
   },
   {
    "duration": 3,
    "start_time": "2024-07-04T07:31:27.395Z"
   },
   {
    "duration": 3,
    "start_time": "2024-07-04T07:31:27.639Z"
   },
   {
    "duration": 905,
    "start_time": "2024-07-04T07:31:38.156Z"
   },
   {
    "duration": 2,
    "start_time": "2024-07-04T07:31:39.063Z"
   },
   {
    "duration": 2510,
    "start_time": "2024-07-04T07:31:39.066Z"
   },
   {
    "duration": 3,
    "start_time": "2024-07-04T07:31:41.577Z"
   },
   {
    "duration": 1054,
    "start_time": "2024-07-04T07:31:41.581Z"
   },
   {
    "duration": 36804,
    "start_time": "2024-07-04T07:31:42.636Z"
   },
   {
    "duration": 37,
    "start_time": "2024-07-04T07:32:19.442Z"
   },
   {
    "duration": 788,
    "start_time": "2024-07-04T07:32:19.480Z"
   },
   {
    "duration": 132,
    "start_time": "2024-07-04T07:32:20.271Z"
   },
   {
    "duration": 41,
    "start_time": "2024-07-04T07:32:20.404Z"
   },
   {
    "duration": 60,
    "start_time": "2024-07-04T07:32:20.447Z"
   },
   {
    "duration": 196,
    "start_time": "2024-07-04T07:32:20.509Z"
   },
   {
    "duration": 23,
    "start_time": "2024-07-04T07:32:20.708Z"
   },
   {
    "duration": 90,
    "start_time": "2024-07-04T07:32:20.732Z"
   },
   {
    "duration": 17,
    "start_time": "2024-07-04T07:32:20.824Z"
   },
   {
    "duration": 3,
    "start_time": "2024-07-04T07:32:20.842Z"
   },
   {
    "duration": 15,
    "start_time": "2024-07-04T07:32:20.846Z"
   },
   {
    "duration": 12,
    "start_time": "2024-07-04T07:32:20.862Z"
   },
   {
    "duration": 16602,
    "start_time": "2024-07-04T07:32:20.875Z"
   },
   {
    "duration": 61,
    "start_time": "2024-07-04T07:32:42.676Z"
   },
   {
    "duration": 661,
    "start_time": "2024-07-04T07:34:01.535Z"
   },
   {
    "duration": 2,
    "start_time": "2024-07-04T07:34:02.197Z"
   },
   {
    "duration": 1658,
    "start_time": "2024-07-04T07:34:02.201Z"
   },
   {
    "duration": 2,
    "start_time": "2024-07-04T07:34:03.861Z"
   },
   {
    "duration": 846,
    "start_time": "2024-07-04T07:34:03.865Z"
   },
   {
    "duration": 686,
    "start_time": "2024-07-04T07:34:23.890Z"
   },
   {
    "duration": 3,
    "start_time": "2024-07-04T07:34:24.578Z"
   },
   {
    "duration": 1658,
    "start_time": "2024-07-04T07:34:24.582Z"
   },
   {
    "duration": 2,
    "start_time": "2024-07-04T07:34:26.241Z"
   },
   {
    "duration": 820,
    "start_time": "2024-07-04T07:34:26.245Z"
   },
   {
    "duration": 2,
    "start_time": "2024-07-04T07:34:27.066Z"
   },
   {
    "duration": 51,
    "start_time": "2024-07-04T07:34:27.071Z"
   },
   {
    "duration": 751,
    "start_time": "2024-07-04T07:34:27.123Z"
   },
   {
    "duration": 161,
    "start_time": "2024-07-04T07:34:27.875Z"
   },
   {
    "duration": 68,
    "start_time": "2024-07-04T07:34:28.038Z"
   },
   {
    "duration": 46,
    "start_time": "2024-07-04T07:34:28.107Z"
   },
   {
    "duration": 208,
    "start_time": "2024-07-04T07:34:28.154Z"
   },
   {
    "duration": 27,
    "start_time": "2024-07-04T07:34:28.363Z"
   },
   {
    "duration": 79,
    "start_time": "2024-07-04T07:34:28.392Z"
   },
   {
    "duration": 16,
    "start_time": "2024-07-04T07:34:28.472Z"
   },
   {
    "duration": 49,
    "start_time": "2024-07-04T07:34:28.490Z"
   },
   {
    "duration": 23,
    "start_time": "2024-07-04T07:34:28.540Z"
   },
   {
    "duration": 15,
    "start_time": "2024-07-04T07:34:28.564Z"
   },
   {
    "duration": 24304,
    "start_time": "2024-07-04T07:34:28.580Z"
   },
   {
    "duration": 12789,
    "start_time": "2024-07-04T07:34:52.886Z"
   },
   {
    "duration": 6,
    "start_time": "2024-07-04T07:36:50.848Z"
   },
   {
    "duration": 174,
    "start_time": "2024-07-04T07:37:52.297Z"
   },
   {
    "duration": 5,
    "start_time": "2024-07-04T07:37:57.523Z"
   },
   {
    "duration": 10,
    "start_time": "2024-07-04T07:41:51.051Z"
   },
   {
    "duration": 4,
    "start_time": "2024-07-04T07:41:54.887Z"
   },
   {
    "duration": 3,
    "start_time": "2024-07-04T07:41:55.044Z"
   },
   {
    "duration": 4,
    "start_time": "2024-07-04T07:41:55.285Z"
   },
   {
    "duration": 22941,
    "start_time": "2024-07-04T07:41:55.846Z"
   },
   {
    "duration": 9,
    "start_time": "2024-07-04T07:42:21.470Z"
   },
   {
    "duration": 4,
    "start_time": "2024-07-04T07:42:24.873Z"
   },
   {
    "duration": 76,
    "start_time": "2024-07-04T07:42:55.653Z"
   },
   {
    "duration": 4,
    "start_time": "2024-07-04T07:43:22.108Z"
   },
   {
    "duration": 24810,
    "start_time": "2024-07-04T07:43:22.997Z"
   },
   {
    "duration": 669,
    "start_time": "2024-07-04T07:45:36.670Z"
   },
   {
    "duration": 3,
    "start_time": "2024-07-04T07:45:37.340Z"
   },
   {
    "duration": 1847,
    "start_time": "2024-07-04T07:45:37.344Z"
   },
   {
    "duration": 2,
    "start_time": "2024-07-04T07:45:39.193Z"
   },
   {
    "duration": 799,
    "start_time": "2024-07-04T07:45:39.198Z"
   },
   {
    "duration": 2,
    "start_time": "2024-07-04T07:45:39.999Z"
   },
   {
    "duration": 58,
    "start_time": "2024-07-04T07:45:40.003Z"
   },
   {
    "duration": 719,
    "start_time": "2024-07-04T07:45:40.071Z"
   },
   {
    "duration": 152,
    "start_time": "2024-07-04T07:45:40.791Z"
   },
   {
    "duration": 57,
    "start_time": "2024-07-04T07:45:40.944Z"
   },
   {
    "duration": 46,
    "start_time": "2024-07-04T07:45:41.002Z"
   },
   {
    "duration": 231,
    "start_time": "2024-07-04T07:45:41.049Z"
   },
   {
    "duration": 29,
    "start_time": "2024-07-04T07:45:41.281Z"
   },
   {
    "duration": 79,
    "start_time": "2024-07-04T07:45:41.312Z"
   },
   {
    "duration": 16,
    "start_time": "2024-07-04T07:45:41.392Z"
   },
   {
    "duration": 3,
    "start_time": "2024-07-04T07:45:41.409Z"
   },
   {
    "duration": 9,
    "start_time": "2024-07-04T07:45:41.413Z"
   },
   {
    "duration": 9,
    "start_time": "2024-07-04T07:45:41.423Z"
   },
   {
    "duration": 23937,
    "start_time": "2024-07-04T07:45:41.433Z"
   },
   {
    "duration": 12300,
    "start_time": "2024-07-04T07:46:05.372Z"
   },
   {
    "duration": 629,
    "start_time": "2024-07-04T07:50:12.158Z"
   },
   {
    "duration": 1,
    "start_time": "2024-07-04T07:50:12.789Z"
   },
   {
    "duration": 1667,
    "start_time": "2024-07-04T07:50:12.792Z"
   },
   {
    "duration": 2,
    "start_time": "2024-07-04T07:50:14.462Z"
   },
   {
    "duration": 817,
    "start_time": "2024-07-04T07:50:14.465Z"
   },
   {
    "duration": 2,
    "start_time": "2024-07-04T07:50:15.283Z"
   },
   {
    "duration": 57,
    "start_time": "2024-07-04T07:50:15.287Z"
   },
   {
    "duration": 707,
    "start_time": "2024-07-04T07:50:15.346Z"
   },
   {
    "duration": 151,
    "start_time": "2024-07-04T07:50:16.054Z"
   },
   {
    "duration": 41,
    "start_time": "2024-07-04T07:50:16.207Z"
   },
   {
    "duration": 55,
    "start_time": "2024-07-04T07:50:16.249Z"
   },
   {
    "duration": 239,
    "start_time": "2024-07-04T07:50:16.305Z"
   },
   {
    "duration": 34,
    "start_time": "2024-07-04T07:50:16.545Z"
   },
   {
    "duration": 80,
    "start_time": "2024-07-04T07:50:16.754Z"
   },
   {
    "duration": 17,
    "start_time": "2024-07-04T07:50:17.270Z"
   },
   {
    "duration": 2,
    "start_time": "2024-07-04T07:50:17.544Z"
   },
   {
    "duration": 2,
    "start_time": "2024-07-04T07:50:17.945Z"
   },
   {
    "duration": 4,
    "start_time": "2024-07-04T07:50:19.638Z"
   },
   {
    "duration": 2342,
    "start_time": "2024-07-04T07:58:45.468Z"
   },
   {
    "duration": 178,
    "start_time": "2024-07-04T07:59:40.190Z"
   },
   {
    "duration": 10,
    "start_time": "2024-07-04T07:59:44.575Z"
   },
   {
    "duration": 5,
    "start_time": "2024-07-04T07:59:47.481Z"
   },
   {
    "duration": 3,
    "start_time": "2024-07-04T07:59:47.632Z"
   },
   {
    "duration": 6,
    "start_time": "2024-07-04T07:59:47.871Z"
   },
   {
    "duration": 2,
    "start_time": "2024-07-04T07:59:48.005Z"
   },
   {
    "duration": 824,
    "start_time": "2024-07-04T07:59:48.524Z"
   },
   {
    "duration": 2,
    "start_time": "2024-07-04T07:59:49.349Z"
   },
   {
    "duration": 50,
    "start_time": "2024-07-04T07:59:49.352Z"
   },
   {
    "duration": 698,
    "start_time": "2024-07-04T07:59:49.507Z"
   },
   {
    "duration": 148,
    "start_time": "2024-07-04T07:59:50.207Z"
   },
   {
    "duration": 58,
    "start_time": "2024-07-04T07:59:50.356Z"
   },
   {
    "duration": 55,
    "start_time": "2024-07-04T07:59:50.415Z"
   },
   {
    "duration": 202,
    "start_time": "2024-07-04T07:59:51.075Z"
   },
   {
    "duration": 29,
    "start_time": "2024-07-04T07:59:51.278Z"
   },
   {
    "duration": 74,
    "start_time": "2024-07-04T07:59:53.090Z"
   },
   {
    "duration": 16,
    "start_time": "2024-07-04T07:59:53.304Z"
   },
   {
    "duration": 3,
    "start_time": "2024-07-04T07:59:53.606Z"
   },
   {
    "duration": 2,
    "start_time": "2024-07-04T07:59:54.117Z"
   },
   {
    "duration": 3,
    "start_time": "2024-07-04T07:59:54.516Z"
   },
   {
    "duration": 1802,
    "start_time": "2024-07-04T08:00:04.549Z"
   },
   {
    "duration": 112,
    "start_time": "2024-07-04T08:00:16.152Z"
   },
   {
    "duration": 3,
    "start_time": "2024-07-04T08:00:28.306Z"
   },
   {
    "duration": 220593,
    "start_time": "2024-07-04T08:00:29.941Z"
   },
   {
    "duration": 8755,
    "start_time": "2024-07-04T09:38:06.424Z"
   },
   {
    "duration": 3,
    "start_time": "2024-07-04T09:38:15.181Z"
   },
   {
    "duration": 44715,
    "start_time": "2024-07-04T09:38:15.186Z"
   },
   {
    "duration": 0,
    "start_time": "2024-07-04T09:38:59.903Z"
   },
   {
    "duration": 0,
    "start_time": "2024-07-04T09:38:59.906Z"
   },
   {
    "duration": 0,
    "start_time": "2024-07-04T09:38:59.907Z"
   },
   {
    "duration": 0,
    "start_time": "2024-07-04T09:38:59.909Z"
   },
   {
    "duration": 0,
    "start_time": "2024-07-04T09:38:59.911Z"
   },
   {
    "duration": 0,
    "start_time": "2024-07-04T09:38:59.913Z"
   },
   {
    "duration": 0,
    "start_time": "2024-07-04T09:38:59.914Z"
   },
   {
    "duration": 0,
    "start_time": "2024-07-04T09:38:59.916Z"
   },
   {
    "duration": 0,
    "start_time": "2024-07-04T09:38:59.917Z"
   },
   {
    "duration": 0,
    "start_time": "2024-07-04T09:38:59.919Z"
   },
   {
    "duration": 0,
    "start_time": "2024-07-04T09:38:59.920Z"
   },
   {
    "duration": 0,
    "start_time": "2024-07-04T09:38:59.922Z"
   },
   {
    "duration": 0,
    "start_time": "2024-07-04T09:38:59.923Z"
   },
   {
    "duration": 0,
    "start_time": "2024-07-04T09:38:59.924Z"
   },
   {
    "duration": 0,
    "start_time": "2024-07-04T09:38:59.925Z"
   },
   {
    "duration": 0,
    "start_time": "2024-07-04T09:38:59.927Z"
   },
   {
    "duration": 801,
    "start_time": "2024-07-04T09:39:24.618Z"
   },
   {
    "duration": 3,
    "start_time": "2024-07-04T09:39:32.076Z"
   },
   {
    "duration": 6789,
    "start_time": "2024-07-04T09:39:32.318Z"
   },
   {
    "duration": 3,
    "start_time": "2024-07-04T09:39:39.109Z"
   },
   {
    "duration": 3117,
    "start_time": "2024-07-04T09:39:39.113Z"
   },
   {
    "duration": 3,
    "start_time": "2024-07-04T09:39:42.232Z"
   },
   {
    "duration": 47188,
    "start_time": "2024-07-04T09:39:46.845Z"
   },
   {
    "duration": 34,
    "start_time": "2024-07-04T09:40:40.533Z"
   },
   {
    "duration": 933,
    "start_time": "2024-07-04T09:40:41.164Z"
   },
   {
    "duration": 172,
    "start_time": "2024-07-04T09:40:42.099Z"
   },
   {
    "duration": 47,
    "start_time": "2024-07-04T09:40:42.273Z"
   },
   {
    "duration": 65,
    "start_time": "2024-07-04T09:40:42.322Z"
   },
   {
    "duration": 194,
    "start_time": "2024-07-04T09:40:42.867Z"
   },
   {
    "duration": 35,
    "start_time": "2024-07-04T09:40:43.065Z"
   },
   {
    "duration": 117,
    "start_time": "2024-07-04T09:40:43.844Z"
   },
   {
    "duration": 22,
    "start_time": "2024-07-04T09:40:44.124Z"
   },
   {
    "duration": 3,
    "start_time": "2024-07-04T09:40:44.307Z"
   },
   {
    "duration": 4,
    "start_time": "2024-07-04T09:40:44.590Z"
   },
   {
    "duration": 4,
    "start_time": "2024-07-04T09:40:44.982Z"
   },
   {
    "duration": 721,
    "start_time": "2024-07-04T09:43:17.795Z"
   },
   {
    "duration": 3,
    "start_time": "2024-07-04T09:43:18.518Z"
   },
   {
    "duration": 2052,
    "start_time": "2024-07-04T09:43:18.522Z"
   },
   {
    "duration": 3,
    "start_time": "2024-07-04T09:43:20.576Z"
   },
   {
    "duration": 1018,
    "start_time": "2024-07-04T09:43:20.580Z"
   },
   {
    "duration": 3,
    "start_time": "2024-07-04T09:43:21.600Z"
   },
   {
    "duration": 88,
    "start_time": "2024-07-04T09:43:21.604Z"
   },
   {
    "duration": 976,
    "start_time": "2024-07-04T09:43:21.694Z"
   },
   {
    "duration": 207,
    "start_time": "2024-07-04T09:43:22.673Z"
   },
   {
    "duration": 58,
    "start_time": "2024-07-04T09:43:22.883Z"
   },
   {
    "duration": 63,
    "start_time": "2024-07-04T09:43:22.943Z"
   },
   {
    "duration": 234,
    "start_time": "2024-07-04T09:43:23.007Z"
   },
   {
    "duration": 39,
    "start_time": "2024-07-04T09:43:23.243Z"
   },
   {
    "duration": 98,
    "start_time": "2024-07-04T09:43:23.284Z"
   },
   {
    "duration": 20,
    "start_time": "2024-07-04T09:43:23.384Z"
   },
   {
    "duration": 3,
    "start_time": "2024-07-04T09:43:23.441Z"
   },
   {
    "duration": 3,
    "start_time": "2024-07-04T09:43:23.590Z"
   },
   {
    "duration": 4,
    "start_time": "2024-07-04T09:43:23.733Z"
   },
   {
    "duration": 38194,
    "start_time": "2024-07-04T09:43:25.274Z"
   },
   {
    "duration": 57707,
    "start_time": "2024-07-04T09:44:03.474Z"
   },
   {
    "duration": 2695,
    "start_time": "2024-07-04T09:48:49.138Z"
   },
   {
    "duration": 6,
    "start_time": "2024-07-04T09:48:53.969Z"
   },
   {
    "duration": 2,
    "start_time": "2024-07-04T09:48:54.453Z"
   },
   {
    "duration": 2,
    "start_time": "2024-07-04T09:48:56.321Z"
   },
   {
    "duration": 1029,
    "start_time": "2024-07-04T09:48:56.772Z"
   },
   {
    "duration": 2,
    "start_time": "2024-07-04T09:48:57.803Z"
   },
   {
    "duration": 44,
    "start_time": "2024-07-04T09:48:57.807Z"
   },
   {
    "duration": 944,
    "start_time": "2024-07-04T09:48:57.865Z"
   },
   {
    "duration": 220,
    "start_time": "2024-07-04T09:48:58.811Z"
   },
   {
    "duration": 51,
    "start_time": "2024-07-04T09:48:59.033Z"
   },
   {
    "duration": 45,
    "start_time": "2024-07-04T09:48:59.086Z"
   },
   {
    "duration": 246,
    "start_time": "2024-07-04T09:48:59.133Z"
   },
   {
    "duration": 26,
    "start_time": "2024-07-04T09:48:59.381Z"
   },
   {
    "duration": 111,
    "start_time": "2024-07-04T09:48:59.409Z"
   },
   {
    "duration": 18,
    "start_time": "2024-07-04T09:48:59.522Z"
   },
   {
    "duration": 4,
    "start_time": "2024-07-04T09:48:59.846Z"
   },
   {
    "duration": 3,
    "start_time": "2024-07-04T09:49:00.230Z"
   },
   {
    "duration": 201,
    "start_time": "2024-07-04T09:49:00.377Z"
   },
   {
    "duration": 4,
    "start_time": "2024-07-04T09:49:35.851Z"
   },
   {
    "duration": 69,
    "start_time": "2024-07-04T09:49:39.130Z"
   },
   {
    "duration": 15857,
    "start_time": "2024-07-04T09:49:44.038Z"
   },
   {
    "duration": 4,
    "start_time": "2024-07-04T09:51:54.816Z"
   },
   {
    "duration": 727,
    "start_time": "2024-07-04T09:55:06.229Z"
   },
   {
    "duration": 6,
    "start_time": "2024-07-04T09:55:06.959Z"
   },
   {
    "duration": 1983,
    "start_time": "2024-07-04T09:55:06.966Z"
   },
   {
    "duration": 3,
    "start_time": "2024-07-04T09:55:08.952Z"
   },
   {
    "duration": 1041,
    "start_time": "2024-07-04T09:55:08.957Z"
   },
   {
    "duration": 3,
    "start_time": "2024-07-04T09:55:10.000Z"
   },
   {
    "duration": 85,
    "start_time": "2024-07-04T09:55:10.005Z"
   },
   {
    "duration": 986,
    "start_time": "2024-07-04T09:55:10.091Z"
   },
   {
    "duration": 186,
    "start_time": "2024-07-04T09:55:11.079Z"
   },
   {
    "duration": 57,
    "start_time": "2024-07-04T09:55:11.267Z"
   },
   {
    "duration": 66,
    "start_time": "2024-07-04T09:55:11.325Z"
   },
   {
    "duration": 234,
    "start_time": "2024-07-04T09:55:11.393Z"
   },
   {
    "duration": 36,
    "start_time": "2024-07-04T09:55:11.629Z"
   },
   {
    "duration": 111,
    "start_time": "2024-07-04T09:55:11.668Z"
   },
   {
    "duration": 27,
    "start_time": "2024-07-04T09:55:11.782Z"
   },
   {
    "duration": 6,
    "start_time": "2024-07-04T09:55:11.813Z"
   },
   {
    "duration": 4,
    "start_time": "2024-07-04T09:55:11.821Z"
   },
   {
    "duration": 6,
    "start_time": "2024-07-04T09:55:11.827Z"
   },
   {
    "duration": 271,
    "start_time": "2024-07-04T09:55:48.751Z"
   },
   {
    "duration": 4,
    "start_time": "2024-07-04T09:55:58.067Z"
   },
   {
    "duration": 83861,
    "start_time": "2024-07-04T09:55:59.727Z"
   },
   {
    "duration": 4,
    "start_time": "2024-07-04T09:59:42.751Z"
   },
   {
    "duration": 18,
    "start_time": "2024-07-04T10:03:51.933Z"
   },
   {
    "duration": 6005,
    "start_time": "2024-07-04T10:04:28.793Z"
   },
   {
    "duration": 198,
    "start_time": "2024-07-04T10:04:41.975Z"
   },
   {
    "duration": 9,
    "start_time": "2024-07-04T10:06:48.124Z"
   },
   {
    "duration": 25,
    "start_time": "2024-07-04T10:07:05.979Z"
   },
   {
    "duration": 5,
    "start_time": "2024-07-04T10:07:30.268Z"
   },
   {
    "duration": 1094,
    "start_time": "2024-07-04T10:07:58.911Z"
   },
   {
    "duration": 3,
    "start_time": "2024-07-04T10:08:00.007Z"
   },
   {
    "duration": 4557,
    "start_time": "2024-07-04T10:08:00.012Z"
   },
   {
    "duration": 3,
    "start_time": "2024-07-04T10:08:04.571Z"
   },
   {
    "duration": 3109,
    "start_time": "2024-07-04T10:08:04.576Z"
   },
   {
    "duration": 3,
    "start_time": "2024-07-04T10:08:07.687Z"
   },
   {
    "duration": 50,
    "start_time": "2024-07-04T10:08:07.691Z"
   },
   {
    "duration": 1055,
    "start_time": "2024-07-04T10:08:07.742Z"
   },
   {
    "duration": 351,
    "start_time": "2024-07-04T10:08:08.799Z"
   },
   {
    "duration": 47,
    "start_time": "2024-07-04T10:08:09.153Z"
   },
   {
    "duration": 64,
    "start_time": "2024-07-04T10:08:09.202Z"
   },
   {
    "duration": 240,
    "start_time": "2024-07-04T10:08:09.268Z"
   },
   {
    "duration": 28,
    "start_time": "2024-07-04T10:08:09.509Z"
   },
   {
    "duration": 109,
    "start_time": "2024-07-04T10:08:09.540Z"
   },
   {
    "duration": 30,
    "start_time": "2024-07-04T10:08:09.651Z"
   },
   {
    "duration": 4,
    "start_time": "2024-07-04T10:08:09.682Z"
   },
   {
    "duration": 5,
    "start_time": "2024-07-04T10:08:09.688Z"
   },
   {
    "duration": 5,
    "start_time": "2024-07-04T10:08:09.694Z"
   },
   {
    "duration": 118,
    "start_time": "2024-07-04T10:08:34.048Z"
   },
   {
    "duration": 1089,
    "start_time": "2024-07-04T10:09:32.709Z"
   },
   {
    "duration": 2,
    "start_time": "2024-07-04T10:09:33.800Z"
   },
   {
    "duration": 3397,
    "start_time": "2024-07-04T10:09:33.804Z"
   },
   {
    "duration": 2,
    "start_time": "2024-07-04T10:09:37.204Z"
   },
   {
    "duration": 3028,
    "start_time": "2024-07-04T10:09:37.207Z"
   },
   {
    "duration": 2,
    "start_time": "2024-07-04T10:09:40.237Z"
   },
   {
    "duration": 79,
    "start_time": "2024-07-04T10:09:40.240Z"
   },
   {
    "duration": 919,
    "start_time": "2024-07-04T10:09:40.321Z"
   },
   {
    "duration": 338,
    "start_time": "2024-07-04T10:09:41.241Z"
   },
   {
    "duration": 57,
    "start_time": "2024-07-04T10:09:41.581Z"
   },
   {
    "duration": 62,
    "start_time": "2024-07-04T10:09:41.640Z"
   },
   {
    "duration": 241,
    "start_time": "2024-07-04T10:09:41.704Z"
   },
   {
    "duration": 36,
    "start_time": "2024-07-04T10:09:41.946Z"
   },
   {
    "duration": 100,
    "start_time": "2024-07-04T10:09:41.984Z"
   },
   {
    "duration": 20,
    "start_time": "2024-07-04T10:09:42.085Z"
   },
   {
    "duration": 4,
    "start_time": "2024-07-04T10:09:42.106Z"
   },
   {
    "duration": 5,
    "start_time": "2024-07-04T10:09:42.111Z"
   },
   {
    "duration": 5,
    "start_time": "2024-07-04T10:09:42.118Z"
   },
   {
    "duration": 83407,
    "start_time": "2024-07-04T10:09:42.124Z"
   },
   {
    "duration": 6,
    "start_time": "2024-07-04T10:11:31.764Z"
   },
   {
    "duration": 5,
    "start_time": "2024-07-04T10:11:35.492Z"
   },
   {
    "duration": 82593,
    "start_time": "2024-07-04T10:11:37.458Z"
   },
   {
    "duration": 695,
    "start_time": "2024-07-04T10:18:45.520Z"
   },
   {
    "duration": 3,
    "start_time": "2024-07-04T10:18:46.217Z"
   },
   {
    "duration": 1984,
    "start_time": "2024-07-04T10:18:46.221Z"
   },
   {
    "duration": 2,
    "start_time": "2024-07-04T10:18:48.206Z"
   },
   {
    "duration": 1033,
    "start_time": "2024-07-04T10:18:48.210Z"
   },
   {
    "duration": 3,
    "start_time": "2024-07-04T10:18:49.245Z"
   },
   {
    "duration": 61,
    "start_time": "2024-07-04T10:18:49.249Z"
   },
   {
    "duration": 931,
    "start_time": "2024-07-04T10:18:49.312Z"
   },
   {
    "duration": 182,
    "start_time": "2024-07-04T10:18:50.244Z"
   },
   {
    "duration": 69,
    "start_time": "2024-07-04T10:18:50.427Z"
   },
   {
    "duration": 51,
    "start_time": "2024-07-04T10:18:50.497Z"
   },
   {
    "duration": 228,
    "start_time": "2024-07-04T10:18:50.550Z"
   },
   {
    "duration": 22,
    "start_time": "2024-07-04T10:18:50.780Z"
   },
   {
    "duration": 112,
    "start_time": "2024-07-04T10:18:50.805Z"
   },
   {
    "duration": 19,
    "start_time": "2024-07-04T10:18:50.919Z"
   },
   {
    "duration": 25,
    "start_time": "2024-07-04T10:18:50.939Z"
   },
   {
    "duration": 9,
    "start_time": "2024-07-04T10:18:50.966Z"
   },
   {
    "duration": 11,
    "start_time": "2024-07-04T10:18:50.976Z"
   },
   {
    "duration": 30582,
    "start_time": "2024-07-04T10:18:50.989Z"
   },
   {
    "duration": 16595,
    "start_time": "2024-07-04T10:19:21.573Z"
   },
   {
    "duration": 15587,
    "start_time": "2024-07-04T10:19:38.170Z"
   },
   {
    "duration": 737,
    "start_time": "2024-07-04T10:20:03.846Z"
   },
   {
    "duration": 2,
    "start_time": "2024-07-04T10:20:04.585Z"
   },
   {
    "duration": 1999,
    "start_time": "2024-07-04T10:20:04.589Z"
   },
   {
    "duration": 3,
    "start_time": "2024-07-04T10:20:06.589Z"
   },
   {
    "duration": 1066,
    "start_time": "2024-07-04T10:20:06.594Z"
   },
   {
    "duration": 2,
    "start_time": "2024-07-04T10:20:07.664Z"
   },
   {
    "duration": 52,
    "start_time": "2024-07-04T10:20:07.668Z"
   },
   {
    "duration": 954,
    "start_time": "2024-07-04T10:20:07.721Z"
   },
   {
    "duration": 196,
    "start_time": "2024-07-04T10:20:08.677Z"
   },
   {
    "duration": 52,
    "start_time": "2024-07-04T10:20:08.875Z"
   },
   {
    "duration": 77,
    "start_time": "2024-07-04T10:20:08.929Z"
   },
   {
    "duration": 229,
    "start_time": "2024-07-04T10:20:09.008Z"
   },
   {
    "duration": 2,
    "start_time": "2024-07-04T10:20:09.239Z"
   },
   {
    "duration": 134,
    "start_time": "2024-07-04T10:20:09.244Z"
   },
   {
    "duration": 19,
    "start_time": "2024-07-04T10:20:09.380Z"
   },
   {
    "duration": 58,
    "start_time": "2024-07-04T10:20:09.400Z"
   },
   {
    "duration": 51,
    "start_time": "2024-07-04T10:20:09.459Z"
   },
   {
    "duration": 19,
    "start_time": "2024-07-04T10:20:09.512Z"
   },
   {
    "duration": 2113,
    "start_time": "2024-07-04T10:20:09.533Z"
   },
   {
    "duration": 1971,
    "start_time": "2024-07-04T10:20:11.649Z"
   },
   {
    "duration": 1907,
    "start_time": "2024-07-04T10:20:13.622Z"
   },
   {
    "duration": 12635,
    "start_time": "2024-07-04T10:20:15.531Z"
   },
   {
    "duration": 677,
    "start_time": "2024-07-04T10:22:17.966Z"
   },
   {
    "duration": 3,
    "start_time": "2024-07-04T10:22:18.645Z"
   },
   {
    "duration": 2223,
    "start_time": "2024-07-04T10:22:18.649Z"
   },
   {
    "duration": 3,
    "start_time": "2024-07-04T10:22:20.873Z"
   },
   {
    "duration": 1091,
    "start_time": "2024-07-04T10:22:20.878Z"
   },
   {
    "duration": 2,
    "start_time": "2024-07-04T10:22:21.971Z"
   },
   {
    "duration": 52,
    "start_time": "2024-07-04T10:22:21.975Z"
   },
   {
    "duration": 945,
    "start_time": "2024-07-04T10:22:22.029Z"
   },
   {
    "duration": 182,
    "start_time": "2024-07-04T10:22:22.976Z"
   },
   {
    "duration": 46,
    "start_time": "2024-07-04T10:22:23.160Z"
   },
   {
    "duration": 61,
    "start_time": "2024-07-04T10:22:23.208Z"
   },
   {
    "duration": 228,
    "start_time": "2024-07-04T10:22:23.271Z"
   },
   {
    "duration": 27,
    "start_time": "2024-07-04T10:22:23.501Z"
   },
   {
    "duration": 114,
    "start_time": "2024-07-04T10:22:23.531Z"
   },
   {
    "duration": 31,
    "start_time": "2024-07-04T10:22:23.647Z"
   },
   {
    "duration": 4,
    "start_time": "2024-07-04T10:22:23.679Z"
   },
   {
    "duration": 7,
    "start_time": "2024-07-04T10:22:23.684Z"
   },
   {
    "duration": 17,
    "start_time": "2024-07-04T10:22:23.693Z"
   },
   {
    "duration": 30358,
    "start_time": "2024-07-04T10:22:23.711Z"
   },
   {
    "duration": 18213,
    "start_time": "2024-07-04T10:22:54.071Z"
   },
   {
    "duration": 15750,
    "start_time": "2024-07-04T10:23:12.286Z"
   },
   {
    "duration": 82063,
    "start_time": "2024-07-04T10:23:28.037Z"
   },
   {
    "duration": 829,
    "start_time": "2024-07-04T10:31:29.046Z"
   },
   {
    "duration": 3,
    "start_time": "2024-07-04T10:31:29.877Z"
   },
   {
    "duration": 2623,
    "start_time": "2024-07-04T10:31:29.885Z"
   },
   {
    "duration": 3,
    "start_time": "2024-07-04T10:31:32.510Z"
   },
   {
    "duration": 1039,
    "start_time": "2024-07-04T10:31:32.514Z"
   },
   {
    "duration": 2,
    "start_time": "2024-07-04T10:31:33.555Z"
   },
   {
    "duration": 51,
    "start_time": "2024-07-04T10:31:33.565Z"
   },
   {
    "duration": 1002,
    "start_time": "2024-07-04T10:31:33.618Z"
   },
   {
    "duration": 225,
    "start_time": "2024-07-04T10:31:34.622Z"
   },
   {
    "duration": 63,
    "start_time": "2024-07-04T10:31:34.849Z"
   },
   {
    "duration": 62,
    "start_time": "2024-07-04T10:31:34.914Z"
   },
   {
    "duration": 270,
    "start_time": "2024-07-04T10:31:34.979Z"
   },
   {
    "duration": 34,
    "start_time": "2024-07-04T10:31:35.251Z"
   },
   {
    "duration": 108,
    "start_time": "2024-07-04T10:31:35.287Z"
   },
   {
    "duration": 19,
    "start_time": "2024-07-04T10:31:35.397Z"
   },
   {
    "duration": 15,
    "start_time": "2024-07-04T10:31:35.418Z"
   },
   {
    "duration": 11,
    "start_time": "2024-07-04T10:31:35.435Z"
   },
   {
    "duration": 5,
    "start_time": "2024-07-04T10:31:35.447Z"
   },
   {
    "duration": 31900,
    "start_time": "2024-07-04T10:31:35.466Z"
   },
   {
    "duration": 3,
    "start_time": "2024-07-04T10:47:18.050Z"
   },
   {
    "duration": 679,
    "start_time": "2024-07-04T10:47:23.411Z"
   },
   {
    "duration": 3,
    "start_time": "2024-07-04T10:47:24.092Z"
   },
   {
    "duration": 7,
    "start_time": "2024-07-04T10:47:24.096Z"
   },
   {
    "duration": 1966,
    "start_time": "2024-07-04T10:47:24.104Z"
   },
   {
    "duration": 3,
    "start_time": "2024-07-04T10:47:26.072Z"
   },
   {
    "duration": 994,
    "start_time": "2024-07-04T10:47:26.077Z"
   },
   {
    "duration": 2,
    "start_time": "2024-07-04T10:47:27.073Z"
   },
   {
    "duration": 79,
    "start_time": "2024-07-04T10:47:27.077Z"
   },
   {
    "duration": 968,
    "start_time": "2024-07-04T10:47:27.158Z"
   },
   {
    "duration": 184,
    "start_time": "2024-07-04T10:47:28.127Z"
   },
   {
    "duration": 63,
    "start_time": "2024-07-04T10:47:28.312Z"
   },
   {
    "duration": 50,
    "start_time": "2024-07-04T10:47:28.377Z"
   },
   {
    "duration": 244,
    "start_time": "2024-07-04T10:47:28.429Z"
   },
   {
    "duration": 23,
    "start_time": "2024-07-04T10:47:28.676Z"
   },
   {
    "duration": 119,
    "start_time": "2024-07-04T10:47:28.701Z"
   },
   {
    "duration": 20,
    "start_time": "2024-07-04T10:47:28.821Z"
   },
   {
    "duration": 3,
    "start_time": "2024-07-04T10:47:28.842Z"
   },
   {
    "duration": 18,
    "start_time": "2024-07-04T10:47:28.847Z"
   },
   {
    "duration": 6,
    "start_time": "2024-07-04T10:47:28.867Z"
   },
   {
    "duration": 16525,
    "start_time": "2024-07-04T10:47:28.874Z"
   },
   {
    "duration": 30368,
    "start_time": "2024-07-04T10:47:45.400Z"
   },
   {
    "duration": 14887,
    "start_time": "2024-07-04T10:48:15.769Z"
   },
   {
    "duration": 75862,
    "start_time": "2024-07-04T10:48:30.657Z"
   },
   {
    "duration": 5,
    "start_time": "2024-07-04T10:54:52.328Z"
   },
   {
    "duration": 232434,
    "start_time": "2024-07-04T10:55:22.441Z"
   },
   {
    "duration": 89089,
    "start_time": "2024-07-04T10:59:14.877Z"
   },
   {
    "duration": 723,
    "start_time": "2024-07-04T11:09:48.138Z"
   },
   {
    "duration": 3,
    "start_time": "2024-07-04T11:09:48.865Z"
   },
   {
    "duration": 1998,
    "start_time": "2024-07-04T11:09:48.870Z"
   },
   {
    "duration": 2,
    "start_time": "2024-07-04T11:09:50.870Z"
   },
   {
    "duration": 1061,
    "start_time": "2024-07-04T11:09:50.875Z"
   },
   {
    "duration": 2,
    "start_time": "2024-07-04T11:09:51.938Z"
   },
   {
    "duration": 101,
    "start_time": "2024-07-04T11:09:51.942Z"
   },
   {
    "duration": 957,
    "start_time": "2024-07-04T11:09:52.045Z"
   },
   {
    "duration": 204,
    "start_time": "2024-07-04T11:09:53.004Z"
   },
   {
    "duration": 62,
    "start_time": "2024-07-04T11:09:53.209Z"
   },
   {
    "duration": 54,
    "start_time": "2024-07-04T11:09:53.273Z"
   },
   {
    "duration": 278,
    "start_time": "2024-07-04T11:09:53.329Z"
   },
   {
    "duration": 30,
    "start_time": "2024-07-04T11:09:53.609Z"
   },
   {
    "duration": 114,
    "start_time": "2024-07-04T11:09:53.642Z"
   },
   {
    "duration": 24,
    "start_time": "2024-07-04T11:09:53.758Z"
   },
   {
    "duration": 8,
    "start_time": "2024-07-04T11:09:53.783Z"
   },
   {
    "duration": 20,
    "start_time": "2024-07-04T11:09:53.793Z"
   },
   {
    "duration": 21,
    "start_time": "2024-07-04T11:09:53.815Z"
   },
   {
    "duration": 14,
    "start_time": "2024-07-04T11:09:53.837Z"
   },
   {
    "duration": 242223,
    "start_time": "2024-07-04T11:09:53.852Z"
   },
   {
    "duration": 89391,
    "start_time": "2024-07-04T11:13:56.078Z"
   },
   {
    "duration": 50008,
    "start_time": "2024-07-04T11:15:25.471Z"
   },
   {
    "duration": 17587,
    "start_time": "2024-07-04T11:16:15.480Z"
   },
   {
    "duration": 3,
    "start_time": "2024-07-04T11:16:33.069Z"
   },
   {
    "duration": 181,
    "start_time": "2024-07-04T11:18:02.690Z"
   },
   {
    "duration": 3,
    "start_time": "2024-07-04T11:18:06.486Z"
   },
   {
    "duration": 50130,
    "start_time": "2024-07-04T11:18:51.035Z"
   },
   {
    "duration": 11600,
    "start_time": "2024-07-04T11:19:56.738Z"
   }
  ],
  "kernelspec": {
   "display_name": "Python 3 (ipykernel)",
   "language": "python",
   "name": "python3"
  },
  "language_info": {
   "codemirror_mode": {
    "name": "ipython",
    "version": 3
   },
   "file_extension": ".py",
   "mimetype": "text/x-python",
   "name": "python",
   "nbconvert_exporter": "python",
   "pygments_lexer": "ipython3",
   "version": "3.9.5"
  },
  "toc": {
   "base_numbering": 1,
   "nav_menu": {},
   "number_sections": true,
   "sideBar": true,
   "skip_h1_title": true,
   "title_cell": "Table of Contents",
   "title_sidebar": "Contents",
   "toc_cell": false,
   "toc_position": {},
   "toc_section_display": true,
   "toc_window_display": false
  }
 },
 "nbformat": 4,
 "nbformat_minor": 2
}
