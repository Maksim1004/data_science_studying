{
 "cells": [
  {
   "cell_type": "markdown",
   "id": "9c628534",
   "metadata": {},
   "source": [
    "# Подбор коров при помощи моделей машинного обучения"
   ]
  },
  {
   "cell_type": "markdown",
   "id": "748078b3",
   "metadata": {},
   "source": [
    "Владелец молочного хозяйства «Вольный луг» хочет купить бурёнок, чтобы расширить поголовье стада, и для этого он заключил контракт с ассоциацией пастбищ «ЭкоФерма».\n",
    "\n",
    "Нашу IT-компанию наняли помочь фермеру с подбором подходящих коров, используя модели машинного обучения. Главные критерии фермера - коровы должны давать не менее 6000 килограммов молока в год, а надой был вкусным - строго по его критериям.\n",
    "\n",
    "Перед нами стоят задачи разработать 2 прогнозные модели:\n",
    "- Первая будет прогнозировать возможный удой коровы (Целевой признак `Удой`)\n",
    "- Вторая будет рассчитывать вероятность получить вкусное молоко от коровы (Целевой признак `Вкус молока`)\n",
    "\n",
    "На основе прогнозов этих двух моделей будут приниматься решения о покупке той или иной коровы."
   ]
  },
  {
   "cell_type": "markdown",
   "id": "89d1084e",
   "metadata": {},
   "source": [
    "**Описание данных**\n",
    "\n",
    "1. `ferma_main.csv` содержит данные о стаде фермера на текущий момент.\n",
    " - id — уникальный идентификатор коровы.\n",
    " - Удой, кг — масса молока, которую корова даёт в год (в килограммах).\n",
    " - ЭКЕ (Энергетическая кормовая единица) — показатель питательности корма коровы.\n",
    " - Сырой протеин, г — содержание сырого протеина в корме (в граммах).\n",
    " - СПО (Сахаро-протеиновое соотношение) — отношение сахара к протеину в корме коровы.\n",
    " - Порода — порода коровы.\n",
    " - Тип пастбища — ландшафт лугов, на которых паслась корова.\n",
    " - порода папы_быка — порода папы коровы.\n",
    " - Жирность,% — содержание жиров в молоке (в процентах).\n",
    " - Белок,% — содержание белков в молоке (в процентах).\n",
    " - Вкус молока — оценка вкуса по личным критериям фермера, бинарный признак (вкусно, не вкусно).\n",
    " - Возраст — возраст коровы, бинарный признак (менее_2_лет, более_2_лет).\n",
    "\n",
    "\n",
    "2. `ferma_dad.csv` хранит имя папы каждой коровы в стаде фермера. \n",
    " - id — уникальный идентификатор коровы.\n",
    " - Имя Папы — имя папы коровы.\n",
    "\n",
    "\n",
    "3. `cow_buy.csv` это данные о коровах «ЭкоФермы», которых фермер хочет изучить перед покупкой.\n",
    " - Порода — порода коровы.\n",
    " - Тип пастбища — ландшафт лугов, на которых паслась корова.\n",
    " - порода папы_быка — порода папы коровы.\n",
    " - Имя_папы — имя папы коровы.\n",
    " - Текущая_жирность,% — содержание жиров в молоке (в процентах).\n",
    " - Текущий_уровень_белок,% — содержание белков в молоке (в процентах).\n",
    " - Возраст — возраст коровы, бинарный признак (менее_2_лет, более_2_лет)."
   ]
  },
  {
   "cell_type": "code",
   "execution_count": 1,
   "id": "faf6a54d",
   "metadata": {},
   "outputs": [],
   "source": [
    "import pandas as pd\n",
    "import matplotlib.pyplot as plt\n",
    "from IPython.display import display"
   ]
  },
  {
   "cell_type": "markdown",
   "id": "9f270f1f",
   "metadata": {},
   "source": [
    "## Загрузка данных"
   ]
  },
  {
   "cell_type": "code",
   "execution_count": 2,
   "id": "e3ad864d",
   "metadata": {},
   "outputs": [],
   "source": [
    "def dataset_info(ds, info=True): # Универсальная функция презентации данных\n",
    "    print('Количество дубликатов:', ds.duplicated().sum())\n",
    "    print('Длина датасета:', len(ds))\n",
    "    display(ds.head())\n",
    "    if info: \n",
    "        ds.info()\n",
    "        display(ds.describe())"
   ]
  },
  {
   "cell_type": "markdown",
   "id": "50954a18",
   "metadata": {},
   "source": [
    "Для начала загрузим и ознакомимся со всеми данными."
   ]
  },
  {
   "cell_type": "code",
   "execution_count": 3,
   "id": "518c12d8",
   "metadata": {},
   "outputs": [
    {
     "name": "stdout",
     "output_type": "stream",
     "text": [
      "Количество дубликатов: 5\n",
      "Длина датасета: 634\n"
     ]
    },
    {
     "data": {
      "text/html": [
       "<div>\n",
       "<style scoped>\n",
       "    .dataframe tbody tr th:only-of-type {\n",
       "        vertical-align: middle;\n",
       "    }\n",
       "\n",
       "    .dataframe tbody tr th {\n",
       "        vertical-align: top;\n",
       "    }\n",
       "\n",
       "    .dataframe thead th {\n",
       "        text-align: right;\n",
       "    }\n",
       "</style>\n",
       "<table border=\"1\" class=\"dataframe\">\n",
       "  <thead>\n",
       "    <tr style=\"text-align: right;\">\n",
       "      <th></th>\n",
       "      <th>id</th>\n",
       "      <th>Удой, кг</th>\n",
       "      <th>ЭКЕ (Энергетическая кормовая единица)</th>\n",
       "      <th>Сырой протеин, г</th>\n",
       "      <th>СПО (Сахаро-протеиновое соотношение)</th>\n",
       "      <th>Порода</th>\n",
       "      <th>Тип пастбища</th>\n",
       "      <th>порода папы_быка</th>\n",
       "      <th>Жирность,%</th>\n",
       "      <th>Белок,%</th>\n",
       "      <th>Вкус молока</th>\n",
       "      <th>Возраст</th>\n",
       "    </tr>\n",
       "  </thead>\n",
       "  <tbody>\n",
       "    <tr>\n",
       "      <th>0</th>\n",
       "      <td>1</td>\n",
       "      <td>5863</td>\n",
       "      <td>14,2</td>\n",
       "      <td>1743</td>\n",
       "      <td>0,89</td>\n",
       "      <td>Вис Бик Айдиал</td>\n",
       "      <td>Равнинное</td>\n",
       "      <td>Айдиал</td>\n",
       "      <td>3,58</td>\n",
       "      <td>3,076</td>\n",
       "      <td>вкусно</td>\n",
       "      <td>более_2_лет</td>\n",
       "    </tr>\n",
       "    <tr>\n",
       "      <th>1</th>\n",
       "      <td>2</td>\n",
       "      <td>5529</td>\n",
       "      <td>12,8</td>\n",
       "      <td>2138</td>\n",
       "      <td>0,89</td>\n",
       "      <td>Вис Бик Айдиал</td>\n",
       "      <td>Равнинные</td>\n",
       "      <td>Соверин</td>\n",
       "      <td>3,54</td>\n",
       "      <td>3,079</td>\n",
       "      <td>вкусно</td>\n",
       "      <td>менее_2_лет</td>\n",
       "    </tr>\n",
       "    <tr>\n",
       "      <th>2</th>\n",
       "      <td>3</td>\n",
       "      <td>5810</td>\n",
       "      <td>14</td>\n",
       "      <td>1854</td>\n",
       "      <td>0,885</td>\n",
       "      <td>РефлешнСоверинг</td>\n",
       "      <td>Холмистое</td>\n",
       "      <td>Соверин</td>\n",
       "      <td>3,59</td>\n",
       "      <td>3,074</td>\n",
       "      <td>не вкусно</td>\n",
       "      <td>более_2_лет</td>\n",
       "    </tr>\n",
       "    <tr>\n",
       "      <th>3</th>\n",
       "      <td>4</td>\n",
       "      <td>5895</td>\n",
       "      <td>12,4</td>\n",
       "      <td>2012</td>\n",
       "      <td>0,885</td>\n",
       "      <td>РефлешнСоверинг</td>\n",
       "      <td>Холмистое</td>\n",
       "      <td>Айдиал</td>\n",
       "      <td>3,4</td>\n",
       "      <td>3,075</td>\n",
       "      <td>не вкусно</td>\n",
       "      <td>более_2_лет</td>\n",
       "    </tr>\n",
       "    <tr>\n",
       "      <th>4</th>\n",
       "      <td>5</td>\n",
       "      <td>5302</td>\n",
       "      <td>12,8</td>\n",
       "      <td>1675</td>\n",
       "      <td>0,885</td>\n",
       "      <td>Вис Бик Айдиал</td>\n",
       "      <td>Равнинные</td>\n",
       "      <td>Соверин</td>\n",
       "      <td>3,73</td>\n",
       "      <td>3,073</td>\n",
       "      <td>вкусно</td>\n",
       "      <td>менее_2_лет</td>\n",
       "    </tr>\n",
       "  </tbody>\n",
       "</table>\n",
       "</div>"
      ],
      "text/plain": [
       "   id  Удой, кг ЭКЕ (Энергетическая кормовая единица)  Сырой протеин, г  \\\n",
       "0   1      5863                                  14,2              1743   \n",
       "1   2      5529                                  12,8              2138   \n",
       "2   3      5810                                    14              1854   \n",
       "3   4      5895                                  12,4              2012   \n",
       "4   5      5302                                  12,8              1675   \n",
       "\n",
       "  СПО (Сахаро-протеиновое соотношение)           Порода Тип пастбища  \\\n",
       "0                                 0,89   Вис Бик Айдиал    Равнинное   \n",
       "1                                 0,89   Вис Бик Айдиал    Равнинные   \n",
       "2                                0,885  РефлешнСоверинг    Холмистое   \n",
       "3                                0,885  РефлешнСоверинг    Холмистое   \n",
       "4                                0,885   Вис Бик Айдиал    Равнинные   \n",
       "\n",
       "  порода папы_быка Жирность,% Белок,% Вкус молока      Возраст  \n",
       "0           Айдиал       3,58   3,076      вкусно  более_2_лет  \n",
       "1          Соверин       3,54   3,079      вкусно  менее_2_лет  \n",
       "2          Соверин       3,59   3,074   не вкусно  более_2_лет  \n",
       "3           Айдиал        3,4   3,075   не вкусно  более_2_лет  \n",
       "4          Соверин       3,73   3,073      вкусно  менее_2_лет  "
      ]
     },
     "metadata": {},
     "output_type": "display_data"
    },
    {
     "name": "stdout",
     "output_type": "stream",
     "text": [
      "<class 'pandas.core.frame.DataFrame'>\n",
      "RangeIndex: 634 entries, 0 to 633\n",
      "Data columns (total 12 columns):\n",
      " #   Column                                 Non-Null Count  Dtype \n",
      "---  ------                                 --------------  ----- \n",
      " 0   id                                     634 non-null    int64 \n",
      " 1   Удой, кг                               634 non-null    int64 \n",
      " 2   ЭКЕ (Энергетическая кормовая единица)  634 non-null    object\n",
      " 3   Сырой протеин, г                       634 non-null    int64 \n",
      " 4   СПО (Сахаро-протеиновое соотношение)   634 non-null    object\n",
      " 5   Порода                                 634 non-null    object\n",
      " 6   Тип пастбища                           634 non-null    object\n",
      " 7   порода папы_быка                       634 non-null    object\n",
      " 8   Жирность,%                             634 non-null    object\n",
      " 9   Белок,%                                634 non-null    object\n",
      " 10  Вкус молока                            634 non-null    object\n",
      " 11  Возраст                                634 non-null    object\n",
      "dtypes: int64(3), object(9)\n",
      "memory usage: 59.6+ KB\n"
     ]
    },
    {
     "data": {
      "text/html": [
       "<div>\n",
       "<style scoped>\n",
       "    .dataframe tbody tr th:only-of-type {\n",
       "        vertical-align: middle;\n",
       "    }\n",
       "\n",
       "    .dataframe tbody tr th {\n",
       "        vertical-align: top;\n",
       "    }\n",
       "\n",
       "    .dataframe thead th {\n",
       "        text-align: right;\n",
       "    }\n",
       "</style>\n",
       "<table border=\"1\" class=\"dataframe\">\n",
       "  <thead>\n",
       "    <tr style=\"text-align: right;\">\n",
       "      <th></th>\n",
       "      <th>id</th>\n",
       "      <th>Удой, кг</th>\n",
       "      <th>Сырой протеин, г</th>\n",
       "    </tr>\n",
       "  </thead>\n",
       "  <tbody>\n",
       "    <tr>\n",
       "      <th>count</th>\n",
       "      <td>634.000000</td>\n",
       "      <td>634.000000</td>\n",
       "      <td>634.000000</td>\n",
       "    </tr>\n",
       "    <tr>\n",
       "      <th>mean</th>\n",
       "      <td>317.460568</td>\n",
       "      <td>6187.025237</td>\n",
       "      <td>1922.682965</td>\n",
       "    </tr>\n",
       "    <tr>\n",
       "      <th>std</th>\n",
       "      <td>183.096982</td>\n",
       "      <td>1638.401021</td>\n",
       "      <td>182.392548</td>\n",
       "    </tr>\n",
       "    <tr>\n",
       "      <th>min</th>\n",
       "      <td>1.000000</td>\n",
       "      <td>5204.000000</td>\n",
       "      <td>1660.000000</td>\n",
       "    </tr>\n",
       "    <tr>\n",
       "      <th>25%</th>\n",
       "      <td>159.250000</td>\n",
       "      <td>5751.750000</td>\n",
       "      <td>1772.250000</td>\n",
       "    </tr>\n",
       "    <tr>\n",
       "      <th>50%</th>\n",
       "      <td>317.500000</td>\n",
       "      <td>6130.500000</td>\n",
       "      <td>1880.500000</td>\n",
       "    </tr>\n",
       "    <tr>\n",
       "      <th>75%</th>\n",
       "      <td>475.750000</td>\n",
       "      <td>6501.000000</td>\n",
       "      <td>2058.750000</td>\n",
       "    </tr>\n",
       "    <tr>\n",
       "      <th>max</th>\n",
       "      <td>629.000000</td>\n",
       "      <td>45616.000000</td>\n",
       "      <td>2349.000000</td>\n",
       "    </tr>\n",
       "  </tbody>\n",
       "</table>\n",
       "</div>"
      ],
      "text/plain": [
       "               id      Удой, кг  Сырой протеин, г\n",
       "count  634.000000    634.000000        634.000000\n",
       "mean   317.460568   6187.025237       1922.682965\n",
       "std    183.096982   1638.401021        182.392548\n",
       "min      1.000000   5204.000000       1660.000000\n",
       "25%    159.250000   5751.750000       1772.250000\n",
       "50%    317.500000   6130.500000       1880.500000\n",
       "75%    475.750000   6501.000000       2058.750000\n",
       "max    629.000000  45616.000000       2349.000000"
      ]
     },
     "metadata": {},
     "output_type": "display_data"
    }
   ],
   "source": [
    "try:  # Загрузка датасета с информацией о текущем стаде фермера\n",
    "    ds_main = pd.read_csv('/datasets/ferma_main.csv', sep=';')\n",
    "except:\n",
    "    ds_main = pd.read_csv('datasets/ferma_main.csv', sep=';')\n",
    "dataset_info(ds_main)"
   ]
  },
  {
   "cell_type": "code",
   "execution_count": 4,
   "id": "b29939f6",
   "metadata": {},
   "outputs": [
    {
     "name": "stdout",
     "output_type": "stream",
     "text": [
      "Количество дубликатов: 0\n",
      "Длина датасета: 629\n"
     ]
    },
    {
     "data": {
      "text/html": [
       "<div>\n",
       "<style scoped>\n",
       "    .dataframe tbody tr th:only-of-type {\n",
       "        vertical-align: middle;\n",
       "    }\n",
       "\n",
       "    .dataframe tbody tr th {\n",
       "        vertical-align: top;\n",
       "    }\n",
       "\n",
       "    .dataframe thead th {\n",
       "        text-align: right;\n",
       "    }\n",
       "</style>\n",
       "<table border=\"1\" class=\"dataframe\">\n",
       "  <thead>\n",
       "    <tr style=\"text-align: right;\">\n",
       "      <th></th>\n",
       "      <th>id</th>\n",
       "      <th>Имя Папы</th>\n",
       "    </tr>\n",
       "  </thead>\n",
       "  <tbody>\n",
       "    <tr>\n",
       "      <th>0</th>\n",
       "      <td>1</td>\n",
       "      <td>Буйный</td>\n",
       "    </tr>\n",
       "    <tr>\n",
       "      <th>1</th>\n",
       "      <td>2</td>\n",
       "      <td>Соловчик</td>\n",
       "    </tr>\n",
       "    <tr>\n",
       "      <th>2</th>\n",
       "      <td>3</td>\n",
       "      <td>Барин</td>\n",
       "    </tr>\n",
       "    <tr>\n",
       "      <th>3</th>\n",
       "      <td>4</td>\n",
       "      <td>Буйный</td>\n",
       "    </tr>\n",
       "    <tr>\n",
       "      <th>4</th>\n",
       "      <td>5</td>\n",
       "      <td>Барин</td>\n",
       "    </tr>\n",
       "  </tbody>\n",
       "</table>\n",
       "</div>"
      ],
      "text/plain": [
       "   id  Имя Папы\n",
       "0   1    Буйный\n",
       "1   2  Соловчик\n",
       "2   3     Барин\n",
       "3   4    Буйный\n",
       "4   5     Барин"
      ]
     },
     "metadata": {},
     "output_type": "display_data"
    },
    {
     "name": "stdout",
     "output_type": "stream",
     "text": [
      "<class 'pandas.core.frame.DataFrame'>\n",
      "RangeIndex: 629 entries, 0 to 628\n",
      "Data columns (total 2 columns):\n",
      " #   Column    Non-Null Count  Dtype \n",
      "---  ------    --------------  ----- \n",
      " 0   id        629 non-null    int64 \n",
      " 1   Имя Папы  629 non-null    object\n",
      "dtypes: int64(1), object(1)\n",
      "memory usage: 10.0+ KB\n"
     ]
    }
   ],
   "source": [
    "try:  # Загрузка датасета с информацией об отце каждой коровы в стаде фермера\n",
    "    ds_dad = pd.read_csv('/datasets/ferma_dad.csv', sep=';')\n",
    "except:\n",
    "    ds_dad = pd.read_csv('datasets/ferma_dad.csv', sep=';')\n",
    "dataset_info(ds_dad, False)\n",
    "ds_dad.info()"
   ]
  },
  {
   "cell_type": "code",
   "execution_count": 5,
   "id": "66018adb",
   "metadata": {
    "scrolled": false
   },
   "outputs": [
    {
     "name": "stdout",
     "output_type": "stream",
     "text": [
      "Количество дубликатов: 4\n",
      "Длина датасета: 20\n"
     ]
    },
    {
     "data": {
      "text/html": [
       "<div>\n",
       "<style scoped>\n",
       "    .dataframe tbody tr th:only-of-type {\n",
       "        vertical-align: middle;\n",
       "    }\n",
       "\n",
       "    .dataframe tbody tr th {\n",
       "        vertical-align: top;\n",
       "    }\n",
       "\n",
       "    .dataframe thead th {\n",
       "        text-align: right;\n",
       "    }\n",
       "</style>\n",
       "<table border=\"1\" class=\"dataframe\">\n",
       "  <thead>\n",
       "    <tr style=\"text-align: right;\">\n",
       "      <th></th>\n",
       "      <th>Порода</th>\n",
       "      <th>Тип пастбища</th>\n",
       "      <th>порода папы_быка</th>\n",
       "      <th>Имя_папы</th>\n",
       "      <th>Текущая_жирность,%</th>\n",
       "      <th>Текущий_уровень_белок,%</th>\n",
       "      <th>Возраст</th>\n",
       "    </tr>\n",
       "  </thead>\n",
       "  <tbody>\n",
       "    <tr>\n",
       "      <th>0</th>\n",
       "      <td>Вис Бик Айдиал</td>\n",
       "      <td>холмистое</td>\n",
       "      <td>Айдиал</td>\n",
       "      <td>Геркулес</td>\n",
       "      <td>3,58</td>\n",
       "      <td>3,076</td>\n",
       "      <td>более_2_лет</td>\n",
       "    </tr>\n",
       "    <tr>\n",
       "      <th>1</th>\n",
       "      <td>Вис Бик Айдиал</td>\n",
       "      <td>равнинное</td>\n",
       "      <td>Соверин</td>\n",
       "      <td>Буйный</td>\n",
       "      <td>3,54</td>\n",
       "      <td>3,081</td>\n",
       "      <td>менее_2_лет</td>\n",
       "    </tr>\n",
       "    <tr>\n",
       "      <th>2</th>\n",
       "      <td>РефлешнСоверинг</td>\n",
       "      <td>равнинное</td>\n",
       "      <td>Соверин</td>\n",
       "      <td>Барин</td>\n",
       "      <td>3,59</td>\n",
       "      <td>3,074</td>\n",
       "      <td>более_2_лет</td>\n",
       "    </tr>\n",
       "    <tr>\n",
       "      <th>3</th>\n",
       "      <td>РефлешнСоверинг</td>\n",
       "      <td>холмистое</td>\n",
       "      <td>Айдиал</td>\n",
       "      <td>Буйный</td>\n",
       "      <td>3,4</td>\n",
       "      <td>3,061</td>\n",
       "      <td>более_2_лет</td>\n",
       "    </tr>\n",
       "    <tr>\n",
       "      <th>4</th>\n",
       "      <td>РефлешнСоверинг</td>\n",
       "      <td>равнинное</td>\n",
       "      <td>Айдиал</td>\n",
       "      <td>Буйный</td>\n",
       "      <td>3,64</td>\n",
       "      <td>3,074</td>\n",
       "      <td>более_2_лет</td>\n",
       "    </tr>\n",
       "  </tbody>\n",
       "</table>\n",
       "</div>"
      ],
      "text/plain": [
       "            Порода Тип пастбища порода папы_быка  Имя_папы Текущая_жирность,%  \\\n",
       "0   Вис Бик Айдиал    холмистое           Айдиал  Геркулес               3,58   \n",
       "1   Вис Бик Айдиал    равнинное          Соверин    Буйный               3,54   \n",
       "2  РефлешнСоверинг    равнинное          Соверин     Барин               3,59   \n",
       "3  РефлешнСоверинг    холмистое           Айдиал    Буйный                3,4   \n",
       "4  РефлешнСоверинг    равнинное           Айдиал    Буйный               3,64   \n",
       "\n",
       "  Текущий_уровень_белок,%      Возраст  \n",
       "0                   3,076  более_2_лет  \n",
       "1                   3,081  менее_2_лет  \n",
       "2                   3,074  более_2_лет  \n",
       "3                   3,061  более_2_лет  \n",
       "4                   3,074  более_2_лет  "
      ]
     },
     "metadata": {},
     "output_type": "display_data"
    },
    {
     "name": "stdout",
     "output_type": "stream",
     "text": [
      "<class 'pandas.core.frame.DataFrame'>\n",
      "RangeIndex: 20 entries, 0 to 19\n",
      "Data columns (total 7 columns):\n",
      " #   Column                   Non-Null Count  Dtype \n",
      "---  ------                   --------------  ----- \n",
      " 0   Порода                   20 non-null     object\n",
      " 1   Тип пастбища             20 non-null     object\n",
      " 2   порода папы_быка         20 non-null     object\n",
      " 3   Имя_папы                 20 non-null     object\n",
      " 4   Текущая_жирность,%       20 non-null     object\n",
      " 5   Текущий_уровень_белок,%  20 non-null     object\n",
      " 6   Возраст                  20 non-null     object\n",
      "dtypes: object(7)\n",
      "memory usage: 1.2+ KB\n"
     ]
    },
    {
     "data": {
      "text/html": [
       "<div>\n",
       "<style scoped>\n",
       "    .dataframe tbody tr th:only-of-type {\n",
       "        vertical-align: middle;\n",
       "    }\n",
       "\n",
       "    .dataframe tbody tr th {\n",
       "        vertical-align: top;\n",
       "    }\n",
       "\n",
       "    .dataframe thead th {\n",
       "        text-align: right;\n",
       "    }\n",
       "</style>\n",
       "<table border=\"1\" class=\"dataframe\">\n",
       "  <thead>\n",
       "    <tr style=\"text-align: right;\">\n",
       "      <th></th>\n",
       "      <th>Порода</th>\n",
       "      <th>Тип пастбища</th>\n",
       "      <th>порода папы_быка</th>\n",
       "      <th>Имя_папы</th>\n",
       "      <th>Текущая_жирность,%</th>\n",
       "      <th>Текущий_уровень_белок,%</th>\n",
       "      <th>Возраст</th>\n",
       "    </tr>\n",
       "  </thead>\n",
       "  <tbody>\n",
       "    <tr>\n",
       "      <th>count</th>\n",
       "      <td>20</td>\n",
       "      <td>20</td>\n",
       "      <td>20</td>\n",
       "      <td>20</td>\n",
       "      <td>20</td>\n",
       "      <td>20</td>\n",
       "      <td>20</td>\n",
       "    </tr>\n",
       "    <tr>\n",
       "      <th>unique</th>\n",
       "      <td>2</td>\n",
       "      <td>2</td>\n",
       "      <td>2</td>\n",
       "      <td>4</td>\n",
       "      <td>12</td>\n",
       "      <td>12</td>\n",
       "      <td>2</td>\n",
       "    </tr>\n",
       "    <tr>\n",
       "      <th>top</th>\n",
       "      <td>РефлешнСоверинг</td>\n",
       "      <td>равнинное</td>\n",
       "      <td>Соверин</td>\n",
       "      <td>Буйный</td>\n",
       "      <td>3,73</td>\n",
       "      <td>3,074</td>\n",
       "      <td>более_2_лет</td>\n",
       "    </tr>\n",
       "    <tr>\n",
       "      <th>freq</th>\n",
       "      <td>11</td>\n",
       "      <td>11</td>\n",
       "      <td>12</td>\n",
       "      <td>8</td>\n",
       "      <td>3</td>\n",
       "      <td>5</td>\n",
       "      <td>15</td>\n",
       "    </tr>\n",
       "  </tbody>\n",
       "</table>\n",
       "</div>"
      ],
      "text/plain": [
       "                 Порода Тип пастбища порода папы_быка Имя_папы  \\\n",
       "count                20           20               20       20   \n",
       "unique                2            2                2        4   \n",
       "top     РефлешнСоверинг    равнинное          Соверин   Буйный   \n",
       "freq                 11           11               12        8   \n",
       "\n",
       "       Текущая_жирность,% Текущий_уровень_белок,%      Возраст  \n",
       "count                  20                      20           20  \n",
       "unique                 12                      12            2  \n",
       "top                  3,73                   3,074  более_2_лет  \n",
       "freq                    3                       5           15  "
      ]
     },
     "metadata": {},
     "output_type": "display_data"
    }
   ],
   "source": [
    "try: # Загрузка датасета с коровами, которых фермер хочет купить\n",
    "    ds_buy = pd.read_csv('/datasets/cow_buy.csv', sep=';')\n",
    "except:\n",
    "    ds_buy = pd.read_csv('datasets/cow_buy.csv', sep=';')\n",
    "dataset_info(ds_buy)"
   ]
  },
  {
   "cell_type": "markdown",
   "id": "0a0ef77c",
   "metadata": {},
   "source": [
    "Сразу переименуем все столбцы в более удобный для использования формат"
   ]
  },
  {
   "cell_type": "code",
   "execution_count": 6,
   "id": "6aeee531",
   "metadata": {},
   "outputs": [
    {
     "data": {
      "text/plain": [
       "Index(['id', 'удой', 'эке', 'протеин', 'спо', 'порода', 'пастбище',\n",
       "       'порода_пб', 'жирность', 'белок', 'вкус', 'возраст'],\n",
       "      dtype='object')"
      ]
     },
     "execution_count": 6,
     "metadata": {},
     "output_type": "execute_result"
    }
   ],
   "source": [
    "ds_main.columns = ['id', 'удой', 'эке', 'протеин', 'спо', 'порода', 'пастбище', 'порода_пб', 'жирность', 'белок', 'вкус', 'возраст']\n",
    "ds_main.columns # Переименование столбцов. Вручную приводим к нижнему регистру и упрощаем названия для быстрого доступа при работе с данными"
   ]
  },
  {
   "cell_type": "code",
   "execution_count": 7,
   "id": "5a64b19a",
   "metadata": {},
   "outputs": [
    {
     "data": {
      "text/plain": [
       "Index(['id', 'имя_папы'], dtype='object')"
      ]
     },
     "execution_count": 7,
     "metadata": {},
     "output_type": "execute_result"
    }
   ],
   "source": [
    "ds_dad.columns = ['id', 'имя_папы']\n",
    "ds_dad.columns"
   ]
  },
  {
   "cell_type": "code",
   "execution_count": 8,
   "id": "5d7d09e6",
   "metadata": {
    "scrolled": false
   },
   "outputs": [
    {
     "data": {
      "text/plain": [
       "Index(['порода', 'пастбище', 'порода_пб', 'имя_папы', 'жирность', 'белок',\n",
       "       'возраст'],\n",
       "      dtype='object')"
      ]
     },
     "execution_count": 8,
     "metadata": {},
     "output_type": "execute_result"
    }
   ],
   "source": [
    "ds_buy.columns = ['порода', 'пастбище', 'порода_пб', 'имя_папы', 'жирность', 'белок', 'возраст']\n",
    "ds_buy.columns"
   ]
  },
  {
   "cell_type": "markdown",
   "id": "27d0650c",
   "metadata": {},
   "source": [
    "Пропусков нигде нет, зато есть несколько полных дубликатов в данных, а также неверно определены некоторые численные переменные. Разберёмся со всем этим на этапе предобработки."
   ]
  },
  {
   "cell_type": "markdown",
   "id": "d34bbcd3",
   "metadata": {},
   "source": [
    "##  Предобработка данных"
   ]
  },
  {
   "cell_type": "markdown",
   "id": "b73857ac",
   "metadata": {},
   "source": [
    "Начнём с дубликатов. Датасет `ds_main` содержит в себе 5 полных дубликатов (Включая уникальный id), их можно сразу удалить."
   ]
  },
  {
   "cell_type": "code",
   "execution_count": 9,
   "id": "65fc00bb",
   "metadata": {
    "scrolled": true
   },
   "outputs": [
    {
     "data": {
      "text/plain": [
       "0"
      ]
     },
     "execution_count": 9,
     "metadata": {},
     "output_type": "execute_result"
    }
   ],
   "source": [
    "ds_main = ds_main.drop_duplicates() # Сброс полных дубликатов и проверка\n",
    "ds_main.duplicated().sum()"
   ]
  },
  {
   "cell_type": "markdown",
   "id": "7193929a",
   "metadata": {},
   "source": [
    "Теперь мы можем совместить датасеты `ds_main` и `ds_dad`, чтобы не работать с большим количеством маленьких датасетов"
   ]
  },
  {
   "cell_type": "code",
   "execution_count": 10,
   "id": "dd322477",
   "metadata": {},
   "outputs": [
    {
     "name": "stdout",
     "output_type": "stream",
     "text": [
      "Количество дубликатов: 0\n",
      "Длина датасета: 629\n"
     ]
    },
    {
     "data": {
      "text/html": [
       "<div>\n",
       "<style scoped>\n",
       "    .dataframe tbody tr th:only-of-type {\n",
       "        vertical-align: middle;\n",
       "    }\n",
       "\n",
       "    .dataframe tbody tr th {\n",
       "        vertical-align: top;\n",
       "    }\n",
       "\n",
       "    .dataframe thead th {\n",
       "        text-align: right;\n",
       "    }\n",
       "</style>\n",
       "<table border=\"1\" class=\"dataframe\">\n",
       "  <thead>\n",
       "    <tr style=\"text-align: right;\">\n",
       "      <th></th>\n",
       "      <th>id</th>\n",
       "      <th>удой</th>\n",
       "      <th>эке</th>\n",
       "      <th>протеин</th>\n",
       "      <th>спо</th>\n",
       "      <th>порода</th>\n",
       "      <th>пастбище</th>\n",
       "      <th>порода_пб</th>\n",
       "      <th>жирность</th>\n",
       "      <th>белок</th>\n",
       "      <th>вкус</th>\n",
       "      <th>возраст</th>\n",
       "      <th>имя_папы</th>\n",
       "    </tr>\n",
       "  </thead>\n",
       "  <tbody>\n",
       "    <tr>\n",
       "      <th>0</th>\n",
       "      <td>1</td>\n",
       "      <td>5863</td>\n",
       "      <td>14,2</td>\n",
       "      <td>1743</td>\n",
       "      <td>0,89</td>\n",
       "      <td>Вис Бик Айдиал</td>\n",
       "      <td>Равнинное</td>\n",
       "      <td>Айдиал</td>\n",
       "      <td>3,58</td>\n",
       "      <td>3,076</td>\n",
       "      <td>вкусно</td>\n",
       "      <td>более_2_лет</td>\n",
       "      <td>Буйный</td>\n",
       "    </tr>\n",
       "    <tr>\n",
       "      <th>1</th>\n",
       "      <td>2</td>\n",
       "      <td>5529</td>\n",
       "      <td>12,8</td>\n",
       "      <td>2138</td>\n",
       "      <td>0,89</td>\n",
       "      <td>Вис Бик Айдиал</td>\n",
       "      <td>Равнинные</td>\n",
       "      <td>Соверин</td>\n",
       "      <td>3,54</td>\n",
       "      <td>3,079</td>\n",
       "      <td>вкусно</td>\n",
       "      <td>менее_2_лет</td>\n",
       "      <td>Соловчик</td>\n",
       "    </tr>\n",
       "    <tr>\n",
       "      <th>2</th>\n",
       "      <td>3</td>\n",
       "      <td>5810</td>\n",
       "      <td>14</td>\n",
       "      <td>1854</td>\n",
       "      <td>0,885</td>\n",
       "      <td>РефлешнСоверинг</td>\n",
       "      <td>Холмистое</td>\n",
       "      <td>Соверин</td>\n",
       "      <td>3,59</td>\n",
       "      <td>3,074</td>\n",
       "      <td>не вкусно</td>\n",
       "      <td>более_2_лет</td>\n",
       "      <td>Барин</td>\n",
       "    </tr>\n",
       "    <tr>\n",
       "      <th>3</th>\n",
       "      <td>4</td>\n",
       "      <td>5895</td>\n",
       "      <td>12,4</td>\n",
       "      <td>2012</td>\n",
       "      <td>0,885</td>\n",
       "      <td>РефлешнСоверинг</td>\n",
       "      <td>Холмистое</td>\n",
       "      <td>Айдиал</td>\n",
       "      <td>3,4</td>\n",
       "      <td>3,075</td>\n",
       "      <td>не вкусно</td>\n",
       "      <td>более_2_лет</td>\n",
       "      <td>Буйный</td>\n",
       "    </tr>\n",
       "    <tr>\n",
       "      <th>4</th>\n",
       "      <td>5</td>\n",
       "      <td>5302</td>\n",
       "      <td>12,8</td>\n",
       "      <td>1675</td>\n",
       "      <td>0,885</td>\n",
       "      <td>Вис Бик Айдиал</td>\n",
       "      <td>Равнинные</td>\n",
       "      <td>Соверин</td>\n",
       "      <td>3,73</td>\n",
       "      <td>3,073</td>\n",
       "      <td>вкусно</td>\n",
       "      <td>менее_2_лет</td>\n",
       "      <td>Барин</td>\n",
       "    </tr>\n",
       "  </tbody>\n",
       "</table>\n",
       "</div>"
      ],
      "text/plain": [
       "   id  удой   эке  протеин    спо           порода   пастбище порода_пб  \\\n",
       "0   1  5863  14,2     1743   0,89   Вис Бик Айдиал  Равнинное    Айдиал   \n",
       "1   2  5529  12,8     2138   0,89   Вис Бик Айдиал  Равнинные   Соверин   \n",
       "2   3  5810    14     1854  0,885  РефлешнСоверинг  Холмистое   Соверин   \n",
       "3   4  5895  12,4     2012  0,885  РефлешнСоверинг  Холмистое    Айдиал   \n",
       "4   5  5302  12,8     1675  0,885   Вис Бик Айдиал  Равнинные   Соверин   \n",
       "\n",
       "  жирность  белок       вкус      возраст  имя_папы  \n",
       "0     3,58  3,076     вкусно  более_2_лет    Буйный  \n",
       "1     3,54  3,079     вкусно  менее_2_лет  Соловчик  \n",
       "2     3,59  3,074  не вкусно  более_2_лет     Барин  \n",
       "3      3,4  3,075  не вкусно  более_2_лет    Буйный  \n",
       "4     3,73  3,073     вкусно  менее_2_лет     Барин  "
      ]
     },
     "metadata": {},
     "output_type": "display_data"
    }
   ],
   "source": [
    "ds_main = ds_main.merge(ds_dad, on='id') # Объединение ds_main и ds_dad по id\n",
    "dataset_info(ds_main, False)"
   ]
  },
  {
   "cell_type": "markdown",
   "id": "c99a9a13",
   "metadata": {},
   "source": [
    "На дубликаты датасета `ds_buy` лучше посмотрим поближе. В нём гораздо меньше записей, а также отсутствует уникальный идентификатор. Не хотелось-бы избавляться от коров, которые просто очень похожи друг на друга."
   ]
  },
  {
   "cell_type": "code",
   "execution_count": 11,
   "id": "3b6153e4",
   "metadata": {},
   "outputs": [
    {
     "data": {
      "text/html": [
       "<div>\n",
       "<style scoped>\n",
       "    .dataframe tbody tr th:only-of-type {\n",
       "        vertical-align: middle;\n",
       "    }\n",
       "\n",
       "    .dataframe tbody tr th {\n",
       "        vertical-align: top;\n",
       "    }\n",
       "\n",
       "    .dataframe thead th {\n",
       "        text-align: right;\n",
       "    }\n",
       "</style>\n",
       "<table border=\"1\" class=\"dataframe\">\n",
       "  <thead>\n",
       "    <tr style=\"text-align: right;\">\n",
       "      <th></th>\n",
       "      <th>порода</th>\n",
       "      <th>пастбище</th>\n",
       "      <th>порода_пб</th>\n",
       "      <th>имя_папы</th>\n",
       "      <th>жирность</th>\n",
       "      <th>белок</th>\n",
       "      <th>возраст</th>\n",
       "    </tr>\n",
       "  </thead>\n",
       "  <tbody>\n",
       "    <tr>\n",
       "      <th>0</th>\n",
       "      <td>Вис Бик Айдиал</td>\n",
       "      <td>холмистое</td>\n",
       "      <td>Айдиал</td>\n",
       "      <td>Геркулес</td>\n",
       "      <td>3,58</td>\n",
       "      <td>3,076</td>\n",
       "      <td>более_2_лет</td>\n",
       "    </tr>\n",
       "    <tr>\n",
       "      <th>2</th>\n",
       "      <td>РефлешнСоверинг</td>\n",
       "      <td>равнинное</td>\n",
       "      <td>Соверин</td>\n",
       "      <td>Барин</td>\n",
       "      <td>3,59</td>\n",
       "      <td>3,074</td>\n",
       "      <td>более_2_лет</td>\n",
       "    </tr>\n",
       "    <tr>\n",
       "      <th>4</th>\n",
       "      <td>РефлешнСоверинг</td>\n",
       "      <td>равнинное</td>\n",
       "      <td>Айдиал</td>\n",
       "      <td>Буйный</td>\n",
       "      <td>3,64</td>\n",
       "      <td>3,074</td>\n",
       "      <td>более_2_лет</td>\n",
       "    </tr>\n",
       "    <tr>\n",
       "      <th>6</th>\n",
       "      <td>Вис Бик Айдиал</td>\n",
       "      <td>холмистое</td>\n",
       "      <td>Айдиал</td>\n",
       "      <td>Геркулес</td>\n",
       "      <td>3,58</td>\n",
       "      <td>3,076</td>\n",
       "      <td>более_2_лет</td>\n",
       "    </tr>\n",
       "    <tr>\n",
       "      <th>8</th>\n",
       "      <td>РефлешнСоверинг</td>\n",
       "      <td>равнинное</td>\n",
       "      <td>Соверин</td>\n",
       "      <td>Барин</td>\n",
       "      <td>3,59</td>\n",
       "      <td>3,074</td>\n",
       "      <td>более_2_лет</td>\n",
       "    </tr>\n",
       "    <tr>\n",
       "      <th>14</th>\n",
       "      <td>РефлешнСоверинг</td>\n",
       "      <td>равнинное</td>\n",
       "      <td>Соверин</td>\n",
       "      <td>Барин</td>\n",
       "      <td>3,59</td>\n",
       "      <td>3,074</td>\n",
       "      <td>более_2_лет</td>\n",
       "    </tr>\n",
       "    <tr>\n",
       "      <th>19</th>\n",
       "      <td>РефлешнСоверинг</td>\n",
       "      <td>равнинное</td>\n",
       "      <td>Айдиал</td>\n",
       "      <td>Буйный</td>\n",
       "      <td>3,64</td>\n",
       "      <td>3,074</td>\n",
       "      <td>более_2_лет</td>\n",
       "    </tr>\n",
       "  </tbody>\n",
       "</table>\n",
       "</div>"
      ],
      "text/plain": [
       "             порода   пастбище порода_пб  имя_папы жирность  белок  \\\n",
       "0    Вис Бик Айдиал  холмистое    Айдиал  Геркулес     3,58  3,076   \n",
       "2   РефлешнСоверинг  равнинное   Соверин     Барин     3,59  3,074   \n",
       "4   РефлешнСоверинг  равнинное    Айдиал    Буйный     3,64  3,074   \n",
       "6    Вис Бик Айдиал  холмистое    Айдиал  Геркулес     3,58  3,076   \n",
       "8   РефлешнСоверинг  равнинное   Соверин     Барин     3,59  3,074   \n",
       "14  РефлешнСоверинг  равнинное   Соверин     Барин     3,59  3,074   \n",
       "19  РефлешнСоверинг  равнинное    Айдиал    Буйный     3,64  3,074   \n",
       "\n",
       "        возраст  \n",
       "0   более_2_лет  \n",
       "2   более_2_лет  \n",
       "4   более_2_лет  \n",
       "6   более_2_лет  \n",
       "8   более_2_лет  \n",
       "14  более_2_лет  \n",
       "19  более_2_лет  "
      ]
     },
     "execution_count": 11,
     "metadata": {},
     "output_type": "execute_result"
    }
   ],
   "source": [
    "ds_buy[ds_buy.duplicated(keep=False)] # Вывод всех дублирующихся записей"
   ]
  },
  {
   "cell_type": "markdown",
   "id": "c6fc19c5",
   "metadata": {},
   "source": [
    "Совпадение в породе, типе пастбища и имени папы ещё можно счесть за совпадение, но идентичная жирность и содержание белка в молоке уже можно назвать закономерностью. Тем не менее, эти данные не будут использоваться при обучении модели, а лишние 4 предсказания модель не сломают. Оставим дубликаты исключительно на случай, если это в действительности удивительное совпадение.\n",
    "\n",
    "Теперь типы данных. Некоторые числовые сведения в обоих датасетах сохранились в виде строк. Преобразуем их в числовой тип."
   ]
  },
  {
   "cell_type": "code",
   "execution_count": 12,
   "id": "8e36c37f",
   "metadata": {
    "scrolled": false
   },
   "outputs": [
    {
     "name": "stdout",
     "output_type": "stream",
     "text": [
      "Количество дубликатов: 0\n",
      "Длина датасета: 629\n"
     ]
    },
    {
     "data": {
      "text/html": [
       "<div>\n",
       "<style scoped>\n",
       "    .dataframe tbody tr th:only-of-type {\n",
       "        vertical-align: middle;\n",
       "    }\n",
       "\n",
       "    .dataframe tbody tr th {\n",
       "        vertical-align: top;\n",
       "    }\n",
       "\n",
       "    .dataframe thead th {\n",
       "        text-align: right;\n",
       "    }\n",
       "</style>\n",
       "<table border=\"1\" class=\"dataframe\">\n",
       "  <thead>\n",
       "    <tr style=\"text-align: right;\">\n",
       "      <th></th>\n",
       "      <th>id</th>\n",
       "      <th>удой</th>\n",
       "      <th>эке</th>\n",
       "      <th>протеин</th>\n",
       "      <th>спо</th>\n",
       "      <th>порода</th>\n",
       "      <th>пастбище</th>\n",
       "      <th>порода_пб</th>\n",
       "      <th>жирность</th>\n",
       "      <th>белок</th>\n",
       "      <th>вкус</th>\n",
       "      <th>возраст</th>\n",
       "      <th>имя_папы</th>\n",
       "    </tr>\n",
       "  </thead>\n",
       "  <tbody>\n",
       "    <tr>\n",
       "      <th>0</th>\n",
       "      <td>1</td>\n",
       "      <td>5863</td>\n",
       "      <td>14.2</td>\n",
       "      <td>1743</td>\n",
       "      <td>0.890</td>\n",
       "      <td>Вис Бик Айдиал</td>\n",
       "      <td>Равнинное</td>\n",
       "      <td>Айдиал</td>\n",
       "      <td>3.58</td>\n",
       "      <td>3.076</td>\n",
       "      <td>вкусно</td>\n",
       "      <td>более_2_лет</td>\n",
       "      <td>Буйный</td>\n",
       "    </tr>\n",
       "    <tr>\n",
       "      <th>1</th>\n",
       "      <td>2</td>\n",
       "      <td>5529</td>\n",
       "      <td>12.8</td>\n",
       "      <td>2138</td>\n",
       "      <td>0.890</td>\n",
       "      <td>Вис Бик Айдиал</td>\n",
       "      <td>Равнинные</td>\n",
       "      <td>Соверин</td>\n",
       "      <td>3.54</td>\n",
       "      <td>3.079</td>\n",
       "      <td>вкусно</td>\n",
       "      <td>менее_2_лет</td>\n",
       "      <td>Соловчик</td>\n",
       "    </tr>\n",
       "    <tr>\n",
       "      <th>2</th>\n",
       "      <td>3</td>\n",
       "      <td>5810</td>\n",
       "      <td>14.0</td>\n",
       "      <td>1854</td>\n",
       "      <td>0.885</td>\n",
       "      <td>РефлешнСоверинг</td>\n",
       "      <td>Холмистое</td>\n",
       "      <td>Соверин</td>\n",
       "      <td>3.59</td>\n",
       "      <td>3.074</td>\n",
       "      <td>не вкусно</td>\n",
       "      <td>более_2_лет</td>\n",
       "      <td>Барин</td>\n",
       "    </tr>\n",
       "    <tr>\n",
       "      <th>3</th>\n",
       "      <td>4</td>\n",
       "      <td>5895</td>\n",
       "      <td>12.4</td>\n",
       "      <td>2012</td>\n",
       "      <td>0.885</td>\n",
       "      <td>РефлешнСоверинг</td>\n",
       "      <td>Холмистое</td>\n",
       "      <td>Айдиал</td>\n",
       "      <td>3.40</td>\n",
       "      <td>3.075</td>\n",
       "      <td>не вкусно</td>\n",
       "      <td>более_2_лет</td>\n",
       "      <td>Буйный</td>\n",
       "    </tr>\n",
       "    <tr>\n",
       "      <th>4</th>\n",
       "      <td>5</td>\n",
       "      <td>5302</td>\n",
       "      <td>12.8</td>\n",
       "      <td>1675</td>\n",
       "      <td>0.885</td>\n",
       "      <td>Вис Бик Айдиал</td>\n",
       "      <td>Равнинные</td>\n",
       "      <td>Соверин</td>\n",
       "      <td>3.73</td>\n",
       "      <td>3.073</td>\n",
       "      <td>вкусно</td>\n",
       "      <td>менее_2_лет</td>\n",
       "      <td>Барин</td>\n",
       "    </tr>\n",
       "  </tbody>\n",
       "</table>\n",
       "</div>"
      ],
      "text/plain": [
       "   id  удой   эке  протеин    спо           порода   пастбище порода_пб  \\\n",
       "0   1  5863  14.2     1743  0.890   Вис Бик Айдиал  Равнинное    Айдиал   \n",
       "1   2  5529  12.8     2138  0.890   Вис Бик Айдиал  Равнинные   Соверин   \n",
       "2   3  5810  14.0     1854  0.885  РефлешнСоверинг  Холмистое   Соверин   \n",
       "3   4  5895  12.4     2012  0.885  РефлешнСоверинг  Холмистое    Айдиал   \n",
       "4   5  5302  12.8     1675  0.885   Вис Бик Айдиал  Равнинные   Соверин   \n",
       "\n",
       "   жирность  белок       вкус      возраст  имя_папы  \n",
       "0      3.58  3.076     вкусно  более_2_лет    Буйный  \n",
       "1      3.54  3.079     вкусно  менее_2_лет  Соловчик  \n",
       "2      3.59  3.074  не вкусно  более_2_лет     Барин  \n",
       "3      3.40  3.075  не вкусно  более_2_лет    Буйный  \n",
       "4      3.73  3.073     вкусно  менее_2_лет     Барин  "
      ]
     },
     "metadata": {},
     "output_type": "display_data"
    },
    {
     "name": "stdout",
     "output_type": "stream",
     "text": [
      "<class 'pandas.core.frame.DataFrame'>\n",
      "Int64Index: 629 entries, 0 to 628\n",
      "Data columns (total 13 columns):\n",
      " #   Column     Non-Null Count  Dtype  \n",
      "---  ------     --------------  -----  \n",
      " 0   id         629 non-null    int64  \n",
      " 1   удой       629 non-null    int64  \n",
      " 2   эке        629 non-null    float64\n",
      " 3   протеин    629 non-null    int64  \n",
      " 4   спо        629 non-null    float64\n",
      " 5   порода     629 non-null    object \n",
      " 6   пастбище   629 non-null    object \n",
      " 7   порода_пб  629 non-null    object \n",
      " 8   жирность   629 non-null    float64\n",
      " 9   белок      629 non-null    float64\n",
      " 10  вкус       629 non-null    object \n",
      " 11  возраст    629 non-null    object \n",
      " 12  имя_папы   629 non-null    object \n",
      "dtypes: float64(4), int64(3), object(6)\n",
      "memory usage: 68.8+ KB\n"
     ]
    },
    {
     "data": {
      "text/html": [
       "<div>\n",
       "<style scoped>\n",
       "    .dataframe tbody tr th:only-of-type {\n",
       "        vertical-align: middle;\n",
       "    }\n",
       "\n",
       "    .dataframe tbody tr th {\n",
       "        vertical-align: top;\n",
       "    }\n",
       "\n",
       "    .dataframe thead th {\n",
       "        text-align: right;\n",
       "    }\n",
       "</style>\n",
       "<table border=\"1\" class=\"dataframe\">\n",
       "  <thead>\n",
       "    <tr style=\"text-align: right;\">\n",
       "      <th></th>\n",
       "      <th>id</th>\n",
       "      <th>удой</th>\n",
       "      <th>эке</th>\n",
       "      <th>протеин</th>\n",
       "      <th>спо</th>\n",
       "      <th>жирность</th>\n",
       "      <th>белок</th>\n",
       "    </tr>\n",
       "  </thead>\n",
       "  <tbody>\n",
       "    <tr>\n",
       "      <th>count</th>\n",
       "      <td>629.00000</td>\n",
       "      <td>629.000000</td>\n",
       "      <td>629.000000</td>\n",
       "      <td>629.000000</td>\n",
       "      <td>629.000000</td>\n",
       "      <td>629.000000</td>\n",
       "      <td>629.000000</td>\n",
       "    </tr>\n",
       "    <tr>\n",
       "      <th>mean</th>\n",
       "      <td>315.00000</td>\n",
       "      <td>6188.750397</td>\n",
       "      <td>14.543879</td>\n",
       "      <td>1923.364070</td>\n",
       "      <td>0.913116</td>\n",
       "      <td>3.603657</td>\n",
       "      <td>3.075671</td>\n",
       "    </tr>\n",
       "    <tr>\n",
       "      <th>std</th>\n",
       "      <td>181.72094</td>\n",
       "      <td>1644.795489</td>\n",
       "      <td>1.306408</td>\n",
       "      <td>182.956251</td>\n",
       "      <td>0.032203</td>\n",
       "      <td>0.168656</td>\n",
       "      <td>0.002549</td>\n",
       "    </tr>\n",
       "    <tr>\n",
       "      <th>min</th>\n",
       "      <td>1.00000</td>\n",
       "      <td>5204.000000</td>\n",
       "      <td>10.900000</td>\n",
       "      <td>1660.000000</td>\n",
       "      <td>0.840000</td>\n",
       "      <td>2.990000</td>\n",
       "      <td>3.069000</td>\n",
       "    </tr>\n",
       "    <tr>\n",
       "      <th>25%</th>\n",
       "      <td>158.00000</td>\n",
       "      <td>5751.000000</td>\n",
       "      <td>13.500000</td>\n",
       "      <td>1771.000000</td>\n",
       "      <td>0.890000</td>\n",
       "      <td>3.590000</td>\n",
       "      <td>3.074000</td>\n",
       "    </tr>\n",
       "    <tr>\n",
       "      <th>50%</th>\n",
       "      <td>315.00000</td>\n",
       "      <td>6133.000000</td>\n",
       "      <td>14.700000</td>\n",
       "      <td>1888.000000</td>\n",
       "      <td>0.930000</td>\n",
       "      <td>3.650000</td>\n",
       "      <td>3.076000</td>\n",
       "    </tr>\n",
       "    <tr>\n",
       "      <th>75%</th>\n",
       "      <td>472.00000</td>\n",
       "      <td>6501.000000</td>\n",
       "      <td>15.600000</td>\n",
       "      <td>2062.000000</td>\n",
       "      <td>0.940000</td>\n",
       "      <td>3.720000</td>\n",
       "      <td>3.077000</td>\n",
       "    </tr>\n",
       "    <tr>\n",
       "      <th>max</th>\n",
       "      <td>629.00000</td>\n",
       "      <td>45616.000000</td>\n",
       "      <td>16.800000</td>\n",
       "      <td>2349.000000</td>\n",
       "      <td>0.960000</td>\n",
       "      <td>3.750000</td>\n",
       "      <td>3.085000</td>\n",
       "    </tr>\n",
       "  </tbody>\n",
       "</table>\n",
       "</div>"
      ],
      "text/plain": [
       "              id          удой         эке      протеин         спо  \\\n",
       "count  629.00000    629.000000  629.000000   629.000000  629.000000   \n",
       "mean   315.00000   6188.750397   14.543879  1923.364070    0.913116   \n",
       "std    181.72094   1644.795489    1.306408   182.956251    0.032203   \n",
       "min      1.00000   5204.000000   10.900000  1660.000000    0.840000   \n",
       "25%    158.00000   5751.000000   13.500000  1771.000000    0.890000   \n",
       "50%    315.00000   6133.000000   14.700000  1888.000000    0.930000   \n",
       "75%    472.00000   6501.000000   15.600000  2062.000000    0.940000   \n",
       "max    629.00000  45616.000000   16.800000  2349.000000    0.960000   \n",
       "\n",
       "         жирность       белок  \n",
       "count  629.000000  629.000000  \n",
       "mean     3.603657    3.075671  \n",
       "std      0.168656    0.002549  \n",
       "min      2.990000    3.069000  \n",
       "25%      3.590000    3.074000  \n",
       "50%      3.650000    3.076000  \n",
       "75%      3.720000    3.077000  \n",
       "max      3.750000    3.085000  "
      ]
     },
     "metadata": {},
     "output_type": "display_data"
    }
   ],
   "source": [
    "for i in ['жирность', 'белок', 'эке', 'спо']: # Для каждого столбца из списка, все запятые меняются на точки, строки переводятся в числовой тип данных\n",
    "    ds_main[i] = pd.to_numeric(ds_main[i].replace(',', '.', regex=True))\n",
    "dataset_info(ds_main)"
   ]
  },
  {
   "cell_type": "code",
   "execution_count": 13,
   "id": "8cbae170",
   "metadata": {},
   "outputs": [
    {
     "name": "stdout",
     "output_type": "stream",
     "text": [
      "Количество дубликатов: 4\n",
      "Длина датасета: 20\n"
     ]
    },
    {
     "data": {
      "text/html": [
       "<div>\n",
       "<style scoped>\n",
       "    .dataframe tbody tr th:only-of-type {\n",
       "        vertical-align: middle;\n",
       "    }\n",
       "\n",
       "    .dataframe tbody tr th {\n",
       "        vertical-align: top;\n",
       "    }\n",
       "\n",
       "    .dataframe thead th {\n",
       "        text-align: right;\n",
       "    }\n",
       "</style>\n",
       "<table border=\"1\" class=\"dataframe\">\n",
       "  <thead>\n",
       "    <tr style=\"text-align: right;\">\n",
       "      <th></th>\n",
       "      <th>порода</th>\n",
       "      <th>пастбище</th>\n",
       "      <th>порода_пб</th>\n",
       "      <th>имя_папы</th>\n",
       "      <th>жирность</th>\n",
       "      <th>белок</th>\n",
       "      <th>возраст</th>\n",
       "    </tr>\n",
       "  </thead>\n",
       "  <tbody>\n",
       "    <tr>\n",
       "      <th>0</th>\n",
       "      <td>Вис Бик Айдиал</td>\n",
       "      <td>холмистое</td>\n",
       "      <td>Айдиал</td>\n",
       "      <td>Геркулес</td>\n",
       "      <td>3.58</td>\n",
       "      <td>3.076</td>\n",
       "      <td>более_2_лет</td>\n",
       "    </tr>\n",
       "    <tr>\n",
       "      <th>1</th>\n",
       "      <td>Вис Бик Айдиал</td>\n",
       "      <td>равнинное</td>\n",
       "      <td>Соверин</td>\n",
       "      <td>Буйный</td>\n",
       "      <td>3.54</td>\n",
       "      <td>3.081</td>\n",
       "      <td>менее_2_лет</td>\n",
       "    </tr>\n",
       "    <tr>\n",
       "      <th>2</th>\n",
       "      <td>РефлешнСоверинг</td>\n",
       "      <td>равнинное</td>\n",
       "      <td>Соверин</td>\n",
       "      <td>Барин</td>\n",
       "      <td>3.59</td>\n",
       "      <td>3.074</td>\n",
       "      <td>более_2_лет</td>\n",
       "    </tr>\n",
       "    <tr>\n",
       "      <th>3</th>\n",
       "      <td>РефлешнСоверинг</td>\n",
       "      <td>холмистое</td>\n",
       "      <td>Айдиал</td>\n",
       "      <td>Буйный</td>\n",
       "      <td>3.40</td>\n",
       "      <td>3.061</td>\n",
       "      <td>более_2_лет</td>\n",
       "    </tr>\n",
       "    <tr>\n",
       "      <th>4</th>\n",
       "      <td>РефлешнСоверинг</td>\n",
       "      <td>равнинное</td>\n",
       "      <td>Айдиал</td>\n",
       "      <td>Буйный</td>\n",
       "      <td>3.64</td>\n",
       "      <td>3.074</td>\n",
       "      <td>более_2_лет</td>\n",
       "    </tr>\n",
       "  </tbody>\n",
       "</table>\n",
       "</div>"
      ],
      "text/plain": [
       "            порода   пастбище порода_пб  имя_папы  жирность  белок  \\\n",
       "0   Вис Бик Айдиал  холмистое    Айдиал  Геркулес      3.58  3.076   \n",
       "1   Вис Бик Айдиал  равнинное   Соверин    Буйный      3.54  3.081   \n",
       "2  РефлешнСоверинг  равнинное   Соверин     Барин      3.59  3.074   \n",
       "3  РефлешнСоверинг  холмистое    Айдиал    Буйный      3.40  3.061   \n",
       "4  РефлешнСоверинг  равнинное    Айдиал    Буйный      3.64  3.074   \n",
       "\n",
       "       возраст  \n",
       "0  более_2_лет  \n",
       "1  менее_2_лет  \n",
       "2  более_2_лет  \n",
       "3  более_2_лет  \n",
       "4  более_2_лет  "
      ]
     },
     "metadata": {},
     "output_type": "display_data"
    },
    {
     "name": "stdout",
     "output_type": "stream",
     "text": [
      "<class 'pandas.core.frame.DataFrame'>\n",
      "RangeIndex: 20 entries, 0 to 19\n",
      "Data columns (total 7 columns):\n",
      " #   Column     Non-Null Count  Dtype  \n",
      "---  ------     --------------  -----  \n",
      " 0   порода     20 non-null     object \n",
      " 1   пастбище   20 non-null     object \n",
      " 2   порода_пб  20 non-null     object \n",
      " 3   имя_папы   20 non-null     object \n",
      " 4   жирность   20 non-null     float64\n",
      " 5   белок      20 non-null     float64\n",
      " 6   возраст    20 non-null     object \n",
      "dtypes: float64(2), object(5)\n",
      "memory usage: 1.2+ KB\n"
     ]
    },
    {
     "data": {
      "text/html": [
       "<div>\n",
       "<style scoped>\n",
       "    .dataframe tbody tr th:only-of-type {\n",
       "        vertical-align: middle;\n",
       "    }\n",
       "\n",
       "    .dataframe tbody tr th {\n",
       "        vertical-align: top;\n",
       "    }\n",
       "\n",
       "    .dataframe thead th {\n",
       "        text-align: right;\n",
       "    }\n",
       "</style>\n",
       "<table border=\"1\" class=\"dataframe\">\n",
       "  <thead>\n",
       "    <tr style=\"text-align: right;\">\n",
       "      <th></th>\n",
       "      <th>жирность</th>\n",
       "      <th>белок</th>\n",
       "    </tr>\n",
       "  </thead>\n",
       "  <tbody>\n",
       "    <tr>\n",
       "      <th>count</th>\n",
       "      <td>20.000000</td>\n",
       "      <td>20.000000</td>\n",
       "    </tr>\n",
       "    <tr>\n",
       "      <th>mean</th>\n",
       "      <td>3.577500</td>\n",
       "      <td>3.069500</td>\n",
       "    </tr>\n",
       "    <tr>\n",
       "      <th>std</th>\n",
       "      <td>0.126818</td>\n",
       "      <td>0.010339</td>\n",
       "    </tr>\n",
       "    <tr>\n",
       "      <th>min</th>\n",
       "      <td>3.340000</td>\n",
       "      <td>3.046000</td>\n",
       "    </tr>\n",
       "    <tr>\n",
       "      <th>25%</th>\n",
       "      <td>3.510000</td>\n",
       "      <td>3.064000</td>\n",
       "    </tr>\n",
       "    <tr>\n",
       "      <th>50%</th>\n",
       "      <td>3.590000</td>\n",
       "      <td>3.074000</td>\n",
       "    </tr>\n",
       "    <tr>\n",
       "      <th>75%</th>\n",
       "      <td>3.650000</td>\n",
       "      <td>3.076000</td>\n",
       "    </tr>\n",
       "    <tr>\n",
       "      <th>max</th>\n",
       "      <td>3.770000</td>\n",
       "      <td>3.081000</td>\n",
       "    </tr>\n",
       "  </tbody>\n",
       "</table>\n",
       "</div>"
      ],
      "text/plain": [
       "        жирность      белок\n",
       "count  20.000000  20.000000\n",
       "mean    3.577500   3.069500\n",
       "std     0.126818   0.010339\n",
       "min     3.340000   3.046000\n",
       "25%     3.510000   3.064000\n",
       "50%     3.590000   3.074000\n",
       "75%     3.650000   3.076000\n",
       "max     3.770000   3.081000"
      ]
     },
     "metadata": {},
     "output_type": "display_data"
    }
   ],
   "source": [
    "for i in ['жирность', 'белок']: # Для каждого столбца из списка, все запятые меняются на точки, строки переводятся в числовой тип данных\n",
    "    ds_buy[i] = pd.to_numeric(ds_buy[i].replace(',', '.', regex=True))\n",
    "dataset_info(ds_buy)"
   ]
  },
  {
   "cell_type": "markdown",
   "id": "f3848b6c",
   "metadata": {},
   "source": [
    "Теперь все типы данных в порядке, пропусков нет, опасные дубликаты удалены. На этом предобработку данных можно заканчивать."
   ]
  },
  {
   "cell_type": "markdown",
   "id": "7ce171a6",
   "metadata": {},
   "source": [
    "## Исследовательский анализ данных"
   ]
  },
  {
   "cell_type": "code",
   "execution_count": null,
   "id": "774b6588",
   "metadata": {},
   "outputs": [],
   "source": []
  },
  {
   "cell_type": "markdown",
   "id": "4e81e621",
   "metadata": {},
   "source": [
    "## Корреляционный анализ"
   ]
  },
  {
   "cell_type": "code",
   "execution_count": null,
   "id": "6591835e",
   "metadata": {},
   "outputs": [],
   "source": []
  },
  {
   "cell_type": "markdown",
   "id": "b1a0869f",
   "metadata": {},
   "source": [
    "## Обучение модели линейной регрессии"
   ]
  },
  {
   "cell_type": "code",
   "execution_count": null,
   "id": "80ab3b75",
   "metadata": {},
   "outputs": [],
   "source": []
  },
  {
   "cell_type": "markdown",
   "id": "3f38e842",
   "metadata": {},
   "source": [
    "## Обучение модели логистической регрессии"
   ]
  },
  {
   "cell_type": "code",
   "execution_count": null,
   "id": "0b600ca9",
   "metadata": {},
   "outputs": [],
   "source": []
  },
  {
   "cell_type": "markdown",
   "id": "bfad7482",
   "metadata": {},
   "source": [
    "## Итоговые выводы"
   ]
  },
  {
   "cell_type": "code",
   "execution_count": null,
   "id": "a081f0a7",
   "metadata": {},
   "outputs": [],
   "source": []
  },
  {
   "cell_type": "code",
   "execution_count": null,
   "id": "105bbc1f",
   "metadata": {},
   "outputs": [],
   "source": []
  }
 ],
 "metadata": {
  "ExecuteTimeLog": [
   {
    "duration": 854,
    "start_time": "2024-04-08T05:32:41.360Z"
   },
   {
    "duration": 3,
    "start_time": "2024-04-08T05:34:40.269Z"
   },
   {
    "duration": 3,
    "start_time": "2024-04-08T05:37:20.172Z"
   },
   {
    "duration": 137,
    "start_time": "2024-04-08T05:38:54.209Z"
   },
   {
    "duration": 61,
    "start_time": "2024-04-08T05:39:14.810Z"
   },
   {
    "duration": 98,
    "start_time": "2024-04-08T05:41:58.256Z"
   },
   {
    "duration": 112,
    "start_time": "2024-04-08T05:42:55.807Z"
   },
   {
    "duration": 108,
    "start_time": "2024-04-08T05:43:33.560Z"
   },
   {
    "duration": 57,
    "start_time": "2024-04-08T05:43:39.955Z"
   },
   {
    "duration": 56,
    "start_time": "2024-04-08T05:43:47.184Z"
   },
   {
    "duration": 56,
    "start_time": "2024-04-08T05:44:02.902Z"
   },
   {
    "duration": 56,
    "start_time": "2024-04-08T05:44:11.660Z"
   },
   {
    "duration": 43,
    "start_time": "2024-04-08T05:44:24.958Z"
   },
   {
    "duration": 45,
    "start_time": "2024-04-08T05:44:32.454Z"
   },
   {
    "duration": 48,
    "start_time": "2024-04-08T05:44:44.284Z"
   },
   {
    "duration": 61,
    "start_time": "2024-04-08T05:45:00.086Z"
   },
   {
    "duration": 32,
    "start_time": "2024-04-08T05:48:26.067Z"
   },
   {
    "duration": 44,
    "start_time": "2024-04-08T05:48:37.784Z"
   },
   {
    "duration": 39,
    "start_time": "2024-04-08T05:48:46.615Z"
   },
   {
    "duration": 51,
    "start_time": "2024-04-08T08:22:54.698Z"
   },
   {
    "duration": 867,
    "start_time": "2024-04-08T08:22:58.044Z"
   },
   {
    "duration": 3,
    "start_time": "2024-04-08T08:22:58.913Z"
   },
   {
    "duration": 151,
    "start_time": "2024-04-08T08:22:58.918Z"
   },
   {
    "duration": 75,
    "start_time": "2024-04-08T08:22:59.071Z"
   },
   {
    "duration": 100,
    "start_time": "2024-04-08T08:22:59.148Z"
   },
   {
    "duration": 4,
    "start_time": "2024-04-08T08:22:59.249Z"
   },
   {
    "duration": 5,
    "start_time": "2024-04-08T08:27:24.685Z"
   },
   {
    "duration": 4,
    "start_time": "2024-04-08T08:30:26.755Z"
   },
   {
    "duration": 3,
    "start_time": "2024-04-08T08:33:28.059Z"
   },
   {
    "duration": 9,
    "start_time": "2024-04-08T08:33:28.065Z"
   },
   {
    "duration": 60,
    "start_time": "2024-04-08T08:33:28.076Z"
   },
   {
    "duration": 28,
    "start_time": "2024-04-08T08:33:28.137Z"
   },
   {
    "duration": 47,
    "start_time": "2024-04-08T08:33:28.167Z"
   },
   {
    "duration": 5,
    "start_time": "2024-04-08T08:33:28.216Z"
   },
   {
    "duration": 5,
    "start_time": "2024-04-08T08:33:28.222Z"
   },
   {
    "duration": 17,
    "start_time": "2024-04-08T08:33:28.229Z"
   },
   {
    "duration": 40,
    "start_time": "2024-04-08T08:49:41.767Z"
   },
   {
    "duration": 9,
    "start_time": "2024-04-08T08:49:44.063Z"
   },
   {
    "duration": 659,
    "start_time": "2024-04-08T08:53:46.772Z"
   },
   {
    "duration": 3,
    "start_time": "2024-04-08T08:53:47.433Z"
   },
   {
    "duration": 81,
    "start_time": "2024-04-08T08:53:47.437Z"
   },
   {
    "duration": 27,
    "start_time": "2024-04-08T08:53:47.520Z"
   },
   {
    "duration": 48,
    "start_time": "2024-04-08T08:53:47.548Z"
   },
   {
    "duration": 4,
    "start_time": "2024-04-08T08:53:47.598Z"
   },
   {
    "duration": 23,
    "start_time": "2024-04-08T08:53:47.604Z"
   },
   {
    "duration": 9,
    "start_time": "2024-04-08T08:53:47.628Z"
   },
   {
    "duration": 11,
    "start_time": "2024-04-08T08:53:47.638Z"
   },
   {
    "duration": 4,
    "start_time": "2024-04-08T08:54:32.380Z"
   },
   {
    "duration": 28,
    "start_time": "2024-04-08T08:56:14.953Z"
   },
   {
    "duration": 10,
    "start_time": "2024-04-08T08:58:09.508Z"
   },
   {
    "duration": 30,
    "start_time": "2024-04-08T08:58:13.953Z"
   },
   {
    "duration": 30,
    "start_time": "2024-04-08T08:58:18.452Z"
   },
   {
    "duration": 30,
    "start_time": "2024-04-08T08:58:20.005Z"
   },
   {
    "duration": 33,
    "start_time": "2024-04-08T08:58:21.336Z"
   },
   {
    "duration": 2,
    "start_time": "2024-04-08T08:58:25.449Z"
   },
   {
    "duration": 19,
    "start_time": "2024-04-08T08:58:25.453Z"
   },
   {
    "duration": 61,
    "start_time": "2024-04-08T08:58:25.474Z"
   },
   {
    "duration": 27,
    "start_time": "2024-04-08T08:58:25.537Z"
   },
   {
    "duration": 46,
    "start_time": "2024-04-08T08:58:25.566Z"
   },
   {
    "duration": 5,
    "start_time": "2024-04-08T08:58:25.613Z"
   },
   {
    "duration": 6,
    "start_time": "2024-04-08T08:58:25.619Z"
   },
   {
    "duration": 12,
    "start_time": "2024-04-08T08:58:25.626Z"
   },
   {
    "duration": 32,
    "start_time": "2024-04-08T08:58:25.640Z"
   },
   {
    "duration": 31,
    "start_time": "2024-04-08T08:58:25.673Z"
   },
   {
    "duration": 49,
    "start_time": "2024-04-09T05:47:26.634Z"
   },
   {
    "duration": 758,
    "start_time": "2024-04-09T05:47:30.021Z"
   },
   {
    "duration": 4,
    "start_time": "2024-04-09T05:47:30.781Z"
   },
   {
    "duration": 254,
    "start_time": "2024-04-09T05:47:30.786Z"
   },
   {
    "duration": 79,
    "start_time": "2024-04-09T05:47:31.041Z"
   },
   {
    "duration": 95,
    "start_time": "2024-04-09T05:47:31.122Z"
   },
   {
    "duration": 5,
    "start_time": "2024-04-09T05:47:31.218Z"
   },
   {
    "duration": 73,
    "start_time": "2024-04-09T05:47:31.224Z"
   },
   {
    "duration": 46,
    "start_time": "2024-04-09T05:47:31.298Z"
   },
   {
    "duration": 38,
    "start_time": "2024-04-09T05:47:31.346Z"
   },
   {
    "duration": 65,
    "start_time": "2024-04-09T05:47:31.385Z"
   },
   {
    "duration": 11,
    "start_time": "2024-04-09T05:49:00.922Z"
   },
   {
    "duration": 11,
    "start_time": "2024-04-09T05:49:41.682Z"
   },
   {
    "duration": 12,
    "start_time": "2024-04-09T05:51:15.471Z"
   },
   {
    "duration": 20,
    "start_time": "2024-04-09T05:57:52.628Z"
   },
   {
    "duration": 38,
    "start_time": "2024-04-09T06:04:24.436Z"
   },
   {
    "duration": 543,
    "start_time": "2024-04-09T06:04:44.146Z"
   },
   {
    "duration": 530,
    "start_time": "2024-04-09T06:05:35.988Z"
   },
   {
    "duration": 464,
    "start_time": "2024-04-09T06:08:14.756Z"
   },
   {
    "duration": 468,
    "start_time": "2024-04-09T06:08:35.468Z"
   },
   {
    "duration": 13,
    "start_time": "2024-04-09T06:08:39.841Z"
   },
   {
    "duration": 6,
    "start_time": "2024-04-09T06:09:43.731Z"
   },
   {
    "duration": 8,
    "start_time": "2024-04-09T06:09:56.786Z"
   },
   {
    "duration": 6,
    "start_time": "2024-04-09T06:10:43.150Z"
   },
   {
    "duration": 7,
    "start_time": "2024-04-09T06:11:24.251Z"
   },
   {
    "duration": 17,
    "start_time": "2024-04-09T06:12:13.290Z"
   },
   {
    "duration": 24,
    "start_time": "2024-04-09T06:12:26.362Z"
   },
   {
    "duration": 41,
    "start_time": "2024-04-09T06:13:08.568Z"
   },
   {
    "duration": 42,
    "start_time": "2024-04-09T06:14:40.660Z"
   },
   {
    "duration": 45,
    "start_time": "2024-04-09T06:14:45.407Z"
   },
   {
    "duration": 3,
    "start_time": "2024-04-09T06:14:48.653Z"
   },
   {
    "duration": 18,
    "start_time": "2024-04-09T06:14:48.658Z"
   },
   {
    "duration": 63,
    "start_time": "2024-04-09T06:14:48.677Z"
   },
   {
    "duration": 27,
    "start_time": "2024-04-09T06:14:48.741Z"
   },
   {
    "duration": 44,
    "start_time": "2024-04-09T06:14:48.770Z"
   },
   {
    "duration": 4,
    "start_time": "2024-04-09T06:14:48.816Z"
   },
   {
    "duration": 8,
    "start_time": "2024-04-09T06:14:48.821Z"
   },
   {
    "duration": 14,
    "start_time": "2024-04-09T06:14:48.830Z"
   },
   {
    "duration": 20,
    "start_time": "2024-04-09T06:14:48.846Z"
   },
   {
    "duration": 18,
    "start_time": "2024-04-09T06:14:48.867Z"
   },
   {
    "duration": 10,
    "start_time": "2024-04-09T06:14:48.887Z"
   },
   {
    "duration": 68,
    "start_time": "2024-04-09T06:14:48.898Z"
   },
   {
    "duration": 31,
    "start_time": "2024-04-09T06:15:21.690Z"
   },
   {
    "duration": 49,
    "start_time": "2024-04-09T06:17:03.794Z"
   },
   {
    "duration": 3,
    "start_time": "2024-04-09T06:17:28.056Z"
   },
   {
    "duration": 10,
    "start_time": "2024-04-09T06:17:28.061Z"
   },
   {
    "duration": 62,
    "start_time": "2024-04-09T06:17:28.072Z"
   },
   {
    "duration": 28,
    "start_time": "2024-04-09T06:17:28.135Z"
   },
   {
    "duration": 44,
    "start_time": "2024-04-09T06:17:28.165Z"
   },
   {
    "duration": 5,
    "start_time": "2024-04-09T06:17:28.210Z"
   },
   {
    "duration": 6,
    "start_time": "2024-04-09T06:17:28.216Z"
   },
   {
    "duration": 5,
    "start_time": "2024-04-09T06:17:28.223Z"
   },
   {
    "duration": 14,
    "start_time": "2024-04-09T06:17:28.230Z"
   },
   {
    "duration": 41,
    "start_time": "2024-04-09T06:17:28.245Z"
   },
   {
    "duration": 13,
    "start_time": "2024-04-09T06:17:28.287Z"
   },
   {
    "duration": 75,
    "start_time": "2024-04-09T06:17:28.301Z"
   },
   {
    "duration": 30,
    "start_time": "2024-04-09T06:17:28.378Z"
   },
   {
    "duration": 602,
    "start_time": "2024-04-09T06:22:16.878Z"
   },
   {
    "duration": 4,
    "start_time": "2024-04-09T06:22:17.482Z"
   },
   {
    "duration": 69,
    "start_time": "2024-04-09T06:22:17.487Z"
   },
   {
    "duration": 28,
    "start_time": "2024-04-09T06:22:17.557Z"
   },
   {
    "duration": 45,
    "start_time": "2024-04-09T06:22:17.588Z"
   },
   {
    "duration": 4,
    "start_time": "2024-04-09T06:22:17.634Z"
   },
   {
    "duration": 30,
    "start_time": "2024-04-09T06:22:17.640Z"
   },
   {
    "duration": 25,
    "start_time": "2024-04-09T06:22:17.671Z"
   },
   {
    "duration": 45,
    "start_time": "2024-04-09T06:22:17.697Z"
   },
   {
    "duration": 55,
    "start_time": "2024-04-09T06:22:17.743Z"
   },
   {
    "duration": 11,
    "start_time": "2024-04-09T06:22:17.799Z"
   },
   {
    "duration": 73,
    "start_time": "2024-04-09T06:22:17.812Z"
   },
   {
    "duration": 29,
    "start_time": "2024-04-09T06:22:17.887Z"
   }
  ],
  "celltoolbar": "Отсутствует",
  "kernelspec": {
   "display_name": "Python 3 (ipykernel)",
   "language": "python",
   "name": "python3"
  },
  "language_info": {
   "codemirror_mode": {
    "name": "ipython",
    "version": 3
   },
   "file_extension": ".py",
   "mimetype": "text/x-python",
   "name": "python",
   "nbconvert_exporter": "python",
   "pygments_lexer": "ipython3",
   "version": "3.9.5"
  },
  "toc": {
   "base_numbering": 1,
   "nav_menu": {
    "height": "283px",
    "width": "415px"
   },
   "number_sections": true,
   "sideBar": true,
   "skip_h1_title": true,
   "title_cell": "Table of Contents",
   "title_sidebar": "Contents",
   "toc_cell": false,
   "toc_position": {},
   "toc_section_display": true,
   "toc_window_display": false
  },
  "varInspector": {
   "cols": {
    "lenName": 16,
    "lenType": 16,
    "lenVar": 40
   },
   "kernels_config": {
    "python": {
     "delete_cmd_postfix": "",
     "delete_cmd_prefix": "del ",
     "library": "var_list.py",
     "varRefreshCmd": "print(var_dic_list())"
    },
    "r": {
     "delete_cmd_postfix": ") ",
     "delete_cmd_prefix": "rm(",
     "library": "var_list.r",
     "varRefreshCmd": "cat(var_dic_list()) "
    }
   },
   "types_to_exclude": [
    "module",
    "function",
    "builtin_function_or_method",
    "instance",
    "_Feature"
   ],
   "window_display": false
  }
 },
 "nbformat": 4,
 "nbformat_minor": 5
}
