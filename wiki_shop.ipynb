{
 "cells": [
  {
   "cell_type": "markdown",
   "metadata": {},
   "source": [
    "<img src=\"http://s3.amazonaws.com/pix.iemoji.com/images/emoji/apple/ios-12/256/waving-hand.png\" align=left width=44, heigth=44>\n",
    "<div class=\"alert alert-info\">\n",
    "<b> Комментарий ревьюера</b>\n",
    "\n",
    "\n",
    "Привет, Максим! Давай знакомиться! Меня зовут Дмитрий Махортов, и я буду проверять твой проект. Сразу предлагаю общение на «ты» 🙂, но если тебе это не комфортно, то дай знать, и мы перейдем на «вы». \n",
    "\n",
    "Моя основная цель — не указать на совершенные тобою ошибки, а поделиться своим опытом и помочь тебе погрузиться в увлекательный мир работы с данными и вырасти в крепкого профи. Это отдаленная цель. А ближайшая - сделать твою работу еще лучше )).\n",
    "   \n",
    "    \n",
    "Все ключевые этапы в работе выполнены, и я вижу что с проектом ты справшяешься. Есть моменты, которые нужно доработать, но я уверен, у тебя все получится.\n",
    "        \n",
    "Расскажу как обычно проходит проверка:    \n",
    "Бывают моменты, которые требуют пристального внимания. Комментарии по ним выделены <span style='background-color:#F7B3A4'> красным цветом </span> и обозначены значком 🛑. После их доработки проект будет принят.  🙂\n",
    " \n",
    "<span style='background-color:#B7EBA7'> Зеленым цветом </span> и значком ✅ отмечены удачные и элегантные решения, на которые можно опираться в будущих проектах. Или советы «со звездочкой», которые помогут тебе в будущем.\n",
    "\n",
    "<span style='background-color:#F9EDA6'>Жёлтым цветом </span> и значком ⚠️ выделено то, что в следующий раз можно сделать по-другому. Ты можешь учесть эти комментарии при выполнении будущих заданий или доработать проект сейчас (однако это не обязательно).\n",
    "\n",
    "Давай работать над проектом в диалоге: **если ты что-то меняешь в проекте по моим рекомендациям — пиши об этом**. Выбери для своих комментариев какой-то заметный цвет, так мне будет легче отследить изменения. Пожалуйста, **не перемещай, не изменяй и не удаляй мои комментарии**. Всё это поможет выполнить повторную проверку твоего проекта оперативнее. \n",
    "</div>"
   ]
  },
  {
   "cell_type": "markdown",
   "metadata": {},
   "source": [
    "<div class=\"alert\" style=\"background-color:#ead7f7;color:#8737bf\">\n",
    "    <font size=\"3\"><b>образец комментария студента</b></font>\n",
    "   \n",
    "Можешь использовать этот комментарий. Просто удали этот текст и вместо него напиши свой 🙂\n",
    "\n",
    "</div>"
   ]
  },
  {
   "cell_type": "markdown",
   "metadata": {},
   "source": [
    "# Проект для «Викишоп» с BERT"
   ]
  },
  {
   "cell_type": "markdown",
   "metadata": {},
   "source": [
    "Интернет-магазин «Викишоп» запускает новый сервис. Теперь пользователи могут редактировать и дополнять описания товаров, как в вики-сообществах. То есть клиенты предлагают свои правки и комментируют изменения других. Магазину нужен инструмент, который будет искать токсичные комментарии и отправлять их на модерацию. \n",
    "\n",
    "Обучите модель классифицировать комментарии на позитивные и негативные. В вашем распоряжении набор данных с разметкой о токсичности правок.\n",
    "\n",
    "Постройте модель со значением метрики качества *F1* не меньше 0.75. \n",
    "\n",
    "**Инструкция по выполнению проекта**\n",
    "\n",
    "1. Загрузите и подготовьте данные.\n",
    "2. Обучите разные модели. \n",
    "3. Сделайте выводы.\n",
    "\n",
    "Для выполнения проекта применять *BERT* необязательно, но вы можете попробовать.\n",
    "\n",
    "**Описание данных**\n",
    "\n",
    "Данные находятся в файле `toxic_comments.csv`. Столбец *text* в нём содержит текст комментария, а *toxic* — целевой признак."
   ]
  },
  {
   "cell_type": "markdown",
   "metadata": {
    "toc": true
   },
   "source": [
    "<h1>Содержание<span class=\"tocSkip\"></span></h1>\n",
    "<div class=\"toc\"><ul class=\"toc-item\"><li><span><a href=\"#Подготовка\" data-toc-modified-id=\"Подготовка-1\"><span class=\"toc-item-num\">1&nbsp;&nbsp;</span>Подготовка</a></span></li><li><span><a href=\"#Обучение\" data-toc-modified-id=\"Обучение-2\"><span class=\"toc-item-num\">2&nbsp;&nbsp;</span>Обучение</a></span></li><li><span><a href=\"#Тестирование\" data-toc-modified-id=\"Тестирование-3\"><span class=\"toc-item-num\">3&nbsp;&nbsp;</span>Тестирование</a></span></li><li><span><a href=\"#Итоговый-вывод\" data-toc-modified-id=\"Итоговый-вывод-4\"><span class=\"toc-item-num\">4&nbsp;&nbsp;</span>Итоговый вывод</a></span></li><li><span><a href=\"#Чек-лист-проверки\" data-toc-modified-id=\"Чек-лист-проверки-5\"><span class=\"toc-item-num\">5&nbsp;&nbsp;</span>Чек-лист проверки</a></span></li></ul></div>"
   ]
  },
  {
   "cell_type": "code",
   "execution_count": 1,
   "metadata": {},
   "outputs": [
    {
     "data": {
      "text/plain": [
       "'1.5.1'"
      ]
     },
     "execution_count": 1,
     "metadata": {},
     "output_type": "execute_result"
    }
   ],
   "source": [
    "import sklearn # Проверка версии sklearn. Обновляем при необходимости\n",
    "if sklearn.__version__[0] == '0':\n",
    "    !pip install scikit-learn -U \n",
    "# После установки надо перезапустить ядро\n",
    "sklearn.__version__ "
   ]
  },
  {
   "cell_type": "code",
   "execution_count": 2,
   "metadata": {
    "scrolled": true
   },
   "outputs": [],
   "source": [
    "import pandas as pd\n",
    "import numpy as np\n",
    "import matplotlib.pyplot as plt \n",
    "from tqdm.notebook import tqdm\n",
    "import re\n",
    "\n",
    "try:\n",
    "    import spacy \n",
    "except:\n",
    "    !pip install spacy\n",
    "    !python -m spacy download en_core_web_sm\n",
    "    import spacy\n",
    "\n",
    "try:\n",
    "    import torch\n",
    "except:\n",
    "    !pip install torch\n",
    "    import torch\n",
    "\n",
    "try:\n",
    "    import transformers\n",
    "except:\n",
    "    !pip install transformers\n",
    "    import transformers\n",
    "\n",
    "try:\n",
    "    from ydata_profiling import ProfileReport\n",
    "except:\n",
    "    !pip install -U Pillow \n",
    "    # Для решения ошибки с профайлером\n",
    "    !pip install -U ydata-profiling\n",
    "    from ydata_profiling import ProfileReport\n",
    "\n",
    "from sklearn.model_selection import train_test_split, GridSearchCV, StratifiedKFold\n",
    "from sklearn.base import TransformerMixin, BaseEstimator\n",
    "from sklearn.metrics import f1_score, ConfusionMatrixDisplay, confusion_matrix\n",
    "\n",
    "from sklearn.svm import SVC\n",
    "from sklearn.linear_model import LogisticRegression\n",
    "from sklearn.neighbors import KNeighborsClassifier\n",
    "from sklearn.dummy import DummyClassifier"
   ]
  },
  {
   "cell_type": "markdown",
   "metadata": {},
   "source": [
    "<img src=\"https://emojigraph.org/media/apple/check-mark-button_2705.png\" align=left width=33, heigth=33>\n",
    "<div class=\"alert alert-success\">\n",
    "Отлично, все нужные библиотеки импортированы в начале ноутбука.Это хорошая практика.\n",
    "\n",
    "----------------------\n",
    "    \n",
    "С одной стороны ты молодец, что использовал try-except для установки библиотек в окружение. \n",
    "Но советую тебе держать в голове \"другую сторону медали\".  Я бы не советовал прятать установку библиотек внутри импортов, т.к. установка новой библиотеки это не всегда \"безболезненно\". Пользователь твоего ноутбука может запустить его не только где-то в облаке, где виртуальное окружение вскоре перезагрузится на дефолтную, а в своем рабочем окружении. И в этом случае любая новая установка - это потенциальная угроза, т.к. установка одной библиотеки может повлечь за собой обновление других, что может привести к нарушению работы уже работающего кода.\n",
    "</div>"
   ]
  },
  {
   "cell_type": "code",
   "execution_count": 3,
   "metadata": {},
   "outputs": [],
   "source": [
    "RANDOM_STATE = 42424242\n",
    "SAMPLE_SIZE = 500"
   ]
  },
  {
   "cell_type": "markdown",
   "metadata": {},
   "source": [
    "## Подготовка"
   ]
  },
  {
   "cell_type": "markdown",
   "metadata": {},
   "source": [
    "Для начала загрузим данные и сразу-же с ними ознакомимся."
   ]
  },
  {
   "cell_type": "code",
   "execution_count": 4,
   "metadata": {
    "scrolled": true
   },
   "outputs": [],
   "source": [
    "try:\n",
    "    ds = pd.read_csv('/datasets/toxic_comments.csv', index_col='Unnamed: 0')\n",
    "except:\n",
    "    ds = pd.read_csv('datasets/toxic_comments.csv', index_col='Unnamed: 0')\n",
    "#ProfileReport(ds)"
   ]
  },
  {
   "cell_type": "markdown",
   "metadata": {},
   "source": [
    "Дизбаланс классов в целевом признаке, токсичных комментариев почти в 10 раз меньше, чем нетоксичных. Без стратификации здесь не обойтись. \n",
    "\n",
    "Для начала извлечём из генеральной совокупности выборку. Обработка всех имеющихся у нас записей при помощи BERT займёт около двух суток, поэтому возьмём лишь небольшую часть."
   ]
  },
  {
   "cell_type": "code",
   "execution_count": 5,
   "metadata": {},
   "outputs": [
    {
     "data": {
      "text/plain": [
       "toxic\n",
       "0    449\n",
       "1     51\n",
       "Name: count, dtype: int64"
      ]
     },
     "execution_count": 5,
     "metadata": {},
     "output_type": "execute_result"
    }
   ],
   "source": [
    "ds, _ = train_test_split(ds, test_size=len(ds) - SAMPLE_SIZE, stratify=ds['toxic'], random_state=RANDOM_STATE)\n",
    "ds = ds.reset_index(drop=True)\n",
    "ds['toxic'].value_counts()"
   ]
  },
  {
   "cell_type": "markdown",
   "metadata": {},
   "source": [
    "<img src=\"https://emojigraph.org/media/apple/check-mark-button_2705.png\" align=left width=33, heigth=33>\n",
    "<div class=\"alert alert-success\">\n",
    "Молодец, исследован баланс классов. Это важная информация для задачи классификации.</div>"
   ]
  },
  {
   "cell_type": "markdown",
   "metadata": {},
   "source": [
    "Теперь объявим токенизатор и саму модель BERT, возьмём модель стандартного размера."
   ]
  },
  {
   "cell_type": "code",
   "execution_count": 6,
   "metadata": {
    "scrolled": true
   },
   "outputs": [
    {
     "name": "stderr",
     "output_type": "stream",
     "text": [
      "A parameter name that contains `beta` will be renamed internally to `bias`. Please use a different name to suppress this warning.\n",
      "A parameter name that contains `gamma` will be renamed internally to `weight`. Please use a different name to suppress this warning.\n",
      "A parameter name that contains `beta` will be renamed internally to `bias`. Please use a different name to suppress this warning.\n",
      "A parameter name that contains `gamma` will be renamed internally to `weight`. Please use a different name to suppress this warning.\n",
      "A parameter name that contains `beta` will be renamed internally to `bias`. Please use a different name to suppress this warning.\n",
      "A parameter name that contains `gamma` will be renamed internally to `weight`. Please use a different name to suppress this warning.\n",
      "A parameter name that contains `beta` will be renamed internally to `bias`. Please use a different name to suppress this warning.\n",
      "A parameter name that contains `gamma` will be renamed internally to `weight`. Please use a different name to suppress this warning.\n",
      "A parameter name that contains `beta` will be renamed internally to `bias`. Please use a different name to suppress this warning.\n",
      "A parameter name that contains `gamma` will be renamed internally to `weight`. Please use a different name to suppress this warning.\n",
      "A parameter name that contains `beta` will be renamed internally to `bias`. Please use a different name to suppress this warning.\n",
      "A parameter name that contains `gamma` will be renamed internally to `weight`. Please use a different name to suppress this warning.\n",
      "A parameter name that contains `beta` will be renamed internally to `bias`. Please use a different name to suppress this warning.\n",
      "A parameter name that contains `gamma` will be renamed internally to `weight`. Please use a different name to suppress this warning.\n",
      "A parameter name that contains `beta` will be renamed internally to `bias`. Please use a different name to suppress this warning.\n",
      "A parameter name that contains `gamma` will be renamed internally to `weight`. Please use a different name to suppress this warning.\n",
      "A parameter name that contains `beta` will be renamed internally to `bias`. Please use a different name to suppress this warning.\n",
      "A parameter name that contains `gamma` will be renamed internally to `weight`. Please use a different name to suppress this warning.\n",
      "A parameter name that contains `beta` will be renamed internally to `bias`. Please use a different name to suppress this warning.\n",
      "A parameter name that contains `gamma` will be renamed internally to `weight`. Please use a different name to suppress this warning.\n",
      "A parameter name that contains `beta` will be renamed internally to `bias`. Please use a different name to suppress this warning.\n",
      "A parameter name that contains `gamma` will be renamed internally to `weight`. Please use a different name to suppress this warning.\n",
      "A parameter name that contains `beta` will be renamed internally to `bias`. Please use a different name to suppress this warning.\n",
      "A parameter name that contains `gamma` will be renamed internally to `weight`. Please use a different name to suppress this warning.\n",
      "A parameter name that contains `beta` will be renamed internally to `bias`. Please use a different name to suppress this warning.\n",
      "A parameter name that contains `gamma` will be renamed internally to `weight`. Please use a different name to suppress this warning.\n",
      "A parameter name that contains `beta` will be renamed internally to `bias`. Please use a different name to suppress this warning.\n",
      "A parameter name that contains `gamma` will be renamed internally to `weight`. Please use a different name to suppress this warning.\n",
      "A parameter name that contains `beta` will be renamed internally to `bias`. Please use a different name to suppress this warning.\n",
      "A parameter name that contains `gamma` will be renamed internally to `weight`. Please use a different name to suppress this warning.\n",
      "A parameter name that contains `beta` will be renamed internally to `bias`. Please use a different name to suppress this warning.\n",
      "A parameter name that contains `gamma` will be renamed internally to `weight`. Please use a different name to suppress this warning.\n",
      "A parameter name that contains `beta` will be renamed internally to `bias`. Please use a different name to suppress this warning.\n",
      "A parameter name that contains `gamma` will be renamed internally to `weight`. Please use a different name to suppress this warning.\n",
      "A parameter name that contains `beta` will be renamed internally to `bias`. Please use a different name to suppress this warning.\n",
      "A parameter name that contains `gamma` will be renamed internally to `weight`. Please use a different name to suppress this warning.\n",
      "A parameter name that contains `beta` will be renamed internally to `bias`. Please use a different name to suppress this warning.\n",
      "A parameter name that contains `gamma` will be renamed internally to `weight`. Please use a different name to suppress this warning.\n",
      "A parameter name that contains `beta` will be renamed internally to `bias`. Please use a different name to suppress this warning.\n",
      "A parameter name that contains `gamma` will be renamed internally to `weight`. Please use a different name to suppress this warning.\n",
      "A parameter name that contains `beta` will be renamed internally to `bias`. Please use a different name to suppress this warning.\n",
      "A parameter name that contains `gamma` will be renamed internally to `weight`. Please use a different name to suppress this warning.\n",
      "A parameter name that contains `beta` will be renamed internally to `bias`. Please use a different name to suppress this warning.\n",
      "A parameter name that contains `gamma` will be renamed internally to `weight`. Please use a different name to suppress this warning.\n",
      "A parameter name that contains `beta` will be renamed internally to `bias`. Please use a different name to suppress this warning.\n",
      "A parameter name that contains `gamma` will be renamed internally to `weight`. Please use a different name to suppress this warning.\n",
      "A parameter name that contains `beta` will be renamed internally to `bias`. Please use a different name to suppress this warning.\n",
      "A parameter name that contains `gamma` will be renamed internally to `weight`. Please use a different name to suppress this warning.\n",
      "A parameter name that contains `beta` will be renamed internally to `bias`. Please use a different name to suppress this warning.\n",
      "A parameter name that contains `gamma` will be renamed internally to `weight`. Please use a different name to suppress this warning.\n",
      "A parameter name that contains `beta` will be renamed internally to `bias`. Please use a different name to suppress this warning.\n",
      "A parameter name that contains `gamma` will be renamed internally to `weight`. Please use a different name to suppress this warning.\n"
     ]
    }
   ],
   "source": [
    "tokenizer = transformers.BertTokenizer.from_pretrained('bert-base-cased')  \n",
    "model = transformers.BertModel.from_pretrained('bert-base-cased')\n",
    "device = torch.device('cuda' if torch.cuda.is_available() else 'cpu')\n",
    "model.to(device);"
   ]
  },
  {
   "cell_type": "markdown",
   "metadata": {},
   "source": [
    "<img src=\"https://emojigraph.org/media/apple/check-mark-button_2705.png\" align=left width=33, heigth=33>\n",
    "<div class=\"alert alert-success\">\n",
    "Я вижу ты использовал именно cased модель, т.е. чувствительную к регистру. Это сознательный выбор или \"так получилось\"?</div>"
   ]
  },
  {
   "cell_type": "markdown",
   "metadata": {},
   "source": [
    "Теперь создадим класс для обработки данных. На вход он будет принимать признак `text`, проводить лемматизацию, убирать любые символы помимо английского алфавита, проводить токенизацию, приводить токены к одному размеру посредством добавления нулей в конец и, наконец, поэтапно проводить обработку текста, возвращая нам объединённую матрицу эмбеддингов. Звучит просто, но это займёт какое-то время."
   ]
  },
  {
   "cell_type": "code",
   "execution_count": 7,
   "metadata": {},
   "outputs": [],
   "source": [
    "class ToxicFeatures(TransformerMixin, BaseEstimator):\n",
    "    def __init__(self, max_len=512):\n",
    "        self.max_len = max_len\n",
    "    \n",
    "    def fit(self, X, y): \n",
    "        # Обучение классу не требуется, скипаем\n",
    "        return self\n",
    "    \n",
    "    def transform(self, X): \n",
    "        # Лемматизация\n",
    "        spc = spacy.load('en_core_web_sm')\n",
    "        lemmatized = X.apply(lambda x: ' '.join([token.lemma_ for token in spc(x)]))\n",
    "        # Очистка от лишних символов\n",
    "        regular = lemmatized.apply(lambda x: ' '.join((re.sub(r'[^a-zA-Z]', ' ', x)).split()))\n",
    "        # Токенизация\n",
    "        tokenized = regular.apply(lambda x: tokenizer.encode(x, add_special_tokens=True, max_length=self.max_len, truncation=True))\n",
    "        max_len = max(tokenized.apply(len))\n",
    "        padded = np.array([i + [0]*(max_len - len(i)) for i in tokenized.values])\n",
    "        attention_mask = np.where(padded != 0, 1, 0)\n",
    "        batch_size = 100\n",
    "        embeddings = []\n",
    "        for i in tqdm(range(padded.shape[0] // batch_size)):\n",
    "            batch = torch.LongTensor(padded[batch_size*i:batch_size*(i+1)])\n",
    "            attention_mask_batch = torch.LongTensor(attention_mask[batch_size*i:batch_size*(i+1)])\n",
    "            \n",
    "            with torch.no_grad(): # Для ускорения вычислений отключим градиенты\n",
    "                batch_embeddings = model(batch.to(device), attention_mask=attention_mask_batch.to(device))\n",
    "            \n",
    "            embeddings.append(batch_embeddings[0][:,0,:].cpu().numpy())\n",
    "        return np.concatenate(embeddings)"
   ]
  },
  {
   "cell_type": "markdown",
   "metadata": {},
   "source": [
    "<img src=\"https://emojigraph.org/media/apple/check-mark-button_2705.png\" align=left width=33, heigth=33>\n",
    "<div class=\"alert alert-success\">\n",
    "Раз ты использовал библиотеку spaCy, то оставлю совет, который обычно оставляю когда запускается лемматизация на полном датасете\n",
    "    \n",
    "----------------    \n",
    "    \n",
    "Очень круто, что ты используешь spaCy. Но лемматизаторspaCy работает безумно долго и скорее всего, у тебя сложилось впечатление, что он неудобен. На самом деле spaCy, в отличие от других библиотек - это библиотека ориентированая на создание индустриальных решений, тогда как другие библиотеки созданы для исследователей (академического сообщества). А работает он долго потому, что заодно с лемматизацией решает кучу других задач. Увидеть эти задачи ты можешь вызвав команду:\n",
    "    \n",
    "     nlp.pipe_names\n",
    "Скорее всего ты увидишь следующее:\n",
    "    \n",
    "     ['tok2vec', 'tagger', 'parser', 'attribute_ruler', 'lemmatizer', 'ner']\n",
    " \n",
    "Т.е. создавая объект nlp ты кроме нужной задачи (лемматизации) решаешь задачи получения эмбедингов, определение частей речи, определение взаимосвязей между токенами, нахождение именованных сущностей. Отключить не нужное повведение очень легко используя вот такой шаблон:\n",
    "    \n",
    "    disabled_pipes = [ \"parser\",  \"ner\"]\n",
    "    nlp = spacy.load('en_core_web_sm', disable=disabled_pipes)\n",
    "    \n",
    "И выполняться такой пайплайн будет  быстрее.\n",
    "    \n",
    "Важно - отключать нужно именно указанные мною шаги. Удаление остальных приведет к тому, что лемматизация прекратит работать.\n",
    "    \n",
    "А еще для ускорения spaCy можно использовать spaCy pipeline (https://spacy.io/usage/processing-pipelines)\n",
    "    \n",
    "    \n",
    "    lemm_texts = []\n",
    "\n",
    "    for doc in tqdm(nlp.pipe(data['text'].values, disable = ['ner', 'parser']), total=data.shape[0]):\n",
    "        lemm_text = \" \".join([i.lemma_ for i in doc])    \n",
    "        lemm_texts.append(lemm_text) \n",
    "    \n",
    "Когда я проверял, у меня получилось ускорить почти в два раза.</div>"
   ]
  },
  {
   "cell_type": "markdown",
   "metadata": {},
   "source": [
    "<img src=\"https://upload.wikimedia.org/wikipedia/commons/b/ba/Warning_sign_4.0.png\" align=left width=44, heigth=33>\n",
    "<div class=\"alert alert-warning\">\n",
    "Скажу честно, лемматизация здесь лишняя, как и чистка текстов от знаков препинания.\n",
    "    \n",
    "Нужно понимать, что модель BERT обучалась на \"сырых\" текстах и всю предобработку выполняет токенайзер.\n",
    "    \n",
    "Я бы ограничился чисткой текстов от мусора (типа HTML тегов и прочего), а больше ничего не менял.    \n",
    "</div>"
   ]
  },
  {
   "cell_type": "markdown",
   "metadata": {},
   "source": [
    "Класс есть - остаётся запустить обработку входного признака."
   ]
  },
  {
   "cell_type": "code",
   "execution_count": 8,
   "metadata": {},
   "outputs": [
    {
     "data": {
      "application/vnd.jupyter.widget-view+json": {
       "model_id": "b16a00a4c8b74521a1073b0344682675",
       "version_major": 2,
       "version_minor": 0
      },
      "text/plain": [
       "  0%|          | 0/5 [00:00<?, ?it/s]"
      ]
     },
     "metadata": {},
     "output_type": "display_data"
    },
    {
     "name": "stderr",
     "output_type": "stream",
     "text": [
      "C:\\Users\\m8913\\anaconda3\\envs\\practicum\\lib\\site-packages\\transformers\\models\\bert\\modeling_bert.py:439: UserWarning: 1Torch was not compiled with flash attention. (Triggered internally at C:\\cb\\pytorch_1000000000000\\work\\aten\\src\\ATen\\native\\transformers\\cuda\\sdp_utils.cpp:555.)\n",
      "  attn_output = torch.nn.functional.scaled_dot_product_attention(\n"
     ]
    }
   ],
   "source": [
    "tf = ToxicFeatures()\n",
    "features = tf.transform(ds['text'])"
   ]
  },
  {
   "cell_type": "markdown",
   "metadata": {},
   "source": [
    "<img src=\"https://emojigraph.org/media/apple/check-mark-button_2705.png\" align=left width=33, heigth=33>\n",
    "<div class=\"alert alert-success\">\n",
    " 👍  Молодец, эмбеддинги получены. И ты прав,  что на CPU это работает работает долго. При наличии GPU (на локальной машине или облачного) можно заметно ускорить выполнение расчетов, например, при запуске на 500 объектов векторизация длилась всего 11 секунд..\n",
    "    \n",
    "Хорошо, если у тебя есть собственный GPU от NVidia. А если нет - то один из вариантов использовтаь GPU для обучения или инференса моделей - это использование облачного сервиса Google Colab. Он предлагает знакомые ноутбуки + беспплатный GPU (пусть и на ограниченное время)     \n",
    "\n",
    "Рекомендую познакомиться с этой средой. Вот здесь можешь глянуть, что это такое на самом базовом уровне, а более глубокое знакомство можно начать с официального туториала.\n",
    "    \n",
    "  - https://blog.skillfactory.ru/chto-takoe-google-colaboratory-i-komu-on-nuzhen/\n",
    "  - https://sky.pro/media/google-colab/\n",
    "  - https://colab.research.google.com/?hl=RU\n",
    "    |\n",
    "    \n",
    "Вот изменения, которые я внес в код, чтобы вычисления пошли на GPU\n",
    "    \n",
    "    \n",
    "``` python\n",
    "device = torch.device('cuda' if torch.cuda.is_available() else 'cpu')\n",
    "model.to(device);\n",
    "    \n",
    "...\n",
    "    \n",
    "    with torch.no_grad(): # Для ускорения вычислений отключим градиенты\n",
    "        batch_embeddings = model(batch.to(device), attention_mask=attention_mask_batch.to(device))\n",
    "\n",
    "    embeddings.append(batch_embeddings[0][:,0,:].cpu().numpy())\n",
    "    \n",
    "...    \n",
    " \n",
    "```    \n",
    "\n",
    "</div>"
   ]
  },
  {
   "cell_type": "markdown",
   "metadata": {},
   "source": [
    "Теперь разделим данные на тренировочную и тестовую выборки. И не забудем про стратификацию. Тестовую отложим, а тренировочную используем для подбора гиперпараметров."
   ]
  },
  {
   "cell_type": "code",
   "execution_count": 9,
   "metadata": {
    "scrolled": true
   },
   "outputs": [],
   "source": [
    "X_train, X_test, y_train, y_test = train_test_split(\n",
    "    features, \n",
    "    ds['toxic'], \n",
    "    stratify=ds['toxic'], \n",
    "    test_size=0.2, \n",
    "    random_state=RANDOM_STATE)"
   ]
  },
  {
   "cell_type": "markdown",
   "metadata": {},
   "source": [
    "Итого, мы взяли из генеральной совокупности стратифицированную выборку, провели обработку входного текста при помощи BERT и извлекли из получившихся записей тренировочную и тестовую выборки."
   ]
  },
  {
   "cell_type": "markdown",
   "metadata": {},
   "source": [
    "## Обучение"
   ]
  },
  {
   "cell_type": "markdown",
   "metadata": {},
   "source": [
    "Для подбора гиперпараметров мы будем использовать объекты GridSearchCV. Мы потратили достаточно много времени на обработку данных, зато из-за размера получившихся выборок обучение моделей будет проходить как никогда быстро, а значит мы можем позволить себе чуть больше итераций обучения, чем обычно.\n",
    "\n",
    "В качестве метрики используем f1, она учтёт как ложноположительные, так и ложноотрицательные ответы. Начнём с чего-нибудь простого и линейного, логистическая регрессия более чем подойдёт."
   ]
  },
  {
   "cell_type": "code",
   "execution_count": 10,
   "metadata": {
    "scrolled": true
   },
   "outputs": [
    {
     "data": {
      "text/plain": [
       "0.4242063492063492"
      ]
     },
     "execution_count": 10,
     "metadata": {},
     "output_type": "execute_result"
    }
   ],
   "source": [
    "lr_params = {\n",
    "    'C':list(map(lambda x: x/10.0, range(1, 21))),\n",
    "    'solver':['lbfgs', 'liblinear', 'newton-cg']\n",
    "}\n",
    "\n",
    "lr_cv = GridSearchCV(\n",
    "    LogisticRegression(random_state=RANDOM_STATE),\n",
    "    param_grid=lr_params,\n",
    "    n_jobs=-1,\n",
    "    scoring='f1',\n",
    "    cv=StratifiedKFold(4, shuffle=True, random_state=RANDOM_STATE)\n",
    ")\n",
    "lr_cv.fit(X_train, y_train)\n",
    "lr_cv.best_score_"
   ]
  },
  {
   "cell_type": "markdown",
   "metadata": {},
   "source": [
    "<img src=\"https://upload.wikimedia.org/wikipedia/commons/b/ba/Warning_sign_4.0.png\" align=left width=44, heigth=33>\n",
    "<div class=\"alert alert-warning\">\n",
    "Не стоит перебирать гиперпараметр \"решающий алгоритм\" - solver. Из спринта \"Численые методы\" ты знаешь, что модель логистической регрессии обучается методом градиентного спуска (при этом глобальный минимум у оптимизируемой функции один). Solver может влиять на скорость сходимости, КАК будут делаться шаги градиентного спуска (длина и направление), но в любом случае если они сойдутся - то в одной точке (возможны небольшие отклонения из за округлений). \n",
    "    \n",
    "Просто подбери экспериментально пару max_iter/solver (вне кросс-валидации), а поиском по сетке подбирай что-нибудь более значимое (как раз регуляризацию).    \n",
    "</div>"
   ]
  },
  {
   "cell_type": "markdown",
   "metadata": {},
   "source": [
    "<img src=\"https://upload.wikimedia.org/wikipedia/commons/b/ba/Warning_sign_4.0.png\" align=left width=44, heigth=33>\n",
    "<div class=\"alert alert-warning\">\n",
    "Я вижу что ты уверенно работаешь с конструкциями типа map/lambda, но они достаточно тяжело читаемы. А одна из ключевых рекомедаций The Zen of Python - \"читаемость имеет значение\" и \"явное лучше неявного\".\n",
    "    \n",
    "Сравни\n",
    "    \n",
    "```python \n",
    "   \n",
    "list(map(lambda x: x/10.0, range(1, 21)))    \n",
    "    \n",
    "```   \n",
    "    \n",
    "и второй вариант:    \n",
    "```python\n",
    "   \n",
    "np.arange(0.1, 2.1, 0.1)    \n",
    "    \n",
    "```    \n",
    "    \n",
    "На мой взгляд второй вариант заметно выигрывает в читаемости. \n",
    "    \n",
    "</div>"
   ]
  },
  {
   "cell_type": "markdown",
   "metadata": {},
   "source": [
    "Не совсем то значение, на которое мы рассчитывали. Возможно лучше логистической регрессии справится классификатор к-ближайших соседей."
   ]
  },
  {
   "cell_type": "code",
   "execution_count": 11,
   "metadata": {},
   "outputs": [
    {
     "data": {
      "text/plain": [
       "0.5218885281385282"
      ]
     },
     "execution_count": 11,
     "metadata": {},
     "output_type": "execute_result"
    }
   ],
   "source": [
    "kn_params = {\n",
    "    'n_neighbors':range(1, 10),\n",
    "    'p':[1, 2]\n",
    "}\n",
    "\n",
    "kn_cv = GridSearchCV(\n",
    "    KNeighborsClassifier(),\n",
    "    param_grid=kn_params,\n",
    "    n_jobs=-1,\n",
    "    scoring='f1',\n",
    "    cv=StratifiedKFold(4, shuffle=True, random_state=RANDOM_STATE)\n",
    ")\n",
    "kn_cv.fit(X_train, y_train)\n",
    "kn_cv.best_score_"
   ]
  },
  {
   "cell_type": "markdown",
   "metadata": {},
   "source": [
    "Значение метрики действительно выросло. Попробуем также методу опорных векторов проявить себя."
   ]
  },
  {
   "cell_type": "code",
   "execution_count": 12,
   "metadata": {
    "scrolled": true
   },
   "outputs": [
    {
     "data": {
      "text/plain": [
       "0.5219298245614035"
      ]
     },
     "execution_count": 12,
     "metadata": {},
     "output_type": "execute_result"
    }
   ],
   "source": [
    "svm_params = {\n",
    "    'C':list(map(lambda x: x/10.0, range(1, 21))),\n",
    "    'kernel':['linear', 'poly', 'rbf', 'sigmoid'],\n",
    "    'degree':range(2, 6)\n",
    "}\n",
    "\n",
    "svm_cv = GridSearchCV(\n",
    "    SVC(),\n",
    "    param_grid=svm_params,\n",
    "    n_jobs=-1,\n",
    "    scoring='f1',\n",
    "    cv=StratifiedKFold(4, shuffle=True, random_state=RANDOM_STATE)\n",
    ")\n",
    "svm_cv.fit(X_train, y_train)\n",
    "svm_cv.best_score_"
   ]
  },
  {
   "cell_type": "markdown",
   "metadata": {},
   "source": [
    "Значение метрики сравнимо схожее, но всё-же выше, чем у к-ближайших соседей. Отправим модель SVC на финальное тестирование и пронаблюдаем за значением метрики на тестовых данных."
   ]
  },
  {
   "cell_type": "markdown",
   "metadata": {},
   "source": [
    "## Тестирование"
   ]
  },
  {
   "cell_type": "code",
   "execution_count": 13,
   "metadata": {},
   "outputs": [],
   "source": [
    "%matplotlib inline\n",
    "def res_pres(true, pred, name): # Функция для быстрой презентации результатов тестирования\n",
    "    print(name)\n",
    "    print('f1:', f1_score(y_test, pred).round(3))\n",
    "    ConfusionMatrixDisplay(confusion_matrix(y_test, pred)).plot(cmap=plt.cm.Purples)"
   ]
  },
  {
   "cell_type": "markdown",
   "metadata": {},
   "source": [
    "Прежде, чем мы начнём тестировать лучшую модель, обучим также модель-болванку. Она всегда будет предсказывать единицы, а значит всегда сообщать, что текст токсичен."
   ]
  },
  {
   "cell_type": "code",
   "execution_count": 14,
   "metadata": {},
   "outputs": [
    {
     "name": "stdout",
     "output_type": "stream",
     "text": [
      "Модель-болванка\n",
      "f1: 0.182\n"
     ]
    },
    {
     "data": {
      "image/png": "[encoded data removed]",
      "text/plain": [
       "<Figure size 640x480 with 2 Axes>"
      ]
     },
     "metadata": {},
     "output_type": "display_data"
    }
   ],
   "source": [
    "dummy = DummyClassifier(strategy='constant', constant=1)\n",
    "dummy.fit(X_train, y_train)\n",
    "res_pres(y_test, dummy.predict(X_test), 'Модель-болванка')"
   ]
  },
  {
   "cell_type": "markdown",
   "metadata": {},
   "source": [
    "<img src=\"https://emojigraph.org/media/apple/check-mark-button_2705.png\" align=left width=33, heigth=33>\n",
    "<div class=\"alert alert-success\">\n",
    " 👍 </div>"
   ]
  },
  {
   "cell_type": "markdown",
   "metadata": {},
   "source": [
    "Теперь, когда у нас есть с чем сравнить значение метрики, обучим лучшую модель на всей тренировочной выборке и попросим сделать предсказания для тестовых данных. Сразу-же отправим истинные и предсказанные значения для расчёта метрики f1 и вывода матрицы ошибок."
   ]
  },
  {
   "cell_type": "code",
   "execution_count": 15,
   "metadata": {},
   "outputs": [
    {
     "name": "stdout",
     "output_type": "stream",
     "text": [
      "Метод опорных векторов\n",
      "f1: 0.8\n"
     ]
    },
    {
     "data": {
      "image/png": "[encoded data removed]",
      "text/plain": [
       "<Figure size 640x480 with 2 Axes>"
      ]
     },
     "metadata": {},
     "output_type": "display_data"
    }
   ],
   "source": [
    "svm_cv.best_estimator_.fit(X_train, y_train)\n",
    "res_pres(y_test, svm_cv.best_estimator_.predict(X_test), 'Метод опорных векторов')"
   ]
  },
  {
   "cell_type": "markdown",
   "metadata": {},
   "source": [
    "<img src=\"https://emojigraph.org/media/apple/check-mark-button_2705.png\" align=left width=33, heigth=33>\n",
    "<div class=\"alert alert-success\">\n",
    "Молодец: \n",
    "    \n",
    "  - выбрана лучшая модель\n",
    "  - тестирование произведено корректно \n",
    "  - достигнута метрика f1 выше 0,75 на тестовой выборке\n",
    "</div>\n"
   ]
  },
  {
   "cell_type": "markdown",
   "metadata": {},
   "source": [
    "<img src=\"https://upload.wikimedia.org/wikipedia/commons/b/ba/Warning_sign_4.0.png\" align=left width=44, heigth=33>\n",
    "<div class=\"alert alert-warning\">\n",
    "Проходная метрика достигнута. Но должен сказать честно - похоже здесь все-таки больше элемент везения. Размер тестовой выборки небольшой и так получилось, что в ней все записи оказались \"удобными\". Но возможно с другим разбиением на  трейн и тест метрика бы  стала заметно хуже. Я перезапустил твой код на 5000 записей и метрика вышла 0,71. \n",
    "\n",
    "    \n",
    "Как правило в этом проекте очень сложно достичь проходной метрики используя \"обычные\" модели для векторизации. Даже используя весь датасет.\n",
    "        \n",
    "Но почему? Это же хваленый трансформер, про который сейчас говорят из каждого утюга.  Дело в том, что ты используешь \"обычный\" BERT, обученный на обычных текстах и похоже признаки, которые мы получаем с его помощью плохо подходят для решения нашей задачи. Можно дообучить эту модель на наших данных, но это сложно и выходит за рамки преокта.  Самый доступный выход - найти модель, уже обученную на определение токсичности. И такие модели легко находятся на HugingFace по ключевому слову toxic.  Мой лидер - unitary/toxic-bert. С этой моделью легко получается 0,9 или даже 0,95.    \n",
    "    \n",
    "\n",
    "</div>"
   ]
  },
  {
   "cell_type": "markdown",
   "metadata": {},
   "source": [
    "Значение метрики проходит по критерию успеха в 0.75 или выше. Модель допустила 2 ложноположительных и 2 ложноотрицательных ответа, однако общий результат предсказаний более чем удовлетворителен. Модель готова, и на этом наша работа заканчивается."
   ]
  },
  {
   "cell_type": "markdown",
   "metadata": {},
   "source": [
    "## Итоговый вывод"
   ]
  },
  {
   "cell_type": "markdown",
   "metadata": {},
   "source": [
    "В рамках подготовки данных, мы:\n",
    "- Провели загрузку и EDA данных\n",
    "- Выделили стратифицированную выборку из генеральной совокупности\n",
    "- Провели обработку текстового признака, создали эмбеддинги\n",
    "- Разделили готовые данные на тренировочную и тестовую выборки"
   ]
  },
  {
   "cell_type": "markdown",
   "metadata": {},
   "source": [
    "В рамках обучения моделей, мы:\n",
    "- Обучили модель логистической регрессии, к-ближайших соседей и SVC\n",
    "- Провели для каждой подбор гиперпараметров по сетке со стратифицированной кросс-валидацией\n",
    "- Выделили лучшую модель на основе метрики качества f1"
   ]
  },
  {
   "cell_type": "markdown",
   "metadata": {},
   "source": [
    "В рамках тестирования, мы:\n",
    "- Обучили модель-болванку и получили её метрику качества для проверки лучшей модели на адекватность\n",
    "- Обучили лучшую модель на всей тренировочной выборке и провели предсказания на тестовой выборке\n",
    "- Вывели метрику качества лучшей модели и матрицу ошибок"
   ]
  },
  {
   "cell_type": "markdown",
   "metadata": {},
   "source": [
    "## Чек-лист проверки"
   ]
  },
  {
   "cell_type": "markdown",
   "metadata": {},
   "source": [
    "- [x]  Jupyter Notebook открыт\n",
    "- [x]  Весь код выполняется без ошибок\n",
    "- [x]  Ячейки с кодом расположены в порядке исполнения\n",
    "- [x]  Данные загружены и подготовлены\n",
    "- [x]  Модели обучены\n",
    "- [x]  Значение метрики *F1* не меньше 0.75\n",
    "- [x]  Выводы написаны"
   ]
  },
  {
   "cell_type": "markdown",
   "metadata": {},
   "source": [
    "<img src=\"http://s3.amazonaws.com/pix.iemoji.com/images/emoji/apple/ios-12/256/waving-hand.png\" align=left width=44, heigth=44>\n",
    "<div class=\"alert alert-info\">\n",
    "<b> Заключительный комментарий</b>\n",
    "Давай подведем итоги. В целом с проектом ты справляешься - текст предобработан, извлечены признаки и обучены классификаторы. Достигнуто требуемое значение метрики f1.\n",
    "    \n",
    "  У меня нет критичных замечаний к твоей работе. Проект может быть принят уже сейчас. Возвращаю проект чтобы дать тебе возможность ознакомиться с моими комментариями, возможно у тебя возникнет желание задать вопросы или внести корректировки в проект.\n",
    "    \n",
    "     \n",
    "Жду твой проект на финальное ревью :)\n",
    "\n",
    "\n",
    "</div>"
   ]
  },
  {
   "cell_type": "markdown",
   "metadata": {},
   "source": [
    "<img src=\"http://s3.amazonaws.com/pix.iemoji.com/images/emoji/apple/ios-12/256/waving-hand.png\" align=left width=44, heigth=44>\n",
    "<div class=\"alert alert-info\">\n",
    "<b> рекомендации по доп. материалам</b>\n",
    "Если решишь погрузиться в область работы с текстами, очень советую несколько продвинутых бесплатных курсов.\n",
    "    \n",
    "   - Отличный бесплатный курс от Школы глубокого обучения МФТИ (https://stepik.org/org/dlschool), старт курса каждые пол года. Два семестра, один по основам и компьютерному зрению, второй по обработке естественного языка. Проходить нужно именно в таком порядке,т.к. почти весь современный NLP построен на нейронках.\n",
    "    \n",
    "   - \"Нейронные сети и компьютерное зрение\" от Samsung Research Russia (https://stepik.org/course/50352/syllabus). Есть также продолжение по NLP.  \n",
    "   - Трек NLP от сообщества ODS https://ods.ai/tracks/nlp-course-autumn-22\n",
    "    \n",
    "    \n",
    "А если на тебя произвели впечатление возможности ChatGPT и хочешь попробовать использовать возможности больших языковых моделей для решения своих задач, могу порекомендовать следующие курсы (первые две ссылки на английском, зато последняя подборка лекций на русском).\n",
    "    \n",
    "  - https://www.coursera.org/learn/generative-ai-with-llms  (можно прослужать бесплатно)\n",
    "  - Короткие курсы на сайте https://www.deeplearning.ai/short-courses/  Самый свежак - как писать промпты, как использовать LLM для создания собственных приложений (например как создать бота на основе ChatGPT, который будет отвечать на вопросы по внутренней документации компании).  \n",
    "  - https://www.promptingguide.ai/introduction/settings\n",
    "  - https://www.youtube.com/watch?v=l-l82uNwyu8&list=PLy6K3_Hx-udj6n1S88Vslyw2QVxSXLP2c    \n",
    "    \n",
    "    \n",
    "    \n",
    "    \n",
    "Также можно обратиться к туториалу по использованию языковых моделей на HugingFace. Обрати внимание, для больше чем половины материалов доступен перевод на русский, хотя можно читать и на языке оригинала. \n",
    "    \n",
    "  https://huggingface.co/learn/nlp-course   \n",
    " \n",
    "</div>"
   ]
  },
  {
   "cell_type": "markdown",
   "metadata": {},
   "source": []
  },
  {
   "cell_type": "code",
   "execution_count": null,
   "metadata": {},
   "outputs": [],
   "source": []
  }
 ],
 "metadata": {
  "kernelspec": {
   "display_name": "Python 3 (ipykernel)",
   "language": "python",
   "name": "python3"
  },
  "language_info": {
   "codemirror_mode": {
    "name": "ipython",
    "version": 3
   },
   "file_extension": ".py",
   "mimetype": "text/x-python",
   "name": "python",
   "nbconvert_exporter": "python",
   "pygments_lexer": "ipython3",
   "version": "3.9.19"
  },
  "toc": {
   "base_numbering": 1,
   "nav_menu": {},
   "number_sections": true,
   "sideBar": true,
   "skip_h1_title": true,
   "title_cell": "Содержание",
   "title_sidebar": "Contents",
   "toc_cell": true,
   "toc_position": {
    "height": "calc(100% - 180px)",
    "left": "10px",
    "top": "150px",
    "width": "302.391px"
   },
   "toc_section_display": true,
   "toc_window_display": false
  }
 },
 "nbformat": 4,
 "nbformat_minor": 4
}
