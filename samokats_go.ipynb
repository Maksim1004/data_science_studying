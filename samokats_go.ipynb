{
 "cells": [
  {
   "cell_type": "markdown",
   "id": "a588869b",
   "metadata": {},
   "source": [
    "# Анализ сервиса аренды самокатов"
   ]
  },
  {
   "cell_type": "markdown",
   "id": "cc194440-5e02-4a44-b394-6dbcf5fd57f6",
   "metadata": {},
   "source": [
    "**Примечание** \n",
    "\n",
    "Проект является тренировочным и выполнен в ходе обучения"
   ]
  },
  {
   "cell_type": "markdown",
   "id": "2dc1a2d4",
   "metadata": {},
   "source": [
    "Сервис аренды самокатов GoFast передал нам данные о некоторых пользователях из разных городов и их поездках. Нам необходимо подготовить данные к работе, а затем провести исследовательский и статистический анализ данных. Наша конечная задача - проверить некоторые гипотезы, которые могут помочь бизнесу вырасти.\n",
    "\n",
    "Вся работа пройдёт в 6 этапов:\n",
    "1. Загрузка и ознакомление с данными\n",
    "2. Предобработка\n",
    "3. Исследовательский анализ и визуализация отдельных параметров\n",
    "4. Объединение данных из разных датасетов\n",
    "5. Подсчёт выручки, которую принёс сервису каждый пользователь\n",
    "6. Проверка трёх нулевых гипотез"
   ]
  },
  {
   "cell_type": "markdown",
   "id": "886ff17c",
   "metadata": {},
   "source": [
    "В распоряжении мы имеем 3 датасета\n",
    "- **users_go**, содержащий информацию о пользователях, где:\n",
    " - `user_id` - Уникальный идентификатор пользователя\n",
    " - `name` - Имя пользователя\n",
    " - `age` - Возраст пользователя\n",
    " - `city` - Город проживания пользователя\n",
    " - `subscription_type` - Тип подписки, free или ultra\n",
    "\n",
    "\n",
    "- **rides_go**, содержащий информацию о поездках, где:\n",
    " - `user_id` - Идентификатор пользователя, совершившего поездку\n",
    " - `distance` - Дистанция поездки в метрах\t\n",
    " - `duration`\t- Продолжительность поездки в минутах\n",
    " - `date` - Дата совершения поездки\n",
    "\n",
    "\n",
    "- **subscriptions_go**, содержащий информацию о разных типах подписки, где:\n",
    " - `subscription_type` - Тип подписки, free или ultra\n",
    " - `minute_price` - Стоимость минуты поездки\n",
    " - `start_ride_price` - Стоимость старта поездки\n",
    " - `subscription_fee` - Помесячная стоимость подписки"
   ]
  },
  {
   "cell_type": "code",
   "execution_count": 1,
   "id": "ce9c27ff",
   "metadata": {},
   "outputs": [],
   "source": [
    "import pandas as pd # Импорт необходимых библиотек\n",
    "from IPython.display import display\n",
    "import matplotlib.pyplot as plt\n",
    "import numpy as np\n",
    "from scipy import stats as st "
   ]
  },
  {
   "cell_type": "markdown",
   "id": "81ee61c3",
   "metadata": {},
   "source": [
    "## Этап 1. Загрузка данных"
   ]
  },
  {
   "cell_type": "code",
   "execution_count": 2,
   "id": "d88041e8",
   "metadata": {},
   "outputs": [],
   "source": [
    "def dataset_info(ds, info=True):\n",
    "    display(ds.head())\n",
    "    print(f'Количество дубликатов: {ds.duplicated().sum()}')\n",
    "    print(f'Длина датасета: {len(ds)}')\n",
    "    if info: ds.info()"
   ]
  },
  {
   "cell_type": "code",
   "execution_count": 3,
   "id": "9c9db402",
   "metadata": {},
   "outputs": [
    {
     "data": {
      "text/html": [
       "<div>\n",
       "<style scoped>\n",
       "    .dataframe tbody tr th:only-of-type {\n",
       "        vertical-align: middle;\n",
       "    }\n",
       "\n",
       "    .dataframe tbody tr th {\n",
       "        vertical-align: top;\n",
       "    }\n",
       "\n",
       "    .dataframe thead th {\n",
       "        text-align: right;\n",
       "    }\n",
       "</style>\n",
       "<table border=\"1\" class=\"dataframe\">\n",
       "  <thead>\n",
       "    <tr style=\"text-align: right;\">\n",
       "      <th></th>\n",
       "      <th>user_id</th>\n",
       "      <th>name</th>\n",
       "      <th>age</th>\n",
       "      <th>city</th>\n",
       "      <th>subscription_type</th>\n",
       "    </tr>\n",
       "  </thead>\n",
       "  <tbody>\n",
       "    <tr>\n",
       "      <th>0</th>\n",
       "      <td>1</td>\n",
       "      <td>Кира</td>\n",
       "      <td>22</td>\n",
       "      <td>Тюмень</td>\n",
       "      <td>ultra</td>\n",
       "    </tr>\n",
       "    <tr>\n",
       "      <th>1</th>\n",
       "      <td>2</td>\n",
       "      <td>Станислав</td>\n",
       "      <td>31</td>\n",
       "      <td>Омск</td>\n",
       "      <td>ultra</td>\n",
       "    </tr>\n",
       "    <tr>\n",
       "      <th>2</th>\n",
       "      <td>3</td>\n",
       "      <td>Алексей</td>\n",
       "      <td>20</td>\n",
       "      <td>Москва</td>\n",
       "      <td>ultra</td>\n",
       "    </tr>\n",
       "    <tr>\n",
       "      <th>3</th>\n",
       "      <td>4</td>\n",
       "      <td>Константин</td>\n",
       "      <td>26</td>\n",
       "      <td>Ростов-на-Дону</td>\n",
       "      <td>ultra</td>\n",
       "    </tr>\n",
       "    <tr>\n",
       "      <th>4</th>\n",
       "      <td>5</td>\n",
       "      <td>Адель</td>\n",
       "      <td>28</td>\n",
       "      <td>Омск</td>\n",
       "      <td>ultra</td>\n",
       "    </tr>\n",
       "  </tbody>\n",
       "</table>\n",
       "</div>"
      ],
      "text/plain": [
       "   user_id        name  age            city subscription_type\n",
       "0        1        Кира   22          Тюмень             ultra\n",
       "1        2   Станислав   31            Омск             ultra\n",
       "2        3     Алексей   20          Москва             ultra\n",
       "3        4  Константин   26  Ростов-на-Дону             ultra\n",
       "4        5       Адель   28            Омск             ultra"
      ]
     },
     "metadata": {},
     "output_type": "display_data"
    },
    {
     "name": "stdout",
     "output_type": "stream",
     "text": [
      "Количество дубликатов: 31\n",
      "Длина датасета: 1565\n",
      "<class 'pandas.core.frame.DataFrame'>\n",
      "RangeIndex: 1565 entries, 0 to 1564\n",
      "Data columns (total 5 columns):\n",
      " #   Column             Non-Null Count  Dtype \n",
      "---  ------             --------------  ----- \n",
      " 0   user_id            1565 non-null   int64 \n",
      " 1   name               1565 non-null   object\n",
      " 2   age                1565 non-null   int64 \n",
      " 3   city               1565 non-null   object\n",
      " 4   subscription_type  1565 non-null   object\n",
      "dtypes: int64(2), object(3)\n",
      "memory usage: 61.3+ KB\n"
     ]
    }
   ],
   "source": [
    "users = pd.read_csv('datasets/users_go.csv') # Датасет с информацией о пользователях\n",
    "dataset_info(users)"
   ]
  },
  {
   "cell_type": "code",
   "execution_count": 4,
   "id": "9e8f9b75",
   "metadata": {},
   "outputs": [
    {
     "data": {
      "text/html": [
       "<div>\n",
       "<style scoped>\n",
       "    .dataframe tbody tr th:only-of-type {\n",
       "        vertical-align: middle;\n",
       "    }\n",
       "\n",
       "    .dataframe tbody tr th {\n",
       "        vertical-align: top;\n",
       "    }\n",
       "\n",
       "    .dataframe thead th {\n",
       "        text-align: right;\n",
       "    }\n",
       "</style>\n",
       "<table border=\"1\" class=\"dataframe\">\n",
       "  <thead>\n",
       "    <tr style=\"text-align: right;\">\n",
       "      <th></th>\n",
       "      <th>user_id</th>\n",
       "      <th>distance</th>\n",
       "      <th>duration</th>\n",
       "      <th>date</th>\n",
       "    </tr>\n",
       "  </thead>\n",
       "  <tbody>\n",
       "    <tr>\n",
       "      <th>0</th>\n",
       "      <td>1</td>\n",
       "      <td>4409.919140</td>\n",
       "      <td>25.599769</td>\n",
       "      <td>2021-01-01</td>\n",
       "    </tr>\n",
       "    <tr>\n",
       "      <th>1</th>\n",
       "      <td>1</td>\n",
       "      <td>2617.592153</td>\n",
       "      <td>15.816871</td>\n",
       "      <td>2021-01-18</td>\n",
       "    </tr>\n",
       "    <tr>\n",
       "      <th>2</th>\n",
       "      <td>1</td>\n",
       "      <td>754.159807</td>\n",
       "      <td>6.232113</td>\n",
       "      <td>2021-04-20</td>\n",
       "    </tr>\n",
       "    <tr>\n",
       "      <th>3</th>\n",
       "      <td>1</td>\n",
       "      <td>2694.783254</td>\n",
       "      <td>18.511000</td>\n",
       "      <td>2021-08-11</td>\n",
       "    </tr>\n",
       "    <tr>\n",
       "      <th>4</th>\n",
       "      <td>1</td>\n",
       "      <td>4028.687306</td>\n",
       "      <td>26.265803</td>\n",
       "      <td>2021-08-28</td>\n",
       "    </tr>\n",
       "  </tbody>\n",
       "</table>\n",
       "</div>"
      ],
      "text/plain": [
       "   user_id     distance   duration        date\n",
       "0        1  4409.919140  25.599769  2021-01-01\n",
       "1        1  2617.592153  15.816871  2021-01-18\n",
       "2        1   754.159807   6.232113  2021-04-20\n",
       "3        1  2694.783254  18.511000  2021-08-11\n",
       "4        1  4028.687306  26.265803  2021-08-28"
      ]
     },
     "metadata": {},
     "output_type": "display_data"
    },
    {
     "name": "stdout",
     "output_type": "stream",
     "text": [
      "Количество дубликатов: 0\n",
      "Длина датасета: 18068\n",
      "<class 'pandas.core.frame.DataFrame'>\n",
      "RangeIndex: 18068 entries, 0 to 18067\n",
      "Data columns (total 4 columns):\n",
      " #   Column    Non-Null Count  Dtype  \n",
      "---  ------    --------------  -----  \n",
      " 0   user_id   18068 non-null  int64  \n",
      " 1   distance  18068 non-null  float64\n",
      " 2   duration  18068 non-null  float64\n",
      " 3   date      18068 non-null  object \n",
      "dtypes: float64(2), int64(1), object(1)\n",
      "memory usage: 564.8+ KB\n"
     ]
    }
   ],
   "source": [
    "rides = pd.read_csv('datasets/rides_go.csv') # Датасет с информацией о поездках\n",
    "dataset_info(rides)"
   ]
  },
  {
   "cell_type": "code",
   "execution_count": 5,
   "id": "7119060c",
   "metadata": {},
   "outputs": [
    {
     "data": {
      "text/html": [
       "<div>\n",
       "<style scoped>\n",
       "    .dataframe tbody tr th:only-of-type {\n",
       "        vertical-align: middle;\n",
       "    }\n",
       "\n",
       "    .dataframe tbody tr th {\n",
       "        vertical-align: top;\n",
       "    }\n",
       "\n",
       "    .dataframe thead th {\n",
       "        text-align: right;\n",
       "    }\n",
       "</style>\n",
       "<table border=\"1\" class=\"dataframe\">\n",
       "  <thead>\n",
       "    <tr style=\"text-align: right;\">\n",
       "      <th></th>\n",
       "      <th>subscription_type</th>\n",
       "      <th>minute_price</th>\n",
       "      <th>start_ride_price</th>\n",
       "      <th>subscription_fee</th>\n",
       "    </tr>\n",
       "  </thead>\n",
       "  <tbody>\n",
       "    <tr>\n",
       "      <th>0</th>\n",
       "      <td>free</td>\n",
       "      <td>8</td>\n",
       "      <td>50</td>\n",
       "      <td>0</td>\n",
       "    </tr>\n",
       "    <tr>\n",
       "      <th>1</th>\n",
       "      <td>ultra</td>\n",
       "      <td>6</td>\n",
       "      <td>0</td>\n",
       "      <td>199</td>\n",
       "    </tr>\n",
       "  </tbody>\n",
       "</table>\n",
       "</div>"
      ],
      "text/plain": [
       "  subscription_type  minute_price  start_ride_price  subscription_fee\n",
       "0              free             8                50                 0\n",
       "1             ultra             6                 0               199"
      ]
     },
     "metadata": {},
     "output_type": "display_data"
    },
    {
     "name": "stdout",
     "output_type": "stream",
     "text": [
      "Количество дубликатов: 0\n",
      "Длина датасета: 2\n",
      "<class 'pandas.core.frame.DataFrame'>\n",
      "RangeIndex: 2 entries, 0 to 1\n",
      "Data columns (total 4 columns):\n",
      " #   Column             Non-Null Count  Dtype \n",
      "---  ------             --------------  ----- \n",
      " 0   subscription_type  2 non-null      object\n",
      " 1   minute_price       2 non-null      int64 \n",
      " 2   start_ride_price   2 non-null      int64 \n",
      " 3   subscription_fee   2 non-null      int64 \n",
      "dtypes: int64(3), object(1)\n",
      "memory usage: 192.0+ bytes\n"
     ]
    }
   ],
   "source": [
    "subs = pd.read_csv('datasets/subscriptions_go.csv') # Датасет с информацией о типах подписки\n",
    "dataset_info(subs)"
   ]
  },
  {
   "cell_type": "markdown",
   "id": "8b4599c9",
   "metadata": {},
   "source": [
    "Пропусков в данных нет, отлично. Среди пользователей есть дубликаты. И столбец date библиотека pandas посчитала за строку. Исправим всё это на этапе предобработки."
   ]
  },
  {
   "cell_type": "markdown",
   "id": "4ad255e9",
   "metadata": {},
   "source": [
    "## Этап 2. Предобработка данных"
   ]
  },
  {
   "cell_type": "markdown",
   "id": "6bfa950f",
   "metadata": {},
   "source": [
    "Начнём с даты, сохраним её в соответствующем типе datetime, а заодно проверим какие годы затрагивают записи."
   ]
  },
  {
   "cell_type": "code",
   "execution_count": 6,
   "id": "3dce697f",
   "metadata": {},
   "outputs": [
    {
     "name": "stdout",
     "output_type": "stream",
     "text": [
      "<class 'pandas.core.frame.DataFrame'>\n",
      "RangeIndex: 18068 entries, 0 to 18067\n",
      "Data columns (total 4 columns):\n",
      " #   Column    Non-Null Count  Dtype         \n",
      "---  ------    --------------  -----         \n",
      " 0   user_id   18068 non-null  int64         \n",
      " 1   distance  18068 non-null  float64       \n",
      " 2   duration  18068 non-null  float64       \n",
      " 3   date      18068 non-null  datetime64[ns]\n",
      "dtypes: datetime64[ns](1), float64(2), int64(1)\n",
      "memory usage: 564.8 KB\n"
     ]
    }
   ],
   "source": [
    "rides['date'] = pd.to_datetime(rides['date'], format='%Y-%m-%d', errors='coerce') # Перевод столбца date в соответствующий формат\n",
    "rides.info()"
   ]
  },
  {
   "cell_type": "code",
   "execution_count": 7,
   "id": "79750263",
   "metadata": {},
   "outputs": [
    {
     "data": {
      "text/plain": [
       "array([2021], dtype=int64)"
      ]
     },
     "execution_count": 7,
     "metadata": {},
     "output_type": "execute_result"
    }
   ],
   "source": [
    "rides['date'].dt.year.unique() # Уникальные значения года "
   ]
  },
  {
   "cell_type": "markdown",
   "id": "e0c241e6",
   "metadata": {},
   "source": [
    "Тип поменялся успешно, ошибок не прибавилось. Год записей только один - 2021.\n",
    "\n",
    "Далее воспользуемся новым форматом и выведем месяц в отдельный столбец для удобного доступа"
   ]
  },
  {
   "cell_type": "code",
   "execution_count": 8,
   "id": "f6f77a45",
   "metadata": {},
   "outputs": [
    {
     "data": {
      "text/html": [
       "<div>\n",
       "<style scoped>\n",
       "    .dataframe tbody tr th:only-of-type {\n",
       "        vertical-align: middle;\n",
       "    }\n",
       "\n",
       "    .dataframe tbody tr th {\n",
       "        vertical-align: top;\n",
       "    }\n",
       "\n",
       "    .dataframe thead th {\n",
       "        text-align: right;\n",
       "    }\n",
       "</style>\n",
       "<table border=\"1\" class=\"dataframe\">\n",
       "  <thead>\n",
       "    <tr style=\"text-align: right;\">\n",
       "      <th></th>\n",
       "      <th>user_id</th>\n",
       "      <th>distance</th>\n",
       "      <th>duration</th>\n",
       "      <th>date</th>\n",
       "      <th>month</th>\n",
       "    </tr>\n",
       "  </thead>\n",
       "  <tbody>\n",
       "    <tr>\n",
       "      <th>0</th>\n",
       "      <td>1</td>\n",
       "      <td>4409.919140</td>\n",
       "      <td>25.599769</td>\n",
       "      <td>2021-01-01</td>\n",
       "      <td>1</td>\n",
       "    </tr>\n",
       "    <tr>\n",
       "      <th>1</th>\n",
       "      <td>1</td>\n",
       "      <td>2617.592153</td>\n",
       "      <td>15.816871</td>\n",
       "      <td>2021-01-18</td>\n",
       "      <td>1</td>\n",
       "    </tr>\n",
       "    <tr>\n",
       "      <th>2</th>\n",
       "      <td>1</td>\n",
       "      <td>754.159807</td>\n",
       "      <td>6.232113</td>\n",
       "      <td>2021-04-20</td>\n",
       "      <td>4</td>\n",
       "    </tr>\n",
       "    <tr>\n",
       "      <th>3</th>\n",
       "      <td>1</td>\n",
       "      <td>2694.783254</td>\n",
       "      <td>18.511000</td>\n",
       "      <td>2021-08-11</td>\n",
       "      <td>8</td>\n",
       "    </tr>\n",
       "    <tr>\n",
       "      <th>4</th>\n",
       "      <td>1</td>\n",
       "      <td>4028.687306</td>\n",
       "      <td>26.265803</td>\n",
       "      <td>2021-08-28</td>\n",
       "      <td>8</td>\n",
       "    </tr>\n",
       "  </tbody>\n",
       "</table>\n",
       "</div>"
      ],
      "text/plain": [
       "   user_id     distance   duration       date  month\n",
       "0        1  4409.919140  25.599769 2021-01-01      1\n",
       "1        1  2617.592153  15.816871 2021-01-18      1\n",
       "2        1   754.159807   6.232113 2021-04-20      4\n",
       "3        1  2694.783254  18.511000 2021-08-11      8\n",
       "4        1  4028.687306  26.265803 2021-08-28      8"
      ]
     },
     "execution_count": 8,
     "metadata": {},
     "output_type": "execute_result"
    }
   ],
   "source": [
    "rides['month'] = rides['date'].dt.month # Создание нового столбца с номером месяца\n",
    "rides.head(5)"
   ]
  },
  {
   "cell_type": "markdown",
   "id": "32aee4e6",
   "metadata": {},
   "source": [
    "И, наконец, удалим дубликаты датасета users, проверим не попадаются-ли пользователи с одинаковым id, и ещё раз убедимся, что пропусков в данных нет."
   ]
  },
  {
   "cell_type": "code",
   "execution_count": 9,
   "id": "0815f460",
   "metadata": {},
   "outputs": [
    {
     "data": {
      "text/plain": [
       "0"
      ]
     },
     "execution_count": 9,
     "metadata": {},
     "output_type": "execute_result"
    }
   ],
   "source": [
    "users = users.drop_duplicates() # Сброс явных дубликатов\n",
    "users.duplicated().sum()"
   ]
  },
  {
   "cell_type": "code",
   "execution_count": 10,
   "id": "259af4f6",
   "metadata": {},
   "outputs": [
    {
     "data": {
      "text/plain": [
       "0"
      ]
     },
     "execution_count": 10,
     "metadata": {},
     "output_type": "execute_result"
    }
   ],
   "source": [
    "(users['user_id'].value_counts()>1).sum() # Подсчёт id, встречающихся более 1 раза"
   ]
  },
  {
   "cell_type": "markdown",
   "id": "79a45101",
   "metadata": {},
   "source": [
    "Все значения user_id встречаются только по одному разу. Дубликатов нет."
   ]
  },
  {
   "cell_type": "code",
   "execution_count": 11,
   "id": "520e1d6d",
   "metadata": {},
   "outputs": [
    {
     "name": "stdout",
     "output_type": "stream",
     "text": [
      "user_id              0\n",
      "name                 0\n",
      "age                  0\n",
      "city                 0\n",
      "subscription_type    0\n",
      "dtype: int64\n",
      "\n",
      "user_id     0\n",
      "distance    0\n",
      "duration    0\n",
      "date        0\n",
      "month       0\n",
      "dtype: int64\n",
      "\n",
      "subscription_type    0\n",
      "minute_price         0\n",
      "start_ride_price     0\n",
      "subscription_fee     0\n",
      "dtype: int64\n",
      "\n"
     ]
    }
   ],
   "source": [
    "for i in [users, rides, subs]: # Подсчёт количества пропусков в датасетах\n",
    "    print(i.isna().sum())\n",
    "    print()"
   ]
  },
  {
   "cell_type": "markdown",
   "id": "a8564989",
   "metadata": {},
   "source": [
    "Пропусков тоже нет. \n",
    "\n",
    "Итого мы преобразовали формат даты, вывели месяц в отдельный столбец, сбросили полные дубликаты пользователей, и убедились что в данных больше нет дубликатов или пропусков. На этом предобработка заканчивается, данные в хорошем состоянии."
   ]
  },
  {
   "cell_type": "markdown",
   "id": "f38c32d5",
   "metadata": {},
   "source": [
    "## Этап 3. Исследовательский анализ данных"
   ]
  },
  {
   "cell_type": "markdown",
   "id": "04bc8526",
   "metadata": {},
   "source": [
    "На этом этапе мы опишем и визуализируем отдельные параметры"
   ]
  },
  {
   "cell_type": "code",
   "execution_count": 12,
   "id": "e7571523",
   "metadata": {},
   "outputs": [],
   "source": [
    "def values_present(ds, title, label, bins=12): # Функция для быстрой презентации данных \n",
    "    ds.plot(kind='hist', bins=bins, title=title, grid=True) # Постройка графика\n",
    "    plt.xlabel(label) # Подпись значений\n",
    "    display(ds.describe()) # Общее описание данных"
   ]
  },
  {
   "cell_type": "markdown",
   "id": "ba561479",
   "metadata": {},
   "source": [
    "### Частота встречаемости городов"
   ]
  },
  {
   "cell_type": "code",
   "execution_count": 13,
   "id": "6b0f6db7",
   "metadata": {},
   "outputs": [
    {
     "data": {
      "image/png": "[encoded data removed]",
      "text/plain": [
       "<Figure size 640x480 with 1 Axes>"
      ]
     },
     "metadata": {},
     "output_type": "display_data"
    }
   ],
   "source": [
    "users['city'].value_counts().sort_values().plot(kind = 'barh', title='Частота встречаемости городов');\n",
    "for i, j in enumerate(users['city'].value_counts().sort_values()): # Расставление значений на графике\n",
    "    plt.text(j, i, str(j))"
   ]
  },
  {
   "cell_type": "markdown",
   "id": "c084a95f",
   "metadata": {},
   "source": [
    "Выборки распределены сравнительно равномерно. Больше всего выборка пользователей из Пятигорска, а меньше всего, к удивлению, из Москвы."
   ]
  },
  {
   "cell_type": "markdown",
   "id": "a8b14876",
   "metadata": {},
   "source": [
    "### Соотношение пользователей с подпиской и без"
   ]
  },
  {
   "cell_type": "code",
   "execution_count": 14,
   "id": "6349e4de",
   "metadata": {},
   "outputs": [
    {
     "data": {
      "text/plain": [
       "free     835\n",
       "ultra    699\n",
       "Name: subscription_type, dtype: int64"
      ]
     },
     "execution_count": 14,
     "metadata": {},
     "output_type": "execute_result"
    },
    {
     "data": {
      "image/png": "[encoded data removed]",
      "text/plain": [
       "<Figure size 640x480 with 1 Axes>"
      ]
     },
     "metadata": {},
     "output_type": "display_data"
    }
   ],
   "source": [
    "users['subscription_type'].value_counts().plot(kind='pie', autopct='%1.2f%%', labels=users['subscription_type'].value_counts().index);\n",
    "plt.title('Тип подписки');\n",
    "users['subscription_type'].value_counts()"
   ]
  },
  {
   "cell_type": "markdown",
   "id": "cca3bd71",
   "metadata": {},
   "source": [
    "Пользователей с бесплатной подпиской немного больше."
   ]
  },
  {
   "cell_type": "markdown",
   "id": "139b400b",
   "metadata": {},
   "source": [
    "### Возраст пользователей"
   ]
  },
  {
   "cell_type": "code",
   "execution_count": 15,
   "id": "946b6ee0",
   "metadata": {},
   "outputs": [
    {
     "data": {
      "text/plain": [
       "count    1534.000000\n",
       "mean       24.903520\n",
       "std         4.572367\n",
       "min        12.000000\n",
       "25%        22.000000\n",
       "50%        25.000000\n",
       "75%        28.000000\n",
       "max        43.000000\n",
       "Name: age, dtype: float64"
      ]
     },
     "metadata": {},
     "output_type": "display_data"
    },
    {
     "data": {
      "image/png": "[encoded data removed]",
      "text/plain": [
       "<Figure size 640x480 with 1 Axes>"
      ]
     },
     "metadata": {},
     "output_type": "display_data"
    }
   ],
   "source": [
    "values_present(users['age'], 'Возраст пользователей', 'Лет', 30)"
   ]
  },
  {
   "cell_type": "markdown",
   "id": "fdd9615a",
   "metadata": {},
   "source": [
    "25 лет - золотая середина, однако встречаются и пользователи младше 15, и старше 40 лет."
   ]
  },
  {
   "cell_type": "markdown",
   "id": "fff8c4bf",
   "metadata": {},
   "source": [
    "### Расстояние поездок"
   ]
  },
  {
   "cell_type": "code",
   "execution_count": 16,
   "id": "a14771ae",
   "metadata": {},
   "outputs": [
    {
     "data": {
      "text/plain": [
       "count    18068.000000\n",
       "mean      3070.659976\n",
       "std       1116.831209\n",
       "min          0.855683\n",
       "25%       2543.226360\n",
       "50%       3133.609994\n",
       "75%       3776.222735\n",
       "max       7211.007745\n",
       "Name: distance, dtype: float64"
      ]
     },
     "metadata": {},
     "output_type": "display_data"
    },
    {
     "data": {
      "image/png": "[encoded data removed]",
      "text/plain": [
       "<Figure size 640x480 with 1 Axes>"
      ]
     },
     "metadata": {},
     "output_type": "display_data"
    }
   ],
   "source": [
    "values_present(rides['distance'], 'Расстояние поездок', 'Метров', 40)"
   ]
  },
  {
   "cell_type": "markdown",
   "id": "2b08c457",
   "metadata": {},
   "source": [
    "Небольшой пик около 700 метров. Это могут быть поездки до ближайшей остановки общественного транспорта или станции метро. Чаще всего пользователи одолевают 3-3.5 километра за одну поездку."
   ]
  },
  {
   "cell_type": "markdown",
   "id": "8404ce2b",
   "metadata": {},
   "source": [
    "### Продолжительность поездок"
   ]
  },
  {
   "cell_type": "code",
   "execution_count": 17,
   "id": "b4ab8fb0",
   "metadata": {},
   "outputs": [
    {
     "data": {
      "text/plain": [
       "count    18068.000000\n",
       "mean        17.805011\n",
       "std          6.091051\n",
       "min          0.500000\n",
       "25%         13.597563\n",
       "50%         17.678395\n",
       "75%         21.724800\n",
       "max         40.823963\n",
       "Name: duration, dtype: float64"
      ]
     },
     "metadata": {},
     "output_type": "display_data"
    },
    {
     "data": {
      "image/png": "[encoded data removed]",
      "text/plain": [
       "<Figure size 640x480 with 1 Axes>"
      ]
     },
     "metadata": {},
     "output_type": "display_data"
    }
   ],
   "source": [
    "values_present(rides['duration'], 'Продолжительность поездок', 'Минут', 35) # Гистограмма длительности поездок, в минутах"
   ]
  },
  {
   "cell_type": "markdown",
   "id": "a5e5ede9",
   "metadata": {},
   "source": [
    "Подозрительный пик возле нуля, взглянем на него поближе."
   ]
  },
  {
   "cell_type": "code",
   "execution_count": 18,
   "id": "5319fe3d",
   "metadata": {},
   "outputs": [
    {
     "data": {
      "text/html": [
       "<div>\n",
       "<style scoped>\n",
       "    .dataframe tbody tr th:only-of-type {\n",
       "        vertical-align: middle;\n",
       "    }\n",
       "\n",
       "    .dataframe tbody tr th {\n",
       "        vertical-align: top;\n",
       "    }\n",
       "\n",
       "    .dataframe thead th {\n",
       "        text-align: right;\n",
       "    }\n",
       "</style>\n",
       "<table border=\"1\" class=\"dataframe\">\n",
       "  <thead>\n",
       "    <tr style=\"text-align: right;\">\n",
       "      <th></th>\n",
       "      <th>user_id</th>\n",
       "      <th>distance</th>\n",
       "      <th>duration</th>\n",
       "      <th>date</th>\n",
       "      <th>month</th>\n",
       "    </tr>\n",
       "  </thead>\n",
       "  <tbody>\n",
       "    <tr>\n",
       "      <th>6531</th>\n",
       "      <td>701</td>\n",
       "      <td>4196.445201</td>\n",
       "      <td>0.5</td>\n",
       "      <td>2021-08-31</td>\n",
       "      <td>8</td>\n",
       "    </tr>\n",
       "    <tr>\n",
       "      <th>6570</th>\n",
       "      <td>704</td>\n",
       "      <td>4830.824371</td>\n",
       "      <td>0.5</td>\n",
       "      <td>2021-10-14</td>\n",
       "      <td>10</td>\n",
       "    </tr>\n",
       "    <tr>\n",
       "      <th>6680</th>\n",
       "      <td>712</td>\n",
       "      <td>4684.004397</td>\n",
       "      <td>0.5</td>\n",
       "      <td>2021-03-04</td>\n",
       "      <td>3</td>\n",
       "    </tr>\n",
       "    <tr>\n",
       "      <th>6695</th>\n",
       "      <td>713</td>\n",
       "      <td>5215.642710</td>\n",
       "      <td>0.5</td>\n",
       "      <td>2021-02-25</td>\n",
       "      <td>2</td>\n",
       "    </tr>\n",
       "    <tr>\n",
       "      <th>6768</th>\n",
       "      <td>718</td>\n",
       "      <td>5197.436649</td>\n",
       "      <td>0.5</td>\n",
       "      <td>2021-02-11</td>\n",
       "      <td>2</td>\n",
       "    </tr>\n",
       "    <tr>\n",
       "      <th>...</th>\n",
       "      <td>...</td>\n",
       "      <td>...</td>\n",
       "      <td>...</td>\n",
       "      <td>...</td>\n",
       "      <td>...</td>\n",
       "    </tr>\n",
       "    <tr>\n",
       "      <th>17004</th>\n",
       "      <td>1460</td>\n",
       "      <td>5531.335845</td>\n",
       "      <td>0.5</td>\n",
       "      <td>2021-01-19</td>\n",
       "      <td>1</td>\n",
       "    </tr>\n",
       "    <tr>\n",
       "      <th>17242</th>\n",
       "      <td>1477</td>\n",
       "      <td>6724.932981</td>\n",
       "      <td>0.5</td>\n",
       "      <td>2021-01-12</td>\n",
       "      <td>1</td>\n",
       "    </tr>\n",
       "    <tr>\n",
       "      <th>17314</th>\n",
       "      <td>1483</td>\n",
       "      <td>4445.481070</td>\n",
       "      <td>0.5</td>\n",
       "      <td>2021-03-06</td>\n",
       "      <td>3</td>\n",
       "    </tr>\n",
       "    <tr>\n",
       "      <th>17505</th>\n",
       "      <td>1496</td>\n",
       "      <td>5722.551787</td>\n",
       "      <td>0.5</td>\n",
       "      <td>2021-02-14</td>\n",
       "      <td>2</td>\n",
       "    </tr>\n",
       "    <tr>\n",
       "      <th>17909</th>\n",
       "      <td>1524</td>\n",
       "      <td>4103.998874</td>\n",
       "      <td>0.5</td>\n",
       "      <td>2021-06-18</td>\n",
       "      <td>6</td>\n",
       "    </tr>\n",
       "  </tbody>\n",
       "</table>\n",
       "<p>95 rows × 5 columns</p>\n",
       "</div>"
      ],
      "text/plain": [
       "       user_id     distance  duration       date  month\n",
       "6531       701  4196.445201       0.5 2021-08-31      8\n",
       "6570       704  4830.824371       0.5 2021-10-14     10\n",
       "6680       712  4684.004397       0.5 2021-03-04      3\n",
       "6695       713  5215.642710       0.5 2021-02-25      2\n",
       "6768       718  5197.436649       0.5 2021-02-11      2\n",
       "...        ...          ...       ...        ...    ...\n",
       "17004     1460  5531.335845       0.5 2021-01-19      1\n",
       "17242     1477  6724.932981       0.5 2021-01-12      1\n",
       "17314     1483  4445.481070       0.5 2021-03-06      3\n",
       "17505     1496  5722.551787       0.5 2021-02-14      2\n",
       "17909     1524  4103.998874       0.5 2021-06-18      6\n",
       "\n",
       "[95 rows x 5 columns]"
      ]
     },
     "execution_count": 18,
     "metadata": {},
     "output_type": "execute_result"
    },
    {
     "data": {
      "image/png": "[encoded data removed]",
      "text/plain": [
       "<Figure size 640x480 with 1 Axes>"
      ]
     },
     "metadata": {},
     "output_type": "display_data"
    }
   ],
   "source": [
    "rides['duration'].hist(range=(0, 3), bins=15); # Гистограмма участка значений от 0 до 3\n",
    "rides[rides['duration'] < 1.5] # Все записи, где длительность меньше 1.5"
   ]
  },
  {
   "cell_type": "markdown",
   "id": "580e34ef",
   "metadata": {},
   "source": [
    "95 записей с одинаковым значением продолжительности, равным 0.5. Это может быть как стандартное значение, назначаемое в случае ошибки, так и особенность заполнения данных, например связанная с проведением акций. Записей не настолько много, чтобы они испортили результат исследований, поэтому пока оставим их нетронутыми, но было-бы неплохо уточнить у сотрудников, ответственных за систему регистрации данных, с чем может быть связан этот всплеск."
   ]
  },
  {
   "cell_type": "markdown",
   "id": "0c92d541",
   "metadata": {},
   "source": [
    "Чаще всего поездка длится 10-25 минут. "
   ]
  },
  {
   "cell_type": "markdown",
   "id": "1134d5ed",
   "metadata": {},
   "source": [
    "## Этап 4. Объединение данных"
   ]
  },
  {
   "cell_type": "markdown",
   "id": "f72ada21",
   "metadata": {},
   "source": [
    "### Формирование общего датасета"
   ]
  },
  {
   "cell_type": "markdown",
   "id": "419b0323",
   "metadata": {},
   "source": [
    "Для начала объединим все данные в одну таблицу."
   ]
  },
  {
   "cell_type": "code",
   "execution_count": 19,
   "id": "587649c5",
   "metadata": {},
   "outputs": [
    {
     "data": {
      "text/html": [
       "<div>\n",
       "<style scoped>\n",
       "    .dataframe tbody tr th:only-of-type {\n",
       "        vertical-align: middle;\n",
       "    }\n",
       "\n",
       "    .dataframe tbody tr th {\n",
       "        vertical-align: top;\n",
       "    }\n",
       "\n",
       "    .dataframe thead th {\n",
       "        text-align: right;\n",
       "    }\n",
       "</style>\n",
       "<table border=\"1\" class=\"dataframe\">\n",
       "  <thead>\n",
       "    <tr style=\"text-align: right;\">\n",
       "      <th></th>\n",
       "      <th>user_id</th>\n",
       "      <th>distance</th>\n",
       "      <th>duration</th>\n",
       "      <th>date</th>\n",
       "      <th>month</th>\n",
       "      <th>name</th>\n",
       "      <th>age</th>\n",
       "      <th>city</th>\n",
       "      <th>subscription_type</th>\n",
       "      <th>minute_price</th>\n",
       "      <th>start_ride_price</th>\n",
       "      <th>subscription_fee</th>\n",
       "    </tr>\n",
       "  </thead>\n",
       "  <tbody>\n",
       "    <tr>\n",
       "      <th>0</th>\n",
       "      <td>1</td>\n",
       "      <td>4409.919140</td>\n",
       "      <td>25.599769</td>\n",
       "      <td>2021-01-01</td>\n",
       "      <td>1</td>\n",
       "      <td>Кира</td>\n",
       "      <td>22</td>\n",
       "      <td>Тюмень</td>\n",
       "      <td>ultra</td>\n",
       "      <td>6</td>\n",
       "      <td>0</td>\n",
       "      <td>199</td>\n",
       "    </tr>\n",
       "    <tr>\n",
       "      <th>1</th>\n",
       "      <td>1</td>\n",
       "      <td>2617.592153</td>\n",
       "      <td>15.816871</td>\n",
       "      <td>2021-01-18</td>\n",
       "      <td>1</td>\n",
       "      <td>Кира</td>\n",
       "      <td>22</td>\n",
       "      <td>Тюмень</td>\n",
       "      <td>ultra</td>\n",
       "      <td>6</td>\n",
       "      <td>0</td>\n",
       "      <td>199</td>\n",
       "    </tr>\n",
       "    <tr>\n",
       "      <th>2</th>\n",
       "      <td>1</td>\n",
       "      <td>754.159807</td>\n",
       "      <td>6.232113</td>\n",
       "      <td>2021-04-20</td>\n",
       "      <td>4</td>\n",
       "      <td>Кира</td>\n",
       "      <td>22</td>\n",
       "      <td>Тюмень</td>\n",
       "      <td>ultra</td>\n",
       "      <td>6</td>\n",
       "      <td>0</td>\n",
       "      <td>199</td>\n",
       "    </tr>\n",
       "    <tr>\n",
       "      <th>3</th>\n",
       "      <td>1</td>\n",
       "      <td>2694.783254</td>\n",
       "      <td>18.511000</td>\n",
       "      <td>2021-08-11</td>\n",
       "      <td>8</td>\n",
       "      <td>Кира</td>\n",
       "      <td>22</td>\n",
       "      <td>Тюмень</td>\n",
       "      <td>ultra</td>\n",
       "      <td>6</td>\n",
       "      <td>0</td>\n",
       "      <td>199</td>\n",
       "    </tr>\n",
       "    <tr>\n",
       "      <th>4</th>\n",
       "      <td>1</td>\n",
       "      <td>4028.687306</td>\n",
       "      <td>26.265803</td>\n",
       "      <td>2021-08-28</td>\n",
       "      <td>8</td>\n",
       "      <td>Кира</td>\n",
       "      <td>22</td>\n",
       "      <td>Тюмень</td>\n",
       "      <td>ultra</td>\n",
       "      <td>6</td>\n",
       "      <td>0</td>\n",
       "      <td>199</td>\n",
       "    </tr>\n",
       "  </tbody>\n",
       "</table>\n",
       "</div>"
      ],
      "text/plain": [
       "   user_id     distance   duration       date  month  name  age    city  \\\n",
       "0        1  4409.919140  25.599769 2021-01-01      1  Кира   22  Тюмень   \n",
       "1        1  2617.592153  15.816871 2021-01-18      1  Кира   22  Тюмень   \n",
       "2        1   754.159807   6.232113 2021-04-20      4  Кира   22  Тюмень   \n",
       "3        1  2694.783254  18.511000 2021-08-11      8  Кира   22  Тюмень   \n",
       "4        1  4028.687306  26.265803 2021-08-28      8  Кира   22  Тюмень   \n",
       "\n",
       "  subscription_type  minute_price  start_ride_price  subscription_fee  \n",
       "0             ultra             6                 0               199  \n",
       "1             ultra             6                 0               199  \n",
       "2             ultra             6                 0               199  \n",
       "3             ultra             6                 0               199  \n",
       "4             ultra             6                 0               199  "
      ]
     },
     "metadata": {},
     "output_type": "display_data"
    },
    {
     "name": "stdout",
     "output_type": "stream",
     "text": [
      "Количество дубликатов: 0\n",
      "Длина датасета: 18068\n",
      "<class 'pandas.core.frame.DataFrame'>\n",
      "Int64Index: 18068 entries, 0 to 18067\n",
      "Data columns (total 12 columns):\n",
      " #   Column             Non-Null Count  Dtype         \n",
      "---  ------             --------------  -----         \n",
      " 0   user_id            18068 non-null  int64         \n",
      " 1   distance           18068 non-null  float64       \n",
      " 2   duration           18068 non-null  float64       \n",
      " 3   date               18068 non-null  datetime64[ns]\n",
      " 4   month              18068 non-null  int64         \n",
      " 5   name               18068 non-null  object        \n",
      " 6   age                18068 non-null  int64         \n",
      " 7   city               18068 non-null  object        \n",
      " 8   subscription_type  18068 non-null  object        \n",
      " 9   minute_price       18068 non-null  int64         \n",
      " 10  start_ride_price   18068 non-null  int64         \n",
      " 11  subscription_fee   18068 non-null  int64         \n",
      "dtypes: datetime64[ns](1), float64(2), int64(6), object(3)\n",
      "memory usage: 1.8+ MB\n"
     ]
    }
   ],
   "source": [
    "ds_full = rides.merge(users, on='user_id') # Объединение датасетов с поездками и пользователями, по user_id\n",
    "ds_full = ds_full.merge(subs, on='subscription_type') # Объединение общего датасета с данными о типах подписки\n",
    "dataset_info(ds_full)"
   ]
  },
  {
   "cell_type": "markdown",
   "id": "86876af9",
   "metadata": {},
   "source": [
    "### Создание раздельных таблиц для типов подписки"
   ]
  },
  {
   "cell_type": "markdown",
   "id": "cbad52c5",
   "metadata": {},
   "source": [
    "Теперь разделим все данные на две категории - пользователи с подпиской и пользователи без подписки."
   ]
  },
  {
   "cell_type": "code",
   "execution_count": 20,
   "id": "a9ba5e76",
   "metadata": {},
   "outputs": [
    {
     "data": {
      "text/html": [
       "<div>\n",
       "<style scoped>\n",
       "    .dataframe tbody tr th:only-of-type {\n",
       "        vertical-align: middle;\n",
       "    }\n",
       "\n",
       "    .dataframe tbody tr th {\n",
       "        vertical-align: top;\n",
       "    }\n",
       "\n",
       "    .dataframe thead th {\n",
       "        text-align: right;\n",
       "    }\n",
       "</style>\n",
       "<table border=\"1\" class=\"dataframe\">\n",
       "  <thead>\n",
       "    <tr style=\"text-align: right;\">\n",
       "      <th></th>\n",
       "      <th>user_id</th>\n",
       "      <th>distance</th>\n",
       "      <th>duration</th>\n",
       "      <th>date</th>\n",
       "      <th>month</th>\n",
       "      <th>name</th>\n",
       "      <th>age</th>\n",
       "      <th>city</th>\n",
       "      <th>subscription_type</th>\n",
       "      <th>minute_price</th>\n",
       "      <th>start_ride_price</th>\n",
       "      <th>subscription_fee</th>\n",
       "    </tr>\n",
       "  </thead>\n",
       "  <tbody>\n",
       "    <tr>\n",
       "      <th>6500</th>\n",
       "      <td>700</td>\n",
       "      <td>2515.690719</td>\n",
       "      <td>14.944286</td>\n",
       "      <td>2021-01-02</td>\n",
       "      <td>1</td>\n",
       "      <td>Айдар</td>\n",
       "      <td>22</td>\n",
       "      <td>Омск</td>\n",
       "      <td>free</td>\n",
       "      <td>8</td>\n",
       "      <td>50</td>\n",
       "      <td>0</td>\n",
       "    </tr>\n",
       "    <tr>\n",
       "      <th>6501</th>\n",
       "      <td>700</td>\n",
       "      <td>846.932642</td>\n",
       "      <td>16.234663</td>\n",
       "      <td>2021-02-01</td>\n",
       "      <td>2</td>\n",
       "      <td>Айдар</td>\n",
       "      <td>22</td>\n",
       "      <td>Омск</td>\n",
       "      <td>free</td>\n",
       "      <td>8</td>\n",
       "      <td>50</td>\n",
       "      <td>0</td>\n",
       "    </tr>\n",
       "    <tr>\n",
       "      <th>6502</th>\n",
       "      <td>700</td>\n",
       "      <td>4004.434142</td>\n",
       "      <td>20.016628</td>\n",
       "      <td>2021-02-04</td>\n",
       "      <td>2</td>\n",
       "      <td>Айдар</td>\n",
       "      <td>22</td>\n",
       "      <td>Омск</td>\n",
       "      <td>free</td>\n",
       "      <td>8</td>\n",
       "      <td>50</td>\n",
       "      <td>0</td>\n",
       "    </tr>\n",
       "    <tr>\n",
       "      <th>6503</th>\n",
       "      <td>700</td>\n",
       "      <td>1205.911290</td>\n",
       "      <td>9.782872</td>\n",
       "      <td>2021-02-10</td>\n",
       "      <td>2</td>\n",
       "      <td>Айдар</td>\n",
       "      <td>22</td>\n",
       "      <td>Омск</td>\n",
       "      <td>free</td>\n",
       "      <td>8</td>\n",
       "      <td>50</td>\n",
       "      <td>0</td>\n",
       "    </tr>\n",
       "    <tr>\n",
       "      <th>6504</th>\n",
       "      <td>700</td>\n",
       "      <td>3047.379435</td>\n",
       "      <td>17.427673</td>\n",
       "      <td>2021-02-14</td>\n",
       "      <td>2</td>\n",
       "      <td>Айдар</td>\n",
       "      <td>22</td>\n",
       "      <td>Омск</td>\n",
       "      <td>free</td>\n",
       "      <td>8</td>\n",
       "      <td>50</td>\n",
       "      <td>0</td>\n",
       "    </tr>\n",
       "  </tbody>\n",
       "</table>\n",
       "</div>"
      ],
      "text/plain": [
       "      user_id     distance   duration       date  month   name  age  city  \\\n",
       "6500      700  2515.690719  14.944286 2021-01-02      1  Айдар   22  Омск   \n",
       "6501      700   846.932642  16.234663 2021-02-01      2  Айдар   22  Омск   \n",
       "6502      700  4004.434142  20.016628 2021-02-04      2  Айдар   22  Омск   \n",
       "6503      700  1205.911290   9.782872 2021-02-10      2  Айдар   22  Омск   \n",
       "6504      700  3047.379435  17.427673 2021-02-14      2  Айдар   22  Омск   \n",
       "\n",
       "     subscription_type  minute_price  start_ride_price  subscription_fee  \n",
       "6500              free             8                50                 0  \n",
       "6501              free             8                50                 0  \n",
       "6502              free             8                50                 0  \n",
       "6503              free             8                50                 0  \n",
       "6504              free             8                50                 0  "
      ]
     },
     "metadata": {},
     "output_type": "display_data"
    },
    {
     "name": "stdout",
     "output_type": "stream",
     "text": [
      "Количество дубликатов: 0\n",
      "Длина датасета: 11568\n"
     ]
    }
   ],
   "source": [
    "ds_free = ds_full[ds_full['subscription_type'] == 'free'] # Создание датасета только с пользователями без подписки\n",
    "dataset_info(ds_free, False)"
   ]
  },
  {
   "cell_type": "code",
   "execution_count": 21,
   "id": "dd7f1439",
   "metadata": {},
   "outputs": [
    {
     "data": {
      "text/html": [
       "<div>\n",
       "<style scoped>\n",
       "    .dataframe tbody tr th:only-of-type {\n",
       "        vertical-align: middle;\n",
       "    }\n",
       "\n",
       "    .dataframe tbody tr th {\n",
       "        vertical-align: top;\n",
       "    }\n",
       "\n",
       "    .dataframe thead th {\n",
       "        text-align: right;\n",
       "    }\n",
       "</style>\n",
       "<table border=\"1\" class=\"dataframe\">\n",
       "  <thead>\n",
       "    <tr style=\"text-align: right;\">\n",
       "      <th></th>\n",
       "      <th>user_id</th>\n",
       "      <th>distance</th>\n",
       "      <th>duration</th>\n",
       "      <th>date</th>\n",
       "      <th>month</th>\n",
       "      <th>name</th>\n",
       "      <th>age</th>\n",
       "      <th>city</th>\n",
       "      <th>subscription_type</th>\n",
       "      <th>minute_price</th>\n",
       "      <th>start_ride_price</th>\n",
       "      <th>subscription_fee</th>\n",
       "    </tr>\n",
       "  </thead>\n",
       "  <tbody>\n",
       "    <tr>\n",
       "      <th>0</th>\n",
       "      <td>1</td>\n",
       "      <td>4409.919140</td>\n",
       "      <td>25.599769</td>\n",
       "      <td>2021-01-01</td>\n",
       "      <td>1</td>\n",
       "      <td>Кира</td>\n",
       "      <td>22</td>\n",
       "      <td>Тюмень</td>\n",
       "      <td>ultra</td>\n",
       "      <td>6</td>\n",
       "      <td>0</td>\n",
       "      <td>199</td>\n",
       "    </tr>\n",
       "    <tr>\n",
       "      <th>1</th>\n",
       "      <td>1</td>\n",
       "      <td>2617.592153</td>\n",
       "      <td>15.816871</td>\n",
       "      <td>2021-01-18</td>\n",
       "      <td>1</td>\n",
       "      <td>Кира</td>\n",
       "      <td>22</td>\n",
       "      <td>Тюмень</td>\n",
       "      <td>ultra</td>\n",
       "      <td>6</td>\n",
       "      <td>0</td>\n",
       "      <td>199</td>\n",
       "    </tr>\n",
       "    <tr>\n",
       "      <th>2</th>\n",
       "      <td>1</td>\n",
       "      <td>754.159807</td>\n",
       "      <td>6.232113</td>\n",
       "      <td>2021-04-20</td>\n",
       "      <td>4</td>\n",
       "      <td>Кира</td>\n",
       "      <td>22</td>\n",
       "      <td>Тюмень</td>\n",
       "      <td>ultra</td>\n",
       "      <td>6</td>\n",
       "      <td>0</td>\n",
       "      <td>199</td>\n",
       "    </tr>\n",
       "    <tr>\n",
       "      <th>3</th>\n",
       "      <td>1</td>\n",
       "      <td>2694.783254</td>\n",
       "      <td>18.511000</td>\n",
       "      <td>2021-08-11</td>\n",
       "      <td>8</td>\n",
       "      <td>Кира</td>\n",
       "      <td>22</td>\n",
       "      <td>Тюмень</td>\n",
       "      <td>ultra</td>\n",
       "      <td>6</td>\n",
       "      <td>0</td>\n",
       "      <td>199</td>\n",
       "    </tr>\n",
       "    <tr>\n",
       "      <th>4</th>\n",
       "      <td>1</td>\n",
       "      <td>4028.687306</td>\n",
       "      <td>26.265803</td>\n",
       "      <td>2021-08-28</td>\n",
       "      <td>8</td>\n",
       "      <td>Кира</td>\n",
       "      <td>22</td>\n",
       "      <td>Тюмень</td>\n",
       "      <td>ultra</td>\n",
       "      <td>6</td>\n",
       "      <td>0</td>\n",
       "      <td>199</td>\n",
       "    </tr>\n",
       "  </tbody>\n",
       "</table>\n",
       "</div>"
      ],
      "text/plain": [
       "   user_id     distance   duration       date  month  name  age    city  \\\n",
       "0        1  4409.919140  25.599769 2021-01-01      1  Кира   22  Тюмень   \n",
       "1        1  2617.592153  15.816871 2021-01-18      1  Кира   22  Тюмень   \n",
       "2        1   754.159807   6.232113 2021-04-20      4  Кира   22  Тюмень   \n",
       "3        1  2694.783254  18.511000 2021-08-11      8  Кира   22  Тюмень   \n",
       "4        1  4028.687306  26.265803 2021-08-28      8  Кира   22  Тюмень   \n",
       "\n",
       "  subscription_type  minute_price  start_ride_price  subscription_fee  \n",
       "0             ultra             6                 0               199  \n",
       "1             ultra             6                 0               199  \n",
       "2             ultra             6                 0               199  \n",
       "3             ultra             6                 0               199  \n",
       "4             ultra             6                 0               199  "
      ]
     },
     "metadata": {},
     "output_type": "display_data"
    },
    {
     "name": "stdout",
     "output_type": "stream",
     "text": [
      "Количество дубликатов: 0\n",
      "Длина датасета: 6500\n"
     ]
    }
   ],
   "source": [
    "ds_ultra = ds_full[ds_full['subscription_type'] == 'ultra'] # Создаиние датасета только с пользователями с подпиской\n",
    "dataset_info(ds_ultra, False)"
   ]
  },
  {
   "cell_type": "markdown",
   "id": "85d7404f",
   "metadata": {},
   "source": [
    "### Визуализация расстояния и времени поездок для разных типов подписок"
   ]
  },
  {
   "cell_type": "code",
   "execution_count": 22,
   "id": "0acdd9d6",
   "metadata": {},
   "outputs": [],
   "source": [
    "def min_mean_max(text1, ds1): # Функция для быстрого описания данных. p.s. я знаю о describe(), но там слишком много ненужной информации\n",
    "    print(f'{text1} Минимальное: {ds1.min().round(1)}, Среднее: {ds1.mean().round(1)}, Максимальное: {ds1.max().round(1)}')"
   ]
  },
  {
   "cell_type": "markdown",
   "id": "c91985b6",
   "metadata": {},
   "source": [
    "Последовательно визуализируем и то и другое"
   ]
  },
  {
   "cell_type": "code",
   "execution_count": 23,
   "id": "fd15d298",
   "metadata": {},
   "outputs": [
    {
     "name": "stdout",
     "output_type": "stream",
     "text": [
      "Дистанция поездок пользователей без подписки. Минимальное: 0.9, Среднее: 3045.5, Максимальное: 7211.0\n",
      "Дистанция поездок пользователей с подпиской. Минимальное: 244.2, Среднее: 3115.4, Максимальное: 5699.8\n"
     ]
    },
    {
     "data": {
      "image/png": "[encoded data removed]",
      "text/plain": [
       "<Figure size 640x480 with 1 Axes>"
      ]
     },
     "metadata": {},
     "output_type": "display_data"
    }
   ],
   "source": [
    "ds_free['distance'].plot(ax=ds_ultra['distance'].plot(kind = 'hist', grid=True, legend=True, label='ultra', alpha=0.7, bins=32), kind = 'hist', grid=True, legend=True, label='free', alpha=0.3, bins=32); \n",
    "plt.title('Дистанция поездок пользователей с подпиской и без')\n",
    "plt.xlabel('Метров')\n",
    "# Совместная гистограмма дистанции поездок для пользователей с подпиской и без, метров\n",
    "min_mean_max('Дистанция поездок пользователей без подписки.', ds_free['distance'])\n",
    "min_mean_max('Дистанция поездок пользователей с подпиской.', ds_ultra['distance'])"
   ]
  },
  {
   "cell_type": "markdown",
   "id": "fc83c8e1",
   "metadata": {},
   "source": [
    "Данных о поездках пользователей без подписки в целом больше. При этом они чаще совершают короткие поездки менее километра, и из-за этого средняя дистанция пользователей без подписки меньше, чем у пользователей с подпиской. У обоих типов пользователей существует небольшой пик около 700-1000 метров. При этом самые часто встречающиеся значения дистанции у пользователей без подпискки распределены почти равномерно от ~2200 метров и до ~3500, а у пользователей с подпиской ярко выраженный пик на ~3000 метров. Можно сказать, что пользователи без подписки чаще ездят на разные дистанции."
   ]
  },
  {
   "cell_type": "code",
   "execution_count": 24,
   "id": "f95dce57",
   "metadata": {},
   "outputs": [
    {
     "name": "stdout",
     "output_type": "stream",
     "text": [
      "Время поездок пользователей без подписки. Минимальное: 0.5, Среднее: 17.4, Максимальное: 34.9\n",
      "Время поездок пользователей с подпиской. Минимальное: 3.8, Среднее: 18.5, Максимальное: 40.8\n"
     ]
    },
    {
     "data": {
      "image/png": "[encoded data removed]",
      "text/plain": [
       "<Figure size 640x480 with 1 Axes>"
      ]
     },
     "metadata": {},
     "output_type": "display_data"
    }
   ],
   "source": [
    "ds_free['duration'].plot(ax=ds_ultra['duration'].plot(kind = 'hist', grid=True, legend=True, label='ultra', alpha=0.7, bins=18), kind = 'hist', grid=True, legend=True, label='free', alpha=0.3, bins=18);\n",
    "plt.title('Время поездок пользователей с подпиской и без')\n",
    "plt.xlabel('Минут')\n",
    "# Совместная гистограмма времени поездок для пользователей с подпиской и без, минут\n",
    "min_mean_max('Время поездок пользователей без подписки.', ds_free['duration'])\n",
    "min_mean_max('Время поездок пользователей с подпиской.', ds_ultra['duration'])"
   ]
  },
  {
   "cell_type": "markdown",
   "id": "031168f2",
   "metadata": {},
   "source": [
    "Точно так-же как и на предыдущем графике, данных о поездках пользоветелей без подписки больше. При этом пользователи с подпиской почти никогда не совершают поездки короче 4 минут, и в среднем их поездки длятся на 1 минуту больше."
   ]
  },
  {
   "cell_type": "markdown",
   "id": "1c5b27bf",
   "metadata": {},
   "source": [
    "## Этап 5. Подсчёт выручки"
   ]
  },
  {
   "cell_type": "markdown",
   "id": "dd3602d7",
   "metadata": {},
   "source": [
    "Теперь подсчитаем, сколько выручки каждый пользователь принёс сервису за разные месяцы. Для этого создадим сводную таблицу со всеми необходимыми данными и с их помощью проведём вычисления."
   ]
  },
  {
   "cell_type": "code",
   "execution_count": 25,
   "id": "679f8876",
   "metadata": {},
   "outputs": [
    {
     "data": {
      "text/html": [
       "<div>\n",
       "<style scoped>\n",
       "    .dataframe tbody tr th:only-of-type {\n",
       "        vertical-align: middle;\n",
       "    }\n",
       "\n",
       "    .dataframe tbody tr th {\n",
       "        vertical-align: top;\n",
       "    }\n",
       "\n",
       "    .dataframe thead th {\n",
       "        text-align: right;\n",
       "    }\n",
       "</style>\n",
       "<table border=\"1\" class=\"dataframe\">\n",
       "  <thead>\n",
       "    <tr style=\"text-align: right;\">\n",
       "      <th></th>\n",
       "      <th></th>\n",
       "      <th>count</th>\n",
       "      <th>distance</th>\n",
       "      <th>duration</th>\n",
       "      <th>minute_price</th>\n",
       "      <th>start_ride_price</th>\n",
       "      <th>subscription_fee</th>\n",
       "      <th>subscription_type</th>\n",
       "      <th>revenue</th>\n",
       "    </tr>\n",
       "    <tr>\n",
       "      <th>user_id</th>\n",
       "      <th>month</th>\n",
       "      <th></th>\n",
       "      <th></th>\n",
       "      <th></th>\n",
       "      <th></th>\n",
       "      <th></th>\n",
       "      <th></th>\n",
       "      <th></th>\n",
       "      <th></th>\n",
       "    </tr>\n",
       "  </thead>\n",
       "  <tbody>\n",
       "    <tr>\n",
       "      <th rowspan=\"6\" valign=\"top\">1</th>\n",
       "      <th>1</th>\n",
       "      <td>2</td>\n",
       "      <td>7027.511294</td>\n",
       "      <td>42</td>\n",
       "      <td>6</td>\n",
       "      <td>0</td>\n",
       "      <td>199</td>\n",
       "      <td>ultra</td>\n",
       "      <td>451</td>\n",
       "    </tr>\n",
       "    <tr>\n",
       "      <th>4</th>\n",
       "      <td>1</td>\n",
       "      <td>754.159807</td>\n",
       "      <td>7</td>\n",
       "      <td>6</td>\n",
       "      <td>0</td>\n",
       "      <td>199</td>\n",
       "      <td>ultra</td>\n",
       "      <td>241</td>\n",
       "    </tr>\n",
       "    <tr>\n",
       "      <th>8</th>\n",
       "      <td>2</td>\n",
       "      <td>6723.470560</td>\n",
       "      <td>46</td>\n",
       "      <td>6</td>\n",
       "      <td>0</td>\n",
       "      <td>199</td>\n",
       "      <td>ultra</td>\n",
       "      <td>475</td>\n",
       "    </tr>\n",
       "    <tr>\n",
       "      <th>10</th>\n",
       "      <td>2</td>\n",
       "      <td>5809.911100</td>\n",
       "      <td>32</td>\n",
       "      <td>6</td>\n",
       "      <td>0</td>\n",
       "      <td>199</td>\n",
       "      <td>ultra</td>\n",
       "      <td>391</td>\n",
       "    </tr>\n",
       "    <tr>\n",
       "      <th>11</th>\n",
       "      <td>3</td>\n",
       "      <td>7003.499363</td>\n",
       "      <td>56</td>\n",
       "      <td>6</td>\n",
       "      <td>0</td>\n",
       "      <td>199</td>\n",
       "      <td>ultra</td>\n",
       "      <td>535</td>\n",
       "    </tr>\n",
       "    <tr>\n",
       "      <th>12</th>\n",
       "      <td>2</td>\n",
       "      <td>6751.629942</td>\n",
       "      <td>28</td>\n",
       "      <td>6</td>\n",
       "      <td>0</td>\n",
       "      <td>199</td>\n",
       "      <td>ultra</td>\n",
       "      <td>367</td>\n",
       "    </tr>\n",
       "    <tr>\n",
       "      <th rowspan=\"7\" valign=\"top\">2</th>\n",
       "      <th>3</th>\n",
       "      <td>3</td>\n",
       "      <td>10187.723006</td>\n",
       "      <td>63</td>\n",
       "      <td>6</td>\n",
       "      <td>0</td>\n",
       "      <td>199</td>\n",
       "      <td>ultra</td>\n",
       "      <td>577</td>\n",
       "    </tr>\n",
       "    <tr>\n",
       "      <th>4</th>\n",
       "      <td>2</td>\n",
       "      <td>6164.381824</td>\n",
       "      <td>40</td>\n",
       "      <td>6</td>\n",
       "      <td>0</td>\n",
       "      <td>199</td>\n",
       "      <td>ultra</td>\n",
       "      <td>439</td>\n",
       "    </tr>\n",
       "    <tr>\n",
       "      <th>6</th>\n",
       "      <td>1</td>\n",
       "      <td>3255.338202</td>\n",
       "      <td>14</td>\n",
       "      <td>6</td>\n",
       "      <td>0</td>\n",
       "      <td>199</td>\n",
       "      <td>ultra</td>\n",
       "      <td>283</td>\n",
       "    </tr>\n",
       "    <tr>\n",
       "      <th>7</th>\n",
       "      <td>2</td>\n",
       "      <td>6780.722964</td>\n",
       "      <td>48</td>\n",
       "      <td>6</td>\n",
       "      <td>0</td>\n",
       "      <td>199</td>\n",
       "      <td>ultra</td>\n",
       "      <td>487</td>\n",
       "    </tr>\n",
       "    <tr>\n",
       "      <th>8</th>\n",
       "      <td>1</td>\n",
       "      <td>923.007439</td>\n",
       "      <td>7</td>\n",
       "      <td>6</td>\n",
       "      <td>0</td>\n",
       "      <td>199</td>\n",
       "      <td>ultra</td>\n",
       "      <td>241</td>\n",
       "    </tr>\n",
       "    <tr>\n",
       "      <th>10</th>\n",
       "      <td>1</td>\n",
       "      <td>2824.636598</td>\n",
       "      <td>19</td>\n",
       "      <td>6</td>\n",
       "      <td>0</td>\n",
       "      <td>199</td>\n",
       "      <td>ultra</td>\n",
       "      <td>313</td>\n",
       "    </tr>\n",
       "    <tr>\n",
       "      <th>12</th>\n",
       "      <td>1</td>\n",
       "      <td>3828.248580</td>\n",
       "      <td>12</td>\n",
       "      <td>6</td>\n",
       "      <td>0</td>\n",
       "      <td>199</td>\n",
       "      <td>ultra</td>\n",
       "      <td>271</td>\n",
       "    </tr>\n",
       "    <tr>\n",
       "      <th rowspan=\"2\" valign=\"top\">3</th>\n",
       "      <th>1</th>\n",
       "      <td>1</td>\n",
       "      <td>3061.777147</td>\n",
       "      <td>13</td>\n",
       "      <td>6</td>\n",
       "      <td>0</td>\n",
       "      <td>199</td>\n",
       "      <td>ultra</td>\n",
       "      <td>277</td>\n",
       "    </tr>\n",
       "    <tr>\n",
       "      <th>2</th>\n",
       "      <td>2</td>\n",
       "      <td>5421.152016</td>\n",
       "      <td>39</td>\n",
       "      <td>6</td>\n",
       "      <td>0</td>\n",
       "      <td>199</td>\n",
       "      <td>ultra</td>\n",
       "      <td>433</td>\n",
       "    </tr>\n",
       "  </tbody>\n",
       "</table>\n",
       "</div>"
      ],
      "text/plain": [
       "               count      distance  duration  minute_price  start_ride_price  \\\n",
       "user_id month                                                                  \n",
       "1       1          2   7027.511294        42             6                 0   \n",
       "        4          1    754.159807         7             6                 0   \n",
       "        8          2   6723.470560        46             6                 0   \n",
       "        10         2   5809.911100        32             6                 0   \n",
       "        11         3   7003.499363        56             6                 0   \n",
       "        12         2   6751.629942        28             6                 0   \n",
       "2       3          3  10187.723006        63             6                 0   \n",
       "        4          2   6164.381824        40             6                 0   \n",
       "        6          1   3255.338202        14             6                 0   \n",
       "        7          2   6780.722964        48             6                 0   \n",
       "        8          1    923.007439         7             6                 0   \n",
       "        10         1   2824.636598        19             6                 0   \n",
       "        12         1   3828.248580        12             6                 0   \n",
       "3       1          1   3061.777147        13             6                 0   \n",
       "        2          2   5421.152016        39             6                 0   \n",
       "\n",
       "               subscription_fee subscription_type  revenue  \n",
       "user_id month                                               \n",
       "1       1                   199             ultra      451  \n",
       "        4                   199             ultra      241  \n",
       "        8                   199             ultra      475  \n",
       "        10                  199             ultra      391  \n",
       "        11                  199             ultra      535  \n",
       "        12                  199             ultra      367  \n",
       "2       3                   199             ultra      577  \n",
       "        4                   199             ultra      439  \n",
       "        6                   199             ultra      283  \n",
       "        7                   199             ultra      487  \n",
       "        8                   199             ultra      241  \n",
       "        10                  199             ultra      313  \n",
       "        12                  199             ultra      271  \n",
       "3       1                   199             ultra      277  \n",
       "        2                   199             ultra      433  "
      ]
     },
     "execution_count": 25,
     "metadata": {},
     "output_type": "execute_result"
    }
   ],
   "source": [
    "revenue_pivot = ds_full; revenue_pivot['count'] = 1 # Временный столбец для удобного подсчёта количества поездок\n",
    "revenue_pivot['duration'] = np.ceil(revenue_pivot['duration']).astype('int')\n",
    "revenue_pivot = revenue_pivot.pivot_table(index=['user_id', 'month'], values=['count', 'duration', 'distance'], aggfunc='sum').merge(ds_full.pivot_table(index=['user_id', 'month'], values=['minute_price', 'start_ride_price', 'subscription_fee', 'subscription_type'], aggfunc='first'), on=['user_id', 'month']) # Объединение двух сводных таблиц, одна с суммой количества, дистанции и времени, другая с первым встреченным значением стоимости минуты, начала поездки и стоимости подписки. Все данные сгруппированы для каждого пользователя по месяцам\n",
    "revenue_pivot['revenue'] = revenue_pivot['subscription_fee']+revenue_pivot['start_ride_price']*revenue_pivot['count']+revenue_pivot['minute_price']*revenue_pivot['duration'] # Подсчёт выручки по месяцам для каждого пользователя. Считается как (стоимость подписки + стоимость начала поездки*количество поездок + стоимость минуты*время поездок)\n",
    "revenue_pivot.head(15)"
   ]
  },
  {
   "cell_type": "markdown",
   "id": "383c02f3",
   "metadata": {},
   "source": [
    "Выручка посчитана. Теперь у нас есть всё необходимое для проверки гипотез."
   ]
  },
  {
   "cell_type": "markdown",
   "id": "abfdc6ef",
   "metadata": {},
   "source": [
    "## Этап 6. Проверка гипотез"
   ]
  },
  {
   "cell_type": "markdown",
   "id": "f233d84c",
   "metadata": {},
   "source": [
    "На этом этапе мы будем выдвигать разные нулевые гипотезы, а после отвергать их, или не отвергать, в пользу альтернативных."
   ]
  },
  {
   "cell_type": "code",
   "execution_count": 26,
   "id": "9a77a14d",
   "metadata": {},
   "outputs": [],
   "source": [
    "alpha = .05 # Уровень статистической значимости 5%"
   ]
  },
  {
   "cell_type": "code",
   "execution_count": 27,
   "id": "8ad5c8f8",
   "metadata": {},
   "outputs": [],
   "source": [
    "def pvalue_check(ttest, arr1, arr2): # Функция для презентации результатов t-тестов\n",
    "    print(f'pvalue:{ttest.pvalue}\\nСреднее первой выборки: {arr1.mean().round(1)}')\n",
    "    if type(arr2) == type(arr1): \n",
    "        print(f'Среднее второй выборки: {arr2.mean().round(1)}')\n",
    "    else:\n",
    "        print(f'Предполагаемое среднее: {arr2}')\n",
    "    if ttest.pvalue<alpha:\n",
    "        print('Нулевая гипотеза отвергается')\n",
    "    else:\n",
    "        print('Нулевая гипотеза не может быть опровергнута')"
   ]
  },
  {
   "cell_type": "markdown",
   "id": "2d336863",
   "metadata": {},
   "source": [
    "### Среднее время поездки"
   ]
  },
  {
   "cell_type": "markdown",
   "id": "295af496",
   "metadata": {},
   "source": [
    "Нулевая гипотеза - Среднее время, затраченное на поездки пользователями с подпиской, равно среднему времени, затраченному на поездки пользователями без подписки."
   ]
  },
  {
   "cell_type": "markdown",
   "id": "a33bf953",
   "metadata": {},
   "source": [
    "Альтернативная гипотеза - Среднее время, затраченное на поездки пользователями с подпиской, больше, чем среднее время, затраченное на поездки пользователями без подписки."
   ]
  },
  {
   "cell_type": "code",
   "execution_count": 28,
   "id": "dcf6b938",
   "metadata": {},
   "outputs": [
    {
     "name": "stdout",
     "output_type": "stream",
     "text": [
      "pvalue:5.675781377128977e-37\n",
      "Среднее первой выборки: 18.5\n",
      "Среднее второй выборки: 17.4\n",
      "Нулевая гипотеза отвергается\n"
     ]
    }
   ],
   "source": [
    "pvalue_check(st.ttest_ind(ds_ultra['duration'], ds_free['duration'], equal_var=False, alternative='greater'), ds_ultra['duration'], ds_free['duration'])\n",
    "# правосторонний ttest для независимых выборок, первая - пользователи с подпиской, вторая - пользователи без подписки."
   ]
  },
  {
   "cell_type": "markdown",
   "id": "8739d8bf",
   "metadata": {},
   "source": [
    "Наблюдаемое значение слишком далеко от ожидаемого. Есть основания полагать, что пользователи с подпиской тратят на поездки больше времени."
   ]
  },
  {
   "cell_type": "markdown",
   "id": "c1315b64",
   "metadata": {},
   "source": [
    "### Среднее расстояние одной поездки пользователей с подпиской"
   ]
  },
  {
   "cell_type": "markdown",
   "id": "166cdbf6",
   "metadata": {},
   "source": [
    "Нулевая гипотеза - Среднее расстояние, которое пользователи с подпиской проезжают за одну поездку равно 3130 метрам"
   ]
  },
  {
   "cell_type": "markdown",
   "id": "d5cfb9b4",
   "metadata": {},
   "source": [
    "Альтернативная гипотеза - Среднее расстояние, которое пользователи с подпиской проезжают за одну поездку больше, чем 3130 метров"
   ]
  },
  {
   "cell_type": "code",
   "execution_count": 29,
   "id": "15c7b2c9",
   "metadata": {},
   "outputs": [
    {
     "name": "stdout",
     "output_type": "stream",
     "text": [
      "pvalue:0.9195368847849785\n",
      "Среднее первой выборки: 3115.4\n",
      "Предполагаемое среднее: 3130\n",
      "Нулевая гипотеза не может быть опровергнута\n"
     ]
    }
   ],
   "source": [
    "pvalue_check(st.ttest_1samp(ds_ultra['distance'], 3130, alternative='greater'), ds_ultra['distance'], 3130) # правосторонний ttest для одиночной выборки с предполагаемым средним"
   ]
  },
  {
   "cell_type": "markdown",
   "id": "8520ea48",
   "metadata": {},
   "source": [
    "Вероятность случайному значению из выборки попасть в диапазон предполагаемого среднего слишком велика, чтобы отвергать гипотезу. Можно сказать, что среднее расстояние одной поездки пользователей с подпиской не превышает 3130 метров."
   ]
  },
  {
   "cell_type": "markdown",
   "id": "ed78c451",
   "metadata": {},
   "source": [
    "### Помесячная выручка от пользователей с подпиской по месяцам равна выручке от пользователей без подписки"
   ]
  },
  {
   "cell_type": "markdown",
   "id": "ab24f8cf",
   "metadata": {},
   "source": [
    "Нулевая гипотеза - Средняя помесячная выручка от пользователей с подпиской равна средней помесячной выручке от пользователей без подписки."
   ]
  },
  {
   "cell_type": "markdown",
   "id": "306d8842",
   "metadata": {},
   "source": [
    "Альтернативная гипотеза - Средняя помесячная выручка от пользователей с подпиской выше, чем средняя помесячная выручка от пользователей без подписки"
   ]
  },
  {
   "cell_type": "code",
   "execution_count": 30,
   "id": "c17bb211",
   "metadata": {},
   "outputs": [
    {
     "name": "stdout",
     "output_type": "stream",
     "text": [
      "pvalue:8.874140893976874e-40\n",
      "Среднее первой выборки: 362.8\n",
      "Среднее второй выборки: 328.6\n",
      "Нулевая гипотеза отвергается\n"
     ]
    }
   ],
   "source": [
    "pvalue_check(st.ttest_ind(revenue_pivot.loc[revenue_pivot['subscription_type'] == 'ultra', 'revenue'], revenue_pivot.loc[revenue_pivot['subscription_type'] == 'free', 'revenue'], equal_var=False, alternative='greater'), revenue_pivot.loc[revenue_pivot['subscription_type'] == 'ultra', 'revenue'], revenue_pivot.loc[revenue_pivot['subscription_type'] == 'free', 'revenue']) \n",
    "# независимый правосторонний ttest для помесячной выручки. Первая выборка - пользователи с подпиской, вторая - пользователи без подписки"
   ]
  },
  {
   "cell_type": "markdown",
   "id": "ccc5e906",
   "metadata": {},
   "source": [
    "Если считать, что выборка репрезентативна - мы можем отвергнуть нулевую гипотезу в пользу альтернативной, и полагать что среднестатистический пользователь с подпиской за месяц приносит сервису б**о**льшую выручку, чем среднестатистический пользователь без подписки."
   ]
  },
  {
   "cell_type": "markdown",
   "id": "941a0f20",
   "metadata": {},
   "source": [
    "## Общий вывод"
   ]
  },
  {
   "cell_type": "markdown",
   "id": "0ae7aa29",
   "metadata": {},
   "source": [
    "**Предобработка**\n",
    "\n",
    "В рамках предобработки:\n",
    "- Была приведена дата к соответствующему типу\n",
    "- Дубликаты в записях о пользователях были удалены\n",
    "- Была выполнена проверка на пропущенные значения\n",
    "\n",
    "В целом, можно сказать, что данные в хорошем состоянии."
   ]
  },
  {
   "cell_type": "markdown",
   "id": "2c3ab824",
   "metadata": {},
   "source": [
    "**Исследовательский анализ**\n",
    "\n",
    "Была визуализирована информация о:\n",
    "- Частоте встречаемости городов - Самая большая выборка из Пятигорска, самая маленькая - из Москвы\n",
    "- Количестве пользователей с подпиской и без - Пользователей без подписки в выборке немного больше `54.5%:45.5%`\n",
    "- Возрасте пользователей - Абсолютное большинство пользователей находятся в возрасте от 20 до 30 лет. А чаще всего встречается возраст 25 лет.\n",
    "- Расстоянии поездок - Чаще всего поездки совершаются на ~3000 метров. При этом умеренно часто встречаются поездки менее 1500 метров.\n",
    "- Продолжительности поездок - Чаще всего встречаются значения от 10 до 25 минут\n",
    "\n",
    "В рамках группировки данных были раздельно визуализированы следующие показатели пользователей с подпиской и без:\n",
    "- Дистанция поездок - Пользователи без подписки чаще ездят на короткие дистанции менее километра, чем пользователи с подпиской. При этом записей о поездках пользователей без подписки гораздо больше, чем о поездках пользователей с подпиской. Настолько, что в разницу между выборками в 5% это уже не укладывается. Видимо пользователи без подписки в целом совершают больше поездок.\n",
    "- Время поездок - Точно так-же записей о пользователях без подписки больше, при этом оба пика находятся на приблизительно одинаковых значениях в 15-20 минут. \n",
    "\n",
    "Также были обнаружены и заменены медианой аномальные значения продолжительности поездок."
   ]
  },
  {
   "cell_type": "markdown",
   "id": "7aecd012",
   "metadata": {},
   "source": [
    "**Статистический анализ**\n",
    "\n",
    "Были последовательно проверены 3 нулевые гипотезы:\n",
    "1. Пользователи с подпиской и без подписки тратят на поездки одинаковое количество времени\n",
    " - Гипотеза была опровергнута, пользователи с подпиской тратят больше времени на поездки.\n",
    "2. Среднее расстояние, которое проезжают пользователи с подпиской за одну поездку, равно 3130 метрам\n",
    " - Гипотезу не удалось опровергнуть\n",
    "3. Помесячная выручка от пользователей с подпиской по месяцам равна выручке от пользователей без подписки\n",
    " - Гипотеза была опровергнута, выручка от пользователей с подпиской больше."
   ]
  },
  {
   "cell_type": "markdown",
   "id": "c30665e7",
   "metadata": {},
   "source": [
    "**Рекомендации заказчику**\n",
    "\n",
    "- Определить причину возникновения дубликатов в данных о пользователях.\n",
    "- Определить причину возникновения аномальных значений в данных о продолжительности поездок (95 записей со значением 0.5)\n",
    "- Направить усилия на увеличение числа пользователей с подпиской. Результаты статистического анализа показали, что среднестатистический пользователь с подпиской в среднем в месяц приносит больше выручки, чем среднестатистический пользователь без подписки."
   ]
  }
 ],
 "metadata": {
  "ExecuteTimeLog": [
   {
    "duration": 426,
    "start_time": "2024-03-12T03:21:40.620Z"
   },
   {
    "duration": 3,
    "start_time": "2024-03-12T03:21:44.606Z"
   },
   {
    "duration": 3,
    "start_time": "2024-03-12T03:22:45.007Z"
   },
   {
    "duration": 109,
    "start_time": "2024-03-12T03:22:45.644Z"
   },
   {
    "duration": 184,
    "start_time": "2024-03-12T03:22:49.392Z"
   },
   {
    "duration": 82,
    "start_time": "2024-03-12T03:22:51.700Z"
   },
   {
    "duration": 3,
    "start_time": "2024-03-12T03:25:35.901Z"
   },
   {
    "duration": 43,
    "start_time": "2024-03-12T03:25:36.432Z"
   },
   {
    "duration": 4,
    "start_time": "2024-03-12T03:25:43.727Z"
   },
   {
    "duration": 43,
    "start_time": "2024-03-12T03:25:44.156Z"
   },
   {
    "duration": 50,
    "start_time": "2024-03-12T03:25:45.039Z"
   },
   {
    "duration": 41,
    "start_time": "2024-03-12T03:25:45.660Z"
   },
   {
    "duration": 3,
    "start_time": "2024-03-12T03:26:13.211Z"
   },
   {
    "duration": 7,
    "start_time": "2024-03-12T03:26:13.216Z"
   },
   {
    "duration": 43,
    "start_time": "2024-03-12T03:26:13.224Z"
   },
   {
    "duration": 44,
    "start_time": "2024-03-12T03:26:13.268Z"
   },
   {
    "duration": 26,
    "start_time": "2024-03-12T03:26:13.315Z"
   },
   {
    "duration": 7,
    "start_time": "2024-03-12T03:36:36.431Z"
   },
   {
    "duration": 63,
    "start_time": "2024-03-12T03:36:45.821Z"
   },
   {
    "duration": 25,
    "start_time": "2024-03-12T03:40:34.768Z"
   },
   {
    "duration": 22,
    "start_time": "2024-03-12T03:40:49.104Z"
   },
   {
    "duration": 5,
    "start_time": "2024-03-12T03:42:41.096Z"
   },
   {
    "duration": 9,
    "start_time": "2024-03-12T03:42:49.465Z"
   },
   {
    "duration": 11,
    "start_time": "2024-03-12T03:42:56.517Z"
   },
   {
    "duration": 11,
    "start_time": "2024-03-12T03:43:00.053Z"
   },
   {
    "duration": 11,
    "start_time": "2024-03-12T03:43:19.124Z"
   },
   {
    "duration": 10,
    "start_time": "2024-03-12T03:44:35.597Z"
   },
   {
    "duration": 8,
    "start_time": "2024-03-12T03:45:21.293Z"
   },
   {
    "duration": 8,
    "start_time": "2024-03-12T03:45:35.822Z"
   },
   {
    "duration": 1750,
    "start_time": "2024-03-12T03:47:28.312Z"
   },
   {
    "duration": 5,
    "start_time": "2024-03-12T03:47:40.713Z"
   },
   {
    "duration": 1595,
    "start_time": "2024-03-12T03:49:14.718Z"
   },
   {
    "duration": 6,
    "start_time": "2024-03-12T03:49:19.228Z"
   },
   {
    "duration": 7,
    "start_time": "2024-03-12T03:49:40.348Z"
   },
   {
    "duration": 6,
    "start_time": "2024-03-12T03:49:43.878Z"
   },
   {
    "duration": 5,
    "start_time": "2024-03-12T03:49:47.508Z"
   },
   {
    "duration": 7,
    "start_time": "2024-03-12T03:49:52.707Z"
   },
   {
    "duration": 7,
    "start_time": "2024-03-12T03:50:06.042Z"
   },
   {
    "duration": 7,
    "start_time": "2024-03-12T03:50:12.018Z"
   },
   {
    "duration": 6,
    "start_time": "2024-03-12T03:50:15.251Z"
   },
   {
    "duration": 10,
    "start_time": "2024-03-12T03:51:26.583Z"
   },
   {
    "duration": 5,
    "start_time": "2024-03-12T03:51:36.475Z"
   },
   {
    "duration": 6,
    "start_time": "2024-03-12T03:51:48.772Z"
   },
   {
    "duration": 6,
    "start_time": "2024-03-12T03:51:51.067Z"
   },
   {
    "duration": 6,
    "start_time": "2024-03-12T03:57:22.172Z"
   },
   {
    "duration": 525,
    "start_time": "2024-03-12T03:58:12.842Z"
   },
   {
    "duration": 3,
    "start_time": "2024-03-12T04:03:54.878Z"
   },
   {
    "duration": 170,
    "start_time": "2024-03-12T04:04:29.960Z"
   },
   {
    "duration": 77,
    "start_time": "2024-03-12T04:05:21.941Z"
   },
   {
    "duration": 165,
    "start_time": "2024-03-12T04:07:00.254Z"
   },
   {
    "duration": 148,
    "start_time": "2024-03-12T04:07:35.432Z"
   },
   {
    "duration": 136,
    "start_time": "2024-03-12T04:09:42.613Z"
   },
   {
    "duration": 129,
    "start_time": "2024-03-12T04:10:12.776Z"
   },
   {
    "duration": 104,
    "start_time": "2024-03-12T04:11:25.528Z"
   },
   {
    "duration": 141,
    "start_time": "2024-03-12T04:13:48.986Z"
   },
   {
    "duration": 4,
    "start_time": "2024-03-12T04:17:26.314Z"
   },
   {
    "duration": 127,
    "start_time": "2024-03-12T04:17:27.568Z"
   },
   {
    "duration": 4,
    "start_time": "2024-03-12T04:18:02.573Z"
   },
   {
    "duration": 120,
    "start_time": "2024-03-12T04:18:03.122Z"
   },
   {
    "duration": 76,
    "start_time": "2024-03-12T04:18:05.797Z"
   },
   {
    "duration": 97,
    "start_time": "2024-03-12T04:29:05.958Z"
   },
   {
    "duration": 111,
    "start_time": "2024-03-12T04:29:29.679Z"
   },
   {
    "duration": 209,
    "start_time": "2024-03-12T04:29:41.925Z"
   },
   {
    "duration": 159,
    "start_time": "2024-03-12T04:29:45.933Z"
   },
   {
    "duration": 4,
    "start_time": "2024-03-12T04:32:07.332Z"
   },
   {
    "duration": 108,
    "start_time": "2024-03-12T04:32:08.137Z"
   },
   {
    "duration": 79,
    "start_time": "2024-03-12T04:32:10.155Z"
   },
   {
    "duration": 3,
    "start_time": "2024-03-12T04:32:57.268Z"
   },
   {
    "duration": 107,
    "start_time": "2024-03-12T04:32:57.834Z"
   },
   {
    "duration": 72,
    "start_time": "2024-03-12T04:32:59.345Z"
   },
   {
    "duration": 4,
    "start_time": "2024-03-12T04:33:29.256Z"
   },
   {
    "duration": 126,
    "start_time": "2024-03-12T04:33:29.739Z"
   },
   {
    "duration": 72,
    "start_time": "2024-03-12T04:33:30.838Z"
   },
   {
    "duration": 162,
    "start_time": "2024-03-12T04:33:31.958Z"
   },
   {
    "duration": 159,
    "start_time": "2024-03-12T04:33:49.051Z"
   },
   {
    "duration": 3,
    "start_time": "2024-03-12T04:33:57.033Z"
   },
   {
    "duration": 117,
    "start_time": "2024-03-12T04:33:57.556Z"
   },
   {
    "duration": 155,
    "start_time": "2024-03-12T04:33:59.755Z"
   },
   {
    "duration": 138,
    "start_time": "2024-03-12T04:34:01.374Z"
   },
   {
    "duration": 137,
    "start_time": "2024-03-12T04:34:02.915Z"
   },
   {
    "duration": 129,
    "start_time": "2024-03-12T04:34:04.267Z"
   },
   {
    "duration": 10,
    "start_time": "2024-03-12T04:37:26.857Z"
   },
   {
    "duration": 23,
    "start_time": "2024-03-12T04:37:32.562Z"
   },
   {
    "duration": 22,
    "start_time": "2024-03-12T04:37:38.064Z"
   },
   {
    "duration": 27,
    "start_time": "2024-03-12T04:38:36.126Z"
   },
   {
    "duration": 98,
    "start_time": "2024-03-12T04:38:58.325Z"
   },
   {
    "duration": 34,
    "start_time": "2024-03-12T04:39:02.719Z"
   },
   {
    "duration": 25,
    "start_time": "2024-03-12T04:39:20.251Z"
   },
   {
    "duration": 3,
    "start_time": "2024-03-12T04:39:26.996Z"
   },
   {
    "duration": 46,
    "start_time": "2024-03-12T04:39:27.352Z"
   },
   {
    "duration": 47,
    "start_time": "2024-03-12T04:39:28.010Z"
   },
   {
    "duration": 40,
    "start_time": "2024-03-12T04:39:28.424Z"
   },
   {
    "duration": 16,
    "start_time": "2024-03-12T04:39:30.293Z"
   },
   {
    "duration": 12,
    "start_time": "2024-03-12T04:39:31.023Z"
   },
   {
    "duration": 8,
    "start_time": "2024-03-12T04:39:31.655Z"
   },
   {
    "duration": 5,
    "start_time": "2024-03-12T04:39:31.961Z"
   },
   {
    "duration": 9,
    "start_time": "2024-03-12T04:39:32.614Z"
   },
   {
    "duration": 3,
    "start_time": "2024-03-12T04:39:33.658Z"
   },
   {
    "duration": 107,
    "start_time": "2024-03-12T04:39:34.113Z"
   },
   {
    "duration": 70,
    "start_time": "2024-03-12T04:39:34.886Z"
   },
   {
    "duration": 138,
    "start_time": "2024-03-12T04:39:35.678Z"
   },
   {
    "duration": 139,
    "start_time": "2024-03-12T04:39:36.328Z"
   },
   {
    "duration": 137,
    "start_time": "2024-03-12T04:39:36.976Z"
   },
   {
    "duration": 26,
    "start_time": "2024-03-12T04:39:37.624Z"
   },
   {
    "duration": 29,
    "start_time": "2024-03-12T04:40:58.637Z"
   },
   {
    "duration": 42,
    "start_time": "2024-03-12T04:41:18.550Z"
   },
   {
    "duration": 44,
    "start_time": "2024-03-12T04:42:12.990Z"
   },
   {
    "duration": 3,
    "start_time": "2024-03-12T04:44:24.840Z"
   },
   {
    "duration": 10,
    "start_time": "2024-03-12T04:44:24.845Z"
   },
   {
    "duration": 43,
    "start_time": "2024-03-12T04:44:24.857Z"
   },
   {
    "duration": 47,
    "start_time": "2024-03-12T04:44:24.902Z"
   },
   {
    "duration": 28,
    "start_time": "2024-03-12T04:44:24.952Z"
   },
   {
    "duration": 22,
    "start_time": "2024-03-12T04:44:24.982Z"
   },
   {
    "duration": 12,
    "start_time": "2024-03-12T04:44:25.005Z"
   },
   {
    "duration": 9,
    "start_time": "2024-03-12T04:44:25.019Z"
   },
   {
    "duration": 17,
    "start_time": "2024-03-12T04:44:25.030Z"
   },
   {
    "duration": 29,
    "start_time": "2024-03-12T04:44:25.049Z"
   },
   {
    "duration": 13,
    "start_time": "2024-03-12T04:44:25.080Z"
   },
   {
    "duration": 133,
    "start_time": "2024-03-12T04:44:25.095Z"
   },
   {
    "duration": 82,
    "start_time": "2024-03-12T04:44:25.230Z"
   },
   {
    "duration": 214,
    "start_time": "2024-03-12T04:44:25.315Z"
   },
   {
    "duration": 148,
    "start_time": "2024-03-12T04:44:25.531Z"
   },
   {
    "duration": 149,
    "start_time": "2024-03-12T04:44:25.680Z"
   },
   {
    "duration": 45,
    "start_time": "2024-03-12T04:44:25.831Z"
   },
   {
    "duration": 33,
    "start_time": "2024-03-12T04:44:25.891Z"
   },
   {
    "duration": 28,
    "start_time": "2024-03-12T04:44:25.926Z"
   },
   {
    "duration": 3,
    "start_time": "2024-03-12T04:45:04.892Z"
   },
   {
    "duration": 42,
    "start_time": "2024-03-12T04:45:05.235Z"
   },
   {
    "duration": 3,
    "start_time": "2024-03-12T04:45:08.495Z"
   },
   {
    "duration": 9,
    "start_time": "2024-03-12T04:45:08.501Z"
   },
   {
    "duration": 53,
    "start_time": "2024-03-12T04:45:08.512Z"
   },
   {
    "duration": 45,
    "start_time": "2024-03-12T04:45:08.567Z"
   },
   {
    "duration": 27,
    "start_time": "2024-03-12T04:45:08.614Z"
   },
   {
    "duration": 14,
    "start_time": "2024-03-12T04:45:08.642Z"
   },
   {
    "duration": 12,
    "start_time": "2024-03-12T04:45:08.658Z"
   },
   {
    "duration": 21,
    "start_time": "2024-03-12T04:45:08.672Z"
   },
   {
    "duration": 6,
    "start_time": "2024-03-12T04:45:08.695Z"
   },
   {
    "duration": 31,
    "start_time": "2024-03-12T04:45:08.703Z"
   },
   {
    "duration": 10,
    "start_time": "2024-03-12T04:45:08.736Z"
   },
   {
    "duration": 113,
    "start_time": "2024-03-12T04:45:08.748Z"
   },
   {
    "duration": 78,
    "start_time": "2024-03-12T04:45:08.862Z"
   },
   {
    "duration": 150,
    "start_time": "2024-03-12T04:45:08.943Z"
   },
   {
    "duration": 147,
    "start_time": "2024-03-12T04:45:09.094Z"
   },
   {
    "duration": 151,
    "start_time": "2024-03-12T04:45:09.243Z"
   },
   {
    "duration": 46,
    "start_time": "2024-03-12T04:45:09.395Z"
   },
   {
    "duration": 49,
    "start_time": "2024-03-12T04:45:09.442Z"
   },
   {
    "duration": 29,
    "start_time": "2024-03-12T04:45:09.493Z"
   },
   {
    "duration": 4,
    "start_time": "2024-03-12T04:46:06.545Z"
   },
   {
    "duration": 42,
    "start_time": "2024-03-12T04:46:07.020Z"
   },
   {
    "duration": 4,
    "start_time": "2024-03-12T04:46:20.393Z"
   },
   {
    "duration": 9,
    "start_time": "2024-03-12T04:46:20.399Z"
   },
   {
    "duration": 45,
    "start_time": "2024-03-12T04:46:20.410Z"
   },
   {
    "duration": 47,
    "start_time": "2024-03-12T04:46:20.456Z"
   },
   {
    "duration": 28,
    "start_time": "2024-03-12T04:46:20.506Z"
   },
   {
    "duration": 14,
    "start_time": "2024-03-12T04:46:20.535Z"
   },
   {
    "duration": 17,
    "start_time": "2024-03-12T04:46:20.551Z"
   },
   {
    "duration": 22,
    "start_time": "2024-03-12T04:46:20.569Z"
   },
   {
    "duration": 7,
    "start_time": "2024-03-12T04:46:20.593Z"
   },
   {
    "duration": 31,
    "start_time": "2024-03-12T04:46:20.602Z"
   },
   {
    "duration": 8,
    "start_time": "2024-03-12T04:46:20.635Z"
   },
   {
    "duration": 140,
    "start_time": "2024-03-12T04:46:20.645Z"
   },
   {
    "duration": 71,
    "start_time": "2024-03-12T04:46:20.786Z"
   },
   {
    "duration": 153,
    "start_time": "2024-03-12T04:46:20.859Z"
   },
   {
    "duration": 258,
    "start_time": "2024-03-12T04:46:21.014Z"
   },
   {
    "duration": 155,
    "start_time": "2024-03-12T04:46:21.274Z"
   },
   {
    "duration": 61,
    "start_time": "2024-03-12T04:46:21.431Z"
   },
   {
    "duration": 26,
    "start_time": "2024-03-12T04:46:21.494Z"
   },
   {
    "duration": 23,
    "start_time": "2024-03-12T04:46:21.522Z"
   },
   {
    "duration": 23,
    "start_time": "2024-03-12T04:48:09.797Z"
   },
   {
    "duration": 136,
    "start_time": "2024-03-12T04:51:43.616Z"
   },
   {
    "duration": 143,
    "start_time": "2024-03-12T04:51:54.345Z"
   },
   {
    "duration": 140,
    "start_time": "2024-03-12T04:52:13.803Z"
   },
   {
    "duration": 168,
    "start_time": "2024-03-12T04:52:27.364Z"
   },
   {
    "duration": 191,
    "start_time": "2024-03-12T04:52:52.340Z"
   },
   {
    "duration": 3,
    "start_time": "2024-03-12T04:54:01.772Z"
   },
   {
    "duration": 126,
    "start_time": "2024-03-12T04:54:39.979Z"
   },
   {
    "duration": 211,
    "start_time": "2024-03-12T04:54:56.243Z"
   },
   {
    "duration": 19,
    "start_time": "2024-03-12T04:57:20.037Z"
   },
   {
    "duration": 228,
    "start_time": "2024-03-12T04:59:59.753Z"
   },
   {
    "duration": 222,
    "start_time": "2024-03-12T05:00:22.459Z"
   },
   {
    "duration": 262,
    "start_time": "2024-03-12T05:00:33.537Z"
   },
   {
    "duration": 190,
    "start_time": "2024-03-12T05:01:01.619Z"
   },
   {
    "duration": 195,
    "start_time": "2024-03-12T05:01:16.534Z"
   },
   {
    "duration": 214,
    "start_time": "2024-03-12T05:01:24.743Z"
   },
   {
    "duration": 213,
    "start_time": "2024-03-12T05:01:28.714Z"
   },
   {
    "duration": 200,
    "start_time": "2024-03-12T05:02:17.457Z"
   },
   {
    "duration": 133,
    "start_time": "2024-03-12T05:02:25.368Z"
   },
   {
    "duration": 198,
    "start_time": "2024-03-12T05:02:29.327Z"
   },
   {
    "duration": 201,
    "start_time": "2024-03-12T05:02:32.793Z"
   },
   {
    "duration": 191,
    "start_time": "2024-03-12T05:02:36.770Z"
   },
   {
    "duration": 213,
    "start_time": "2024-03-12T05:02:40.445Z"
   },
   {
    "duration": 292,
    "start_time": "2024-03-12T05:02:49.301Z"
   },
   {
    "duration": 201,
    "start_time": "2024-03-12T05:02:53.179Z"
   },
   {
    "duration": 192,
    "start_time": "2024-03-12T05:02:55.649Z"
   },
   {
    "duration": 191,
    "start_time": "2024-03-12T05:02:59.331Z"
   },
   {
    "duration": 198,
    "start_time": "2024-03-12T05:03:02.065Z"
   },
   {
    "duration": 190,
    "start_time": "2024-03-12T05:03:07.113Z"
   },
   {
    "duration": 191,
    "start_time": "2024-03-12T05:04:21.376Z"
   },
   {
    "duration": 181,
    "start_time": "2024-03-12T05:06:38.277Z"
   },
   {
    "duration": 186,
    "start_time": "2024-03-12T05:06:42.403Z"
   },
   {
    "duration": 140,
    "start_time": "2024-03-12T05:06:55.685Z"
   },
   {
    "duration": 134,
    "start_time": "2024-03-12T05:06:58.623Z"
   },
   {
    "duration": 76,
    "start_time": "2024-03-12T05:07:14.907Z"
   },
   {
    "duration": 85,
    "start_time": "2024-03-12T05:07:17.632Z"
   },
   {
    "duration": 3,
    "start_time": "2024-03-12T05:08:15.891Z"
   },
   {
    "duration": 34,
    "start_time": "2024-03-12T05:08:15.896Z"
   },
   {
    "duration": 63,
    "start_time": "2024-03-12T05:08:15.932Z"
   },
   {
    "duration": 52,
    "start_time": "2024-03-12T05:08:15.997Z"
   },
   {
    "duration": 31,
    "start_time": "2024-03-12T05:08:16.053Z"
   },
   {
    "duration": 15,
    "start_time": "2024-03-12T05:08:16.086Z"
   },
   {
    "duration": 29,
    "start_time": "2024-03-12T05:08:16.103Z"
   },
   {
    "duration": 39,
    "start_time": "2024-03-12T05:08:16.134Z"
   },
   {
    "duration": 31,
    "start_time": "2024-03-12T05:08:16.175Z"
   },
   {
    "duration": 41,
    "start_time": "2024-03-12T05:08:16.207Z"
   },
   {
    "duration": 27,
    "start_time": "2024-03-12T05:08:16.250Z"
   },
   {
    "duration": 118,
    "start_time": "2024-03-12T05:08:16.279Z"
   },
   {
    "duration": 224,
    "start_time": "2024-03-12T05:08:16.399Z"
   },
   {
    "duration": 148,
    "start_time": "2024-03-12T05:08:16.625Z"
   },
   {
    "duration": 142,
    "start_time": "2024-03-12T05:08:16.774Z"
   },
   {
    "duration": 143,
    "start_time": "2024-03-12T05:08:16.917Z"
   },
   {
    "duration": 55,
    "start_time": "2024-03-12T05:08:17.061Z"
   },
   {
    "duration": 25,
    "start_time": "2024-03-12T05:08:17.117Z"
   },
   {
    "duration": 36,
    "start_time": "2024-03-12T05:08:17.144Z"
   },
   {
    "duration": 228,
    "start_time": "2024-03-12T05:08:17.191Z"
   },
   {
    "duration": 202,
    "start_time": "2024-03-12T05:08:17.421Z"
   },
   {
    "duration": 128,
    "start_time": "2024-03-12T05:13:28.565Z"
   },
   {
    "duration": 212,
    "start_time": "2024-03-12T05:13:42.632Z"
   },
   {
    "duration": 3,
    "start_time": "2024-03-12T05:16:25.698Z"
   },
   {
    "duration": 205,
    "start_time": "2024-03-12T05:16:27.491Z"
   },
   {
    "duration": 205,
    "start_time": "2024-03-12T05:16:28.401Z"
   },
   {
    "duration": 194,
    "start_time": "2024-03-12T05:18:38.521Z"
   },
   {
    "duration": 4,
    "start_time": "2024-03-12T05:18:42.497Z"
   },
   {
    "duration": 198,
    "start_time": "2024-03-12T05:18:43.015Z"
   },
   {
    "duration": 196,
    "start_time": "2024-03-12T05:18:44.078Z"
   },
   {
    "duration": 3,
    "start_time": "2024-03-12T05:19:00.901Z"
   },
   {
    "duration": 200,
    "start_time": "2024-03-12T05:19:01.421Z"
   },
   {
    "duration": 193,
    "start_time": "2024-03-12T05:19:02.447Z"
   },
   {
    "duration": 3,
    "start_time": "2024-03-12T05:19:10.232Z"
   },
   {
    "duration": 187,
    "start_time": "2024-03-12T05:19:12.252Z"
   },
   {
    "duration": 361,
    "start_time": "2024-03-12T05:19:13.404Z"
   },
   {
    "duration": 203,
    "start_time": "2024-03-12T05:19:36.749Z"
   },
   {
    "duration": 189,
    "start_time": "2024-03-12T05:20:12.328Z"
   },
   {
    "duration": 4,
    "start_time": "2024-03-12T05:25:50.464Z"
   },
   {
    "duration": 206,
    "start_time": "2024-03-12T05:25:51.068Z"
   },
   {
    "duration": 202,
    "start_time": "2024-03-12T05:25:52.140Z"
   },
   {
    "duration": 48,
    "start_time": "2024-03-13T04:30:35.396Z"
   },
   {
    "duration": 781,
    "start_time": "2024-03-13T04:30:39.516Z"
   },
   {
    "duration": 3,
    "start_time": "2024-03-13T04:30:40.300Z"
   },
   {
    "duration": 102,
    "start_time": "2024-03-13T04:30:40.304Z"
   },
   {
    "duration": 84,
    "start_time": "2024-03-13T04:30:40.408Z"
   },
   {
    "duration": 65,
    "start_time": "2024-03-13T04:30:40.494Z"
   },
   {
    "duration": 13,
    "start_time": "2024-03-13T04:30:40.561Z"
   },
   {
    "duration": 9,
    "start_time": "2024-03-13T04:30:40.576Z"
   },
   {
    "duration": 7,
    "start_time": "2024-03-13T04:30:40.587Z"
   },
   {
    "duration": 6,
    "start_time": "2024-03-13T04:30:40.595Z"
   },
   {
    "duration": 9,
    "start_time": "2024-03-13T04:30:40.602Z"
   },
   {
    "duration": 35,
    "start_time": "2024-03-13T04:30:40.612Z"
   },
   {
    "duration": 112,
    "start_time": "2024-03-13T04:30:40.649Z"
   },
   {
    "duration": 60,
    "start_time": "2024-03-13T04:30:40.763Z"
   },
   {
    "duration": 144,
    "start_time": "2024-03-13T04:30:40.825Z"
   },
   {
    "duration": 121,
    "start_time": "2024-03-13T04:30:40.970Z"
   },
   {
    "duration": 174,
    "start_time": "2024-03-13T04:30:41.093Z"
   },
   {
    "duration": 40,
    "start_time": "2024-03-13T04:30:41.269Z"
   },
   {
    "duration": 36,
    "start_time": "2024-03-13T04:30:41.311Z"
   },
   {
    "duration": 18,
    "start_time": "2024-03-13T04:30:41.349Z"
   },
   {
    "duration": 3,
    "start_time": "2024-03-13T04:30:41.368Z"
   },
   {
    "duration": 207,
    "start_time": "2024-03-13T04:30:41.372Z"
   },
   {
    "duration": 190,
    "start_time": "2024-03-13T04:30:41.580Z"
   },
   {
    "duration": 42,
    "start_time": "2024-03-13T04:30:41.771Z"
   },
   {
    "duration": 1179,
    "start_time": "2024-03-13T04:30:55.218Z"
   },
   {
    "duration": 2073,
    "start_time": "2024-03-13T04:31:04.084Z"
   },
   {
    "duration": 14,
    "start_time": "2024-03-13T04:32:57.012Z"
   },
   {
    "duration": 19,
    "start_time": "2024-03-13T04:35:23.089Z"
   },
   {
    "duration": 14,
    "start_time": "2024-03-13T04:35:48.221Z"
   },
   {
    "duration": 17,
    "start_time": "2024-03-13T04:35:56.162Z"
   },
   {
    "duration": 21,
    "start_time": "2024-03-13T04:36:07.834Z"
   },
   {
    "duration": 23,
    "start_time": "2024-03-13T04:38:29.554Z"
   },
   {
    "duration": 38,
    "start_time": "2024-03-13T04:42:52.096Z"
   },
   {
    "duration": 23,
    "start_time": "2024-03-13T04:43:05.255Z"
   },
   {
    "duration": 44,
    "start_time": "2024-03-13T04:43:12.047Z"
   },
   {
    "duration": 37,
    "start_time": "2024-03-13T04:43:29.506Z"
   },
   {
    "duration": 40,
    "start_time": "2024-03-13T04:44:29.592Z"
   },
   {
    "duration": 39,
    "start_time": "2024-03-13T04:44:54.212Z"
   },
   {
    "duration": 1097,
    "start_time": "2024-03-13T04:45:33.730Z"
   },
   {
    "duration": 36,
    "start_time": "2024-03-13T04:45:38.811Z"
   },
   {
    "duration": 37,
    "start_time": "2024-03-13T04:46:02.832Z"
   },
   {
    "duration": 3,
    "start_time": "2024-03-13T04:48:14.366Z"
   },
   {
    "duration": 5,
    "start_time": "2024-03-13T04:48:14.370Z"
   },
   {
    "duration": 46,
    "start_time": "2024-03-13T04:48:14.376Z"
   },
   {
    "duration": 43,
    "start_time": "2024-03-13T04:48:14.424Z"
   },
   {
    "duration": 26,
    "start_time": "2024-03-13T04:48:14.469Z"
   },
   {
    "duration": 13,
    "start_time": "2024-03-13T04:48:14.496Z"
   },
   {
    "duration": 22,
    "start_time": "2024-03-13T04:48:14.510Z"
   },
   {
    "duration": 12,
    "start_time": "2024-03-13T04:48:14.533Z"
   },
   {
    "duration": 5,
    "start_time": "2024-03-13T04:48:14.546Z"
   },
   {
    "duration": 11,
    "start_time": "2024-03-13T04:48:14.552Z"
   },
   {
    "duration": 3,
    "start_time": "2024-03-13T04:48:14.564Z"
   },
   {
    "duration": 119,
    "start_time": "2024-03-13T04:48:14.568Z"
   },
   {
    "duration": 76,
    "start_time": "2024-03-13T04:48:14.690Z"
   },
   {
    "duration": 135,
    "start_time": "2024-03-13T04:48:14.767Z"
   },
   {
    "duration": 134,
    "start_time": "2024-03-13T04:48:14.903Z"
   },
   {
    "duration": 137,
    "start_time": "2024-03-13T04:48:15.038Z"
   },
   {
    "duration": 44,
    "start_time": "2024-03-13T04:48:15.177Z"
   },
   {
    "duration": 42,
    "start_time": "2024-03-13T04:48:15.223Z"
   },
   {
    "duration": 35,
    "start_time": "2024-03-13T04:48:15.266Z"
   },
   {
    "duration": 31,
    "start_time": "2024-03-13T04:48:15.303Z"
   },
   {
    "duration": 193,
    "start_time": "2024-03-13T04:48:15.336Z"
   },
   {
    "duration": 181,
    "start_time": "2024-03-13T04:48:15.531Z"
   },
   {
    "duration": 41,
    "start_time": "2024-03-13T04:48:15.714Z"
   },
   {
    "duration": 29,
    "start_time": "2024-03-13T04:48:51.664Z"
   },
   {
    "duration": 48,
    "start_time": "2024-03-13T04:48:57.633Z"
   },
   {
    "duration": 35,
    "start_time": "2024-03-13T04:54:18.835Z"
   },
   {
    "duration": 35,
    "start_time": "2024-03-13T04:54:21.744Z"
   },
   {
    "duration": 36,
    "start_time": "2024-03-13T04:55:52.559Z"
   },
   {
    "duration": 37,
    "start_time": "2024-03-13T04:57:05.451Z"
   },
   {
    "duration": 36,
    "start_time": "2024-03-13T04:57:10.930Z"
   },
   {
    "duration": 65,
    "start_time": "2024-03-13T04:59:14.042Z"
   },
   {
    "duration": 36,
    "start_time": "2024-03-13T04:59:16.870Z"
   },
   {
    "duration": 44,
    "start_time": "2024-03-13T05:04:09.403Z"
   },
   {
    "duration": 48,
    "start_time": "2024-03-13T05:04:19.339Z"
   },
   {
    "duration": 44,
    "start_time": "2024-03-13T05:04:25.078Z"
   },
   {
    "duration": 43,
    "start_time": "2024-03-13T05:04:32.072Z"
   },
   {
    "duration": 500,
    "start_time": "2024-03-13T05:09:25.427Z"
   },
   {
    "duration": 30,
    "start_time": "2024-03-13T05:14:12.436Z"
   },
   {
    "duration": 5,
    "start_time": "2024-03-13T05:14:30.462Z"
   },
   {
    "duration": 3,
    "start_time": "2024-03-13T05:14:46.814Z"
   },
   {
    "duration": 3,
    "start_time": "2024-03-13T05:15:58.458Z"
   },
   {
    "duration": 6,
    "start_time": "2024-03-13T05:56:40.601Z"
   },
   {
    "duration": 5,
    "start_time": "2024-03-13T05:56:46.524Z"
   },
   {
    "duration": 6,
    "start_time": "2024-03-13T05:56:51.852Z"
   },
   {
    "duration": 5,
    "start_time": "2024-03-13T05:57:49.790Z"
   },
   {
    "duration": 5,
    "start_time": "2024-03-13T05:58:48.817Z"
   },
   {
    "duration": 5,
    "start_time": "2024-03-13T06:00:29.668Z"
   },
   {
    "duration": 4,
    "start_time": "2024-03-13T06:00:40.934Z"
   },
   {
    "duration": 3,
    "start_time": "2024-03-13T06:01:56.910Z"
   },
   {
    "duration": 5,
    "start_time": "2024-03-13T06:01:58.616Z"
   },
   {
    "duration": 3,
    "start_time": "2024-03-13T06:02:13.721Z"
   },
   {
    "duration": 5,
    "start_time": "2024-03-13T06:02:15.196Z"
   },
   {
    "duration": 3,
    "start_time": "2024-03-13T06:02:18.158Z"
   },
   {
    "duration": 4,
    "start_time": "2024-03-13T06:02:19.190Z"
   },
   {
    "duration": 3,
    "start_time": "2024-03-13T06:02:24.538Z"
   },
   {
    "duration": 5,
    "start_time": "2024-03-13T06:02:25.569Z"
   },
   {
    "duration": 4,
    "start_time": "2024-03-13T06:03:06.888Z"
   },
   {
    "duration": 9,
    "start_time": "2024-03-13T06:03:07.673Z"
   },
   {
    "duration": 5,
    "start_time": "2024-03-13T06:03:26.449Z"
   },
   {
    "duration": 3,
    "start_time": "2024-03-13T06:03:40.260Z"
   },
   {
    "duration": 4,
    "start_time": "2024-03-13T06:03:41.051Z"
   },
   {
    "duration": 3,
    "start_time": "2024-03-13T06:07:00.593Z"
   },
   {
    "duration": 3,
    "start_time": "2024-03-13T06:07:00.788Z"
   },
   {
    "duration": 6,
    "start_time": "2024-03-13T06:07:01.539Z"
   },
   {
    "duration": 6,
    "start_time": "2024-03-13T06:11:49.293Z"
   },
   {
    "duration": 5,
    "start_time": "2024-03-13T06:11:57.762Z"
   },
   {
    "duration": 3,
    "start_time": "2024-03-13T06:12:19.424Z"
   },
   {
    "duration": 4,
    "start_time": "2024-03-13T06:12:19.766Z"
   },
   {
    "duration": 5,
    "start_time": "2024-03-13T06:12:26.706Z"
   },
   {
    "duration": 9,
    "start_time": "2024-03-13T06:13:06.712Z"
   },
   {
    "duration": 105,
    "start_time": "2024-03-13T06:14:22.077Z"
   },
   {
    "duration": 3,
    "start_time": "2024-03-13T06:14:29.340Z"
   },
   {
    "duration": 14,
    "start_time": "2024-03-13T06:14:30.706Z"
   },
   {
    "duration": 3,
    "start_time": "2024-03-13T06:14:48.301Z"
   },
   {
    "duration": 13,
    "start_time": "2024-03-13T06:14:49.776Z"
   },
   {
    "duration": 4,
    "start_time": "2024-03-13T06:15:41.227Z"
   },
   {
    "duration": 13,
    "start_time": "2024-03-13T06:15:42.575Z"
   },
   {
    "duration": 4,
    "start_time": "2024-03-13T06:15:56.192Z"
   },
   {
    "duration": 17,
    "start_time": "2024-03-13T06:15:56.975Z"
   },
   {
    "duration": 3,
    "start_time": "2024-03-13T06:16:22.756Z"
   },
   {
    "duration": 3,
    "start_time": "2024-03-13T06:16:25.218Z"
   },
   {
    "duration": 12,
    "start_time": "2024-03-13T06:16:25.872Z"
   },
   {
    "duration": 4,
    "start_time": "2024-03-13T06:16:42.451Z"
   },
   {
    "duration": 12,
    "start_time": "2024-03-13T06:16:43.276Z"
   },
   {
    "duration": 4,
    "start_time": "2024-03-13T06:16:51.232Z"
   },
   {
    "duration": 5,
    "start_time": "2024-03-13T06:16:52.067Z"
   },
   {
    "duration": 3,
    "start_time": "2024-03-13T06:16:59.279Z"
   },
   {
    "duration": 5,
    "start_time": "2024-03-13T06:17:00.515Z"
   },
   {
    "duration": 13,
    "start_time": "2024-03-13T06:17:16.521Z"
   },
   {
    "duration": 8,
    "start_time": "2024-03-13T06:17:39.475Z"
   },
   {
    "duration": 6,
    "start_time": "2024-03-13T06:17:49.023Z"
   },
   {
    "duration": 5,
    "start_time": "2024-03-13T06:17:50.051Z"
   },
   {
    "duration": 5,
    "start_time": "2024-03-13T06:17:52.663Z"
   },
   {
    "duration": 4,
    "start_time": "2024-03-13T06:17:55.483Z"
   },
   {
    "duration": 10,
    "start_time": "2024-03-13T06:17:55.489Z"
   },
   {
    "duration": 50,
    "start_time": "2024-03-13T06:17:55.501Z"
   },
   {
    "duration": 44,
    "start_time": "2024-03-13T06:17:55.553Z"
   },
   {
    "duration": 31,
    "start_time": "2024-03-13T06:17:55.599Z"
   },
   {
    "duration": 16,
    "start_time": "2024-03-13T06:17:55.632Z"
   },
   {
    "duration": 10,
    "start_time": "2024-03-13T06:17:55.649Z"
   },
   {
    "duration": 7,
    "start_time": "2024-03-13T06:17:55.660Z"
   },
   {
    "duration": 16,
    "start_time": "2024-03-13T06:17:55.669Z"
   },
   {
    "duration": 26,
    "start_time": "2024-03-13T06:17:55.686Z"
   },
   {
    "duration": 17,
    "start_time": "2024-03-13T06:17:55.713Z"
   },
   {
    "duration": 104,
    "start_time": "2024-03-13T06:17:55.732Z"
   },
   {
    "duration": 68,
    "start_time": "2024-03-13T06:17:55.837Z"
   },
   {
    "duration": 146,
    "start_time": "2024-03-13T06:17:55.907Z"
   },
   {
    "duration": 131,
    "start_time": "2024-03-13T06:17:56.054Z"
   },
   {
    "duration": 132,
    "start_time": "2024-03-13T06:17:56.187Z"
   },
   {
    "duration": 50,
    "start_time": "2024-03-13T06:17:56.320Z"
   },
   {
    "duration": 22,
    "start_time": "2024-03-13T06:17:56.371Z"
   },
   {
    "duration": 19,
    "start_time": "2024-03-13T06:17:56.395Z"
   },
   {
    "duration": 30,
    "start_time": "2024-03-13T06:17:56.416Z"
   },
   {
    "duration": 183,
    "start_time": "2024-03-13T06:17:56.448Z"
   },
   {
    "duration": 272,
    "start_time": "2024-03-13T06:17:56.632Z"
   },
   {
    "duration": 52,
    "start_time": "2024-03-13T06:17:56.905Z"
   },
   {
    "duration": 2,
    "start_time": "2024-03-13T06:17:56.958Z"
   },
   {
    "duration": 7,
    "start_time": "2024-03-13T06:17:56.962Z"
   },
   {
    "duration": 9,
    "start_time": "2024-03-13T06:17:56.971Z"
   },
   {
    "duration": 5,
    "start_time": "2024-03-13T06:17:56.981Z"
   },
   {
    "duration": 4,
    "start_time": "2024-03-13T06:19:37.097Z"
   },
   {
    "duration": 6,
    "start_time": "2024-03-13T06:19:37.992Z"
   },
   {
    "duration": 3,
    "start_time": "2024-03-13T06:19:50.897Z"
   },
   {
    "duration": 6,
    "start_time": "2024-03-13T06:19:51.689Z"
   },
   {
    "duration": 4,
    "start_time": "2024-03-13T06:20:03.861Z"
   },
   {
    "duration": 6,
    "start_time": "2024-03-13T06:20:05.058Z"
   },
   {
    "duration": 68,
    "start_time": "2024-03-13T06:20:13.483Z"
   },
   {
    "duration": 3,
    "start_time": "2024-03-13T06:20:25.318Z"
   },
   {
    "duration": 5,
    "start_time": "2024-03-13T06:20:26.567Z"
   },
   {
    "duration": 3,
    "start_time": "2024-03-13T06:20:50.851Z"
   },
   {
    "duration": 5,
    "start_time": "2024-03-13T06:20:51.744Z"
   },
   {
    "duration": 83,
    "start_time": "2024-03-13T06:21:17.104Z"
   },
   {
    "duration": 3,
    "start_time": "2024-03-13T06:21:41.265Z"
   },
   {
    "duration": 6,
    "start_time": "2024-03-13T06:21:42.562Z"
   },
   {
    "duration": 5,
    "start_time": "2024-03-13T06:21:58.276Z"
   },
   {
    "duration": 6,
    "start_time": "2024-03-13T06:22:00.415Z"
   },
   {
    "duration": 3,
    "start_time": "2024-03-13T06:22:08.334Z"
   },
   {
    "duration": 5,
    "start_time": "2024-03-13T06:22:09.274Z"
   },
   {
    "duration": 4,
    "start_time": "2024-03-13T06:22:54.517Z"
   },
   {
    "duration": 5,
    "start_time": "2024-03-13T06:22:55.866Z"
   },
   {
    "duration": 8,
    "start_time": "2024-03-13T06:22:58.195Z"
   },
   {
    "duration": 11,
    "start_time": "2024-03-13T06:23:06.453Z"
   },
   {
    "duration": 3,
    "start_time": "2024-03-13T06:23:17.595Z"
   },
   {
    "duration": 5,
    "start_time": "2024-03-13T06:23:18.431Z"
   },
   {
    "duration": 4,
    "start_time": "2024-03-13T06:23:19.681Z"
   },
   {
    "duration": 5,
    "start_time": "2024-03-13T06:23:53.936Z"
   },
   {
    "duration": 5,
    "start_time": "2024-03-13T06:23:58.427Z"
   },
   {
    "duration": 5,
    "start_time": "2024-03-13T06:24:47.083Z"
   },
   {
    "duration": 5,
    "start_time": "2024-03-13T06:28:11.748Z"
   },
   {
    "duration": 23,
    "start_time": "2024-03-13T06:33:12.774Z"
   },
   {
    "duration": 20,
    "start_time": "2024-03-13T06:34:20.254Z"
   },
   {
    "duration": 22,
    "start_time": "2024-03-13T06:35:01.327Z"
   },
   {
    "duration": 21,
    "start_time": "2024-03-13T06:36:20.130Z"
   },
   {
    "duration": 845,
    "start_time": "2024-03-13T06:37:17.523Z"
   },
   {
    "duration": 22,
    "start_time": "2024-03-13T06:38:28.755Z"
   },
   {
    "duration": 889,
    "start_time": "2024-03-13T06:39:16.340Z"
   },
   {
    "duration": 2,
    "start_time": "2024-03-13T06:39:19.916Z"
   },
   {
    "duration": 18,
    "start_time": "2024-03-13T06:39:19.920Z"
   },
   {
    "duration": 71,
    "start_time": "2024-03-13T06:39:19.940Z"
   },
   {
    "duration": 44,
    "start_time": "2024-03-13T06:39:20.012Z"
   },
   {
    "duration": 30,
    "start_time": "2024-03-13T06:39:20.058Z"
   },
   {
    "duration": 17,
    "start_time": "2024-03-13T06:39:20.089Z"
   },
   {
    "duration": 10,
    "start_time": "2024-03-13T06:39:20.107Z"
   },
   {
    "duration": 21,
    "start_time": "2024-03-13T06:39:20.118Z"
   },
   {
    "duration": 12,
    "start_time": "2024-03-13T06:39:20.140Z"
   },
   {
    "duration": 25,
    "start_time": "2024-03-13T06:39:20.153Z"
   },
   {
    "duration": 18,
    "start_time": "2024-03-13T06:39:20.179Z"
   },
   {
    "duration": 124,
    "start_time": "2024-03-13T06:39:20.198Z"
   },
   {
    "duration": 75,
    "start_time": "2024-03-13T06:39:20.324Z"
   },
   {
    "duration": 142,
    "start_time": "2024-03-13T06:39:20.403Z"
   },
   {
    "duration": 130,
    "start_time": "2024-03-13T06:39:20.546Z"
   },
   {
    "duration": 121,
    "start_time": "2024-03-13T06:39:20.678Z"
   },
   {
    "duration": 52,
    "start_time": "2024-03-13T06:39:20.801Z"
   },
   {
    "duration": 22,
    "start_time": "2024-03-13T06:39:20.855Z"
   },
   {
    "duration": 19,
    "start_time": "2024-03-13T06:39:20.879Z"
   },
   {
    "duration": 3,
    "start_time": "2024-03-13T06:39:20.899Z"
   },
   {
    "duration": 200,
    "start_time": "2024-03-13T06:39:20.904Z"
   },
   {
    "duration": 183,
    "start_time": "2024-03-13T06:39:21.106Z"
   },
   {
    "duration": 54,
    "start_time": "2024-03-13T06:39:21.291Z"
   },
   {
    "duration": 2,
    "start_time": "2024-03-13T06:39:21.347Z"
   },
   {
    "duration": 40,
    "start_time": "2024-03-13T06:39:21.350Z"
   },
   {
    "duration": 19,
    "start_time": "2024-03-13T06:39:21.392Z"
   },
   {
    "duration": 11,
    "start_time": "2024-03-13T06:39:21.413Z"
   },
   {
    "duration": 887,
    "start_time": "2024-03-13T06:39:21.425Z"
   },
   {
    "duration": 0,
    "start_time": "2024-03-13T06:39:22.314Z"
   },
   {
    "duration": 18,
    "start_time": "2024-03-13T06:40:18.458Z"
   },
   {
    "duration": 27,
    "start_time": "2024-03-13T06:40:32.711Z"
   },
   {
    "duration": 11,
    "start_time": "2024-03-13T06:42:28.674Z"
   },
   {
    "duration": 12,
    "start_time": "2024-03-13T06:43:17.936Z"
   },
   {
    "duration": 12,
    "start_time": "2024-03-13T06:45:06.614Z"
   },
   {
    "duration": 12,
    "start_time": "2024-03-13T06:45:25.112Z"
   },
   {
    "duration": 12,
    "start_time": "2024-03-13T06:47:45.063Z"
   },
   {
    "duration": 3,
    "start_time": "2024-03-13T06:47:47.350Z"
   },
   {
    "duration": 37,
    "start_time": "2024-03-13T06:47:47.355Z"
   },
   {
    "duration": 69,
    "start_time": "2024-03-13T06:47:47.393Z"
   },
   {
    "duration": 45,
    "start_time": "2024-03-13T06:47:47.464Z"
   },
   {
    "duration": 26,
    "start_time": "2024-03-13T06:47:47.511Z"
   },
   {
    "duration": 24,
    "start_time": "2024-03-13T06:47:47.538Z"
   },
   {
    "duration": 24,
    "start_time": "2024-03-13T06:47:47.564Z"
   },
   {
    "duration": 17,
    "start_time": "2024-03-13T06:47:47.589Z"
   },
   {
    "duration": 19,
    "start_time": "2024-03-13T06:47:47.608Z"
   },
   {
    "duration": 47,
    "start_time": "2024-03-13T06:47:47.628Z"
   },
   {
    "duration": 25,
    "start_time": "2024-03-13T06:47:47.677Z"
   },
   {
    "duration": 131,
    "start_time": "2024-03-13T06:47:47.703Z"
   },
   {
    "duration": 82,
    "start_time": "2024-03-13T06:47:47.837Z"
   },
   {
    "duration": 147,
    "start_time": "2024-03-13T06:47:47.921Z"
   },
   {
    "duration": 203,
    "start_time": "2024-03-13T06:47:48.070Z"
   },
   {
    "duration": 119,
    "start_time": "2024-03-13T06:47:48.275Z"
   },
   {
    "duration": 49,
    "start_time": "2024-03-13T06:47:48.396Z"
   },
   {
    "duration": 20,
    "start_time": "2024-03-13T06:47:48.447Z"
   },
   {
    "duration": 18,
    "start_time": "2024-03-13T06:47:48.468Z"
   },
   {
    "duration": 4,
    "start_time": "2024-03-13T06:47:48.488Z"
   },
   {
    "duration": 190,
    "start_time": "2024-03-13T06:47:48.493Z"
   },
   {
    "duration": 174,
    "start_time": "2024-03-13T06:47:48.684Z"
   },
   {
    "duration": 43,
    "start_time": "2024-03-13T06:47:48.859Z"
   },
   {
    "duration": 2,
    "start_time": "2024-03-13T06:47:48.904Z"
   },
   {
    "duration": 6,
    "start_time": "2024-03-13T06:47:48.907Z"
   },
   {
    "duration": 35,
    "start_time": "2024-03-13T06:47:48.914Z"
   },
   {
    "duration": 18,
    "start_time": "2024-03-13T06:47:48.951Z"
   },
   {
    "duration": 25,
    "start_time": "2024-03-13T06:47:48.970Z"
   },
   {
    "duration": 9,
    "start_time": "2024-03-13T07:06:48.879Z"
   },
   {
    "duration": 8,
    "start_time": "2024-03-13T07:07:05.659Z"
   },
   {
    "duration": 8,
    "start_time": "2024-03-13T07:07:16.103Z"
   },
   {
    "duration": 65,
    "start_time": "2024-03-13T07:07:31.645Z"
   },
   {
    "duration": 8,
    "start_time": "2024-03-13T07:07:44.799Z"
   },
   {
    "duration": 1107,
    "start_time": "2024-03-13T07:08:08.020Z"
   },
   {
    "duration": 3,
    "start_time": "2024-03-13T07:09:00.015Z"
   },
   {
    "duration": 1095,
    "start_time": "2024-03-13T07:09:04.588Z"
   },
   {
    "duration": 2,
    "start_time": "2024-03-13T07:09:07.847Z"
   },
   {
    "duration": 11,
    "start_time": "2024-03-13T07:09:07.851Z"
   },
   {
    "duration": 45,
    "start_time": "2024-03-13T07:09:07.864Z"
   },
   {
    "duration": 41,
    "start_time": "2024-03-13T07:09:07.910Z"
   },
   {
    "duration": 25,
    "start_time": "2024-03-13T07:09:07.953Z"
   },
   {
    "duration": 11,
    "start_time": "2024-03-13T07:09:07.979Z"
   },
   {
    "duration": 12,
    "start_time": "2024-03-13T07:09:07.992Z"
   },
   {
    "duration": 6,
    "start_time": "2024-03-13T07:09:08.005Z"
   },
   {
    "duration": 4,
    "start_time": "2024-03-13T07:09:08.013Z"
   },
   {
    "duration": 29,
    "start_time": "2024-03-13T07:09:08.019Z"
   },
   {
    "duration": 5,
    "start_time": "2024-03-13T07:09:08.050Z"
   },
   {
    "duration": 105,
    "start_time": "2024-03-13T07:09:08.056Z"
   },
   {
    "duration": 63,
    "start_time": "2024-03-13T07:09:08.163Z"
   },
   {
    "duration": 132,
    "start_time": "2024-03-13T07:09:08.229Z"
   },
   {
    "duration": 122,
    "start_time": "2024-03-13T07:09:08.362Z"
   },
   {
    "duration": 115,
    "start_time": "2024-03-13T07:09:08.486Z"
   },
   {
    "duration": 47,
    "start_time": "2024-03-13T07:09:08.602Z"
   },
   {
    "duration": 22,
    "start_time": "2024-03-13T07:09:08.650Z"
   },
   {
    "duration": 18,
    "start_time": "2024-03-13T07:09:08.673Z"
   },
   {
    "duration": 2,
    "start_time": "2024-03-13T07:09:08.693Z"
   },
   {
    "duration": 191,
    "start_time": "2024-03-13T07:09:08.697Z"
   },
   {
    "duration": 166,
    "start_time": "2024-03-13T07:09:08.890Z"
   },
   {
    "duration": 120,
    "start_time": "2024-03-13T07:09:09.058Z"
   },
   {
    "duration": 2,
    "start_time": "2024-03-13T07:09:09.179Z"
   },
   {
    "duration": 6,
    "start_time": "2024-03-13T07:09:09.183Z"
   },
   {
    "duration": 12,
    "start_time": "2024-03-13T07:09:09.190Z"
   },
   {
    "duration": 5,
    "start_time": "2024-03-13T07:09:09.204Z"
   },
   {
    "duration": 23,
    "start_time": "2024-03-13T07:09:09.210Z"
   },
   {
    "duration": 1157,
    "start_time": "2024-03-13T07:09:09.234Z"
   },
   {
    "duration": 1189,
    "start_time": "2024-03-13T07:09:28.562Z"
   },
   {
    "duration": 1230,
    "start_time": "2024-03-13T07:09:34.197Z"
   },
   {
    "duration": 20,
    "start_time": "2024-03-13T07:09:49.954Z"
   },
   {
    "duration": 26,
    "start_time": "2024-03-13T07:09:58.221Z"
   },
   {
    "duration": 21,
    "start_time": "2024-03-13T07:10:07.135Z"
   },
   {
    "duration": 108,
    "start_time": "2024-03-13T07:10:36.882Z"
   },
   {
    "duration": 100,
    "start_time": "2024-03-13T07:10:47.897Z"
   },
   {
    "duration": 101,
    "start_time": "2024-03-13T07:11:02.722Z"
   },
   {
    "duration": 105,
    "start_time": "2024-03-13T07:11:56.857Z"
   },
   {
    "duration": 11,
    "start_time": "2024-03-13T07:12:12.056Z"
   },
   {
    "duration": 611,
    "start_time": "2024-03-13T07:12:31.745Z"
   },
   {
    "duration": 608,
    "start_time": "2024-03-13T07:12:36.576Z"
   },
   {
    "duration": 1084,
    "start_time": "2024-03-13T07:12:44.285Z"
   },
   {
    "duration": 1213,
    "start_time": "2024-03-13T07:13:25.129Z"
   },
   {
    "duration": 1229,
    "start_time": "2024-03-13T07:13:44.871Z"
   },
   {
    "duration": 10,
    "start_time": "2024-03-13T07:15:06.544Z"
   },
   {
    "duration": 101,
    "start_time": "2024-03-13T07:15:29.532Z"
   },
   {
    "duration": 3,
    "start_time": "2024-03-13T07:31:35.690Z"
   },
   {
    "duration": 28,
    "start_time": "2024-03-13T07:31:35.695Z"
   },
   {
    "duration": 66,
    "start_time": "2024-03-13T07:31:35.724Z"
   },
   {
    "duration": 38,
    "start_time": "2024-03-13T07:31:35.791Z"
   },
   {
    "duration": 25,
    "start_time": "2024-03-13T07:31:35.830Z"
   },
   {
    "duration": 11,
    "start_time": "2024-03-13T07:31:35.857Z"
   },
   {
    "duration": 32,
    "start_time": "2024-03-13T07:31:35.869Z"
   },
   {
    "duration": 24,
    "start_time": "2024-03-13T07:31:35.902Z"
   },
   {
    "duration": 38,
    "start_time": "2024-03-13T07:31:35.927Z"
   },
   {
    "duration": 40,
    "start_time": "2024-03-13T07:31:35.967Z"
   },
   {
    "duration": 24,
    "start_time": "2024-03-13T07:31:36.009Z"
   },
   {
    "duration": 119,
    "start_time": "2024-03-13T07:31:36.034Z"
   },
   {
    "duration": 57,
    "start_time": "2024-03-13T07:31:36.155Z"
   },
   {
    "duration": 131,
    "start_time": "2024-03-13T07:31:36.214Z"
   },
   {
    "duration": 117,
    "start_time": "2024-03-13T07:31:36.346Z"
   },
   {
    "duration": 109,
    "start_time": "2024-03-13T07:31:36.465Z"
   },
   {
    "duration": 39,
    "start_time": "2024-03-13T07:31:36.575Z"
   },
   {
    "duration": 37,
    "start_time": "2024-03-13T07:31:36.615Z"
   },
   {
    "duration": 17,
    "start_time": "2024-03-13T07:31:36.654Z"
   },
   {
    "duration": 34,
    "start_time": "2024-03-13T07:31:36.672Z"
   },
   {
    "duration": 185,
    "start_time": "2024-03-13T07:31:36.707Z"
   },
   {
    "duration": 227,
    "start_time": "2024-03-13T07:31:36.894Z"
   },
   {
    "duration": 50,
    "start_time": "2024-03-13T07:31:37.123Z"
   },
   {
    "duration": 2,
    "start_time": "2024-03-13T07:31:37.175Z"
   },
   {
    "duration": 55,
    "start_time": "2024-03-13T07:31:37.179Z"
   },
   {
    "duration": 22,
    "start_time": "2024-03-13T07:31:37.236Z"
   },
   {
    "duration": 40,
    "start_time": "2024-03-13T07:31:37.260Z"
   },
   {
    "duration": 38,
    "start_time": "2024-03-13T07:31:37.301Z"
   },
   {
    "duration": 40,
    "start_time": "2024-03-13T07:35:28.144Z"
   },
   {
    "duration": 3,
    "start_time": "2024-03-13T07:35:38.004Z"
   },
   {
    "duration": 26,
    "start_time": "2024-03-13T07:35:38.009Z"
   },
   {
    "duration": 71,
    "start_time": "2024-03-13T07:35:38.036Z"
   },
   {
    "duration": 39,
    "start_time": "2024-03-13T07:35:38.109Z"
   },
   {
    "duration": 24,
    "start_time": "2024-03-13T07:35:38.150Z"
   },
   {
    "duration": 22,
    "start_time": "2024-03-13T07:35:38.175Z"
   },
   {
    "duration": 27,
    "start_time": "2024-03-13T07:35:38.198Z"
   },
   {
    "duration": 24,
    "start_time": "2024-03-13T07:35:38.226Z"
   },
   {
    "duration": 23,
    "start_time": "2024-03-13T07:35:38.252Z"
   },
   {
    "duration": 29,
    "start_time": "2024-03-13T07:35:38.277Z"
   },
   {
    "duration": 6,
    "start_time": "2024-03-13T07:35:38.307Z"
   },
   {
    "duration": 103,
    "start_time": "2024-03-13T07:35:38.314Z"
   },
   {
    "duration": 69,
    "start_time": "2024-03-13T07:35:38.418Z"
   },
   {
    "duration": 125,
    "start_time": "2024-03-13T07:35:38.490Z"
   },
   {
    "duration": 112,
    "start_time": "2024-03-13T07:35:38.616Z"
   },
   {
    "duration": 116,
    "start_time": "2024-03-13T07:35:38.730Z"
   },
   {
    "duration": 36,
    "start_time": "2024-03-13T07:35:38.847Z"
   },
   {
    "duration": 19,
    "start_time": "2024-03-13T07:35:38.885Z"
   },
   {
    "duration": 39,
    "start_time": "2024-03-13T07:35:38.906Z"
   },
   {
    "duration": 3,
    "start_time": "2024-03-13T07:35:38.946Z"
   },
   {
    "duration": 168,
    "start_time": "2024-03-13T07:35:38.950Z"
   },
   {
    "duration": 172,
    "start_time": "2024-03-13T07:35:39.119Z"
   },
   {
    "duration": 41,
    "start_time": "2024-03-13T07:35:39.293Z"
   },
   {
    "duration": 3,
    "start_time": "2024-03-13T07:35:39.345Z"
   },
   {
    "duration": 12,
    "start_time": "2024-03-13T07:35:39.349Z"
   },
   {
    "duration": 15,
    "start_time": "2024-03-13T07:35:39.362Z"
   },
   {
    "duration": 16,
    "start_time": "2024-03-13T07:35:39.378Z"
   },
   {
    "duration": 34,
    "start_time": "2024-03-13T07:35:39.395Z"
   },
   {
    "duration": 121,
    "start_time": "2024-03-13T07:39:10.073Z"
   },
   {
    "duration": 3,
    "start_time": "2024-03-13T07:41:53.189Z"
   },
   {
    "duration": 4,
    "start_time": "2024-03-13T07:41:55.458Z"
   },
   {
    "duration": 21,
    "start_time": "2024-03-13T07:41:55.464Z"
   },
   {
    "duration": 58,
    "start_time": "2024-03-13T07:41:55.487Z"
   },
   {
    "duration": 39,
    "start_time": "2024-03-13T07:41:55.547Z"
   },
   {
    "duration": 25,
    "start_time": "2024-03-13T07:41:55.589Z"
   },
   {
    "duration": 15,
    "start_time": "2024-03-13T07:41:55.615Z"
   },
   {
    "duration": 14,
    "start_time": "2024-03-13T07:41:55.631Z"
   },
   {
    "duration": 11,
    "start_time": "2024-03-13T07:41:55.646Z"
   },
   {
    "duration": 27,
    "start_time": "2024-03-13T07:41:55.658Z"
   },
   {
    "duration": 40,
    "start_time": "2024-03-13T07:41:55.687Z"
   },
   {
    "duration": 12,
    "start_time": "2024-03-13T07:41:55.728Z"
   },
   {
    "duration": 124,
    "start_time": "2024-03-13T07:41:55.741Z"
   },
   {
    "duration": 57,
    "start_time": "2024-03-13T07:41:55.867Z"
   },
   {
    "duration": 196,
    "start_time": "2024-03-13T07:41:55.927Z"
   },
   {
    "duration": 114,
    "start_time": "2024-03-13T07:41:56.125Z"
   },
   {
    "duration": 117,
    "start_time": "2024-03-13T07:41:56.240Z"
   },
   {
    "duration": 36,
    "start_time": "2024-03-13T07:41:56.358Z"
   },
   {
    "duration": 19,
    "start_time": "2024-03-13T07:41:56.395Z"
   },
   {
    "duration": 32,
    "start_time": "2024-03-13T07:41:56.415Z"
   },
   {
    "duration": 3,
    "start_time": "2024-03-13T07:41:56.448Z"
   },
   {
    "duration": 166,
    "start_time": "2024-03-13T07:41:56.452Z"
   },
   {
    "duration": 171,
    "start_time": "2024-03-13T07:41:56.619Z"
   },
   {
    "duration": 40,
    "start_time": "2024-03-13T07:41:56.792Z"
   },
   {
    "duration": 10,
    "start_time": "2024-03-13T07:41:56.845Z"
   },
   {
    "duration": 12,
    "start_time": "2024-03-13T07:41:56.856Z"
   },
   {
    "duration": 11,
    "start_time": "2024-03-13T07:41:56.869Z"
   },
   {
    "duration": 5,
    "start_time": "2024-03-13T07:41:56.881Z"
   },
   {
    "duration": 11,
    "start_time": "2024-03-13T07:41:56.887Z"
   },
   {
    "duration": 1060,
    "start_time": "2024-03-13T07:47:54.315Z"
   },
   {
    "duration": 3,
    "start_time": "2024-03-13T07:47:55.376Z"
   },
   {
    "duration": 48,
    "start_time": "2024-03-13T07:47:55.381Z"
   },
   {
    "duration": 45,
    "start_time": "2024-03-13T07:47:55.430Z"
   },
   {
    "duration": 24,
    "start_time": "2024-03-13T07:47:55.477Z"
   },
   {
    "duration": 11,
    "start_time": "2024-03-13T07:47:55.503Z"
   },
   {
    "duration": 20,
    "start_time": "2024-03-13T07:47:55.516Z"
   },
   {
    "duration": 10,
    "start_time": "2024-03-13T07:47:55.537Z"
   },
   {
    "duration": 10,
    "start_time": "2024-03-13T07:47:55.548Z"
   },
   {
    "duration": 9,
    "start_time": "2024-03-13T07:47:55.559Z"
   },
   {
    "duration": 2,
    "start_time": "2024-03-13T07:47:55.570Z"
   },
   {
    "duration": 132,
    "start_time": "2024-03-13T07:47:55.573Z"
   },
   {
    "duration": 69,
    "start_time": "2024-03-13T07:47:55.706Z"
   },
   {
    "duration": 124,
    "start_time": "2024-03-13T07:47:55.777Z"
   },
   {
    "duration": 116,
    "start_time": "2024-03-13T07:47:55.903Z"
   },
   {
    "duration": 115,
    "start_time": "2024-03-13T07:47:56.021Z"
   },
   {
    "duration": 42,
    "start_time": "2024-03-13T07:47:56.137Z"
   },
   {
    "duration": 21,
    "start_time": "2024-03-13T07:47:56.180Z"
   },
   {
    "duration": 17,
    "start_time": "2024-03-13T07:47:56.202Z"
   },
   {
    "duration": 25,
    "start_time": "2024-03-13T07:47:56.220Z"
   },
   {
    "duration": 156,
    "start_time": "2024-03-13T07:47:56.246Z"
   },
   {
    "duration": 166,
    "start_time": "2024-03-13T07:47:56.404Z"
   },
   {
    "duration": 42,
    "start_time": "2024-03-13T07:47:56.572Z"
   },
   {
    "duration": 2,
    "start_time": "2024-03-13T07:47:56.616Z"
   },
   {
    "duration": 4,
    "start_time": "2024-03-13T07:47:56.620Z"
   },
   {
    "duration": 21,
    "start_time": "2024-03-13T07:47:56.625Z"
   },
   {
    "duration": 5,
    "start_time": "2024-03-13T07:47:56.647Z"
   },
   {
    "duration": 26,
    "start_time": "2024-03-13T07:47:56.653Z"
   },
   {
    "duration": 128,
    "start_time": "2024-03-13T07:50:15.175Z"
   },
   {
    "duration": 3,
    "start_time": "2024-03-13T07:50:57.047Z"
   },
   {
    "duration": 190,
    "start_time": "2024-03-13T07:50:57.997Z"
   },
   {
    "duration": 2,
    "start_time": "2024-03-13T07:51:05.382Z"
   },
   {
    "duration": 166,
    "start_time": "2024-03-13T07:51:06.328Z"
   },
   {
    "duration": 3,
    "start_time": "2024-03-13T07:51:10.975Z"
   },
   {
    "duration": 102,
    "start_time": "2024-03-13T07:51:11.521Z"
   },
   {
    "duration": 85,
    "start_time": "2024-03-13T07:51:20.585Z"
   },
   {
    "duration": 3,
    "start_time": "2024-03-13T07:55:19.098Z"
   },
   {
    "duration": 5,
    "start_time": "2024-03-13T07:55:19.103Z"
   },
   {
    "duration": 45,
    "start_time": "2024-03-13T07:55:19.109Z"
   },
   {
    "duration": 40,
    "start_time": "2024-03-13T07:55:19.155Z"
   },
   {
    "duration": 26,
    "start_time": "2024-03-13T07:55:19.198Z"
   },
   {
    "duration": 21,
    "start_time": "2024-03-13T07:55:19.226Z"
   },
   {
    "duration": 10,
    "start_time": "2024-03-13T07:55:19.249Z"
   },
   {
    "duration": 18,
    "start_time": "2024-03-13T07:55:19.261Z"
   },
   {
    "duration": 14,
    "start_time": "2024-03-13T07:55:19.280Z"
   },
   {
    "duration": 9,
    "start_time": "2024-03-13T07:55:19.296Z"
   },
   {
    "duration": 10,
    "start_time": "2024-03-13T07:55:19.307Z"
   },
   {
    "duration": 106,
    "start_time": "2024-03-13T07:55:19.318Z"
   },
   {
    "duration": 80,
    "start_time": "2024-03-13T07:55:19.426Z"
   },
   {
    "duration": 126,
    "start_time": "2024-03-13T07:55:19.508Z"
   },
   {
    "duration": 120,
    "start_time": "2024-03-13T07:55:19.636Z"
   },
   {
    "duration": 121,
    "start_time": "2024-03-13T07:55:19.758Z"
   },
   {
    "duration": 37,
    "start_time": "2024-03-13T07:55:19.880Z"
   },
   {
    "duration": 34,
    "start_time": "2024-03-13T07:55:19.918Z"
   },
   {
    "duration": 36,
    "start_time": "2024-03-13T07:55:19.954Z"
   },
   {
    "duration": 14,
    "start_time": "2024-03-13T07:55:19.991Z"
   },
   {
    "duration": 199,
    "start_time": "2024-03-13T07:55:20.006Z"
   },
   {
    "duration": 184,
    "start_time": "2024-03-13T07:55:20.206Z"
   },
   {
    "duration": 42,
    "start_time": "2024-03-13T07:55:20.392Z"
   },
   {
    "duration": 9,
    "start_time": "2024-03-13T07:55:20.436Z"
   },
   {
    "duration": 36,
    "start_time": "2024-03-13T07:55:20.447Z"
   },
   {
    "duration": 10,
    "start_time": "2024-03-13T07:55:20.484Z"
   },
   {
    "duration": 11,
    "start_time": "2024-03-13T07:55:20.496Z"
   },
   {
    "duration": 20,
    "start_time": "2024-03-13T07:55:20.509Z"
   },
   {
    "duration": 1029,
    "start_time": "2024-03-13T07:55:28.654Z"
   },
   {
    "duration": 3,
    "start_time": "2024-03-13T07:55:29.684Z"
   },
   {
    "duration": 74,
    "start_time": "2024-03-13T07:55:29.688Z"
   },
   {
    "duration": 43,
    "start_time": "2024-03-13T07:55:29.764Z"
   },
   {
    "duration": 25,
    "start_time": "2024-03-13T07:55:29.810Z"
   },
   {
    "duration": 15,
    "start_time": "2024-03-13T07:55:29.837Z"
   },
   {
    "duration": 17,
    "start_time": "2024-03-13T07:55:29.854Z"
   },
   {
    "duration": 23,
    "start_time": "2024-03-13T07:55:29.873Z"
   },
   {
    "duration": 19,
    "start_time": "2024-03-13T07:55:29.898Z"
   },
   {
    "duration": 28,
    "start_time": "2024-03-13T07:55:29.919Z"
   },
   {
    "duration": 10,
    "start_time": "2024-03-13T07:55:29.949Z"
   },
   {
    "duration": 131,
    "start_time": "2024-03-13T07:55:29.960Z"
   },
   {
    "duration": 73,
    "start_time": "2024-03-13T07:55:30.093Z"
   },
   {
    "duration": 200,
    "start_time": "2024-03-13T07:55:30.168Z"
   },
   {
    "duration": 128,
    "start_time": "2024-03-13T07:55:30.369Z"
   },
   {
    "duration": 118,
    "start_time": "2024-03-13T07:55:30.499Z"
   },
   {
    "duration": 49,
    "start_time": "2024-03-13T07:55:30.618Z"
   },
   {
    "duration": 30,
    "start_time": "2024-03-13T07:55:30.669Z"
   },
   {
    "duration": 53,
    "start_time": "2024-03-13T07:55:30.700Z"
   },
   {
    "duration": 27,
    "start_time": "2024-03-13T07:55:30.754Z"
   },
   {
    "duration": 245,
    "start_time": "2024-03-13T07:55:30.782Z"
   },
   {
    "duration": 192,
    "start_time": "2024-03-13T07:55:31.029Z"
   },
   {
    "duration": 67,
    "start_time": "2024-03-13T07:55:31.223Z"
   },
   {
    "duration": 82,
    "start_time": "2024-03-13T07:55:31.296Z"
   },
   {
    "duration": 104,
    "start_time": "2024-03-13T07:55:31.380Z"
   },
   {
    "duration": 41,
    "start_time": "2024-03-13T07:55:31.486Z"
   },
   {
    "duration": 45,
    "start_time": "2024-03-13T07:55:31.529Z"
   },
   {
    "duration": 67,
    "start_time": "2024-03-13T07:55:31.576Z"
   },
   {
    "duration": 1288,
    "start_time": "2024-03-13T14:44:29.622Z"
   },
   {
    "duration": 4,
    "start_time": "2024-03-13T14:44:30.912Z"
   },
   {
    "duration": 203,
    "start_time": "2024-03-13T14:44:30.917Z"
   },
   {
    "duration": 86,
    "start_time": "2024-03-13T14:44:31.122Z"
   },
   {
    "duration": 63,
    "start_time": "2024-03-13T14:44:31.211Z"
   },
   {
    "duration": 22,
    "start_time": "2024-03-13T14:44:31.276Z"
   },
   {
    "duration": 48,
    "start_time": "2024-03-13T14:44:31.299Z"
   },
   {
    "duration": 67,
    "start_time": "2024-03-13T14:44:31.349Z"
   },
   {
    "duration": 57,
    "start_time": "2024-03-13T14:44:31.417Z"
   },
   {
    "duration": 22,
    "start_time": "2024-03-13T14:44:31.475Z"
   },
   {
    "duration": 26,
    "start_time": "2024-03-13T14:44:31.499Z"
   },
   {
    "duration": 128,
    "start_time": "2024-03-13T14:44:31.527Z"
   },
   {
    "duration": 65,
    "start_time": "2024-03-13T14:44:31.656Z"
   },
   {
    "duration": 160,
    "start_time": "2024-03-13T14:44:31.733Z"
   },
   {
    "duration": 148,
    "start_time": "2024-03-13T14:44:31.895Z"
   },
   {
    "duration": 142,
    "start_time": "2024-03-13T14:44:32.045Z"
   },
   {
    "duration": 54,
    "start_time": "2024-03-13T14:44:32.189Z"
   },
   {
    "duration": 22,
    "start_time": "2024-03-13T14:44:32.245Z"
   },
   {
    "duration": 19,
    "start_time": "2024-03-13T14:44:32.268Z"
   },
   {
    "duration": 9,
    "start_time": "2024-03-13T14:44:32.288Z"
   },
   {
    "duration": 216,
    "start_time": "2024-03-13T14:44:32.298Z"
   },
   {
    "duration": 185,
    "start_time": "2024-03-13T14:44:32.516Z"
   },
   {
    "duration": 55,
    "start_time": "2024-03-13T14:44:32.702Z"
   },
   {
    "duration": 3,
    "start_time": "2024-03-13T14:44:32.758Z"
   },
   {
    "duration": 35,
    "start_time": "2024-03-13T14:44:32.762Z"
   },
   {
    "duration": 27,
    "start_time": "2024-03-13T14:44:32.799Z"
   },
   {
    "duration": 24,
    "start_time": "2024-03-13T14:44:32.828Z"
   },
   {
    "duration": 30,
    "start_time": "2024-03-13T14:44:32.854Z"
   },
   {
    "duration": 6,
    "start_time": "2024-03-13T14:53:12.954Z"
   },
   {
    "duration": 1113,
    "start_time": "2024-03-13T15:00:37.011Z"
   },
   {
    "duration": 11,
    "start_time": "2024-03-13T15:00:38.126Z"
   },
   {
    "duration": 48,
    "start_time": "2024-03-13T15:00:38.145Z"
   },
   {
    "duration": 55,
    "start_time": "2024-03-13T15:00:38.195Z"
   },
   {
    "duration": 27,
    "start_time": "2024-03-13T15:00:38.252Z"
   },
   {
    "duration": 14,
    "start_time": "2024-03-13T15:00:38.281Z"
   },
   {
    "duration": 11,
    "start_time": "2024-03-13T15:00:38.296Z"
   },
   {
    "duration": 7,
    "start_time": "2024-03-13T15:00:38.309Z"
   },
   {
    "duration": 22,
    "start_time": "2024-03-13T15:00:38.318Z"
   },
   {
    "duration": 22,
    "start_time": "2024-03-13T15:00:38.342Z"
   },
   {
    "duration": 4,
    "start_time": "2024-03-13T15:00:38.365Z"
   },
   {
    "duration": 132,
    "start_time": "2024-03-13T15:00:38.370Z"
   },
   {
    "duration": 83,
    "start_time": "2024-03-13T15:00:38.504Z"
   },
   {
    "duration": 138,
    "start_time": "2024-03-13T15:00:38.590Z"
   },
   {
    "duration": 128,
    "start_time": "2024-03-13T15:00:38.734Z"
   },
   {
    "duration": 127,
    "start_time": "2024-03-13T15:00:38.864Z"
   },
   {
    "duration": 56,
    "start_time": "2024-03-13T15:00:38.993Z"
   },
   {
    "duration": 22,
    "start_time": "2024-03-13T15:00:39.051Z"
   },
   {
    "duration": 19,
    "start_time": "2024-03-13T15:00:39.075Z"
   },
   {
    "duration": 3,
    "start_time": "2024-03-13T15:00:39.095Z"
   },
   {
    "duration": 212,
    "start_time": "2024-03-13T15:00:39.100Z"
   },
   {
    "duration": 200,
    "start_time": "2024-03-13T15:00:39.314Z"
   },
   {
    "duration": 50,
    "start_time": "2024-03-13T15:00:39.516Z"
   },
   {
    "duration": 2,
    "start_time": "2024-03-13T15:00:39.568Z"
   },
   {
    "duration": 44,
    "start_time": "2024-03-13T15:00:39.571Z"
   },
   {
    "duration": 49,
    "start_time": "2024-03-13T15:00:39.616Z"
   },
   {
    "duration": 33,
    "start_time": "2024-03-13T15:00:39.666Z"
   },
   {
    "duration": 22,
    "start_time": "2024-03-13T15:00:39.701Z"
   },
   {
    "duration": 50,
    "start_time": "2024-03-14T04:29:54.483Z"
   },
   {
    "duration": 1325,
    "start_time": "2024-03-14T04:30:02.047Z"
   },
   {
    "duration": 3,
    "start_time": "2024-03-14T04:30:03.374Z"
   },
   {
    "duration": 118,
    "start_time": "2024-03-14T04:30:03.379Z"
   },
   {
    "duration": 182,
    "start_time": "2024-03-14T04:30:03.499Z"
   },
   {
    "duration": 71,
    "start_time": "2024-03-14T04:30:03.683Z"
   },
   {
    "duration": 13,
    "start_time": "2024-03-14T04:30:03.756Z"
   },
   {
    "duration": 6,
    "start_time": "2024-03-14T04:30:03.771Z"
   },
   {
    "duration": 11,
    "start_time": "2024-03-14T04:30:03.778Z"
   },
   {
    "duration": 8,
    "start_time": "2024-03-14T04:30:03.790Z"
   },
   {
    "duration": 9,
    "start_time": "2024-03-14T04:30:03.799Z"
   },
   {
    "duration": 22,
    "start_time": "2024-03-14T04:30:03.809Z"
   },
   {
    "duration": 3,
    "start_time": "2024-03-14T04:30:03.832Z"
   },
   {
    "duration": 139,
    "start_time": "2024-03-14T04:30:03.838Z"
   },
   {
    "duration": 71,
    "start_time": "2024-03-14T04:30:03.980Z"
   },
   {
    "duration": 154,
    "start_time": "2024-03-14T04:30:04.053Z"
   },
   {
    "duration": 140,
    "start_time": "2024-03-14T04:30:04.209Z"
   },
   {
    "duration": 153,
    "start_time": "2024-03-14T04:30:04.350Z"
   },
   {
    "duration": 45,
    "start_time": "2024-03-14T04:30:04.505Z"
   },
   {
    "duration": 35,
    "start_time": "2024-03-14T04:30:04.552Z"
   },
   {
    "duration": 20,
    "start_time": "2024-03-14T04:30:04.588Z"
   },
   {
    "duration": 3,
    "start_time": "2024-03-14T04:30:04.609Z"
   },
   {
    "duration": 210,
    "start_time": "2024-03-14T04:30:04.613Z"
   },
   {
    "duration": 194,
    "start_time": "2024-03-14T04:30:04.825Z"
   },
   {
    "duration": 59,
    "start_time": "2024-03-14T04:30:05.021Z"
   },
   {
    "duration": 2,
    "start_time": "2024-03-14T04:30:05.082Z"
   },
   {
    "duration": 13,
    "start_time": "2024-03-14T04:30:05.086Z"
   },
   {
    "duration": 10,
    "start_time": "2024-03-14T04:30:05.100Z"
   },
   {
    "duration": 16,
    "start_time": "2024-03-14T04:30:05.111Z"
   },
   {
    "duration": 14,
    "start_time": "2024-03-14T04:30:05.128Z"
   },
   {
    "duration": 124,
    "start_time": "2024-03-14T04:30:36.458Z"
   },
   {
    "duration": 156,
    "start_time": "2024-03-14T04:31:18.873Z"
   },
   {
    "duration": 221,
    "start_time": "2024-03-14T04:31:22.469Z"
   },
   {
    "duration": 155,
    "start_time": "2024-03-14T04:31:29.205Z"
   },
   {
    "duration": 140,
    "start_time": "2024-03-14T04:31:32.507Z"
   },
   {
    "duration": 144,
    "start_time": "2024-03-14T04:31:36.187Z"
   },
   {
    "duration": 133,
    "start_time": "2024-03-14T04:31:47.345Z"
   },
   {
    "duration": 128,
    "start_time": "2024-03-14T04:31:51.637Z"
   },
   {
    "duration": 131,
    "start_time": "2024-03-14T04:31:55.292Z"
   },
   {
    "duration": 135,
    "start_time": "2024-03-14T04:31:58.728Z"
   },
   {
    "duration": 146,
    "start_time": "2024-03-14T04:32:02.097Z"
   },
   {
    "duration": 140,
    "start_time": "2024-03-14T04:32:13.301Z"
   },
   {
    "duration": 3,
    "start_time": "2024-03-14T04:33:00.333Z"
   },
   {
    "duration": 193,
    "start_time": "2024-03-14T04:33:01.580Z"
   },
   {
    "duration": 202,
    "start_time": "2024-03-14T04:34:36.805Z"
   },
   {
    "duration": 63,
    "start_time": "2024-03-14T04:34:47.193Z"
   },
   {
    "duration": 56,
    "start_time": "2024-03-14T04:34:50.074Z"
   },
   {
    "duration": 8,
    "start_time": "2024-03-14T04:35:04.499Z"
   },
   {
    "duration": 420,
    "start_time": "2024-03-14T04:36:29.462Z"
   },
   {
    "duration": 76,
    "start_time": "2024-03-14T04:36:39.941Z"
   },
   {
    "duration": 74,
    "start_time": "2024-03-14T04:36:46.722Z"
   },
   {
    "duration": 147,
    "start_time": "2024-03-14T04:37:21.746Z"
   },
   {
    "duration": 78,
    "start_time": "2024-03-14T04:37:25.230Z"
   },
   {
    "duration": 73,
    "start_time": "2024-03-14T04:37:33.728Z"
   },
   {
    "duration": 74,
    "start_time": "2024-03-14T04:37:41.900Z"
   },
   {
    "duration": 82,
    "start_time": "2024-03-14T04:38:25.590Z"
   },
   {
    "duration": 80,
    "start_time": "2024-03-14T04:38:31.284Z"
   },
   {
    "duration": 76,
    "start_time": "2024-03-14T04:38:34.624Z"
   },
   {
    "duration": 11,
    "start_time": "2024-03-14T04:39:41.592Z"
   },
   {
    "duration": 6,
    "start_time": "2024-03-14T04:39:48.448Z"
   },
   {
    "duration": 6,
    "start_time": "2024-03-14T04:41:52.987Z"
   },
   {
    "duration": 123,
    "start_time": "2024-03-14T04:42:12.904Z"
   },
   {
    "duration": 3,
    "start_time": "2024-03-14T04:42:23.059Z"
   },
   {
    "duration": 4,
    "start_time": "2024-03-14T04:42:26.315Z"
   },
   {
    "duration": 142,
    "start_time": "2024-03-14T04:42:27.533Z"
   },
   {
    "duration": 140,
    "start_time": "2024-03-14T04:42:56.981Z"
   },
   {
    "duration": 227,
    "start_time": "2024-03-14T04:43:00.273Z"
   },
   {
    "duration": 16,
    "start_time": "2024-03-14T04:44:47.159Z"
   },
   {
    "duration": 138,
    "start_time": "2024-03-14T04:44:57.919Z"
   },
   {
    "duration": 133,
    "start_time": "2024-03-14T04:45:00.952Z"
   },
   {
    "duration": 387,
    "start_time": "2024-03-14T04:48:48.011Z"
   },
   {
    "duration": 160,
    "start_time": "2024-03-14T04:49:01.715Z"
   },
   {
    "duration": 152,
    "start_time": "2024-03-14T04:49:30.466Z"
   },
   {
    "duration": 149,
    "start_time": "2024-03-14T04:49:37.726Z"
   },
   {
    "duration": 153,
    "start_time": "2024-03-14T04:51:22.533Z"
   },
   {
    "duration": 154,
    "start_time": "2024-03-14T04:51:29.101Z"
   },
   {
    "duration": 171,
    "start_time": "2024-03-14T04:51:43.265Z"
   },
   {
    "duration": 79,
    "start_time": "2024-03-14T04:54:03.051Z"
   },
   {
    "duration": 231,
    "start_time": "2024-03-14T04:54:46.657Z"
   },
   {
    "duration": 161,
    "start_time": "2024-03-14T04:55:44.574Z"
   },
   {
    "duration": 170,
    "start_time": "2024-03-14T04:55:47.686Z"
   },
   {
    "duration": 4,
    "start_time": "2024-03-14T04:56:36.617Z"
   },
   {
    "duration": 152,
    "start_time": "2024-03-14T04:56:39.473Z"
   },
   {
    "duration": 151,
    "start_time": "2024-03-14T04:56:59.726Z"
   },
   {
    "duration": 146,
    "start_time": "2024-03-14T04:59:11.049Z"
   },
   {
    "duration": 150,
    "start_time": "2024-03-14T04:59:18.299Z"
   },
   {
    "duration": 164,
    "start_time": "2024-03-14T05:01:27.635Z"
   },
   {
    "duration": 3,
    "start_time": "2024-03-14T05:01:39.434Z"
   },
   {
    "duration": 15,
    "start_time": "2024-03-14T05:01:39.439Z"
   },
   {
    "duration": 47,
    "start_time": "2024-03-14T05:01:39.455Z"
   },
   {
    "duration": 45,
    "start_time": "2024-03-14T05:01:39.503Z"
   },
   {
    "duration": 33,
    "start_time": "2024-03-14T05:01:39.550Z"
   },
   {
    "duration": 14,
    "start_time": "2024-03-14T05:01:39.586Z"
   },
   {
    "duration": 19,
    "start_time": "2024-03-14T05:01:39.602Z"
   },
   {
    "duration": 11,
    "start_time": "2024-03-14T05:01:39.623Z"
   },
   {
    "duration": 9,
    "start_time": "2024-03-14T05:01:39.636Z"
   },
   {
    "duration": 5,
    "start_time": "2024-03-14T05:01:39.647Z"
   },
   {
    "duration": 34,
    "start_time": "2024-03-14T05:01:39.653Z"
   },
   {
    "duration": 5,
    "start_time": "2024-03-14T05:01:39.689Z"
   },
   {
    "duration": 206,
    "start_time": "2024-03-14T05:01:39.696Z"
   },
   {
    "duration": 98,
    "start_time": "2024-03-14T05:01:39.905Z"
   },
   {
    "duration": 183,
    "start_time": "2024-03-14T05:01:40.005Z"
   },
   {
    "duration": 248,
    "start_time": "2024-03-14T05:01:40.190Z"
   },
   {
    "duration": 192,
    "start_time": "2024-03-14T05:01:40.440Z"
   },
   {
    "duration": 59,
    "start_time": "2024-03-14T05:01:40.634Z"
   },
   {
    "duration": 24,
    "start_time": "2024-03-14T05:01:40.695Z"
   },
   {
    "duration": 21,
    "start_time": "2024-03-14T05:01:40.721Z"
   },
   {
    "duration": 29,
    "start_time": "2024-03-14T05:01:40.744Z"
   },
   {
    "duration": 226,
    "start_time": "2024-03-14T05:01:40.775Z"
   },
   {
    "duration": 210,
    "start_time": "2024-03-14T05:01:41.004Z"
   },
   {
    "duration": 61,
    "start_time": "2024-03-14T05:01:41.215Z"
   },
   {
    "duration": 7,
    "start_time": "2024-03-14T05:01:41.278Z"
   },
   {
    "duration": 5,
    "start_time": "2024-03-14T05:01:41.288Z"
   },
   {
    "duration": 10,
    "start_time": "2024-03-14T05:01:41.294Z"
   },
   {
    "duration": 5,
    "start_time": "2024-03-14T05:01:41.305Z"
   },
   {
    "duration": 12,
    "start_time": "2024-03-14T05:01:41.312Z"
   },
   {
    "duration": 155,
    "start_time": "2024-03-14T05:04:54.722Z"
   },
   {
    "duration": 149,
    "start_time": "2024-03-14T05:05:02.868Z"
   },
   {
    "duration": 161,
    "start_time": "2024-03-14T05:05:12.875Z"
   },
   {
    "duration": 4,
    "start_time": "2024-03-14T05:06:19.926Z"
   },
   {
    "duration": 153,
    "start_time": "2024-03-14T05:06:21.470Z"
   },
   {
    "duration": 84,
    "start_time": "2024-03-14T05:06:23.661Z"
   },
   {
    "duration": 143,
    "start_time": "2024-03-14T05:07:10.648Z"
   },
   {
    "duration": 3,
    "start_time": "2024-03-14T05:07:19.733Z"
   },
   {
    "duration": 3,
    "start_time": "2024-03-14T05:07:27.017Z"
   },
   {
    "duration": 153,
    "start_time": "2024-03-14T05:07:27.970Z"
   },
   {
    "duration": 173,
    "start_time": "2024-03-14T05:07:29.229Z"
   },
   {
    "duration": 154,
    "start_time": "2024-03-14T05:07:31.022Z"
   },
   {
    "duration": 147,
    "start_time": "2024-03-14T05:07:31.894Z"
   },
   {
    "duration": 4,
    "start_time": "2024-03-14T05:07:44.975Z"
   },
   {
    "duration": 153,
    "start_time": "2024-03-14T05:07:54.389Z"
   },
   {
    "duration": 13,
    "start_time": "2024-03-14T05:08:36.422Z"
   },
   {
    "duration": 3,
    "start_time": "2024-03-14T05:08:41.030Z"
   },
   {
    "duration": 7,
    "start_time": "2024-03-14T05:08:41.035Z"
   },
   {
    "duration": 47,
    "start_time": "2024-03-14T05:08:41.043Z"
   },
   {
    "duration": 45,
    "start_time": "2024-03-14T05:08:41.092Z"
   },
   {
    "duration": 28,
    "start_time": "2024-03-14T05:08:41.138Z"
   },
   {
    "duration": 15,
    "start_time": "2024-03-14T05:08:41.172Z"
   },
   {
    "duration": 6,
    "start_time": "2024-03-14T05:08:41.189Z"
   },
   {
    "duration": 12,
    "start_time": "2024-03-14T05:08:41.197Z"
   },
   {
    "duration": 8,
    "start_time": "2024-03-14T05:08:41.211Z"
   },
   {
    "duration": 5,
    "start_time": "2024-03-14T05:08:41.223Z"
   },
   {
    "duration": 47,
    "start_time": "2024-03-14T05:08:41.230Z"
   },
   {
    "duration": 14,
    "start_time": "2024-03-14T05:08:41.279Z"
   },
   {
    "duration": 170,
    "start_time": "2024-03-14T05:08:41.294Z"
   },
   {
    "duration": 86,
    "start_time": "2024-03-14T05:08:41.465Z"
   },
   {
    "duration": 178,
    "start_time": "2024-03-14T05:08:41.553Z"
   },
   {
    "duration": 161,
    "start_time": "2024-03-14T05:08:41.733Z"
   },
   {
    "duration": 152,
    "start_time": "2024-03-14T05:08:41.896Z"
   },
   {
    "duration": 193,
    "start_time": "2024-03-14T05:08:42.050Z"
   },
   {
    "duration": 48,
    "start_time": "2024-03-14T05:08:42.245Z"
   },
   {
    "duration": 22,
    "start_time": "2024-03-14T05:08:42.295Z"
   },
   {
    "duration": 19,
    "start_time": "2024-03-14T05:08:42.319Z"
   },
   {
    "duration": 3,
    "start_time": "2024-03-14T05:08:42.339Z"
   },
   {
    "duration": 189,
    "start_time": "2024-03-14T05:08:42.372Z"
   },
   {
    "duration": 302,
    "start_time": "2024-03-14T05:08:42.563Z"
   },
   {
    "duration": 53,
    "start_time": "2024-03-14T05:08:42.867Z"
   },
   {
    "duration": 2,
    "start_time": "2024-03-14T05:08:42.922Z"
   },
   {
    "duration": 13,
    "start_time": "2024-03-14T05:08:42.926Z"
   },
   {
    "duration": 10,
    "start_time": "2024-03-14T05:08:42.942Z"
   },
   {
    "duration": 20,
    "start_time": "2024-03-14T05:08:42.953Z"
   },
   {
    "duration": 12,
    "start_time": "2024-03-14T05:08:42.975Z"
   },
   {
    "duration": 176,
    "start_time": "2024-03-14T05:10:19.904Z"
   },
   {
    "duration": 178,
    "start_time": "2024-03-14T05:10:42.102Z"
   },
   {
    "duration": 195,
    "start_time": "2024-03-14T05:10:46.140Z"
   },
   {
    "duration": 171,
    "start_time": "2024-03-14T05:11:04.670Z"
   },
   {
    "duration": 202,
    "start_time": "2024-03-14T05:11:52.151Z"
   },
   {
    "duration": 174,
    "start_time": "2024-03-14T05:13:13.810Z"
   },
   {
    "duration": 165,
    "start_time": "2024-03-14T05:13:19.216Z"
   },
   {
    "duration": 163,
    "start_time": "2024-03-14T05:13:25.886Z"
   },
   {
    "duration": 257,
    "start_time": "2024-03-14T05:13:31.437Z"
   },
   {
    "duration": 279,
    "start_time": "2024-03-14T05:13:34.337Z"
   },
   {
    "duration": 196,
    "start_time": "2024-03-14T05:13:38.090Z"
   },
   {
    "duration": 155,
    "start_time": "2024-03-14T05:13:44.267Z"
   },
   {
    "duration": 178,
    "start_time": "2024-03-14T05:13:48.936Z"
   },
   {
    "duration": 177,
    "start_time": "2024-03-14T05:14:18.833Z"
   },
   {
    "duration": 199,
    "start_time": "2024-03-14T05:43:01.033Z"
   },
   {
    "duration": 136,
    "start_time": "2024-03-14T05:45:05.466Z"
   },
   {
    "duration": 162,
    "start_time": "2024-03-14T05:45:13.226Z"
   },
   {
    "duration": 160,
    "start_time": "2024-03-14T05:45:28.541Z"
   },
   {
    "duration": 129,
    "start_time": "2024-03-14T06:00:24.538Z"
   },
   {
    "duration": 112,
    "start_time": "2024-03-14T06:00:29.525Z"
   },
   {
    "duration": 215,
    "start_time": "2024-03-14T06:00:40.107Z"
   },
   {
    "duration": 131,
    "start_time": "2024-03-14T06:00:43.206Z"
   },
   {
    "duration": 126,
    "start_time": "2024-03-14T06:01:00.707Z"
   },
   {
    "duration": 14,
    "start_time": "2024-03-14T06:01:12.928Z"
   },
   {
    "duration": 150,
    "start_time": "2024-03-14T06:01:58.731Z"
   },
   {
    "duration": 51,
    "start_time": "2024-03-14T06:10:42.884Z"
   },
   {
    "duration": 160,
    "start_time": "2024-03-14T06:10:46.368Z"
   },
   {
    "duration": 3,
    "start_time": "2024-03-14T06:10:57.489Z"
   },
   {
    "duration": 11,
    "start_time": "2024-03-14T06:10:57.494Z"
   },
   {
    "duration": 45,
    "start_time": "2024-03-14T06:10:57.506Z"
   },
   {
    "duration": 57,
    "start_time": "2024-03-14T06:10:57.553Z"
   },
   {
    "duration": 27,
    "start_time": "2024-03-14T06:10:57.611Z"
   },
   {
    "duration": 14,
    "start_time": "2024-03-14T06:10:57.639Z"
   },
   {
    "duration": 19,
    "start_time": "2024-03-14T06:10:57.655Z"
   },
   {
    "duration": 19,
    "start_time": "2024-03-14T06:10:57.677Z"
   },
   {
    "duration": 9,
    "start_time": "2024-03-14T06:10:57.698Z"
   },
   {
    "duration": 6,
    "start_time": "2024-03-14T06:10:57.710Z"
   },
   {
    "duration": 9,
    "start_time": "2024-03-14T06:10:57.717Z"
   },
   {
    "duration": 3,
    "start_time": "2024-03-14T06:10:57.728Z"
   },
   {
    "duration": 215,
    "start_time": "2024-03-14T06:10:57.733Z"
   },
   {
    "duration": 105,
    "start_time": "2024-03-14T06:10:57.950Z"
   },
   {
    "duration": 226,
    "start_time": "2024-03-14T06:10:58.057Z"
   },
   {
    "duration": 215,
    "start_time": "2024-03-14T06:10:58.287Z"
   },
   {
    "duration": 305,
    "start_time": "2024-03-14T06:10:58.504Z"
   },
   {
    "duration": 155,
    "start_time": "2024-03-14T06:10:58.810Z"
   },
   {
    "duration": 61,
    "start_time": "2024-03-14T06:10:58.966Z"
   },
   {
    "duration": 87,
    "start_time": "2024-03-14T06:10:59.029Z"
   },
   {
    "duration": 29,
    "start_time": "2024-03-14T06:10:59.117Z"
   },
   {
    "duration": 58,
    "start_time": "2024-03-14T06:10:59.147Z"
   },
   {
    "duration": 3,
    "start_time": "2024-03-14T06:10:59.207Z"
   },
   {
    "duration": 235,
    "start_time": "2024-03-14T06:10:59.212Z"
   },
   {
    "duration": 204,
    "start_time": "2024-03-14T06:10:59.448Z"
   },
   {
    "duration": 75,
    "start_time": "2024-03-14T06:10:59.654Z"
   },
   {
    "duration": 2,
    "start_time": "2024-03-14T06:10:59.731Z"
   },
   {
    "duration": 7,
    "start_time": "2024-03-14T06:10:59.736Z"
   },
   {
    "duration": 10,
    "start_time": "2024-03-14T06:10:59.744Z"
   },
   {
    "duration": 9,
    "start_time": "2024-03-14T06:10:59.755Z"
   },
   {
    "duration": 30,
    "start_time": "2024-03-14T06:10:59.774Z"
   },
   {
    "duration": 7,
    "start_time": "2024-03-14T06:12:16.058Z"
   },
   {
    "duration": 3,
    "start_time": "2024-03-14T06:12:18.618Z"
   },
   {
    "duration": 11,
    "start_time": "2024-03-14T06:12:18.623Z"
   },
   {
    "duration": 45,
    "start_time": "2024-03-14T06:12:18.635Z"
   },
   {
    "duration": 46,
    "start_time": "2024-03-14T06:12:18.681Z"
   },
   {
    "duration": 28,
    "start_time": "2024-03-14T06:12:18.730Z"
   },
   {
    "duration": 15,
    "start_time": "2024-03-14T06:12:18.759Z"
   },
   {
    "duration": 6,
    "start_time": "2024-03-14T06:12:18.776Z"
   },
   {
    "duration": 12,
    "start_time": "2024-03-14T06:12:18.784Z"
   },
   {
    "duration": 10,
    "start_time": "2024-03-14T06:12:18.797Z"
   },
   {
    "duration": 9,
    "start_time": "2024-03-14T06:12:18.809Z"
   },
   {
    "duration": 9,
    "start_time": "2024-03-14T06:12:18.820Z"
   },
   {
    "duration": 5,
    "start_time": "2024-03-14T06:12:18.831Z"
   },
   {
    "duration": 187,
    "start_time": "2024-03-14T06:12:18.838Z"
   },
   {
    "duration": 93,
    "start_time": "2024-03-14T06:12:19.028Z"
   },
   {
    "duration": 180,
    "start_time": "2024-03-14T06:12:19.122Z"
   },
   {
    "duration": 200,
    "start_time": "2024-03-14T06:12:19.304Z"
   },
   {
    "duration": 209,
    "start_time": "2024-03-14T06:12:19.506Z"
   },
   {
    "duration": 252,
    "start_time": "2024-03-14T06:12:19.717Z"
   },
   {
    "duration": 47,
    "start_time": "2024-03-14T06:12:19.972Z"
   },
   {
    "duration": 73,
    "start_time": "2024-03-14T06:12:20.021Z"
   },
   {
    "duration": 32,
    "start_time": "2024-03-14T06:12:20.096Z"
   },
   {
    "duration": 45,
    "start_time": "2024-03-14T06:12:20.130Z"
   },
   {
    "duration": 3,
    "start_time": "2024-03-14T06:12:20.177Z"
   },
   {
    "duration": 201,
    "start_time": "2024-03-14T06:12:20.181Z"
   },
   {
    "duration": 191,
    "start_time": "2024-03-14T06:12:20.384Z"
   },
   {
    "duration": 56,
    "start_time": "2024-03-14T06:12:20.577Z"
   },
   {
    "duration": 2,
    "start_time": "2024-03-14T06:12:20.634Z"
   },
   {
    "duration": 17,
    "start_time": "2024-03-14T06:12:20.638Z"
   },
   {
    "duration": 21,
    "start_time": "2024-03-14T06:12:20.656Z"
   },
   {
    "duration": 5,
    "start_time": "2024-03-14T06:12:20.678Z"
   },
   {
    "duration": 15,
    "start_time": "2024-03-14T06:12:20.684Z"
   },
   {
    "duration": 1138,
    "start_time": "2024-03-14T06:13:41.313Z"
   },
   {
    "duration": 3,
    "start_time": "2024-03-14T06:13:42.453Z"
   },
   {
    "duration": 52,
    "start_time": "2024-03-14T06:13:42.457Z"
   },
   {
    "duration": 47,
    "start_time": "2024-03-14T06:13:42.511Z"
   },
   {
    "duration": 28,
    "start_time": "2024-03-14T06:13:42.560Z"
   },
   {
    "duration": 14,
    "start_time": "2024-03-14T06:13:42.589Z"
   },
   {
    "duration": 6,
    "start_time": "2024-03-14T06:13:42.605Z"
   },
   {
    "duration": 14,
    "start_time": "2024-03-14T06:13:42.612Z"
   },
   {
    "duration": 7,
    "start_time": "2024-03-14T06:13:42.628Z"
   },
   {
    "duration": 6,
    "start_time": "2024-03-14T06:13:42.637Z"
   },
   {
    "duration": 8,
    "start_time": "2024-03-14T06:13:42.673Z"
   },
   {
    "duration": 6,
    "start_time": "2024-03-14T06:13:42.683Z"
   },
   {
    "duration": 179,
    "start_time": "2024-03-14T06:13:42.690Z"
   },
   {
    "duration": 80,
    "start_time": "2024-03-14T06:13:42.873Z"
   },
   {
    "duration": 196,
    "start_time": "2024-03-14T06:13:42.954Z"
   },
   {
    "duration": 210,
    "start_time": "2024-03-14T06:13:43.152Z"
   },
   {
    "duration": 225,
    "start_time": "2024-03-14T06:13:43.364Z"
   },
   {
    "duration": 163,
    "start_time": "2024-03-14T06:13:43.591Z"
   },
   {
    "duration": 6,
    "start_time": "2024-03-14T06:13:43.756Z"
   },
   {
    "duration": 55,
    "start_time": "2024-03-14T06:13:43.764Z"
   },
   {
    "duration": 24,
    "start_time": "2024-03-14T06:13:43.820Z"
   },
   {
    "duration": 46,
    "start_time": "2024-03-14T06:13:43.846Z"
   },
   {
    "duration": 3,
    "start_time": "2024-03-14T06:13:43.893Z"
   },
   {
    "duration": 223,
    "start_time": "2024-03-14T06:13:43.898Z"
   },
   {
    "duration": 201,
    "start_time": "2024-03-14T06:13:44.123Z"
   },
   {
    "duration": 59,
    "start_time": "2024-03-14T06:13:44.325Z"
   },
   {
    "duration": 2,
    "start_time": "2024-03-14T06:13:44.386Z"
   },
   {
    "duration": 7,
    "start_time": "2024-03-14T06:13:44.391Z"
   },
   {
    "duration": 22,
    "start_time": "2024-03-14T06:13:44.399Z"
   },
   {
    "duration": 4,
    "start_time": "2024-03-14T06:13:44.423Z"
   },
   {
    "duration": 13,
    "start_time": "2024-03-14T06:13:44.429Z"
   },
   {
    "duration": 5,
    "start_time": "2024-03-14T06:14:10.407Z"
   },
   {
    "duration": 146,
    "start_time": "2024-03-14T06:14:20.707Z"
   },
   {
    "duration": 4,
    "start_time": "2024-03-14T06:14:23.523Z"
   },
   {
    "duration": 7,
    "start_time": "2024-03-14T06:14:23.529Z"
   },
   {
    "duration": 60,
    "start_time": "2024-03-14T06:14:23.538Z"
   },
   {
    "duration": 47,
    "start_time": "2024-03-14T06:14:23.601Z"
   },
   {
    "duration": 28,
    "start_time": "2024-03-14T06:14:23.650Z"
   },
   {
    "duration": 15,
    "start_time": "2024-03-14T06:14:23.680Z"
   },
   {
    "duration": 7,
    "start_time": "2024-03-14T06:14:23.697Z"
   },
   {
    "duration": 11,
    "start_time": "2024-03-14T06:14:23.706Z"
   },
   {
    "duration": 116,
    "start_time": "2024-03-14T06:14:23.719Z"
   },
   {
    "duration": 6,
    "start_time": "2024-03-14T06:14:23.838Z"
   },
   {
    "duration": 29,
    "start_time": "2024-03-14T06:14:23.846Z"
   },
   {
    "duration": 4,
    "start_time": "2024-03-14T06:14:23.877Z"
   },
   {
    "duration": 176,
    "start_time": "2024-03-14T06:14:23.882Z"
   },
   {
    "duration": 91,
    "start_time": "2024-03-14T06:14:24.059Z"
   },
   {
    "duration": 205,
    "start_time": "2024-03-14T06:14:24.152Z"
   },
   {
    "duration": 199,
    "start_time": "2024-03-14T06:14:24.359Z"
   },
   {
    "duration": 213,
    "start_time": "2024-03-14T06:14:24.560Z"
   },
   {
    "duration": 152,
    "start_time": "2024-03-14T06:14:24.774Z"
   },
   {
    "duration": 5,
    "start_time": "2024-03-14T06:14:24.928Z"
   },
   {
    "duration": 65,
    "start_time": "2024-03-14T06:14:24.934Z"
   },
   {
    "duration": 32,
    "start_time": "2024-03-14T06:14:25.000Z"
   },
   {
    "duration": 42,
    "start_time": "2024-03-14T06:14:25.033Z"
   },
   {
    "duration": 3,
    "start_time": "2024-03-14T06:14:25.076Z"
   },
   {
    "duration": 199,
    "start_time": "2024-03-14T06:14:25.081Z"
   },
   {
    "duration": 206,
    "start_time": "2024-03-14T06:14:25.282Z"
   },
   {
    "duration": 55,
    "start_time": "2024-03-14T06:14:25.489Z"
   },
   {
    "duration": 3,
    "start_time": "2024-03-14T06:14:25.547Z"
   },
   {
    "duration": 20,
    "start_time": "2024-03-14T06:14:25.553Z"
   },
   {
    "duration": 11,
    "start_time": "2024-03-14T06:14:25.574Z"
   },
   {
    "duration": 5,
    "start_time": "2024-03-14T06:14:25.586Z"
   },
   {
    "duration": 24,
    "start_time": "2024-03-14T06:14:25.592Z"
   },
   {
    "duration": 139,
    "start_time": "2024-03-14T06:15:47.658Z"
   },
   {
    "duration": 3,
    "start_time": "2024-03-14T06:15:52.315Z"
   },
   {
    "duration": 5,
    "start_time": "2024-03-14T06:15:52.320Z"
   },
   {
    "duration": 49,
    "start_time": "2024-03-14T06:15:52.326Z"
   },
   {
    "duration": 45,
    "start_time": "2024-03-14T06:15:52.376Z"
   },
   {
    "duration": 28,
    "start_time": "2024-03-14T06:15:52.423Z"
   },
   {
    "duration": 14,
    "start_time": "2024-03-14T06:15:52.452Z"
   },
   {
    "duration": 7,
    "start_time": "2024-03-14T06:15:52.467Z"
   },
   {
    "duration": 14,
    "start_time": "2024-03-14T06:15:52.475Z"
   },
   {
    "duration": 13,
    "start_time": "2024-03-14T06:15:52.490Z"
   },
   {
    "duration": 16,
    "start_time": "2024-03-14T06:15:52.504Z"
   },
   {
    "duration": 68,
    "start_time": "2024-03-14T06:15:52.521Z"
   },
   {
    "duration": 15,
    "start_time": "2024-03-14T06:15:52.591Z"
   },
   {
    "duration": 183,
    "start_time": "2024-03-14T06:15:52.607Z"
   },
   {
    "duration": 95,
    "start_time": "2024-03-14T06:15:52.795Z"
   },
   {
    "duration": 267,
    "start_time": "2024-03-14T06:15:52.892Z"
   },
   {
    "duration": 207,
    "start_time": "2024-03-14T06:15:53.161Z"
   },
   {
    "duration": 233,
    "start_time": "2024-03-14T06:15:53.372Z"
   },
   {
    "duration": 151,
    "start_time": "2024-03-14T06:15:53.607Z"
   },
   {
    "duration": 5,
    "start_time": "2024-03-14T06:15:53.759Z"
   },
   {
    "duration": 44,
    "start_time": "2024-03-14T06:15:53.773Z"
   },
   {
    "duration": 24,
    "start_time": "2024-03-14T06:15:53.818Z"
   },
   {
    "duration": 41,
    "start_time": "2024-03-14T06:15:53.844Z"
   },
   {
    "duration": 3,
    "start_time": "2024-03-14T06:15:53.887Z"
   },
   {
    "duration": 219,
    "start_time": "2024-03-14T06:15:53.891Z"
   },
   {
    "duration": 196,
    "start_time": "2024-03-14T06:15:54.111Z"
   },
   {
    "duration": 49,
    "start_time": "2024-03-14T06:15:54.308Z"
   },
   {
    "duration": 15,
    "start_time": "2024-03-14T06:15:54.359Z"
   },
   {
    "duration": 6,
    "start_time": "2024-03-14T06:15:54.375Z"
   },
   {
    "duration": 10,
    "start_time": "2024-03-14T06:15:54.383Z"
   },
   {
    "duration": 8,
    "start_time": "2024-03-14T06:15:54.394Z"
   },
   {
    "duration": 33,
    "start_time": "2024-03-14T06:15:54.403Z"
   },
   {
    "duration": 228,
    "start_time": "2024-03-14T06:18:20.287Z"
   },
   {
    "duration": 234,
    "start_time": "2024-03-14T06:18:51.837Z"
   },
   {
    "duration": 217,
    "start_time": "2024-03-14T06:19:20.499Z"
   },
   {
    "duration": 249,
    "start_time": "2024-03-14T06:20:40.656Z"
   },
   {
    "duration": 334,
    "start_time": "2024-03-14T06:21:15.752Z"
   },
   {
    "duration": 239,
    "start_time": "2024-03-14T06:24:07.559Z"
   },
   {
    "duration": 53,
    "start_time": "2024-03-14T06:26:53.281Z"
   },
   {
    "duration": 144,
    "start_time": "2024-03-14T06:27:08.744Z"
   },
   {
    "duration": 49,
    "start_time": "2024-03-14T06:27:22.338Z"
   },
   {
    "duration": 2,
    "start_time": "2024-03-14T06:28:14.509Z"
   },
   {
    "duration": 8,
    "start_time": "2024-03-14T06:28:14.514Z"
   },
   {
    "duration": 46,
    "start_time": "2024-03-14T06:28:14.524Z"
   },
   {
    "duration": 46,
    "start_time": "2024-03-14T06:28:14.571Z"
   },
   {
    "duration": 27,
    "start_time": "2024-03-14T06:28:14.620Z"
   },
   {
    "duration": 13,
    "start_time": "2024-03-14T06:28:14.649Z"
   },
   {
    "duration": 9,
    "start_time": "2024-03-14T06:28:14.664Z"
   },
   {
    "duration": 11,
    "start_time": "2024-03-14T06:28:14.675Z"
   },
   {
    "duration": 9,
    "start_time": "2024-03-14T06:28:14.688Z"
   },
   {
    "duration": 7,
    "start_time": "2024-03-14T06:28:14.698Z"
   },
   {
    "duration": 11,
    "start_time": "2024-03-14T06:28:14.706Z"
   },
   {
    "duration": 12,
    "start_time": "2024-03-14T06:28:14.719Z"
   },
   {
    "duration": 182,
    "start_time": "2024-03-14T06:28:14.733Z"
   },
   {
    "duration": 96,
    "start_time": "2024-03-14T06:28:14.918Z"
   },
   {
    "duration": 185,
    "start_time": "2024-03-14T06:28:15.016Z"
   },
   {
    "duration": 209,
    "start_time": "2024-03-14T06:28:15.203Z"
   },
   {
    "duration": 205,
    "start_time": "2024-03-14T06:28:15.414Z"
   },
   {
    "duration": 146,
    "start_time": "2024-03-14T06:28:15.621Z"
   },
   {
    "duration": 5,
    "start_time": "2024-03-14T06:28:15.772Z"
   },
   {
    "duration": 57,
    "start_time": "2024-03-14T06:28:15.778Z"
   },
   {
    "duration": 23,
    "start_time": "2024-03-14T06:28:15.837Z"
   },
   {
    "duration": 29,
    "start_time": "2024-03-14T06:28:15.862Z"
   },
   {
    "duration": 15,
    "start_time": "2024-03-14T06:28:15.892Z"
   },
   {
    "duration": 275,
    "start_time": "2024-03-14T06:28:15.909Z"
   },
   {
    "duration": 258,
    "start_time": "2024-03-14T06:28:16.186Z"
   },
   {
    "duration": 57,
    "start_time": "2024-03-14T06:28:16.446Z"
   },
   {
    "duration": 2,
    "start_time": "2024-03-14T06:28:16.505Z"
   },
   {
    "duration": 6,
    "start_time": "2024-03-14T06:28:16.508Z"
   },
   {
    "duration": 22,
    "start_time": "2024-03-14T06:28:16.516Z"
   },
   {
    "duration": 6,
    "start_time": "2024-03-14T06:28:16.539Z"
   },
   {
    "duration": 12,
    "start_time": "2024-03-14T06:28:16.547Z"
   },
   {
    "duration": 1161,
    "start_time": "2024-03-14T07:05:12.597Z"
   },
   {
    "duration": 3,
    "start_time": "2024-03-14T07:05:13.761Z"
   },
   {
    "duration": 59,
    "start_time": "2024-03-14T07:05:13.766Z"
   },
   {
    "duration": 49,
    "start_time": "2024-03-14T07:05:13.826Z"
   },
   {
    "duration": 28,
    "start_time": "2024-03-14T07:05:13.877Z"
   },
   {
    "duration": 14,
    "start_time": "2024-03-14T07:05:13.906Z"
   },
   {
    "duration": 6,
    "start_time": "2024-03-14T07:05:13.922Z"
   },
   {
    "duration": 12,
    "start_time": "2024-03-14T07:05:13.929Z"
   },
   {
    "duration": 30,
    "start_time": "2024-03-14T07:05:13.943Z"
   },
   {
    "duration": 6,
    "start_time": "2024-03-14T07:05:13.975Z"
   },
   {
    "duration": 38,
    "start_time": "2024-03-14T07:05:13.983Z"
   },
   {
    "duration": 20,
    "start_time": "2024-03-14T07:05:14.023Z"
   },
   {
    "duration": 191,
    "start_time": "2024-03-14T07:05:14.044Z"
   },
   {
    "duration": 94,
    "start_time": "2024-03-14T07:05:14.238Z"
   },
   {
    "duration": 189,
    "start_time": "2024-03-14T07:05:14.334Z"
   },
   {
    "duration": 199,
    "start_time": "2024-03-14T07:05:14.525Z"
   },
   {
    "duration": 202,
    "start_time": "2024-03-14T07:05:14.726Z"
   },
   {
    "duration": 152,
    "start_time": "2024-03-14T07:05:14.930Z"
   },
   {
    "duration": 5,
    "start_time": "2024-03-14T07:05:15.084Z"
   },
   {
    "duration": 108,
    "start_time": "2024-03-14T07:05:15.091Z"
   },
   {
    "duration": 24,
    "start_time": "2024-03-14T07:05:15.200Z"
   },
   {
    "duration": 20,
    "start_time": "2024-03-14T07:05:15.225Z"
   },
   {
    "duration": 4,
    "start_time": "2024-03-14T07:05:15.246Z"
   },
   {
    "duration": 313,
    "start_time": "2024-03-14T07:05:15.273Z"
   },
   {
    "duration": 251,
    "start_time": "2024-03-14T07:05:15.587Z"
   },
   {
    "duration": 135,
    "start_time": "2024-03-14T07:05:15.840Z"
   },
   {
    "duration": 2,
    "start_time": "2024-03-14T07:05:15.977Z"
   },
   {
    "duration": 4,
    "start_time": "2024-03-14T07:05:15.981Z"
   },
   {
    "duration": 21,
    "start_time": "2024-03-14T07:05:15.987Z"
   },
   {
    "duration": 5,
    "start_time": "2024-03-14T07:05:16.010Z"
   },
   {
    "duration": 16,
    "start_time": "2024-03-14T07:05:16.017Z"
   },
   {
    "duration": 1183,
    "start_time": "2024-03-14T07:33:02.101Z"
   },
   {
    "duration": 3,
    "start_time": "2024-03-14T07:33:03.286Z"
   },
   {
    "duration": 56,
    "start_time": "2024-03-14T07:33:03.291Z"
   },
   {
    "duration": 50,
    "start_time": "2024-03-14T07:33:03.349Z"
   },
   {
    "duration": 31,
    "start_time": "2024-03-14T07:33:03.401Z"
   },
   {
    "duration": 14,
    "start_time": "2024-03-14T07:33:03.434Z"
   },
   {
    "duration": 8,
    "start_time": "2024-03-14T07:33:03.450Z"
   },
   {
    "duration": 12,
    "start_time": "2024-03-14T07:33:03.473Z"
   },
   {
    "duration": 9,
    "start_time": "2024-03-14T07:33:03.487Z"
   },
   {
    "duration": 7,
    "start_time": "2024-03-14T07:33:03.499Z"
   },
   {
    "duration": 11,
    "start_time": "2024-03-14T07:33:03.507Z"
   },
   {
    "duration": 6,
    "start_time": "2024-03-14T07:33:03.520Z"
   },
   {
    "duration": 209,
    "start_time": "2024-03-14T07:33:03.528Z"
   },
   {
    "duration": 92,
    "start_time": "2024-03-14T07:33:03.739Z"
   },
   {
    "duration": 205,
    "start_time": "2024-03-14T07:33:03.833Z"
   },
   {
    "duration": 214,
    "start_time": "2024-03-14T07:33:04.040Z"
   },
   {
    "duration": 232,
    "start_time": "2024-03-14T07:33:04.256Z"
   },
   {
    "duration": 160,
    "start_time": "2024-03-14T07:33:04.490Z"
   },
   {
    "duration": 6,
    "start_time": "2024-03-14T07:33:04.651Z"
   },
   {
    "duration": 57,
    "start_time": "2024-03-14T07:33:04.658Z"
   },
   {
    "duration": 23,
    "start_time": "2024-03-14T07:33:04.717Z"
   },
   {
    "duration": 41,
    "start_time": "2024-03-14T07:33:04.742Z"
   },
   {
    "duration": 3,
    "start_time": "2024-03-14T07:33:04.785Z"
   },
   {
    "duration": 267,
    "start_time": "2024-03-14T07:33:04.789Z"
   },
   {
    "duration": 245,
    "start_time": "2024-03-14T07:33:05.057Z"
   },
   {
    "duration": 138,
    "start_time": "2024-03-14T07:33:05.304Z"
   },
   {
    "duration": 2,
    "start_time": "2024-03-14T07:33:05.444Z"
   },
   {
    "duration": 24,
    "start_time": "2024-03-14T07:33:05.449Z"
   },
   {
    "duration": 24,
    "start_time": "2024-03-14T07:33:05.474Z"
   },
   {
    "duration": 31,
    "start_time": "2024-03-14T07:33:05.500Z"
   },
   {
    "duration": 18,
    "start_time": "2024-03-14T07:33:05.533Z"
   },
   {
    "duration": 1161,
    "start_time": "2024-03-14T07:45:22.188Z"
   },
   {
    "duration": 3,
    "start_time": "2024-03-14T07:45:23.351Z"
   },
   {
    "duration": 54,
    "start_time": "2024-03-14T07:45:23.355Z"
   },
   {
    "duration": 48,
    "start_time": "2024-03-14T07:45:23.411Z"
   },
   {
    "duration": 30,
    "start_time": "2024-03-14T07:45:23.461Z"
   },
   {
    "duration": 15,
    "start_time": "2024-03-14T07:45:23.492Z"
   },
   {
    "duration": 6,
    "start_time": "2024-03-14T07:45:23.509Z"
   },
   {
    "duration": 42,
    "start_time": "2024-03-14T07:45:23.517Z"
   },
   {
    "duration": 9,
    "start_time": "2024-03-14T07:45:23.561Z"
   },
   {
    "duration": 7,
    "start_time": "2024-03-14T07:45:23.574Z"
   },
   {
    "duration": 16,
    "start_time": "2024-03-14T07:45:23.582Z"
   },
   {
    "duration": 6,
    "start_time": "2024-03-14T07:45:23.600Z"
   },
   {
    "duration": 201,
    "start_time": "2024-03-14T07:45:23.607Z"
   },
   {
    "duration": 97,
    "start_time": "2024-03-14T07:45:23.810Z"
   },
   {
    "duration": 190,
    "start_time": "2024-03-14T07:45:23.908Z"
   },
   {
    "duration": 211,
    "start_time": "2024-03-14T07:45:24.099Z"
   },
   {
    "duration": 210,
    "start_time": "2024-03-14T07:45:24.311Z"
   },
   {
    "duration": 152,
    "start_time": "2024-03-14T07:45:24.522Z"
   },
   {
    "duration": 6,
    "start_time": "2024-03-14T07:45:24.676Z"
   },
   {
    "duration": 45,
    "start_time": "2024-03-14T07:45:24.683Z"
   },
   {
    "duration": 43,
    "start_time": "2024-03-14T07:45:24.730Z"
   },
   {
    "duration": 21,
    "start_time": "2024-03-14T07:45:24.775Z"
   },
   {
    "duration": 3,
    "start_time": "2024-03-14T07:45:24.797Z"
   },
   {
    "duration": 295,
    "start_time": "2024-03-14T07:45:24.802Z"
   },
   {
    "duration": 262,
    "start_time": "2024-03-14T07:45:25.099Z"
   },
   {
    "duration": 137,
    "start_time": "2024-03-14T07:45:25.363Z"
   },
   {
    "duration": 3,
    "start_time": "2024-03-14T07:45:25.502Z"
   },
   {
    "duration": 4,
    "start_time": "2024-03-14T07:45:25.508Z"
   },
   {
    "duration": 13,
    "start_time": "2024-03-14T07:45:25.514Z"
   },
   {
    "duration": 5,
    "start_time": "2024-03-14T07:45:25.529Z"
   },
   {
    "duration": 23,
    "start_time": "2024-03-14T07:45:25.535Z"
   },
   {
    "duration": 1164,
    "start_time": "2024-03-14T16:38:32.691Z"
   },
   {
    "duration": 4,
    "start_time": "2024-03-14T16:38:33.857Z"
   },
   {
    "duration": 69,
    "start_time": "2024-03-14T16:38:33.862Z"
   },
   {
    "duration": 59,
    "start_time": "2024-03-14T16:38:33.934Z"
   },
   {
    "duration": 28,
    "start_time": "2024-03-14T16:38:33.994Z"
   },
   {
    "duration": 14,
    "start_time": "2024-03-14T16:38:34.024Z"
   },
   {
    "duration": 12,
    "start_time": "2024-03-14T16:38:34.039Z"
   },
   {
    "duration": 28,
    "start_time": "2024-03-14T16:38:34.052Z"
   },
   {
    "duration": 8,
    "start_time": "2024-03-14T16:38:34.082Z"
   },
   {
    "duration": 17,
    "start_time": "2024-03-14T16:38:34.093Z"
   },
   {
    "duration": 10,
    "start_time": "2024-03-14T16:38:34.112Z"
   },
   {
    "duration": 9,
    "start_time": "2024-03-14T16:38:34.123Z"
   },
   {
    "duration": 186,
    "start_time": "2024-03-14T16:38:34.134Z"
   },
   {
    "duration": 95,
    "start_time": "2024-03-14T16:38:34.323Z"
   },
   {
    "duration": 189,
    "start_time": "2024-03-14T16:38:34.420Z"
   },
   {
    "duration": 204,
    "start_time": "2024-03-14T16:38:34.611Z"
   },
   {
    "duration": 228,
    "start_time": "2024-03-14T16:38:34.817Z"
   },
   {
    "duration": 152,
    "start_time": "2024-03-14T16:38:35.047Z"
   },
   {
    "duration": 5,
    "start_time": "2024-03-14T16:38:35.201Z"
   },
   {
    "duration": 54,
    "start_time": "2024-03-14T16:38:35.207Z"
   },
   {
    "duration": 25,
    "start_time": "2024-03-14T16:38:35.272Z"
   },
   {
    "duration": 20,
    "start_time": "2024-03-14T16:38:35.298Z"
   },
   {
    "duration": 3,
    "start_time": "2024-03-14T16:38:35.320Z"
   },
   {
    "duration": 270,
    "start_time": "2024-03-14T16:38:35.324Z"
   },
   {
    "duration": 241,
    "start_time": "2024-03-14T16:38:35.595Z"
   },
   {
    "duration": 135,
    "start_time": "2024-03-14T16:38:35.838Z"
   },
   {
    "duration": 3,
    "start_time": "2024-03-14T16:38:35.975Z"
   },
   {
    "duration": 7,
    "start_time": "2024-03-14T16:38:35.981Z"
   },
   {
    "duration": 8,
    "start_time": "2024-03-14T16:38:35.989Z"
   },
   {
    "duration": 9,
    "start_time": "2024-03-14T16:38:35.998Z"
   },
   {
    "duration": 13,
    "start_time": "2024-03-14T16:38:36.008Z"
   },
   {
    "duration": 6,
    "start_time": "2024-03-14T16:43:37.299Z"
   },
   {
    "duration": 1178,
    "start_time": "2024-03-14T16:46:20.858Z"
   },
   {
    "duration": 3,
    "start_time": "2024-03-14T16:46:22.038Z"
   },
   {
    "duration": 62,
    "start_time": "2024-03-14T16:46:22.043Z"
   },
   {
    "duration": 51,
    "start_time": "2024-03-14T16:46:22.108Z"
   },
   {
    "duration": 27,
    "start_time": "2024-03-14T16:46:22.160Z"
   },
   {
    "duration": 14,
    "start_time": "2024-03-14T16:46:22.189Z"
   },
   {
    "duration": 14,
    "start_time": "2024-03-14T16:46:22.204Z"
   },
   {
    "duration": 12,
    "start_time": "2024-03-14T16:46:22.220Z"
   },
   {
    "duration": 8,
    "start_time": "2024-03-14T16:46:22.233Z"
   },
   {
    "duration": 31,
    "start_time": "2024-03-14T16:46:22.245Z"
   },
   {
    "duration": 9,
    "start_time": "2024-03-14T16:46:22.278Z"
   },
   {
    "duration": 3,
    "start_time": "2024-03-14T16:46:22.289Z"
   },
   {
    "duration": 190,
    "start_time": "2024-03-14T16:46:22.293Z"
   },
   {
    "duration": 93,
    "start_time": "2024-03-14T16:46:22.484Z"
   },
   {
    "duration": 195,
    "start_time": "2024-03-14T16:46:22.578Z"
   },
   {
    "duration": 209,
    "start_time": "2024-03-14T16:46:22.775Z"
   },
   {
    "duration": 225,
    "start_time": "2024-03-14T16:46:22.986Z"
   },
   {
    "duration": 155,
    "start_time": "2024-03-14T16:46:23.213Z"
   },
   {
    "duration": 5,
    "start_time": "2024-03-14T16:46:23.370Z"
   },
   {
    "duration": 53,
    "start_time": "2024-03-14T16:46:23.376Z"
   },
   {
    "duration": 69,
    "start_time": "2024-03-14T16:46:23.431Z"
   },
   {
    "duration": 71,
    "start_time": "2024-03-14T16:46:23.502Z"
   },
   {
    "duration": 3,
    "start_time": "2024-03-14T16:46:23.575Z"
   },
   {
    "duration": 332,
    "start_time": "2024-03-14T16:46:23.579Z"
   },
   {
    "duration": 267,
    "start_time": "2024-03-14T16:46:23.913Z"
   },
   {
    "duration": 133,
    "start_time": "2024-03-14T16:46:24.182Z"
   },
   {
    "duration": 3,
    "start_time": "2024-03-14T16:46:24.316Z"
   },
   {
    "duration": 4,
    "start_time": "2024-03-14T16:46:24.322Z"
   },
   {
    "duration": 8,
    "start_time": "2024-03-14T16:46:24.327Z"
   },
   {
    "duration": 5,
    "start_time": "2024-03-14T16:46:24.336Z"
   },
   {
    "duration": 38,
    "start_time": "2024-03-14T16:46:24.343Z"
   },
   {
    "duration": 48,
    "start_time": "2024-03-14T16:59:49.234Z"
   },
   {
    "duration": 1276,
    "start_time": "2024-03-14T16:59:54.791Z"
   },
   {
    "duration": 4,
    "start_time": "2024-03-14T16:59:56.069Z"
   },
   {
    "duration": 137,
    "start_time": "2024-03-14T16:59:56.074Z"
   },
   {
    "duration": 160,
    "start_time": "2024-03-14T16:59:56.213Z"
   },
   {
    "duration": 67,
    "start_time": "2024-03-14T16:59:56.374Z"
   },
   {
    "duration": 14,
    "start_time": "2024-03-14T16:59:56.442Z"
   },
   {
    "duration": 23,
    "start_time": "2024-03-14T16:59:56.457Z"
   },
   {
    "duration": 39,
    "start_time": "2024-03-14T16:59:56.482Z"
   },
   {
    "duration": 27,
    "start_time": "2024-03-14T16:59:56.523Z"
   },
   {
    "duration": 26,
    "start_time": "2024-03-14T16:59:56.552Z"
   },
   {
    "duration": 33,
    "start_time": "2024-03-14T16:59:56.580Z"
   },
   {
    "duration": 24,
    "start_time": "2024-03-14T16:59:56.614Z"
   },
   {
    "duration": 171,
    "start_time": "2024-03-14T16:59:56.639Z"
   },
   {
    "duration": 87,
    "start_time": "2024-03-14T16:59:56.812Z"
   },
   {
    "duration": 164,
    "start_time": "2024-03-14T16:59:56.900Z"
   },
   {
    "duration": 190,
    "start_time": "2024-03-14T16:59:57.066Z"
   },
   {
    "duration": 215,
    "start_time": "2024-03-14T16:59:57.257Z"
   },
   {
    "duration": 145,
    "start_time": "2024-03-14T16:59:57.473Z"
   },
   {
    "duration": 5,
    "start_time": "2024-03-14T16:59:57.619Z"
   },
   {
    "duration": 75,
    "start_time": "2024-03-14T16:59:57.626Z"
   },
   {
    "duration": 23,
    "start_time": "2024-03-14T16:59:57.702Z"
   },
   {
    "duration": 32,
    "start_time": "2024-03-14T16:59:57.726Z"
   },
   {
    "duration": 46,
    "start_time": "2024-03-14T16:59:57.760Z"
   },
   {
    "duration": 251,
    "start_time": "2024-03-14T16:59:57.808Z"
   },
   {
    "duration": 220,
    "start_time": "2024-03-14T16:59:58.061Z"
   },
   {
    "duration": 126,
    "start_time": "2024-03-14T16:59:58.283Z"
   },
   {
    "duration": 2,
    "start_time": "2024-03-14T16:59:58.410Z"
   },
   {
    "duration": 18,
    "start_time": "2024-03-14T16:59:58.415Z"
   },
   {
    "duration": 76,
    "start_time": "2024-03-14T16:59:58.435Z"
   },
   {
    "duration": 58,
    "start_time": "2024-03-14T16:59:58.513Z"
   },
   {
    "duration": 38,
    "start_time": "2024-03-14T16:59:58.572Z"
   },
   {
    "duration": 19,
    "start_time": "2024-03-14T17:01:25.086Z"
   },
   {
    "duration": 46,
    "start_time": "2024-03-14T17:01:46.857Z"
   },
   {
    "duration": 55,
    "start_time": "2024-03-14T17:02:05.430Z"
   },
   {
    "duration": 3,
    "start_time": "2024-03-14T17:02:10.705Z"
   },
   {
    "duration": 137,
    "start_time": "2024-03-14T17:02:10.710Z"
   },
   {
    "duration": 60,
    "start_time": "2024-03-14T17:02:10.849Z"
   },
   {
    "duration": 41,
    "start_time": "2024-03-14T17:02:10.911Z"
   },
   {
    "duration": 26,
    "start_time": "2024-03-14T17:02:10.954Z"
   },
   {
    "duration": 12,
    "start_time": "2024-03-14T17:02:10.982Z"
   },
   {
    "duration": 6,
    "start_time": "2024-03-14T17:02:10.996Z"
   },
   {
    "duration": 11,
    "start_time": "2024-03-14T17:02:11.003Z"
   },
   {
    "duration": 7,
    "start_time": "2024-03-14T17:02:11.016Z"
   },
   {
    "duration": 5,
    "start_time": "2024-03-14T17:02:11.026Z"
   },
   {
    "duration": 21,
    "start_time": "2024-03-14T17:02:11.033Z"
   },
   {
    "duration": 3,
    "start_time": "2024-03-14T17:02:11.056Z"
   },
   {
    "duration": 182,
    "start_time": "2024-03-14T17:02:11.061Z"
   },
   {
    "duration": 86,
    "start_time": "2024-03-14T17:02:11.245Z"
   },
   {
    "duration": 178,
    "start_time": "2024-03-14T17:02:11.333Z"
   },
   {
    "duration": 186,
    "start_time": "2024-03-14T17:02:11.513Z"
   },
   {
    "duration": 190,
    "start_time": "2024-03-14T17:02:11.700Z"
   },
   {
    "duration": 145,
    "start_time": "2024-03-14T17:02:11.892Z"
   },
   {
    "duration": 5,
    "start_time": "2024-03-14T17:02:12.039Z"
   },
   {
    "duration": 60,
    "start_time": "2024-03-14T17:02:12.045Z"
   },
   {
    "duration": 26,
    "start_time": "2024-03-14T17:02:12.107Z"
   },
   {
    "duration": 21,
    "start_time": "2024-03-14T17:02:12.135Z"
   },
   {
    "duration": 12,
    "start_time": "2024-03-14T17:02:12.158Z"
   },
   {
    "duration": 267,
    "start_time": "2024-03-14T17:02:12.171Z"
   },
   {
    "duration": 236,
    "start_time": "2024-03-14T17:02:12.439Z"
   },
   {
    "duration": 54,
    "start_time": "2024-03-14T17:02:12.676Z"
   },
   {
    "duration": 2,
    "start_time": "2024-03-14T17:02:12.732Z"
   },
   {
    "duration": 29,
    "start_time": "2024-03-14T17:02:12.737Z"
   },
   {
    "duration": 31,
    "start_time": "2024-03-14T17:02:12.768Z"
   },
   {
    "duration": 27,
    "start_time": "2024-03-14T17:02:12.800Z"
   },
   {
    "duration": 31,
    "start_time": "2024-03-14T17:02:12.829Z"
   },
   {
    "duration": 18,
    "start_time": "2024-03-14T17:03:01.735Z"
   },
   {
    "duration": 45,
    "start_time": "2024-03-14T17:04:46.216Z"
   },
   {
    "duration": 42,
    "start_time": "2024-03-14T17:05:58.733Z"
   },
   {
    "duration": 4,
    "start_time": "2024-03-14T17:06:01.496Z"
   },
   {
    "duration": 106,
    "start_time": "2024-03-14T17:06:01.502Z"
   },
   {
    "duration": 224,
    "start_time": "2024-03-14T17:06:01.610Z"
   },
   {
    "duration": 152,
    "start_time": "2024-03-14T17:06:01.837Z"
   },
   {
    "duration": 57,
    "start_time": "2024-03-14T17:06:01.992Z"
   },
   {
    "duration": 45,
    "start_time": "2024-03-14T17:06:02.051Z"
   },
   {
    "duration": 77,
    "start_time": "2024-03-14T17:06:02.098Z"
   },
   {
    "duration": 68,
    "start_time": "2024-03-14T17:06:02.177Z"
   },
   {
    "duration": 44,
    "start_time": "2024-03-14T17:06:02.247Z"
   },
   {
    "duration": 72,
    "start_time": "2024-03-14T17:06:02.295Z"
   },
   {
    "duration": 344,
    "start_time": "2024-03-14T17:06:02.368Z"
   },
   {
    "duration": 38,
    "start_time": "2024-03-14T17:06:02.718Z"
   },
   {
    "duration": 350,
    "start_time": "2024-03-14T17:06:02.759Z"
   },
   {
    "duration": 100,
    "start_time": "2024-03-14T17:06:03.111Z"
   },
   {
    "duration": 809,
    "start_time": "2024-03-14T17:06:03.213Z"
   },
   {
    "duration": 212,
    "start_time": "2024-03-14T17:06:04.023Z"
   },
   {
    "duration": 193,
    "start_time": "2024-03-14T17:06:04.237Z"
   },
   {
    "duration": 148,
    "start_time": "2024-03-14T17:06:04.432Z"
   },
   {
    "duration": 15,
    "start_time": "2024-03-14T17:06:04.582Z"
   },
   {
    "duration": 74,
    "start_time": "2024-03-14T17:06:04.600Z"
   },
   {
    "duration": 36,
    "start_time": "2024-03-14T17:06:04.676Z"
   },
   {
    "duration": 28,
    "start_time": "2024-03-14T17:06:04.714Z"
   },
   {
    "duration": 46,
    "start_time": "2024-03-14T17:06:04.743Z"
   },
   {
    "duration": 307,
    "start_time": "2024-03-14T17:06:04.791Z"
   },
   {
    "duration": 255,
    "start_time": "2024-03-14T17:06:05.100Z"
   },
   {
    "duration": 65,
    "start_time": "2024-03-14T17:06:05.356Z"
   },
   {
    "duration": 55,
    "start_time": "2024-03-14T17:06:05.423Z"
   },
   {
    "duration": 12,
    "start_time": "2024-03-14T17:06:05.482Z"
   },
   {
    "duration": 26,
    "start_time": "2024-03-14T17:06:05.496Z"
   },
   {
    "duration": 43,
    "start_time": "2024-03-14T17:06:05.523Z"
   },
   {
    "duration": 160,
    "start_time": "2024-03-14T17:06:05.568Z"
   },
   {
    "duration": 172,
    "start_time": "2024-03-14T17:06:05.730Z"
   },
   {
    "duration": 47,
    "start_time": "2024-03-14T17:07:04.998Z"
   },
   {
    "duration": 80,
    "start_time": "2024-03-14T17:15:19.284Z"
   },
   {
    "duration": 80,
    "start_time": "2024-03-14T17:17:35.519Z"
   },
   {
    "duration": 82,
    "start_time": "2024-03-14T17:17:43.268Z"
   },
   {
    "duration": 94,
    "start_time": "2024-03-14T17:18:29.736Z"
   },
   {
    "duration": 167,
    "start_time": "2024-03-14T17:18:34.093Z"
   },
   {
    "duration": 180,
    "start_time": "2024-03-14T17:18:40.801Z"
   },
   {
    "duration": 131,
    "start_time": "2024-03-14T17:18:43.274Z"
   },
   {
    "duration": 154,
    "start_time": "2024-03-14T17:18:45.342Z"
   },
   {
    "duration": 85,
    "start_time": "2024-03-14T17:18:52.979Z"
   },
   {
    "duration": 76,
    "start_time": "2024-03-14T17:21:07.171Z"
   },
   {
    "duration": 133,
    "start_time": "2024-03-14T17:21:11.821Z"
   },
   {
    "duration": 127,
    "start_time": "2024-03-14T17:21:14.524Z"
   },
   {
    "duration": 78,
    "start_time": "2024-03-14T17:21:25.844Z"
   },
   {
    "duration": 3,
    "start_time": "2024-03-14T17:22:43.384Z"
   },
   {
    "duration": 78,
    "start_time": "2024-03-14T17:22:43.954Z"
   },
   {
    "duration": 2,
    "start_time": "2024-03-14T17:23:10.310Z"
   },
   {
    "duration": 77,
    "start_time": "2024-03-14T17:23:10.869Z"
   },
   {
    "duration": 3,
    "start_time": "2024-03-14T17:23:15.404Z"
   },
   {
    "duration": 78,
    "start_time": "2024-03-14T17:23:15.766Z"
   },
   {
    "duration": 90,
    "start_time": "2024-03-14T17:23:31.407Z"
   },
   {
    "duration": 95,
    "start_time": "2024-03-14T17:23:59.013Z"
   },
   {
    "duration": 145,
    "start_time": "2024-03-14T17:24:04.729Z"
   },
   {
    "duration": 1431,
    "start_time": "2024-03-15T05:15:37.755Z"
   },
   {
    "duration": 3,
    "start_time": "2024-03-15T05:15:39.189Z"
   },
   {
    "duration": 127,
    "start_time": "2024-03-15T05:15:39.194Z"
   },
   {
    "duration": 188,
    "start_time": "2024-03-15T05:15:39.324Z"
   },
   {
    "duration": 72,
    "start_time": "2024-03-15T05:15:39.513Z"
   },
   {
    "duration": 15,
    "start_time": "2024-03-15T05:15:39.587Z"
   },
   {
    "duration": 7,
    "start_time": "2024-03-15T05:15:39.603Z"
   },
   {
    "duration": 12,
    "start_time": "2024-03-15T05:15:39.612Z"
   },
   {
    "duration": 7,
    "start_time": "2024-03-15T05:15:39.626Z"
   },
   {
    "duration": 6,
    "start_time": "2024-03-15T05:15:39.635Z"
   },
   {
    "duration": 11,
    "start_time": "2024-03-15T05:15:39.673Z"
   },
   {
    "duration": 4,
    "start_time": "2024-03-15T05:15:39.687Z"
   },
   {
    "duration": 219,
    "start_time": "2024-03-15T05:15:39.693Z"
   },
   {
    "duration": 109,
    "start_time": "2024-03-15T05:15:39.914Z"
   },
   {
    "duration": 205,
    "start_time": "2024-03-15T05:15:40.025Z"
   },
   {
    "duration": 232,
    "start_time": "2024-03-15T05:15:40.231Z"
   },
   {
    "duration": 211,
    "start_time": "2024-03-15T05:15:40.464Z"
   },
   {
    "duration": 161,
    "start_time": "2024-03-15T05:15:40.676Z"
   },
   {
    "duration": 5,
    "start_time": "2024-03-15T05:15:40.839Z"
   },
   {
    "duration": 58,
    "start_time": "2024-03-15T05:15:40.845Z"
   },
   {
    "duration": 23,
    "start_time": "2024-03-15T05:15:40.905Z"
   },
   {
    "duration": 44,
    "start_time": "2024-03-15T05:15:40.930Z"
   },
   {
    "duration": 3,
    "start_time": "2024-03-15T05:15:40.976Z"
   },
   {
    "duration": 273,
    "start_time": "2024-03-15T05:15:40.981Z"
   },
   {
    "duration": 276,
    "start_time": "2024-03-15T05:15:41.256Z"
   },
   {
    "duration": 160,
    "start_time": "2024-03-15T05:15:41.534Z"
   },
   {
    "duration": 3,
    "start_time": "2024-03-15T05:15:41.696Z"
   },
   {
    "duration": 16,
    "start_time": "2024-03-15T05:15:41.703Z"
   },
   {
    "duration": 36,
    "start_time": "2024-03-15T05:15:41.721Z"
   },
   {
    "duration": 24,
    "start_time": "2024-03-15T05:15:41.759Z"
   },
   {
    "duration": 23,
    "start_time": "2024-03-15T05:15:41.786Z"
   },
   {
    "duration": 100,
    "start_time": "2024-03-15T05:25:54.054Z"
   },
   {
    "duration": 207,
    "start_time": "2024-03-15T05:32:27.090Z"
   },
   {
    "duration": 204,
    "start_time": "2024-03-15T05:32:30.222Z"
   },
   {
    "duration": 203,
    "start_time": "2024-03-15T05:32:33.153Z"
   },
   {
    "duration": 215,
    "start_time": "2024-03-15T05:32:35.651Z"
   },
   {
    "duration": 202,
    "start_time": "2024-03-15T05:32:41.118Z"
   },
   {
    "duration": 228,
    "start_time": "2024-03-15T05:32:43.870Z"
   },
   {
    "duration": 274,
    "start_time": "2024-03-15T06:10:54.415Z"
   },
   {
    "duration": 1296,
    "start_time": "2024-03-15T06:21:34.447Z"
   },
   {
    "duration": 4,
    "start_time": "2024-03-15T06:21:35.745Z"
   },
   {
    "duration": 70,
    "start_time": "2024-03-15T06:21:35.750Z"
   },
   {
    "duration": 49,
    "start_time": "2024-03-15T06:21:35.822Z"
   },
   {
    "duration": 27,
    "start_time": "2024-03-15T06:21:35.873Z"
   },
   {
    "duration": 14,
    "start_time": "2024-03-15T06:21:35.902Z"
   },
   {
    "duration": 6,
    "start_time": "2024-03-15T06:21:35.918Z"
   },
   {
    "duration": 14,
    "start_time": "2024-03-15T06:21:35.926Z"
   },
   {
    "duration": 7,
    "start_time": "2024-03-15T06:21:35.942Z"
   },
   {
    "duration": 8,
    "start_time": "2024-03-15T06:21:35.952Z"
   },
   {
    "duration": 12,
    "start_time": "2024-03-15T06:21:35.973Z"
   },
   {
    "duration": 13,
    "start_time": "2024-03-15T06:21:35.987Z"
   },
   {
    "duration": 189,
    "start_time": "2024-03-15T06:21:36.002Z"
   },
   {
    "duration": 91,
    "start_time": "2024-03-15T06:21:36.193Z"
   },
   {
    "duration": 189,
    "start_time": "2024-03-15T06:21:36.285Z"
   },
   {
    "duration": 214,
    "start_time": "2024-03-15T06:21:36.476Z"
   },
   {
    "duration": 210,
    "start_time": "2024-03-15T06:21:36.692Z"
   },
   {
    "duration": 171,
    "start_time": "2024-03-15T06:21:36.904Z"
   },
   {
    "duration": 49,
    "start_time": "2024-03-15T06:21:37.077Z"
   },
   {
    "duration": 23,
    "start_time": "2024-03-15T06:21:37.128Z"
   },
   {
    "duration": 21,
    "start_time": "2024-03-15T06:21:37.173Z"
   },
   {
    "duration": 4,
    "start_time": "2024-03-15T06:21:37.195Z"
   },
   {
    "duration": 297,
    "start_time": "2024-03-15T06:21:37.200Z"
   },
   {
    "duration": 247,
    "start_time": "2024-03-15T06:21:37.498Z"
   },
   {
    "duration": 143,
    "start_time": "2024-03-15T06:21:37.746Z"
   },
   {
    "duration": 2,
    "start_time": "2024-03-15T06:21:37.891Z"
   },
   {
    "duration": 31,
    "start_time": "2024-03-15T06:21:37.894Z"
   },
   {
    "duration": 20,
    "start_time": "2024-03-15T06:21:37.928Z"
   },
   {
    "duration": 23,
    "start_time": "2024-03-15T06:21:37.949Z"
   },
   {
    "duration": 45,
    "start_time": "2024-03-15T06:21:37.974Z"
   },
   {
    "duration": 1132,
    "start_time": "2024-03-15T16:20:13.785Z"
   },
   {
    "duration": 3,
    "start_time": "2024-03-15T16:20:14.919Z"
   },
   {
    "duration": 68,
    "start_time": "2024-03-15T16:20:14.923Z"
   },
   {
    "duration": 46,
    "start_time": "2024-03-15T16:20:14.994Z"
   },
   {
    "duration": 60,
    "start_time": "2024-03-15T16:20:15.042Z"
   },
   {
    "duration": 23,
    "start_time": "2024-03-15T16:20:15.107Z"
   },
   {
    "duration": 14,
    "start_time": "2024-03-15T16:20:15.131Z"
   },
   {
    "duration": 40,
    "start_time": "2024-03-15T16:20:15.146Z"
   },
   {
    "duration": 21,
    "start_time": "2024-03-15T16:20:15.187Z"
   },
   {
    "duration": 15,
    "start_time": "2024-03-15T16:20:15.210Z"
   },
   {
    "duration": 15,
    "start_time": "2024-03-15T16:20:15.226Z"
   },
   {
    "duration": 40,
    "start_time": "2024-03-15T16:20:15.243Z"
   },
   {
    "duration": 177,
    "start_time": "2024-03-15T16:20:15.285Z"
   },
   {
    "duration": 80,
    "start_time": "2024-03-15T16:20:15.464Z"
   },
   {
    "duration": 199,
    "start_time": "2024-03-15T16:20:15.546Z"
   },
   {
    "duration": 254,
    "start_time": "2024-03-15T16:20:15.748Z"
   },
   {
    "duration": 219,
    "start_time": "2024-03-15T16:20:16.004Z"
   },
   {
    "duration": 151,
    "start_time": "2024-03-15T16:20:16.224Z"
   },
   {
    "duration": 45,
    "start_time": "2024-03-15T16:20:16.378Z"
   },
   {
    "duration": 23,
    "start_time": "2024-03-15T16:20:16.425Z"
   },
   {
    "duration": 43,
    "start_time": "2024-03-15T16:20:16.449Z"
   },
   {
    "duration": 12,
    "start_time": "2024-03-15T16:20:16.494Z"
   },
   {
    "duration": 301,
    "start_time": "2024-03-15T16:20:16.508Z"
   },
   {
    "duration": 245,
    "start_time": "2024-03-15T16:20:16.811Z"
   },
   {
    "duration": 154,
    "start_time": "2024-03-15T16:20:17.058Z"
   },
   {
    "duration": 3,
    "start_time": "2024-03-15T16:20:17.213Z"
   },
   {
    "duration": 10,
    "start_time": "2024-03-15T16:20:17.217Z"
   },
   {
    "duration": 17,
    "start_time": "2024-03-15T16:20:17.231Z"
   },
   {
    "duration": 7,
    "start_time": "2024-03-15T16:20:17.250Z"
   },
   {
    "duration": 18,
    "start_time": "2024-03-15T16:20:17.259Z"
   },
   {
    "duration": 7,
    "start_time": "2024-03-15T16:22:54.795Z"
   }
  ],
  "kernelspec": {
   "display_name": "Python 3 (ipykernel)",
   "language": "python",
   "name": "python3"
  },
  "language_info": {
   "codemirror_mode": {
    "name": "ipython",
    "version": 3
   },
   "file_extension": ".py",
   "mimetype": "text/x-python",
   "name": "python",
   "nbconvert_exporter": "python",
   "pygments_lexer": "ipython3",
   "version": "3.9.18"
  },
  "toc": {
   "base_numbering": 1,
   "nav_menu": {
    "height": "436px",
    "width": "787px"
   },
   "number_sections": true,
   "sideBar": true,
   "skip_h1_title": true,
   "title_cell": "Table of Contents",
   "title_sidebar": "Contents",
   "toc_cell": false,
   "toc_position": {},
   "toc_section_display": true,
   "toc_window_display": false
  }
 },
 "nbformat": 4,
 "nbformat_minor": 5
}
