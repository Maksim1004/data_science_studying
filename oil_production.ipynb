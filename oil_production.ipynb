{
 "cells": [
  {
   "cell_type": "markdown",
   "metadata": {},
   "source": [
    "# Выбор локации для скважины"
   ]
  },
  {
   "cell_type": "markdown",
   "metadata": {},
   "source": [
    "Мы работаем в добывающей компании «ГлавРосГосНефть». Нужно решить, где бурить новую скважину.\n",
    "\n",
    "Нам предоставлены пробы нефти в трёх регионах: в каждом 10 000 месторождений, где измерили качество нефти и объём её запасов. Построим модель машинного обучения, которая поможет определить регион, где добыча принесёт наибольшую прибыль. Проанализируем возможную прибыль и риски техникой *Bootstrap.*\n",
    "\n",
    "Шаги для выбора локации:\n",
    "\n",
    "- В избранном регионе ищут месторождения, для каждого определяют значения признаков;\n",
    "- Строят модель и оценивают объём запасов;\n",
    "- Выбирают месторождения с самым высокими оценками значений. Количество месторождений зависит от бюджета компании и стоимости разработки одной скважины;\n",
    "- Прибыль равна суммарной прибыли отобранных месторождений."
   ]
  },
  {
   "cell_type": "markdown",
   "metadata": {
    "toc": true
   },
   "source": [
    "<h1>Содержание<span class=\"tocSkip\"></span></h1>\n",
    "<div class=\"toc\"><ul class=\"toc-item\"><li><span><a href=\"#Загрузка-и-подготовка-данных\" data-toc-modified-id=\"Загрузка-и-подготовка-данных-1\"><span class=\"toc-item-num\">1&nbsp;&nbsp;</span>Загрузка и подготовка данных</a></span></li><li><span><a href=\"#Обучение-и-проверка-модели\" data-toc-modified-id=\"Обучение-и-проверка-модели-2\"><span class=\"toc-item-num\">2&nbsp;&nbsp;</span>Обучение и проверка модели</a></span></li><li><span><a href=\"#Подготовка-к-расчёту-прибыли\" data-toc-modified-id=\"Подготовка-к-расчёту-прибыли-3\"><span class=\"toc-item-num\">3&nbsp;&nbsp;</span>Подготовка к расчёту прибыли</a></span></li><li><span><a href=\"#Расчёт-прибыли-и-рисков\" data-toc-modified-id=\"Расчёт-прибыли-и-рисков-4\"><span class=\"toc-item-num\">4&nbsp;&nbsp;</span>Расчёт прибыли и рисков</a></span></li><li><span><a href=\"#Итоговый-вывод\" data-toc-modified-id=\"Итоговый-вывод-5\"><span class=\"toc-item-num\">5&nbsp;&nbsp;</span>Итоговый вывод</a></span></li><li><span><a href=\"#Чек-лист-готовности-проекта\" data-toc-modified-id=\"Чек-лист-готовности-проекта-6\"><span class=\"toc-item-num\">6&nbsp;&nbsp;</span>Чек-лист готовности проекта</a></span></li></ul></div>"
   ]
  },
  {
   "cell_type": "markdown",
   "metadata": {},
   "source": [
    "**Описание данных**\n",
    "\n",
    "В нашем распоряжении три датасета с пробами нефти в трёх разных регионах. В данных имеется:\n",
    "- id — уникальный идентификатор скважины;\n",
    "- f0, f1, f2 — три признака точек (к сожалению подробности о признаках нам не передали, но намекнули, что признаки значимы);\n",
    "- product — объём запасов в скважине (тыс. баррелей)."
   ]
  },
  {
   "cell_type": "code",
   "execution_count": 1,
   "metadata": {},
   "outputs": [
    {
     "data": {
      "text/plain": [
       "'1.5.0'"
      ]
     },
     "execution_count": 1,
     "metadata": {},
     "output_type": "execute_result"
    }
   ],
   "source": [
    "import sklearn # Проверка версии sklearn. Обновляем при необходимости\n",
    "if sklearn.__version__ == '0.24.1':\n",
    "    !pip install scikit-learn -U # После установки надо перезапустить ядро\n",
    "sklearn.__version__ "
   ]
  },
  {
   "cell_type": "code",
   "execution_count": 2,
   "metadata": {},
   "outputs": [],
   "source": [
    "import pandas as pd \n",
    "import matplotlib.pyplot as plt\n",
    "import seaborn as sns\n",
    "from IPython.display import display\n",
    "import numpy as np\n",
    "from scipy import stats as st\n",
    "\n",
    "from sklearn.pipeline import Pipeline\n",
    "from sklearn.impute import SimpleImputer\n",
    "from sklearn.compose import ColumnTransformer\n",
    "from sklearn.preprocessing import MinMaxScaler\n",
    "from sklearn.model_selection import train_test_split\n",
    "\n",
    "from sklearn.linear_model import LinearRegression\n",
    "from sklearn.metrics import root_mean_squared_error"
   ]
  },
  {
   "cell_type": "code",
   "execution_count": 3,
   "metadata": {},
   "outputs": [],
   "source": [
    "sns.set(style='darkgrid', palette='deep') # Устанавливаем стиль для графиков\n",
    "RANDOM_STATE = 42 # Константа определения случайных значений "
   ]
  },
  {
   "cell_type": "markdown",
   "metadata": {},
   "source": [
    "## Загрузка и подготовка данных"
   ]
  },
  {
   "cell_type": "markdown",
   "metadata": {},
   "source": [
    "Для начала познакомимся с нашими данными."
   ]
  },
  {
   "cell_type": "code",
   "execution_count": 4,
   "metadata": {},
   "outputs": [],
   "source": [
    "def dataset_info(ds, info=True): # Универсальная функция презентации данных\n",
    "    print('Количество дубликатов:', ds.duplicated().sum())\n",
    "    print('Длина датасета:', len(ds))\n",
    "    display(ds.head())\n",
    "    if info: \n",
    "        ds.info()\n",
    "        display(ds.describe())"
   ]
  },
  {
   "cell_type": "code",
   "execution_count": 5,
   "metadata": {},
   "outputs": [
    {
     "name": "stdout",
     "output_type": "stream",
     "text": [
      "Количество дубликатов: 0\n",
      "Длина датасета: 100000\n"
     ]
    },
    {
     "data": {
      "text/html": [
       "<div>\n",
       "<style scoped>\n",
       "    .dataframe tbody tr th:only-of-type {\n",
       "        vertical-align: middle;\n",
       "    }\n",
       "\n",
       "    .dataframe tbody tr th {\n",
       "        vertical-align: top;\n",
       "    }\n",
       "\n",
       "    .dataframe thead th {\n",
       "        text-align: right;\n",
       "    }\n",
       "</style>\n",
       "<table border=\"1\" class=\"dataframe\">\n",
       "  <thead>\n",
       "    <tr style=\"text-align: right;\">\n",
       "      <th></th>\n",
       "      <th>f0</th>\n",
       "      <th>f1</th>\n",
       "      <th>f2</th>\n",
       "      <th>product</th>\n",
       "    </tr>\n",
       "    <tr>\n",
       "      <th>id</th>\n",
       "      <th></th>\n",
       "      <th></th>\n",
       "      <th></th>\n",
       "      <th></th>\n",
       "    </tr>\n",
       "  </thead>\n",
       "  <tbody>\n",
       "    <tr>\n",
       "      <th>txEyH</th>\n",
       "      <td>0.705745</td>\n",
       "      <td>-0.497823</td>\n",
       "      <td>1.221170</td>\n",
       "      <td>105.280062</td>\n",
       "    </tr>\n",
       "    <tr>\n",
       "      <th>2acmU</th>\n",
       "      <td>1.334711</td>\n",
       "      <td>-0.340164</td>\n",
       "      <td>4.365080</td>\n",
       "      <td>73.037750</td>\n",
       "    </tr>\n",
       "    <tr>\n",
       "      <th>409Wp</th>\n",
       "      <td>1.022732</td>\n",
       "      <td>0.151990</td>\n",
       "      <td>1.419926</td>\n",
       "      <td>85.265647</td>\n",
       "    </tr>\n",
       "    <tr>\n",
       "      <th>iJLyR</th>\n",
       "      <td>-0.032172</td>\n",
       "      <td>0.139033</td>\n",
       "      <td>2.978566</td>\n",
       "      <td>168.620776</td>\n",
       "    </tr>\n",
       "    <tr>\n",
       "      <th>Xdl7t</th>\n",
       "      <td>1.988431</td>\n",
       "      <td>0.155413</td>\n",
       "      <td>4.751769</td>\n",
       "      <td>154.036647</td>\n",
       "    </tr>\n",
       "  </tbody>\n",
       "</table>\n",
       "</div>"
      ],
      "text/plain": [
       "             f0        f1        f2     product\n",
       "id                                             \n",
       "txEyH  0.705745 -0.497823  1.221170  105.280062\n",
       "2acmU  1.334711 -0.340164  4.365080   73.037750\n",
       "409Wp  1.022732  0.151990  1.419926   85.265647\n",
       "iJLyR -0.032172  0.139033  2.978566  168.620776\n",
       "Xdl7t  1.988431  0.155413  4.751769  154.036647"
      ]
     },
     "metadata": {},
     "output_type": "display_data"
    },
    {
     "name": "stdout",
     "output_type": "stream",
     "text": [
      "<class 'pandas.core.frame.DataFrame'>\n",
      "Index: 100000 entries, txEyH to 1CWhH\n",
      "Data columns (total 4 columns):\n",
      " #   Column   Non-Null Count   Dtype  \n",
      "---  ------   --------------   -----  \n",
      " 0   f0       100000 non-null  float64\n",
      " 1   f1       100000 non-null  float64\n",
      " 2   f2       100000 non-null  float64\n",
      " 3   product  100000 non-null  float64\n",
      "dtypes: float64(4)\n",
      "memory usage: 3.8+ MB\n"
     ]
    },
    {
     "data": {
      "text/html": [
       "<div>\n",
       "<style scoped>\n",
       "    .dataframe tbody tr th:only-of-type {\n",
       "        vertical-align: middle;\n",
       "    }\n",
       "\n",
       "    .dataframe tbody tr th {\n",
       "        vertical-align: top;\n",
       "    }\n",
       "\n",
       "    .dataframe thead th {\n",
       "        text-align: right;\n",
       "    }\n",
       "</style>\n",
       "<table border=\"1\" class=\"dataframe\">\n",
       "  <thead>\n",
       "    <tr style=\"text-align: right;\">\n",
       "      <th></th>\n",
       "      <th>f0</th>\n",
       "      <th>f1</th>\n",
       "      <th>f2</th>\n",
       "      <th>product</th>\n",
       "    </tr>\n",
       "  </thead>\n",
       "  <tbody>\n",
       "    <tr>\n",
       "      <th>count</th>\n",
       "      <td>100000.000000</td>\n",
       "      <td>100000.000000</td>\n",
       "      <td>100000.000000</td>\n",
       "      <td>100000.000000</td>\n",
       "    </tr>\n",
       "    <tr>\n",
       "      <th>mean</th>\n",
       "      <td>0.500419</td>\n",
       "      <td>0.250143</td>\n",
       "      <td>2.502647</td>\n",
       "      <td>92.500000</td>\n",
       "    </tr>\n",
       "    <tr>\n",
       "      <th>std</th>\n",
       "      <td>0.871832</td>\n",
       "      <td>0.504433</td>\n",
       "      <td>3.248248</td>\n",
       "      <td>44.288691</td>\n",
       "    </tr>\n",
       "    <tr>\n",
       "      <th>min</th>\n",
       "      <td>-1.408605</td>\n",
       "      <td>-0.848218</td>\n",
       "      <td>-12.088328</td>\n",
       "      <td>0.000000</td>\n",
       "    </tr>\n",
       "    <tr>\n",
       "      <th>25%</th>\n",
       "      <td>-0.072580</td>\n",
       "      <td>-0.200881</td>\n",
       "      <td>0.287748</td>\n",
       "      <td>56.497507</td>\n",
       "    </tr>\n",
       "    <tr>\n",
       "      <th>50%</th>\n",
       "      <td>0.502360</td>\n",
       "      <td>0.250252</td>\n",
       "      <td>2.515969</td>\n",
       "      <td>91.849972</td>\n",
       "    </tr>\n",
       "    <tr>\n",
       "      <th>75%</th>\n",
       "      <td>1.073581</td>\n",
       "      <td>0.700646</td>\n",
       "      <td>4.715088</td>\n",
       "      <td>128.564089</td>\n",
       "    </tr>\n",
       "    <tr>\n",
       "      <th>max</th>\n",
       "      <td>2.362331</td>\n",
       "      <td>1.343769</td>\n",
       "      <td>16.003790</td>\n",
       "      <td>185.364347</td>\n",
       "    </tr>\n",
       "  </tbody>\n",
       "</table>\n",
       "</div>"
      ],
      "text/plain": [
       "                  f0             f1             f2        product\n",
       "count  100000.000000  100000.000000  100000.000000  100000.000000\n",
       "mean        0.500419       0.250143       2.502647      92.500000\n",
       "std         0.871832       0.504433       3.248248      44.288691\n",
       "min        -1.408605      -0.848218     -12.088328       0.000000\n",
       "25%        -0.072580      -0.200881       0.287748      56.497507\n",
       "50%         0.502360       0.250252       2.515969      91.849972\n",
       "75%         1.073581       0.700646       4.715088     128.564089\n",
       "max         2.362331       1.343769      16.003790     185.364347"
      ]
     },
     "metadata": {},
     "output_type": "display_data"
    }
   ],
   "source": [
    "try:\n",
    "    ds_0 = pd.read_csv('/datasets/geo_data_0.csv', index_col='id')\n",
    "except:\n",
    "    ds_0 = pd.read_csv('datasets/geo_data_0.csv', index_col='id')\n",
    "dataset_info(ds_0)"
   ]
  },
  {
   "cell_type": "code",
   "execution_count": 6,
   "metadata": {},
   "outputs": [
    {
     "name": "stdout",
     "output_type": "stream",
     "text": [
      "Количество дубликатов: 0\n",
      "Длина датасета: 100000\n"
     ]
    },
    {
     "data": {
      "text/html": [
       "<div>\n",
       "<style scoped>\n",
       "    .dataframe tbody tr th:only-of-type {\n",
       "        vertical-align: middle;\n",
       "    }\n",
       "\n",
       "    .dataframe tbody tr th {\n",
       "        vertical-align: top;\n",
       "    }\n",
       "\n",
       "    .dataframe thead th {\n",
       "        text-align: right;\n",
       "    }\n",
       "</style>\n",
       "<table border=\"1\" class=\"dataframe\">\n",
       "  <thead>\n",
       "    <tr style=\"text-align: right;\">\n",
       "      <th></th>\n",
       "      <th>f0</th>\n",
       "      <th>f1</th>\n",
       "      <th>f2</th>\n",
       "      <th>product</th>\n",
       "    </tr>\n",
       "    <tr>\n",
       "      <th>id</th>\n",
       "      <th></th>\n",
       "      <th></th>\n",
       "      <th></th>\n",
       "      <th></th>\n",
       "    </tr>\n",
       "  </thead>\n",
       "  <tbody>\n",
       "    <tr>\n",
       "      <th>kBEdx</th>\n",
       "      <td>-15.001348</td>\n",
       "      <td>-8.276000</td>\n",
       "      <td>-0.005876</td>\n",
       "      <td>3.179103</td>\n",
       "    </tr>\n",
       "    <tr>\n",
       "      <th>62mP7</th>\n",
       "      <td>14.272088</td>\n",
       "      <td>-3.475083</td>\n",
       "      <td>0.999183</td>\n",
       "      <td>26.953261</td>\n",
       "    </tr>\n",
       "    <tr>\n",
       "      <th>vyE1P</th>\n",
       "      <td>6.263187</td>\n",
       "      <td>-5.948386</td>\n",
       "      <td>5.001160</td>\n",
       "      <td>134.766305</td>\n",
       "    </tr>\n",
       "    <tr>\n",
       "      <th>KcrkZ</th>\n",
       "      <td>-13.081196</td>\n",
       "      <td>-11.506057</td>\n",
       "      <td>4.999415</td>\n",
       "      <td>137.945408</td>\n",
       "    </tr>\n",
       "    <tr>\n",
       "      <th>AHL4O</th>\n",
       "      <td>12.702195</td>\n",
       "      <td>-8.147433</td>\n",
       "      <td>5.004363</td>\n",
       "      <td>134.766305</td>\n",
       "    </tr>\n",
       "  </tbody>\n",
       "</table>\n",
       "</div>"
      ],
      "text/plain": [
       "              f0         f1        f2     product\n",
       "id                                               \n",
       "kBEdx -15.001348  -8.276000 -0.005876    3.179103\n",
       "62mP7  14.272088  -3.475083  0.999183   26.953261\n",
       "vyE1P   6.263187  -5.948386  5.001160  134.766305\n",
       "KcrkZ -13.081196 -11.506057  4.999415  137.945408\n",
       "AHL4O  12.702195  -8.147433  5.004363  134.766305"
      ]
     },
     "metadata": {},
     "output_type": "display_data"
    },
    {
     "name": "stdout",
     "output_type": "stream",
     "text": [
      "<class 'pandas.core.frame.DataFrame'>\n",
      "Index: 100000 entries, kBEdx to relB0\n",
      "Data columns (total 4 columns):\n",
      " #   Column   Non-Null Count   Dtype  \n",
      "---  ------   --------------   -----  \n",
      " 0   f0       100000 non-null  float64\n",
      " 1   f1       100000 non-null  float64\n",
      " 2   f2       100000 non-null  float64\n",
      " 3   product  100000 non-null  float64\n",
      "dtypes: float64(4)\n",
      "memory usage: 3.8+ MB\n"
     ]
    },
    {
     "data": {
      "text/html": [
       "<div>\n",
       "<style scoped>\n",
       "    .dataframe tbody tr th:only-of-type {\n",
       "        vertical-align: middle;\n",
       "    }\n",
       "\n",
       "    .dataframe tbody tr th {\n",
       "        vertical-align: top;\n",
       "    }\n",
       "\n",
       "    .dataframe thead th {\n",
       "        text-align: right;\n",
       "    }\n",
       "</style>\n",
       "<table border=\"1\" class=\"dataframe\">\n",
       "  <thead>\n",
       "    <tr style=\"text-align: right;\">\n",
       "      <th></th>\n",
       "      <th>f0</th>\n",
       "      <th>f1</th>\n",
       "      <th>f2</th>\n",
       "      <th>product</th>\n",
       "    </tr>\n",
       "  </thead>\n",
       "  <tbody>\n",
       "    <tr>\n",
       "      <th>count</th>\n",
       "      <td>100000.000000</td>\n",
       "      <td>100000.000000</td>\n",
       "      <td>100000.000000</td>\n",
       "      <td>100000.000000</td>\n",
       "    </tr>\n",
       "    <tr>\n",
       "      <th>mean</th>\n",
       "      <td>1.141296</td>\n",
       "      <td>-4.796579</td>\n",
       "      <td>2.494541</td>\n",
       "      <td>68.825000</td>\n",
       "    </tr>\n",
       "    <tr>\n",
       "      <th>std</th>\n",
       "      <td>8.965932</td>\n",
       "      <td>5.119872</td>\n",
       "      <td>1.703572</td>\n",
       "      <td>45.944423</td>\n",
       "    </tr>\n",
       "    <tr>\n",
       "      <th>min</th>\n",
       "      <td>-31.609576</td>\n",
       "      <td>-26.358598</td>\n",
       "      <td>-0.018144</td>\n",
       "      <td>0.000000</td>\n",
       "    </tr>\n",
       "    <tr>\n",
       "      <th>25%</th>\n",
       "      <td>-6.298551</td>\n",
       "      <td>-8.267985</td>\n",
       "      <td>1.000021</td>\n",
       "      <td>26.953261</td>\n",
       "    </tr>\n",
       "    <tr>\n",
       "      <th>50%</th>\n",
       "      <td>1.153055</td>\n",
       "      <td>-4.813172</td>\n",
       "      <td>2.011479</td>\n",
       "      <td>57.085625</td>\n",
       "    </tr>\n",
       "    <tr>\n",
       "      <th>75%</th>\n",
       "      <td>8.621015</td>\n",
       "      <td>-1.332816</td>\n",
       "      <td>3.999904</td>\n",
       "      <td>107.813044</td>\n",
       "    </tr>\n",
       "    <tr>\n",
       "      <th>max</th>\n",
       "      <td>29.421755</td>\n",
       "      <td>18.734063</td>\n",
       "      <td>5.019721</td>\n",
       "      <td>137.945408</td>\n",
       "    </tr>\n",
       "  </tbody>\n",
       "</table>\n",
       "</div>"
      ],
      "text/plain": [
       "                  f0             f1             f2        product\n",
       "count  100000.000000  100000.000000  100000.000000  100000.000000\n",
       "mean        1.141296      -4.796579       2.494541      68.825000\n",
       "std         8.965932       5.119872       1.703572      45.944423\n",
       "min       -31.609576     -26.358598      -0.018144       0.000000\n",
       "25%        -6.298551      -8.267985       1.000021      26.953261\n",
       "50%         1.153055      -4.813172       2.011479      57.085625\n",
       "75%         8.621015      -1.332816       3.999904     107.813044\n",
       "max        29.421755      18.734063       5.019721     137.945408"
      ]
     },
     "metadata": {},
     "output_type": "display_data"
    }
   ],
   "source": [
    "try:\n",
    "    ds_1 = pd.read_csv('/datasets/geo_data_1.csv', index_col='id')\n",
    "except:\n",
    "    ds_1 = pd.read_csv('datasets/geo_data_1.csv', index_col='id')\n",
    "dataset_info(ds_1)"
   ]
  },
  {
   "cell_type": "code",
   "execution_count": 7,
   "metadata": {},
   "outputs": [
    {
     "name": "stdout",
     "output_type": "stream",
     "text": [
      "Количество дубликатов: 0\n",
      "Длина датасета: 100000\n"
     ]
    },
    {
     "data": {
      "text/html": [
       "<div>\n",
       "<style scoped>\n",
       "    .dataframe tbody tr th:only-of-type {\n",
       "        vertical-align: middle;\n",
       "    }\n",
       "\n",
       "    .dataframe tbody tr th {\n",
       "        vertical-align: top;\n",
       "    }\n",
       "\n",
       "    .dataframe thead th {\n",
       "        text-align: right;\n",
       "    }\n",
       "</style>\n",
       "<table border=\"1\" class=\"dataframe\">\n",
       "  <thead>\n",
       "    <tr style=\"text-align: right;\">\n",
       "      <th></th>\n",
       "      <th>f0</th>\n",
       "      <th>f1</th>\n",
       "      <th>f2</th>\n",
       "      <th>product</th>\n",
       "    </tr>\n",
       "    <tr>\n",
       "      <th>id</th>\n",
       "      <th></th>\n",
       "      <th></th>\n",
       "      <th></th>\n",
       "      <th></th>\n",
       "    </tr>\n",
       "  </thead>\n",
       "  <tbody>\n",
       "    <tr>\n",
       "      <th>fwXo0</th>\n",
       "      <td>-1.146987</td>\n",
       "      <td>0.963328</td>\n",
       "      <td>-0.828965</td>\n",
       "      <td>27.758673</td>\n",
       "    </tr>\n",
       "    <tr>\n",
       "      <th>WJtFt</th>\n",
       "      <td>0.262778</td>\n",
       "      <td>0.269839</td>\n",
       "      <td>-2.530187</td>\n",
       "      <td>56.069697</td>\n",
       "    </tr>\n",
       "    <tr>\n",
       "      <th>ovLUW</th>\n",
       "      <td>0.194587</td>\n",
       "      <td>0.289035</td>\n",
       "      <td>-5.586433</td>\n",
       "      <td>62.871910</td>\n",
       "    </tr>\n",
       "    <tr>\n",
       "      <th>q6cA6</th>\n",
       "      <td>2.236060</td>\n",
       "      <td>-0.553760</td>\n",
       "      <td>0.930038</td>\n",
       "      <td>114.572842</td>\n",
       "    </tr>\n",
       "    <tr>\n",
       "      <th>WPMUX</th>\n",
       "      <td>-0.515993</td>\n",
       "      <td>1.716266</td>\n",
       "      <td>5.899011</td>\n",
       "      <td>149.600746</td>\n",
       "    </tr>\n",
       "  </tbody>\n",
       "</table>\n",
       "</div>"
      ],
      "text/plain": [
       "             f0        f1        f2     product\n",
       "id                                             \n",
       "fwXo0 -1.146987  0.963328 -0.828965   27.758673\n",
       "WJtFt  0.262778  0.269839 -2.530187   56.069697\n",
       "ovLUW  0.194587  0.289035 -5.586433   62.871910\n",
       "q6cA6  2.236060 -0.553760  0.930038  114.572842\n",
       "WPMUX -0.515993  1.716266  5.899011  149.600746"
      ]
     },
     "metadata": {},
     "output_type": "display_data"
    },
    {
     "name": "stdout",
     "output_type": "stream",
     "text": [
      "<class 'pandas.core.frame.DataFrame'>\n",
      "Index: 100000 entries, fwXo0 to V9kWn\n",
      "Data columns (total 4 columns):\n",
      " #   Column   Non-Null Count   Dtype  \n",
      "---  ------   --------------   -----  \n",
      " 0   f0       100000 non-null  float64\n",
      " 1   f1       100000 non-null  float64\n",
      " 2   f2       100000 non-null  float64\n",
      " 3   product  100000 non-null  float64\n",
      "dtypes: float64(4)\n",
      "memory usage: 3.8+ MB\n"
     ]
    },
    {
     "data": {
      "text/html": [
       "<div>\n",
       "<style scoped>\n",
       "    .dataframe tbody tr th:only-of-type {\n",
       "        vertical-align: middle;\n",
       "    }\n",
       "\n",
       "    .dataframe tbody tr th {\n",
       "        vertical-align: top;\n",
       "    }\n",
       "\n",
       "    .dataframe thead th {\n",
       "        text-align: right;\n",
       "    }\n",
       "</style>\n",
       "<table border=\"1\" class=\"dataframe\">\n",
       "  <thead>\n",
       "    <tr style=\"text-align: right;\">\n",
       "      <th></th>\n",
       "      <th>f0</th>\n",
       "      <th>f1</th>\n",
       "      <th>f2</th>\n",
       "      <th>product</th>\n",
       "    </tr>\n",
       "  </thead>\n",
       "  <tbody>\n",
       "    <tr>\n",
       "      <th>count</th>\n",
       "      <td>100000.000000</td>\n",
       "      <td>100000.000000</td>\n",
       "      <td>100000.000000</td>\n",
       "      <td>100000.000000</td>\n",
       "    </tr>\n",
       "    <tr>\n",
       "      <th>mean</th>\n",
       "      <td>0.002023</td>\n",
       "      <td>-0.002081</td>\n",
       "      <td>2.495128</td>\n",
       "      <td>95.000000</td>\n",
       "    </tr>\n",
       "    <tr>\n",
       "      <th>std</th>\n",
       "      <td>1.732045</td>\n",
       "      <td>1.730417</td>\n",
       "      <td>3.473445</td>\n",
       "      <td>44.749921</td>\n",
       "    </tr>\n",
       "    <tr>\n",
       "      <th>min</th>\n",
       "      <td>-8.760004</td>\n",
       "      <td>-7.084020</td>\n",
       "      <td>-11.970335</td>\n",
       "      <td>0.000000</td>\n",
       "    </tr>\n",
       "    <tr>\n",
       "      <th>25%</th>\n",
       "      <td>-1.162288</td>\n",
       "      <td>-1.174820</td>\n",
       "      <td>0.130359</td>\n",
       "      <td>59.450441</td>\n",
       "    </tr>\n",
       "    <tr>\n",
       "      <th>50%</th>\n",
       "      <td>0.009424</td>\n",
       "      <td>-0.009482</td>\n",
       "      <td>2.484236</td>\n",
       "      <td>94.925613</td>\n",
       "    </tr>\n",
       "    <tr>\n",
       "      <th>75%</th>\n",
       "      <td>1.158535</td>\n",
       "      <td>1.163678</td>\n",
       "      <td>4.858794</td>\n",
       "      <td>130.595027</td>\n",
       "    </tr>\n",
       "    <tr>\n",
       "      <th>max</th>\n",
       "      <td>7.238262</td>\n",
       "      <td>7.844801</td>\n",
       "      <td>16.739402</td>\n",
       "      <td>190.029838</td>\n",
       "    </tr>\n",
       "  </tbody>\n",
       "</table>\n",
       "</div>"
      ],
      "text/plain": [
       "                  f0             f1             f2        product\n",
       "count  100000.000000  100000.000000  100000.000000  100000.000000\n",
       "mean        0.002023      -0.002081       2.495128      95.000000\n",
       "std         1.732045       1.730417       3.473445      44.749921\n",
       "min        -8.760004      -7.084020     -11.970335       0.000000\n",
       "25%        -1.162288      -1.174820       0.130359      59.450441\n",
       "50%         0.009424      -0.009482       2.484236      94.925613\n",
       "75%         1.158535       1.163678       4.858794     130.595027\n",
       "max         7.238262       7.844801      16.739402     190.029838"
      ]
     },
     "metadata": {},
     "output_type": "display_data"
    }
   ],
   "source": [
    "try:\n",
    "    ds_2 = pd.read_csv('/datasets/geo_data_2.csv', index_col='id')\n",
    "except:\n",
    "    ds_2 = pd.read_csv('datasets/geo_data_2.csv', index_col='id')\n",
    "dataset_info(ds_2)"
   ]
  },
  {
   "cell_type": "markdown",
   "metadata": {},
   "source": [
    "Ни дубликатов, ни пропусков. Значение `product` ни в одном датасете не опускается ниже нуля, это важно. Выработка не может быть отрицательной, мы-же занимаемся скважинами, а не черными дырами.\n",
    "\n",
    "Мимоходом взглянем на распределения значений."
   ]
  },
  {
   "cell_type": "code",
   "execution_count": 8,
   "metadata": {
    "scrolled": false
   },
   "outputs": [
    {
     "data": {
      "image/png": "[encoded data removed]",
      "text/plain": [
       "<Figure size 1152x1296 with 12 Axes>"
      ]
     },
     "metadata": {},
     "output_type": "display_data"
    }
   ],
   "source": [
    "fig, axes = plt.subplots(nrows=4, ncols=3, figsize=(16, 18))\n",
    "\n",
    "for j, i in enumerate(ds_0.columns):\n",
    "    for k, l in enumerate([ds_0, ds_1, ds_2]):\n",
    "        l[i].plot(kind='hist', ax=axes[j, k], title=i+'_ds_'+str(k), bins=16)"
   ]
  },
  {
   "cell_type": "markdown",
   "metadata": {},
   "source": [
    "Аномальных значений нет. Распределения значений сильно различаются в разных регионах. Признаки `f2` и `product` из ds_1 крайне смахивают на категориальные, однако в них всё-же занесены непрерывные данные. Похоже на ошибочное округление значений, но с этим уже ничего сделать не получится. Придётся использовать эти данные.\n",
    "\n",
    "Все имеющиеся у нас данные, за исключением id - численные. Тут не обойтись без скейлера. Составим трансформер столбцов для препроцессинга данных."
   ]
  },
  {
   "cell_type": "code",
   "execution_count": 9,
   "metadata": {},
   "outputs": [],
   "source": [
    "data_preprocessor = ColumnTransformer([\n",
    "    ('num', MinMaxScaler(), ['f0', 'f1', 'f2'])\n",
    "])"
   ]
  },
  {
   "cell_type": "markdown",
   "metadata": {},
   "source": [
    "## Обучение и проверка модели"
   ]
  },
  {
   "cell_type": "markdown",
   "metadata": {},
   "source": [
    "Нам необходимо обучить 3 модели, по одной на каждый регион. Для обучения нам подойдёт только линейная регрессия, остальные недостаточно предсказуемы. "
   ]
  },
  {
   "cell_type": "code",
   "execution_count": 10,
   "metadata": {},
   "outputs": [],
   "source": [
    "lr_0 = Pipeline([ \n",
    "    ('preprocessor', data_preprocessor),\n",
    "    ('model', LinearRegression()) \n",
    "]) \n",
    "lr_1 = lr_0\n",
    "lr_2 = lr_0 # В моделях различаться будут только данные, все методы одинаковы. Делаем 2 копии готового пайплайна."
   ]
  },
  {
   "cell_type": "markdown",
   "metadata": {},
   "source": [
    "Теперь необходимо разделить данные. Нам нужны обучающие и валидационные выборки в соотношении 75:25 для каждого датасета."
   ]
  },
  {
   "cell_type": "code",
   "execution_count": 11,
   "metadata": {},
   "outputs": [],
   "source": [
    "X_train_0, X_valid_0, y_train_0, y_valid_0 = train_test_split(ds_0.drop('product', axis=1), ds_0['product'], test_size=0.25, random_state=RANDOM_STATE)\n",
    "X_train_1, X_valid_1, y_train_1, y_valid_1 = train_test_split(ds_1.drop('product', axis=1), ds_1['product'], test_size=0.25, random_state=RANDOM_STATE)\n",
    "X_train_2, X_valid_2, y_train_2, y_valid_2 = train_test_split(ds_2.drop('product', axis=1), ds_2['product'], test_size=0.25, random_state=RANDOM_STATE)"
   ]
  },
  {
   "cell_type": "markdown",
   "metadata": {},
   "source": [
    "Обучим модели, и сразу попросим сделать предсказания."
   ]
  },
  {
   "cell_type": "code",
   "execution_count": 12,
   "metadata": {},
   "outputs": [],
   "source": [
    "lr_0.fit(X_train_0, y_train_0)\n",
    "lr_1.fit(X_train_1, y_train_1)\n",
    "lr_2.fit(X_train_2, y_train_2)\n",
    "\n",
    "y_pred_0 = lr_0.predict(X_valid_0)\n",
    "y_pred_1 = lr_1.predict(X_valid_1)\n",
    "y_pred_2 = lr_2.predict(X_valid_2)"
   ]
  },
  {
   "cell_type": "markdown",
   "metadata": {},
   "source": [
    "Для вывода метрики, за которую мы возьмём RMSE - корень из среднего значения квадратов ошибок, создадим функцию, которая будет принимать истинные и предсказанные значения, а также номер региона, и будет выводить все необходимые нам данные."
   ]
  },
  {
   "cell_type": "code",
   "execution_count": 13,
   "metadata": {},
   "outputs": [],
   "source": [
    "def rmse_present(true, pred, region):\n",
    "    print('Модель линейной регрессии для региона №'+str(region))\n",
    "    print('RMSE модели:', root_mean_squared_error(true, pred).round(4))\n",
    "    print('Средний запас предсказанного сырья:', pred.mean().round(4))\n",
    "    print('')"
   ]
  },
  {
   "cell_type": "markdown",
   "metadata": {},
   "source": [
    "Сделаем список списков с готовыми данными для расчёта метрик, чтобы не обращаться к функции каждый раз вручную. И запустим цикл, который пройдётся по каждому из трёх наборов данных."
   ]
  },
  {
   "cell_type": "code",
   "execution_count": 14,
   "metadata": {},
   "outputs": [
    {
     "name": "stdout",
     "output_type": "stream",
     "text": [
      "Модель линейной регрессии для региона №0\n",
      "RMSE модели: 38.9361\n",
      "Средний запас предсказанного сырья: 94.7658\n",
      "\n",
      "Модель линейной регрессии для региона №1\n",
      "RMSE модели: 44.591\n",
      "Средний запас предсказанного сырья: 94.8542\n",
      "\n",
      "Модель линейной регрессии для региона №2\n",
      "RMSE модели: 40.1459\n",
      "Средний запас предсказанного сырья: 94.771\n",
      "\n"
     ]
    }
   ],
   "source": [
    "rmse_data = [[y_valid_0, y_pred_0, 0], [y_valid_1, y_pred_1, 1], [y_valid_2, y_pred_2, 2]]\n",
    "\n",
    "for i, j, k in rmse_data:\n",
    "    rmse_present(i, j, k)"
   ]
  },
  {
   "cell_type": "markdown",
   "metadata": {},
   "source": [
    "Наилучший результат качества предсказаний показала модель для региона номер 0, однако этот-же регион показал самый низкий запас предсказанного сырья. Возможно здесь имеется закономерность, и остальные модели немного завышают результаты предсказаний."
   ]
  },
  {
   "cell_type": "markdown",
   "metadata": {},
   "source": [
    "## Подготовка к расчёту прибыли"
   ]
  },
  {
   "cell_type": "markdown",
   "metadata": {},
   "source": [
    "Для начала сохраним ключевые значения для расчётов в отдельные переменные."
   ]
  },
  {
   "cell_type": "code",
   "execution_count": 15,
   "metadata": {},
   "outputs": [],
   "source": [
    "scouting_count = 500 # При разведке региона исследуют данное количество точек\n",
    "scouting_best = 200 # Среди них с помощью МО выбирают данное количество лучших для разработки\n",
    "budget = 10000000000 # Бюджет на разработку скважин в регионе, рублей\n",
    "income = 450000 # Прибыль с одной единицы продукта, рублей\n",
    "loss_risk = .025 # Порог вероятности убытков. После оценки рисков выбираются только регионы, в которых вероятность убытков меньше порога"
   ]
  },
  {
   "cell_type": "markdown",
   "metadata": {},
   "source": [
    "Теперь рассчитаем достаточный объём сырья для безубыточной разработки новой скважины. Поделим бюджет на прибыль с одной единицы продукта, а после на планируемое количество скважин для разработки. И получим количество единиц продукта, которое каждая скважина должна содержать, чтобы компания не работала себе в убыток."
   ]
  },
  {
   "cell_type": "code",
   "execution_count": 16,
   "metadata": {},
   "outputs": [
    {
     "data": {
      "text/plain": [
       "111.11"
      ]
     },
     "execution_count": 16,
     "metadata": {},
     "output_type": "execute_result"
    }
   ],
   "source": [
    "payback = round(budget/income/scouting_best, 2)\n",
    "payback"
   ]
  },
  {
   "cell_type": "markdown",
   "metadata": {},
   "source": [
    "111 тысяч баррелей, столько должна содержать скважина, чтобы окупить свою разработку. Это больше средних предсказанных запасов каждого из трёх регионов на 15-16 тысяч баррелей. Далеко не каждая скважина нам подойдёт, но именно за этим мы здесь и собрались."
   ]
  },
  {
   "cell_type": "markdown",
   "metadata": {},
   "source": [
    "## Расчёт прибыли и рисков "
   ]
  },
  {
   "cell_type": "code",
   "execution_count": 17,
   "metadata": {},
   "outputs": [],
   "source": [
    "state = np.random.RandomState(RANDOM_STATE) # Определение случайных значений для бутстрепа"
   ]
  },
  {
   "cell_type": "markdown",
   "metadata": {},
   "source": [
    "Теперь приступим к самому приятному - будем считать прибыль. Пока только теоретическую. Для этого создадим функцию. \n",
    "\n",
    "Она будет принимать на вход спрогнозированные значения, отбирать из них заданное количество лучших(`scouting_best`), и рассчитывать прибыль по формуле `общий объём сырья` * `прибыль с единицы` - `бюджет на разработку скважин`"
   ]
  },
  {
   "cell_type": "code",
   "execution_count": 18,
   "metadata": {},
   "outputs": [],
   "source": [
    "def profit_check(data):\n",
    "    data = data.sort_values(by=0, ascending=False)\n",
    "    data = data.head(scouting_best)\n",
    "    capacity = data.sum()\n",
    "    return float(capacity*income-budget)"
   ]
  },
  {
   "cell_type": "markdown",
   "metadata": {},
   "source": [
    "Функция готова, теперь бутстреп. Напомню, бутстреп - это техника, при которой имеющиеся данные разбиваются на случайные подвыборки, с которыми уже и производятся вычисления. Мы можем разбивать данные сколько душе угодно, но за основу возьмём 1000 итераций для каждого региона. Итого мы 1000 раз возьмём случайные записи в количестве `scouting_count` из трёх генеральных совокупностей. Эти записи будут имитировать разведанные в регионе скважины, и в каждой итерации мы будем рассчитывать прибыль, которую мы с них получим. Все результаты прибыли мы занесём в список, и позже получим доверительные интервалы, средние значения и риски отрицательной прибыли. Теория есть, приступим к практике."
   ]
  },
  {
   "cell_type": "code",
   "execution_count": 19,
   "metadata": {},
   "outputs": [],
   "source": [
    "def bootstrap_check(ds, region):\n",
    "    incomes = []\n",
    "    for i in range(1000):\n",
    "        incomes.append(profit_check(ds.sample(scouting_count, replace=False, random_state=state)))\n",
    "    incomes = pd.Series(incomes)\n",
    "    print('Данные по региону №'+str(region))\n",
    "    print('Средняя прибыль в регионе:', np.mean(incomes))\n",
    "    print('95%-й доверительный интервал:', st.t.interval(.95, df=len(incomes)-1, loc=np.mean(incomes), scale=np.std(incomes)))\n",
    "    print('Риск убытков:', (incomes<0).sum()/len(incomes)*100, '%')\n",
    "    if (incomes<0).sum()/len(incomes)<loss_risk:\n",
    "        print('Риск убытков проходит по порогу')\n",
    "    else:\n",
    "        print('Риск убытков слишком велик, регион бесперспективен')\n",
    "    print('')\n",
    "    return incomes"
   ]
  },
  {
   "cell_type": "code",
   "execution_count": 20,
   "metadata": {
    "scrolled": true
   },
   "outputs": [
    {
     "name": "stdout",
     "output_type": "stream",
     "text": [
      "Данные по региону №0\n",
      "Средняя прибыль в регионе: 146937500.63264123\n",
      "95%-й доверительный интервал: (-26924852.435116768, 320799853.7003992)\n",
      "Риск убытков: 5.3 %\n",
      "Риск убытков слишком велик, регион бесперспективен\n",
      "\n",
      "Данные по региону №1\n",
      "Средняя прибыль в регионе: -549587779.651768\n",
      "95%-й доверительный интервал: (-635159249.6304497, -464016309.6730863)\n",
      "Риск убытков: 100.0 %\n",
      "Риск убытков слишком велик, регион бесперспективен\n",
      "\n",
      "Данные по региону №2\n",
      "Средняя прибыль в регионе: 267772069.57956654\n",
      "95%-й доверительный интервал: (69923037.24982992, 465621101.9093032)\n",
      "Риск убытков: 0.3 %\n",
      "Риск убытков проходит по порогу\n",
      "\n"
     ]
    }
   ],
   "source": [
    "incomes_0 = bootstrap_check(pd.DataFrame(y_pred_0, index=X_valid_0.index), 0) # На текущий момент нет необходимости получать айди отдельных скважин. Но на случай если это понадобится в будущем - предсказанные значения передаются с привязкой по айди в виде индекса\n",
    "incomes_1 = bootstrap_check(pd.DataFrame(y_pred_1, index=X_valid_1.index), 1)\n",
    "incomes_2 = bootstrap_check(pd.DataFrame(y_pred_2, index=X_valid_2.index), 2)"
   ]
  },
  {
   "cell_type": "markdown",
   "metadata": {},
   "source": [
    "Регион 1 показал наихудший результат. 100% убытков, нет никакого шанса, что наши вложения в нём окупятся. Его мы можем сразу отбросить.\n",
    "\n",
    "Регион 0 продемонстрировал результат значительно лучше, но риски уйти в минус всё равно слишком велики.\n",
    "\n",
    "Регион 2 единственный проходит по порогу риска убытков, а также показывает наибольшее среднее значение прогнозной прибыли, и может считаться самым перспективным для разработки новых скважин. Именно его мы и предложим."
   ]
  },
  {
   "cell_type": "markdown",
   "metadata": {},
   "source": [
    "## Итоговый вывод"
   ]
  },
  {
   "cell_type": "markdown",
   "metadata": {},
   "source": [
    "В рамках загрузки и подготовки данных, мы:\n",
    "- Проверили данные на пропуски и дубликаты;\n",
    "- Проследили за распределением значений, убедились в отсутствии аномалий;\n",
    "- Составили заготовку препроцессинга для пайплайнов моделей.\n",
    "\n",
    "В рамках обучения моделей и проверки качества, мы:\n",
    "- Составили пайплайны для трёх моделей;\n",
    "- Обучили три линейные регрессии в пайплайне, на датасетах разных регионов;\n",
    "- Рассчитали средние значения предсказанного сырья для каждой модели;\n",
    "- Вывели метрики RMSE для каждой модели.\n",
    "\n",
    "В рамках подготовки к расчёту прибыли, мы:\n",
    "- Сохранили ключевые значения для расчётов в переменные. Это позволит легко модифицировать модель при изменении условий работы;\n",
    "- Рассчитали минимальный объём содержания сырья в каждой скважине, необходимое для её окупаемости.\n",
    "\n",
    "В рамках расчёта прибыли и рисков, мы:\n",
    "- Написали функцию для расчёта прибыли по прогнозированным значениям содержания сырья;\n",
    "- Провели 1000 итераций по технике бутстреп для каждого региона и расчитали итоговую прибыль для каждой подвыборки;\n",
    "- По полученным значениям расчитали доверительные интервалы, среднюю прибыль в регионе и риски убытков;\n",
    "- Сделали выводы по перспективности регионов.\n",
    "\n",
    "Самым перспективным регионом для разработки скважин, на основе средней прогнозной прибыли, доверительного интервала прогнозных значений и риска убытков, был выбран регион №2."
   ]
  },
  {
   "cell_type": "markdown",
   "metadata": {},
   "source": [
    "Рекомендации заказчику: \n",
    "- Сократить активность компании в регионе №1, показавшем риск убытков 100% и отрицательную среднюю прибыль;\n",
    "- Повысить активность в регионе №2."
   ]
  },
  {
   "cell_type": "markdown",
   "metadata": {},
   "source": [
    "## Чек-лист готовности проекта"
   ]
  },
  {
   "cell_type": "markdown",
   "metadata": {},
   "source": [
    "Поставьте 'x' в выполненных пунктах. Далее нажмите Shift+Enter."
   ]
  },
  {
   "cell_type": "markdown",
   "metadata": {},
   "source": [
    "- [x]  Jupyter Notebook открыт\n",
    "- [X]  Весь код выполняется без ошибок\n",
    "- [X]  Ячейки с кодом расположены в порядке исполнения\n",
    "- [X]  Выполнен шаг 1: данные подготовлены\n",
    "- [X]  Выполнен шаг 2: модели обучены и проверены\n",
    "    - [X]  Данные корректно разбиты на обучающую и валидационную выборки\n",
    "    - [X]  Модели обучены, предсказания сделаны\n",
    "    - [X]  Предсказания и правильные ответы на валидационной выборке сохранены\n",
    "    - [X]  На экране напечатаны результаты\n",
    "    - [X]  Сделаны выводы\n",
    "- [X]  Выполнен шаг 3: проведена подготовка к расчёту прибыли\n",
    "    - [X]  Для всех ключевых значений созданы константы Python\n",
    "    - [X]  Посчитано минимальное среднее количество продукта в месторождениях региона, достаточное для разработки\n",
    "    - [X]  По предыдущему пункту сделаны выводы\n",
    "    - [X]  Написана функция расчёта прибыли\n",
    "- [X]  Выполнен шаг 4: посчитаны риски и прибыль\n",
    "    - [X]  Проведена процедура *Bootstrap*\n",
    "    - [X]  Все параметры бутстрепа соответствуют условию\n",
    "    - [X]  Найдены все нужные величины\n",
    "    - [X]  Предложен регион для разработки месторождения\n",
    "    - [X]  Выбор региона обоснован"
   ]
  },
  {
   "cell_type": "code",
   "execution_count": null,
   "metadata": {},
   "outputs": [],
   "source": []
  }
 ],
 "metadata": {
  "ExecuteTimeLog": [
   {
    "duration": 407,
    "start_time": "2024-06-05T03:43:43.767Z"
   },
   {
    "duration": 639,
    "start_time": "2024-06-05T03:44:30.683Z"
   },
   {
    "duration": 630,
    "start_time": "2024-06-05T03:44:32.554Z"
   },
   {
    "duration": 619,
    "start_time": "2024-06-05T03:44:44.664Z"
   },
   {
    "duration": 7539,
    "start_time": "2024-06-05T03:45:13.688Z"
   },
   {
    "duration": 778,
    "start_time": "2024-06-05T03:45:29.731Z"
   },
   {
    "duration": 696,
    "start_time": "2024-06-05T03:45:53.247Z"
   },
   {
    "duration": 4,
    "start_time": "2024-06-05T03:46:20.398Z"
   },
   {
    "duration": 4,
    "start_time": "2024-06-05T03:46:39.022Z"
   },
   {
    "duration": 259,
    "start_time": "2024-06-05T03:46:47.404Z"
   },
   {
    "duration": 245,
    "start_time": "2024-06-05T03:47:03.373Z"
   },
   {
    "duration": 246,
    "start_time": "2024-06-05T03:47:11.181Z"
   },
   {
    "duration": 1045,
    "start_time": "2024-06-05T04:03:12.537Z"
   },
   {
    "duration": 1025,
    "start_time": "2024-06-05T04:03:34.348Z"
   },
   {
    "duration": 947,
    "start_time": "2024-06-05T04:03:44.830Z"
   },
   {
    "duration": 1417,
    "start_time": "2024-06-05T04:04:56.583Z"
   },
   {
    "duration": 1487,
    "start_time": "2024-06-05T04:05:05.143Z"
   },
   {
    "duration": 945,
    "start_time": "2024-06-05T04:06:28.337Z"
   },
   {
    "duration": 1435,
    "start_time": "2024-06-05T04:06:36.671Z"
   },
   {
    "duration": 1733,
    "start_time": "2024-06-05T04:06:45.591Z"
   },
   {
    "duration": 1652,
    "start_time": "2024-06-05T04:06:53.264Z"
   },
   {
    "duration": 1582,
    "start_time": "2024-06-05T04:06:58.651Z"
   },
   {
    "duration": 1695,
    "start_time": "2024-06-05T04:07:39.459Z"
   },
   {
    "duration": 1621,
    "start_time": "2024-06-05T04:07:48.781Z"
   },
   {
    "duration": 1693,
    "start_time": "2024-06-05T04:08:04.008Z"
   },
   {
    "duration": 1562,
    "start_time": "2024-06-05T04:08:45.124Z"
   },
   {
    "duration": 1785,
    "start_time": "2024-06-05T04:08:49.657Z"
   },
   {
    "duration": 1563,
    "start_time": "2024-06-05T04:08:57.223Z"
   },
   {
    "duration": 1633,
    "start_time": "2024-06-05T04:09:06.886Z"
   },
   {
    "duration": 1761,
    "start_time": "2024-06-05T04:09:11.740Z"
   },
   {
    "duration": 2132,
    "start_time": "2024-06-05T04:09:24.739Z"
   },
   {
    "duration": 2344,
    "start_time": "2024-06-05T04:11:06.642Z"
   },
   {
    "duration": 2005,
    "start_time": "2024-06-05T04:13:03.628Z"
   },
   {
    "duration": 2362,
    "start_time": "2024-06-05T04:18:47.651Z"
   },
   {
    "duration": 2254,
    "start_time": "2024-06-05T04:19:02.186Z"
   },
   {
    "duration": 2121,
    "start_time": "2024-06-05T04:19:10.731Z"
   },
   {
    "duration": 2284,
    "start_time": "2024-06-05T04:19:15.686Z"
   },
   {
    "duration": 2242,
    "start_time": "2024-06-05T04:19:21.273Z"
   },
   {
    "duration": 2049,
    "start_time": "2024-06-05T04:19:26.980Z"
   },
   {
    "duration": 2059,
    "start_time": "2024-06-05T04:19:33.695Z"
   },
   {
    "duration": 241,
    "start_time": "2024-06-05T04:20:50.625Z"
   },
   {
    "duration": 227,
    "start_time": "2024-06-05T04:20:54.840Z"
   },
   {
    "duration": 235,
    "start_time": "2024-06-05T04:20:58.089Z"
   },
   {
    "duration": 2158,
    "start_time": "2024-06-05T04:21:02.439Z"
   },
   {
    "duration": 2082,
    "start_time": "2024-06-05T04:21:15.960Z"
   },
   {
    "duration": 2246,
    "start_time": "2024-06-05T04:21:28.215Z"
   },
   {
    "duration": 101,
    "start_time": "2024-06-05T04:23:15.646Z"
   },
   {
    "duration": 2,
    "start_time": "2024-06-05T04:25:58.488Z"
   },
   {
    "duration": 4,
    "start_time": "2024-06-05T04:33:12.919Z"
   },
   {
    "duration": 21,
    "start_time": "2024-06-05T04:33:32.124Z"
   },
   {
    "duration": 4,
    "start_time": "2024-06-05T04:33:39.353Z"
   },
   {
    "duration": 9,
    "start_time": "2024-06-05T04:34:26.954Z"
   },
   {
    "duration": 3,
    "start_time": "2024-06-05T04:34:48.272Z"
   },
   {
    "duration": 4,
    "start_time": "2024-06-05T04:39:24.491Z"
   },
   {
    "duration": 36,
    "start_time": "2024-06-05T04:40:53.016Z"
   },
   {
    "duration": 106,
    "start_time": "2024-06-05T04:41:06.549Z"
   },
   {
    "duration": 881,
    "start_time": "2024-06-05T04:43:32.067Z"
   },
   {
    "duration": 886,
    "start_time": "2024-06-05T04:43:40.650Z"
   },
   {
    "duration": 11,
    "start_time": "2024-06-05T04:43:54.443Z"
   },
   {
    "duration": 10,
    "start_time": "2024-06-05T04:44:08.683Z"
   },
   {
    "duration": 79,
    "start_time": "2024-06-05T04:44:40.307Z"
   },
   {
    "duration": 18,
    "start_time": "2024-06-05T04:44:41.211Z"
   },
   {
    "duration": 1041,
    "start_time": "2024-06-05T04:44:44.216Z"
   },
   {
    "duration": 11,
    "start_time": "2024-06-05T04:45:03.837Z"
   },
   {
    "duration": 6,
    "start_time": "2024-06-05T04:45:07.472Z"
   },
   {
    "duration": 19,
    "start_time": "2024-06-05T04:45:09.978Z"
   },
   {
    "duration": 16,
    "start_time": "2024-06-05T04:45:11.295Z"
   },
   {
    "duration": 13,
    "start_time": "2024-06-05T04:45:14.459Z"
   },
   {
    "duration": 11,
    "start_time": "2024-06-05T04:45:16.136Z"
   },
   {
    "duration": 3,
    "start_time": "2024-06-05T04:45:46.112Z"
   },
   {
    "duration": 3,
    "start_time": "2024-06-05T04:45:47.579Z"
   },
   {
    "duration": 81,
    "start_time": "2024-06-05T04:45:48.645Z"
   },
   {
    "duration": 10,
    "start_time": "2024-06-05T04:45:49.551Z"
   },
   {
    "duration": 193,
    "start_time": "2024-06-05T04:45:52.763Z"
   },
   {
    "duration": 31,
    "start_time": "2024-06-05T04:46:09.654Z"
   },
   {
    "duration": 30,
    "start_time": "2024-06-05T04:46:23.743Z"
   },
   {
    "duration": 4,
    "start_time": "2024-06-05T04:50:50.882Z"
   },
   {
    "duration": 124,
    "start_time": "2024-06-05T04:56:02.233Z"
   },
   {
    "duration": 3,
    "start_time": "2024-06-05T04:56:31.112Z"
   },
   {
    "duration": 3,
    "start_time": "2024-06-05T04:56:32.854Z"
   },
   {
    "duration": 83,
    "start_time": "2024-06-05T04:56:33.731Z"
   },
   {
    "duration": 63,
    "start_time": "2024-06-05T04:56:34.394Z"
   },
   {
    "duration": 10,
    "start_time": "2024-06-05T04:57:44.514Z"
   },
   {
    "duration": 8,
    "start_time": "2024-06-05T04:57:48.443Z"
   },
   {
    "duration": 10,
    "start_time": "2024-06-05T04:57:50.475Z"
   },
   {
    "duration": 12,
    "start_time": "2024-06-05T04:57:53.262Z"
   },
   {
    "duration": 39,
    "start_time": "2024-06-05T04:58:02.599Z"
   },
   {
    "duration": 11,
    "start_time": "2024-06-05T04:58:15.815Z"
   },
   {
    "duration": 2,
    "start_time": "2024-06-05T04:58:46.609Z"
   },
   {
    "duration": 83,
    "start_time": "2024-06-05T04:58:46.959Z"
   },
   {
    "duration": 11,
    "start_time": "2024-06-05T04:58:47.250Z"
   },
   {
    "duration": 98,
    "start_time": "2024-06-05T04:58:47.760Z"
   },
   {
    "duration": 5,
    "start_time": "2024-06-05T04:59:03.210Z"
   },
   {
    "duration": 6,
    "start_time": "2024-06-05T04:59:07.149Z"
   },
   {
    "duration": 9,
    "start_time": "2024-06-05T04:59:09.066Z"
   },
   {
    "duration": 3,
    "start_time": "2024-06-05T04:59:37.355Z"
   },
   {
    "duration": 3,
    "start_time": "2024-06-05T04:59:56.413Z"
   },
   {
    "duration": 121,
    "start_time": "2024-06-05T05:00:00.135Z"
   },
   {
    "duration": 51,
    "start_time": "2024-06-05T05:00:00.715Z"
   },
   {
    "duration": 14,
    "start_time": "2024-06-05T05:00:50.554Z"
   },
   {
    "duration": 52,
    "start_time": "2024-06-05T05:01:12.133Z"
   },
   {
    "duration": 13,
    "start_time": "2024-06-05T05:01:12.527Z"
   },
   {
    "duration": 4,
    "start_time": "2024-06-05T05:01:16.099Z"
   },
   {
    "duration": 169,
    "start_time": "2024-06-05T05:01:20.290Z"
   },
   {
    "duration": 22,
    "start_time": "2024-06-05T05:01:20.628Z"
   },
   {
    "duration": 58,
    "start_time": "2024-06-05T05:01:58.902Z"
   },
   {
    "duration": 8,
    "start_time": "2024-06-05T05:01:59.306Z"
   },
   {
    "duration": 10,
    "start_time": "2024-06-05T05:03:20.861Z"
   },
   {
    "duration": 10,
    "start_time": "2024-06-05T05:04:13.257Z"
   },
   {
    "duration": 4,
    "start_time": "2024-06-05T05:07:46.762Z"
   },
   {
    "duration": 4,
    "start_time": "2024-06-05T05:21:52.585Z"
   },
   {
    "duration": 4,
    "start_time": "2024-06-05T05:24:10.719Z"
   },
   {
    "duration": 3,
    "start_time": "2024-06-05T05:24:30.946Z"
   },
   {
    "duration": 4,
    "start_time": "2024-06-05T05:24:41.992Z"
   },
   {
    "duration": 11,
    "start_time": "2024-06-05T05:25:40.694Z"
   },
   {
    "duration": 4,
    "start_time": "2024-06-05T05:25:49.810Z"
   },
   {
    "duration": 4,
    "start_time": "2024-06-05T05:27:10.936Z"
   },
   {
    "duration": 4,
    "start_time": "2024-06-05T05:30:18.877Z"
   },
   {
    "duration": 5,
    "start_time": "2024-06-05T05:40:56.930Z"
   },
   {
    "duration": 10,
    "start_time": "2024-06-05T05:42:24.601Z"
   },
   {
    "duration": 10,
    "start_time": "2024-06-05T05:42:29.074Z"
   },
   {
    "duration": 14,
    "start_time": "2024-06-05T05:43:01.987Z"
   },
   {
    "duration": 9,
    "start_time": "2024-06-05T05:43:09.738Z"
   },
   {
    "duration": 11,
    "start_time": "2024-06-05T05:43:33.369Z"
   },
   {
    "duration": 3,
    "start_time": "2024-06-05T05:45:05.256Z"
   },
   {
    "duration": 2,
    "start_time": "2024-06-05T05:45:17.139Z"
   },
   {
    "duration": 17,
    "start_time": "2024-06-05T05:45:17.451Z"
   },
   {
    "duration": 3,
    "start_time": "2024-06-05T05:45:27.176Z"
   },
   {
    "duration": 14,
    "start_time": "2024-06-05T05:45:27.498Z"
   },
   {
    "duration": 3,
    "start_time": "2024-06-05T05:45:32.787Z"
   },
   {
    "duration": 10,
    "start_time": "2024-06-05T05:45:33.055Z"
   },
   {
    "duration": 3,
    "start_time": "2024-06-05T05:46:55.214Z"
   },
   {
    "duration": 9,
    "start_time": "2024-06-05T05:46:55.984Z"
   },
   {
    "duration": 3,
    "start_time": "2024-06-05T05:47:55.187Z"
   },
   {
    "duration": 13,
    "start_time": "2024-06-05T05:47:55.528Z"
   },
   {
    "duration": 3,
    "start_time": "2024-06-05T05:48:03.993Z"
   },
   {
    "duration": 11,
    "start_time": "2024-06-05T05:48:04.729Z"
   },
   {
    "duration": 4,
    "start_time": "2024-06-05T05:48:26.035Z"
   },
   {
    "duration": 14,
    "start_time": "2024-06-05T05:48:26.350Z"
   },
   {
    "duration": 3,
    "start_time": "2024-06-05T05:48:36.400Z"
   },
   {
    "duration": 12,
    "start_time": "2024-06-05T05:48:36.833Z"
   },
   {
    "duration": 3,
    "start_time": "2024-06-05T05:48:40.215Z"
   },
   {
    "duration": 11,
    "start_time": "2024-06-05T05:48:40.384Z"
   },
   {
    "duration": 3,
    "start_time": "2024-06-05T05:49:43.045Z"
   },
   {
    "duration": 13,
    "start_time": "2024-06-05T05:49:43.437Z"
   },
   {
    "duration": 14,
    "start_time": "2024-06-05T05:49:51.365Z"
   },
   {
    "duration": 3,
    "start_time": "2024-06-05T05:50:02.201Z"
   },
   {
    "duration": 12,
    "start_time": "2024-06-05T05:50:02.382Z"
   },
   {
    "duration": 3,
    "start_time": "2024-06-05T05:52:02.090Z"
   },
   {
    "duration": 3,
    "start_time": "2024-06-05T05:55:02.570Z"
   },
   {
    "duration": 3,
    "start_time": "2024-06-05T05:55:03.308Z"
   },
   {
    "duration": 12,
    "start_time": "2024-06-05T05:55:04.525Z"
   },
   {
    "duration": 6757,
    "start_time": "2024-06-05T05:55:15.660Z"
   },
   {
    "duration": 2456,
    "start_time": "2024-06-05T05:55:53.031Z"
   },
   {
    "duration": 1859,
    "start_time": "2024-06-05T05:57:38.271Z"
   },
   {
    "duration": 1884,
    "start_time": "2024-06-05T05:58:34.372Z"
   },
   {
    "duration": 1869,
    "start_time": "2024-06-05T05:58:36.258Z"
   },
   {
    "duration": 3,
    "start_time": "2024-06-05T05:58:52.896Z"
   },
   {
    "duration": 3,
    "start_time": "2024-06-05T05:58:53.122Z"
   },
   {
    "duration": 1939,
    "start_time": "2024-06-05T05:58:53.363Z"
   },
   {
    "duration": 2018,
    "start_time": "2024-06-05T05:58:55.304Z"
   },
   {
    "duration": 1875,
    "start_time": "2024-06-05T05:58:57.324Z"
   },
   {
    "duration": 5,
    "start_time": "2024-06-05T05:59:56.425Z"
   },
   {
    "duration": 3,
    "start_time": "2024-06-05T06:03:59.253Z"
   },
   {
    "duration": 1960,
    "start_time": "2024-06-05T06:03:59.861Z"
   },
   {
    "duration": 2224,
    "start_time": "2024-06-05T06:04:05.911Z"
   },
   {
    "duration": 2286,
    "start_time": "2024-06-05T06:04:13.894Z"
   },
   {
    "duration": 2330,
    "start_time": "2024-06-05T06:05:11.541Z"
   },
   {
    "duration": 5674,
    "start_time": "2024-06-05T06:05:47.355Z"
   },
   {
    "duration": 5,
    "start_time": "2024-06-05T06:10:33.239Z"
   },
   {
    "duration": 1820,
    "start_time": "2024-06-05T06:10:33.576Z"
   },
   {
    "duration": 4,
    "start_time": "2024-06-05T06:10:44.732Z"
   },
   {
    "duration": 1872,
    "start_time": "2024-06-05T06:10:46.367Z"
   },
   {
    "duration": 4,
    "start_time": "2024-06-05T06:10:54.989Z"
   },
   {
    "duration": 1856,
    "start_time": "2024-06-05T06:10:55.380Z"
   },
   {
    "duration": 5,
    "start_time": "2024-06-05T06:11:04.128Z"
   },
   {
    "duration": 2014,
    "start_time": "2024-06-05T06:11:05.217Z"
   },
   {
    "duration": 4,
    "start_time": "2024-06-05T06:11:34.454Z"
   },
   {
    "duration": 5526,
    "start_time": "2024-06-05T06:11:34.761Z"
   },
   {
    "duration": 4,
    "start_time": "2024-06-05T06:12:11.936Z"
   },
   {
    "duration": 5769,
    "start_time": "2024-06-05T06:12:12.259Z"
   },
   {
    "duration": 408,
    "start_time": "2024-06-05T06:12:35.645Z"
   },
   {
    "duration": 4,
    "start_time": "2024-06-05T06:13:19.595Z"
   },
   {
    "duration": 6087,
    "start_time": "2024-06-05T06:13:20.294Z"
   },
   {
    "duration": 3,
    "start_time": "2024-06-05T06:14:08.374Z"
   },
   {
    "duration": 3,
    "start_time": "2024-06-05T06:14:08.565Z"
   },
   {
    "duration": 6,
    "start_time": "2024-06-05T06:14:08.846Z"
   },
   {
    "duration": 5648,
    "start_time": "2024-06-05T06:14:09.069Z"
   },
   {
    "duration": 741,
    "start_time": "2024-06-05T06:14:56.272Z"
   },
   {
    "duration": 635,
    "start_time": "2024-06-05T06:14:57.018Z"
   },
   {
    "duration": 3,
    "start_time": "2024-06-05T06:14:57.655Z"
   },
   {
    "duration": 43,
    "start_time": "2024-06-05T06:14:57.660Z"
   },
   {
    "duration": 286,
    "start_time": "2024-06-05T06:14:57.705Z"
   },
   {
    "duration": 223,
    "start_time": "2024-06-05T06:14:57.992Z"
   },
   {
    "duration": 224,
    "start_time": "2024-06-05T06:14:58.216Z"
   },
   {
    "duration": 2475,
    "start_time": "2024-06-05T06:14:58.441Z"
   },
   {
    "duration": 4,
    "start_time": "2024-06-05T06:15:00.918Z"
   },
   {
    "duration": 200,
    "start_time": "2024-06-05T06:15:00.924Z"
   },
   {
    "duration": 203,
    "start_time": "2024-06-05T06:15:01.126Z"
   },
   {
    "duration": 432,
    "start_time": "2024-06-05T06:15:01.331Z"
   },
   {
    "duration": 5,
    "start_time": "2024-06-05T06:15:01.855Z"
   },
   {
    "duration": 120,
    "start_time": "2024-06-05T06:15:01.865Z"
   },
   {
    "duration": 14,
    "start_time": "2024-06-05T06:15:01.987Z"
   },
   {
    "duration": 34,
    "start_time": "2024-06-05T06:15:02.003Z"
   },
   {
    "duration": 20,
    "start_time": "2024-06-05T06:15:02.040Z"
   },
   {
    "duration": 27,
    "start_time": "2024-06-05T06:15:02.063Z"
   },
   {
    "duration": 126,
    "start_time": "2024-06-05T06:15:02.092Z"
   },
   {
    "duration": 5945,
    "start_time": "2024-06-05T06:15:02.220Z"
   },
   {
    "duration": 760,
    "start_time": "2024-06-05T06:15:17.945Z"
   },
   {
    "duration": 623,
    "start_time": "2024-06-05T06:15:18.711Z"
   },
   {
    "duration": 5,
    "start_time": "2024-06-05T06:15:19.336Z"
   },
   {
    "duration": 12,
    "start_time": "2024-06-05T06:15:19.343Z"
   },
   {
    "duration": 299,
    "start_time": "2024-06-05T06:15:19.358Z"
   },
   {
    "duration": 233,
    "start_time": "2024-06-05T06:15:19.659Z"
   },
   {
    "duration": 228,
    "start_time": "2024-06-05T06:15:19.894Z"
   },
   {
    "duration": 2297,
    "start_time": "2024-06-05T06:15:20.123Z"
   },
   {
    "duration": 3,
    "start_time": "2024-06-05T06:15:22.421Z"
   },
   {
    "duration": 13,
    "start_time": "2024-06-05T06:15:22.427Z"
   },
   {
    "duration": 122,
    "start_time": "2024-06-05T06:15:22.442Z"
   },
   {
    "duration": 300,
    "start_time": "2024-06-05T06:15:22.566Z"
   },
   {
    "duration": 92,
    "start_time": "2024-06-05T06:15:22.868Z"
   },
   {
    "duration": 110,
    "start_time": "2024-06-05T06:15:22.964Z"
   },
   {
    "duration": 3,
    "start_time": "2024-06-05T06:15:23.076Z"
   },
   {
    "duration": 13,
    "start_time": "2024-06-05T06:15:23.081Z"
   },
   {
    "duration": 5,
    "start_time": "2024-06-05T06:15:23.095Z"
   },
   {
    "duration": 6,
    "start_time": "2024-06-05T06:15:23.101Z"
   },
   {
    "duration": 8,
    "start_time": "2024-06-05T06:15:23.108Z"
   },
   {
    "duration": 5811,
    "start_time": "2024-06-05T06:15:23.117Z"
   },
   {
    "duration": 724,
    "start_time": "2024-06-05T06:15:55.698Z"
   },
   {
    "duration": 619,
    "start_time": "2024-06-05T06:15:56.427Z"
   },
   {
    "duration": 7,
    "start_time": "2024-06-05T06:15:57.048Z"
   },
   {
    "duration": 4,
    "start_time": "2024-06-05T06:15:57.057Z"
   },
   {
    "duration": 249,
    "start_time": "2024-06-05T06:15:57.064Z"
   },
   {
    "duration": 213,
    "start_time": "2024-06-05T06:15:57.315Z"
   },
   {
    "duration": 235,
    "start_time": "2024-06-05T06:15:57.530Z"
   },
   {
    "duration": 2290,
    "start_time": "2024-06-05T06:15:57.766Z"
   },
   {
    "duration": 3,
    "start_time": "2024-06-05T06:16:00.057Z"
   },
   {
    "duration": 49,
    "start_time": "2024-06-05T06:16:00.062Z"
   },
   {
    "duration": 143,
    "start_time": "2024-06-05T06:16:00.113Z"
   },
   {
    "duration": 299,
    "start_time": "2024-06-05T06:16:00.257Z"
   },
   {
    "duration": 5,
    "start_time": "2024-06-05T06:16:00.558Z"
   },
   {
    "duration": 147,
    "start_time": "2024-06-05T06:16:00.566Z"
   },
   {
    "duration": 21,
    "start_time": "2024-06-05T06:16:00.715Z"
   },
   {
    "duration": 29,
    "start_time": "2024-06-05T06:16:00.738Z"
   },
   {
    "duration": 53,
    "start_time": "2024-06-05T06:16:00.769Z"
   },
   {
    "duration": 78,
    "start_time": "2024-06-05T06:16:00.823Z"
   },
   {
    "duration": 75,
    "start_time": "2024-06-05T06:16:00.902Z"
   },
   {
    "duration": 5615,
    "start_time": "2024-06-05T06:16:00.979Z"
   },
   {
    "duration": 713,
    "start_time": "2024-06-05T06:16:13.464Z"
   },
   {
    "duration": 609,
    "start_time": "2024-06-05T06:16:14.181Z"
   },
   {
    "duration": 4,
    "start_time": "2024-06-05T06:16:14.792Z"
   },
   {
    "duration": 14,
    "start_time": "2024-06-05T06:16:14.797Z"
   },
   {
    "duration": 284,
    "start_time": "2024-06-05T06:16:14.813Z"
   },
   {
    "duration": 225,
    "start_time": "2024-06-05T06:16:15.098Z"
   },
   {
    "duration": 238,
    "start_time": "2024-06-05T06:16:15.325Z"
   },
   {
    "duration": 2240,
    "start_time": "2024-06-05T06:16:15.564Z"
   },
   {
    "duration": 3,
    "start_time": "2024-06-05T06:16:17.805Z"
   },
   {
    "duration": 9,
    "start_time": "2024-06-05T06:16:17.810Z"
   },
   {
    "duration": 113,
    "start_time": "2024-06-05T06:16:17.820Z"
   },
   {
    "duration": 328,
    "start_time": "2024-06-05T06:16:17.934Z"
   },
   {
    "duration": 5,
    "start_time": "2024-06-05T06:16:18.355Z"
   },
   {
    "duration": 116,
    "start_time": "2024-06-05T06:16:18.363Z"
   },
   {
    "duration": 3,
    "start_time": "2024-06-05T06:16:18.480Z"
   },
   {
    "duration": 26,
    "start_time": "2024-06-05T06:16:18.485Z"
   },
   {
    "duration": 11,
    "start_time": "2024-06-05T06:16:18.513Z"
   },
   {
    "duration": 24,
    "start_time": "2024-06-05T06:16:18.525Z"
   },
   {
    "duration": 8,
    "start_time": "2024-06-05T06:16:18.551Z"
   },
   {
    "duration": 5533,
    "start_time": "2024-06-05T06:16:18.560Z"
   },
   {
    "duration": 740,
    "start_time": "2024-06-05T06:16:52.355Z"
   },
   {
    "duration": 592,
    "start_time": "2024-06-05T06:16:53.099Z"
   },
   {
    "duration": 4,
    "start_time": "2024-06-05T06:16:53.692Z"
   },
   {
    "duration": 5,
    "start_time": "2024-06-05T06:16:53.697Z"
   },
   {
    "duration": 268,
    "start_time": "2024-06-05T06:16:53.704Z"
   },
   {
    "duration": 223,
    "start_time": "2024-06-05T06:16:53.973Z"
   },
   {
    "duration": 231,
    "start_time": "2024-06-05T06:16:54.198Z"
   },
   {
    "duration": 2306,
    "start_time": "2024-06-05T06:16:54.430Z"
   },
   {
    "duration": 3,
    "start_time": "2024-06-05T06:16:56.737Z"
   },
   {
    "duration": 16,
    "start_time": "2024-06-05T06:16:56.741Z"
   },
   {
    "duration": 121,
    "start_time": "2024-06-05T06:16:56.759Z"
   },
   {
    "duration": 275,
    "start_time": "2024-06-05T06:16:56.881Z"
   },
   {
    "duration": 5,
    "start_time": "2024-06-05T06:16:57.158Z"
   },
   {
    "duration": 116,
    "start_time": "2024-06-05T06:16:57.166Z"
   },
   {
    "duration": 4,
    "start_time": "2024-06-05T06:16:57.284Z"
   },
   {
    "duration": 13,
    "start_time": "2024-06-05T06:16:57.289Z"
   },
   {
    "duration": 7,
    "start_time": "2024-06-05T06:16:57.304Z"
   },
   {
    "duration": 4,
    "start_time": "2024-06-05T06:16:57.312Z"
   },
   {
    "duration": 14,
    "start_time": "2024-06-05T06:16:57.356Z"
   },
   {
    "duration": 5646,
    "start_time": "2024-06-05T06:16:57.372Z"
   },
   {
    "duration": 741,
    "start_time": "2024-06-05T06:17:14.635Z"
   },
   {
    "duration": 595,
    "start_time": "2024-06-05T06:17:15.380Z"
   },
   {
    "duration": 4,
    "start_time": "2024-06-05T06:17:15.977Z"
   },
   {
    "duration": 27,
    "start_time": "2024-06-05T06:17:15.982Z"
   },
   {
    "duration": 284,
    "start_time": "2024-06-05T06:17:16.011Z"
   },
   {
    "duration": 260,
    "start_time": "2024-06-05T06:17:16.296Z"
   },
   {
    "duration": 225,
    "start_time": "2024-06-05T06:17:16.558Z"
   },
   {
    "duration": 2196,
    "start_time": "2024-06-05T06:17:16.784Z"
   },
   {
    "duration": 4,
    "start_time": "2024-06-05T06:17:18.981Z"
   },
   {
    "duration": 15,
    "start_time": "2024-06-05T06:17:18.987Z"
   },
   {
    "duration": 135,
    "start_time": "2024-06-05T06:17:19.003Z"
   },
   {
    "duration": 316,
    "start_time": "2024-06-05T06:17:19.140Z"
   },
   {
    "duration": 5,
    "start_time": "2024-06-05T06:17:19.459Z"
   },
   {
    "duration": 31,
    "start_time": "2024-06-05T06:17:19.557Z"
   },
   {
    "duration": 19,
    "start_time": "2024-06-05T06:17:19.590Z"
   },
   {
    "duration": 85,
    "start_time": "2024-06-05T06:17:19.611Z"
   },
   {
    "duration": 25,
    "start_time": "2024-06-05T06:17:19.698Z"
   },
   {
    "duration": 14,
    "start_time": "2024-06-05T06:17:19.725Z"
   },
   {
    "duration": 4,
    "start_time": "2024-06-05T06:17:19.740Z"
   },
   {
    "duration": 5605,
    "start_time": "2024-06-05T06:17:19.746Z"
   },
   {
    "duration": 729,
    "start_time": "2024-06-05T06:17:43.991Z"
   },
   {
    "duration": 606,
    "start_time": "2024-06-05T06:17:44.726Z"
   },
   {
    "duration": 3,
    "start_time": "2024-06-05T06:17:45.334Z"
   },
   {
    "duration": 7,
    "start_time": "2024-06-05T06:17:45.338Z"
   },
   {
    "duration": 253,
    "start_time": "2024-06-05T06:17:45.347Z"
   },
   {
    "duration": 214,
    "start_time": "2024-06-05T06:17:45.601Z"
   },
   {
    "duration": 228,
    "start_time": "2024-06-05T06:17:45.816Z"
   },
   {
    "duration": 2266,
    "start_time": "2024-06-05T06:17:46.046Z"
   },
   {
    "duration": 3,
    "start_time": "2024-06-05T06:17:48.314Z"
   },
   {
    "duration": 9,
    "start_time": "2024-06-05T06:17:48.319Z"
   },
   {
    "duration": 114,
    "start_time": "2024-06-05T06:17:48.330Z"
   },
   {
    "duration": 310,
    "start_time": "2024-06-05T06:17:48.446Z"
   },
   {
    "duration": 4,
    "start_time": "2024-06-05T06:17:48.759Z"
   },
   {
    "duration": 203,
    "start_time": "2024-06-05T06:17:48.766Z"
   },
   {
    "duration": 3,
    "start_time": "2024-06-05T06:17:48.970Z"
   },
   {
    "duration": 14,
    "start_time": "2024-06-05T06:17:48.974Z"
   },
   {
    "duration": 8,
    "start_time": "2024-06-05T06:17:48.989Z"
   },
   {
    "duration": 9,
    "start_time": "2024-06-05T06:17:48.999Z"
   },
   {
    "duration": 5,
    "start_time": "2024-06-05T06:17:49.009Z"
   },
   {
    "duration": 5588,
    "start_time": "2024-06-05T06:17:49.016Z"
   },
   {
    "duration": 781,
    "start_time": "2024-06-05T06:18:06.118Z"
   },
   {
    "duration": 577,
    "start_time": "2024-06-05T06:18:06.903Z"
   },
   {
    "duration": 4,
    "start_time": "2024-06-05T06:18:07.482Z"
   },
   {
    "duration": 18,
    "start_time": "2024-06-05T06:18:07.487Z"
   },
   {
    "duration": 275,
    "start_time": "2024-06-05T06:18:07.507Z"
   },
   {
    "duration": 226,
    "start_time": "2024-06-05T06:18:07.783Z"
   },
   {
    "duration": 226,
    "start_time": "2024-06-05T06:18:08.010Z"
   },
   {
    "duration": 2310,
    "start_time": "2024-06-05T06:18:08.237Z"
   },
   {
    "duration": 3,
    "start_time": "2024-06-05T06:18:10.548Z"
   },
   {
    "duration": 18,
    "start_time": "2024-06-05T06:18:10.553Z"
   },
   {
    "duration": 136,
    "start_time": "2024-06-05T06:18:10.573Z"
   },
   {
    "duration": 259,
    "start_time": "2024-06-05T06:18:10.711Z"
   },
   {
    "duration": 10,
    "start_time": "2024-06-05T06:18:11.057Z"
   },
   {
    "duration": 25,
    "start_time": "2024-06-05T06:18:11.156Z"
   },
   {
    "duration": 4,
    "start_time": "2024-06-05T06:18:11.183Z"
   },
   {
    "duration": 17,
    "start_time": "2024-06-05T06:18:11.188Z"
   },
   {
    "duration": 11,
    "start_time": "2024-06-05T06:18:11.207Z"
   },
   {
    "duration": 15,
    "start_time": "2024-06-05T06:18:11.219Z"
   },
   {
    "duration": 14,
    "start_time": "2024-06-05T06:18:11.236Z"
   },
   {
    "duration": 5511,
    "start_time": "2024-06-05T06:18:11.252Z"
   },
   {
    "duration": 748,
    "start_time": "2024-06-05T06:18:27.205Z"
   },
   {
    "duration": 570,
    "start_time": "2024-06-05T06:18:27.957Z"
   },
   {
    "duration": 4,
    "start_time": "2024-06-05T06:18:28.528Z"
   },
   {
    "duration": 16,
    "start_time": "2024-06-05T06:18:28.533Z"
   },
   {
    "duration": 276,
    "start_time": "2024-06-05T06:18:28.550Z"
   },
   {
    "duration": 216,
    "start_time": "2024-06-05T06:18:28.827Z"
   },
   {
    "duration": 227,
    "start_time": "2024-06-05T06:18:29.044Z"
   },
   {
    "duration": 2275,
    "start_time": "2024-06-05T06:18:29.273Z"
   },
   {
    "duration": 4,
    "start_time": "2024-06-05T06:18:31.549Z"
   },
   {
    "duration": 47,
    "start_time": "2024-06-05T06:18:31.554Z"
   },
   {
    "duration": 137,
    "start_time": "2024-06-05T06:18:31.603Z"
   },
   {
    "duration": 325,
    "start_time": "2024-06-05T06:18:31.741Z"
   },
   {
    "duration": 5,
    "start_time": "2024-06-05T06:18:32.157Z"
   },
   {
    "duration": 116,
    "start_time": "2024-06-05T06:18:32.166Z"
   },
   {
    "duration": 15,
    "start_time": "2024-06-05T06:18:32.284Z"
   },
   {
    "duration": 9,
    "start_time": "2024-06-05T06:18:32.301Z"
   },
   {
    "duration": 6,
    "start_time": "2024-06-05T06:18:32.311Z"
   },
   {
    "duration": 5,
    "start_time": "2024-06-05T06:18:32.319Z"
   },
   {
    "duration": 8,
    "start_time": "2024-06-05T06:18:32.325Z"
   },
   {
    "duration": 5668,
    "start_time": "2024-06-05T06:18:32.334Z"
   },
   {
    "duration": 4,
    "start_time": "2024-06-05T06:21:05.238Z"
   },
   {
    "duration": 5713,
    "start_time": "2024-06-05T06:21:05.540Z"
   },
   {
    "duration": 5,
    "start_time": "2024-06-05T06:22:14.912Z"
   },
   {
    "duration": 1971,
    "start_time": "2024-06-05T06:22:15.197Z"
   },
   {
    "duration": 4,
    "start_time": "2024-06-05T06:22:40.118Z"
   },
   {
    "duration": 2559,
    "start_time": "2024-06-05T06:22:40.752Z"
   },
   {
    "duration": 5,
    "start_time": "2024-06-05T06:25:42.332Z"
   },
   {
    "duration": 2615,
    "start_time": "2024-06-05T06:25:42.748Z"
   },
   {
    "duration": 4,
    "start_time": "2024-06-05T06:26:38.435Z"
   },
   {
    "duration": 6972,
    "start_time": "2024-06-05T06:26:38.625Z"
   },
   {
    "duration": 10,
    "start_time": "2024-06-05T06:27:02.749Z"
   },
   {
    "duration": 5,
    "start_time": "2024-06-05T06:27:15.740Z"
   },
   {
    "duration": 2710,
    "start_time": "2024-06-05T06:27:16.179Z"
   },
   {
    "duration": 5,
    "start_time": "2024-06-05T06:27:21.680Z"
   },
   {
    "duration": 2593,
    "start_time": "2024-06-05T06:27:22.084Z"
   },
   {
    "duration": 5,
    "start_time": "2024-06-05T06:29:57.843Z"
   },
   {
    "duration": 2398,
    "start_time": "2024-06-05T06:29:58.099Z"
   },
   {
    "duration": 8,
    "start_time": "2024-06-05T06:30:21.348Z"
   },
   {
    "duration": 223,
    "start_time": "2024-06-05T06:30:37.358Z"
   },
   {
    "duration": 243,
    "start_time": "2024-06-05T06:30:41.262Z"
   },
   {
    "duration": 242,
    "start_time": "2024-06-05T06:30:54.678Z"
   },
   {
    "duration": 77,
    "start_time": "2024-06-05T06:31:05.999Z"
   },
   {
    "duration": 220,
    "start_time": "2024-06-05T06:31:11.018Z"
   },
   {
    "duration": 273,
    "start_time": "2024-06-05T06:31:15.604Z"
   },
   {
    "duration": 12,
    "start_time": "2024-06-05T06:32:33.402Z"
   },
   {
    "duration": 259,
    "start_time": "2024-06-05T06:32:39.040Z"
   },
   {
    "duration": 5,
    "start_time": "2024-06-05T06:34:23.634Z"
   },
   {
    "duration": 5802,
    "start_time": "2024-06-05T06:34:23.855Z"
   },
   {
    "duration": 10,
    "start_time": "2024-06-05T06:34:53.713Z"
   },
   {
    "duration": 9,
    "start_time": "2024-06-05T06:35:00.169Z"
   },
   {
    "duration": 5,
    "start_time": "2024-06-05T06:35:18.112Z"
   },
   {
    "duration": 6008,
    "start_time": "2024-06-05T06:35:18.503Z"
   },
   {
    "duration": 5,
    "start_time": "2024-06-05T06:35:50.949Z"
   },
   {
    "duration": 5875,
    "start_time": "2024-06-05T06:35:51.189Z"
   },
   {
    "duration": 4,
    "start_time": "2024-06-05T06:35:57.066Z"
   },
   {
    "duration": 5546,
    "start_time": "2024-06-05T06:36:01.257Z"
   },
   {
    "duration": 380,
    "start_time": "2024-06-05T06:36:28.188Z"
   },
   {
    "duration": 3,
    "start_time": "2024-06-05T06:36:54.483Z"
   },
   {
    "duration": 3,
    "start_time": "2024-06-05T06:36:54.683Z"
   },
   {
    "duration": 4,
    "start_time": "2024-06-05T06:36:54.855Z"
   },
   {
    "duration": 5936,
    "start_time": "2024-06-05T06:36:55.057Z"
   },
   {
    "duration": 411,
    "start_time": "2024-06-05T06:37:00.995Z"
   },
   {
    "duration": 5,
    "start_time": "2024-06-05T06:37:10.637Z"
   },
   {
    "duration": 10,
    "start_time": "2024-06-05T06:39:29.580Z"
   },
   {
    "duration": 4,
    "start_time": "2024-06-05T06:39:37.152Z"
   },
   {
    "duration": 3,
    "start_time": "2024-06-05T06:39:37.426Z"
   },
   {
    "duration": 4,
    "start_time": "2024-06-05T06:39:37.660Z"
   },
   {
    "duration": 5550,
    "start_time": "2024-06-05T06:39:37.924Z"
   },
   {
    "duration": 10,
    "start_time": "2024-06-05T06:39:45.582Z"
   },
   {
    "duration": 5,
    "start_time": "2024-06-05T06:39:58.623Z"
   },
   {
    "duration": 9,
    "start_time": "2024-06-05T06:40:03.918Z"
   },
   {
    "duration": 11,
    "start_time": "2024-06-05T06:40:08.142Z"
   },
   {
    "duration": 11,
    "start_time": "2024-06-05T06:41:28.332Z"
   },
   {
    "duration": 4,
    "start_time": "2024-06-05T06:41:37.220Z"
   },
   {
    "duration": 713,
    "start_time": "2024-06-05T06:41:46.205Z"
   },
   {
    "duration": 587,
    "start_time": "2024-06-05T06:41:46.923Z"
   },
   {
    "duration": 3,
    "start_time": "2024-06-05T06:41:47.512Z"
   },
   {
    "duration": 10,
    "start_time": "2024-06-05T06:41:47.516Z"
   },
   {
    "duration": 260,
    "start_time": "2024-06-05T06:41:47.528Z"
   },
   {
    "duration": 220,
    "start_time": "2024-06-05T06:41:47.790Z"
   },
   {
    "duration": 224,
    "start_time": "2024-06-05T06:41:48.011Z"
   },
   {
    "duration": 2323,
    "start_time": "2024-06-05T06:41:48.237Z"
   },
   {
    "duration": 3,
    "start_time": "2024-06-05T06:41:50.562Z"
   },
   {
    "duration": 13,
    "start_time": "2024-06-05T06:41:50.567Z"
   },
   {
    "duration": 105,
    "start_time": "2024-06-05T06:41:50.582Z"
   },
   {
    "duration": 267,
    "start_time": "2024-06-05T06:41:50.689Z"
   },
   {
    "duration": 95,
    "start_time": "2024-06-05T06:41:50.961Z"
   },
   {
    "duration": 21,
    "start_time": "2024-06-05T06:41:51.058Z"
   },
   {
    "duration": 2,
    "start_time": "2024-06-05T06:41:51.081Z"
   },
   {
    "duration": 11,
    "start_time": "2024-06-05T06:41:51.085Z"
   },
   {
    "duration": 13,
    "start_time": "2024-06-05T06:41:51.098Z"
   },
   {
    "duration": 5,
    "start_time": "2024-06-05T06:41:51.112Z"
   },
   {
    "duration": 16,
    "start_time": "2024-06-05T06:41:51.119Z"
   },
   {
    "duration": 5579,
    "start_time": "2024-06-05T06:41:51.137Z"
   },
   {
    "duration": 122,
    "start_time": "2024-06-05T06:41:56.718Z"
   },
   {
    "duration": 1,
    "start_time": "2024-06-05T06:41:56.841Z"
   },
   {
    "duration": 14,
    "start_time": "2024-06-05T06:44:10.593Z"
   },
   {
    "duration": 8,
    "start_time": "2024-06-05T06:44:22.480Z"
   },
   {
    "duration": 12,
    "start_time": "2024-06-05T06:44:34.056Z"
   },
   {
    "duration": 5,
    "start_time": "2024-06-05T06:45:14.403Z"
   },
   {
    "duration": 7208,
    "start_time": "2024-06-05T06:45:14.719Z"
   },
   {
    "duration": 250,
    "start_time": "2024-06-05T06:45:44.290Z"
   },
   {
    "duration": 12,
    "start_time": "2024-06-05T06:46:41.183Z"
   },
   {
    "duration": 9,
    "start_time": "2024-06-05T06:46:47.756Z"
   },
   {
    "duration": 11,
    "start_time": "2024-06-05T06:46:50.365Z"
   },
   {
    "duration": 13,
    "start_time": "2024-06-05T06:46:54.248Z"
   },
   {
    "duration": 7,
    "start_time": "2024-06-05T06:48:14.558Z"
   },
   {
    "duration": 3,
    "start_time": "2024-06-05T06:48:16.910Z"
   },
   {
    "duration": 3,
    "start_time": "2024-06-05T06:48:17.072Z"
   },
   {
    "duration": 6,
    "start_time": "2024-06-05T06:48:17.243Z"
   },
   {
    "duration": 6947,
    "start_time": "2024-06-05T06:48:17.449Z"
   },
   {
    "duration": 10,
    "start_time": "2024-06-05T06:48:24.398Z"
   },
   {
    "duration": 11,
    "start_time": "2024-06-05T06:48:27.100Z"
   },
   {
    "duration": 5,
    "start_time": "2024-06-05T06:48:37.968Z"
   },
   {
    "duration": 6894,
    "start_time": "2024-06-05T06:48:38.190Z"
   },
   {
    "duration": 9,
    "start_time": "2024-06-05T06:48:45.086Z"
   },
   {
    "duration": 3,
    "start_time": "2024-06-05T06:49:38.519Z"
   },
   {
    "duration": 5,
    "start_time": "2024-06-05T06:49:38.694Z"
   },
   {
    "duration": 7014,
    "start_time": "2024-06-05T06:49:38.919Z"
   },
   {
    "duration": 9,
    "start_time": "2024-06-05T06:49:45.935Z"
   },
   {
    "duration": 5,
    "start_time": "2024-06-05T06:50:37.080Z"
   },
   {
    "duration": 7024,
    "start_time": "2024-06-05T06:50:37.480Z"
   },
   {
    "duration": 9,
    "start_time": "2024-06-05T06:50:44.506Z"
   },
   {
    "duration": 4,
    "start_time": "2024-06-05T06:50:54.021Z"
   },
   {
    "duration": 1841,
    "start_time": "2024-06-05T06:50:54.377Z"
   },
   {
    "duration": 0,
    "start_time": "2024-06-05T06:50:56.220Z"
   },
   {
    "duration": 5,
    "start_time": "2024-06-05T06:52:00.726Z"
   },
   {
    "duration": 6860,
    "start_time": "2024-06-05T06:52:01.023Z"
   },
   {
    "duration": 9,
    "start_time": "2024-06-05T06:52:07.885Z"
   },
   {
    "duration": 5,
    "start_time": "2024-06-05T06:53:17.503Z"
   },
   {
    "duration": 7934,
    "start_time": "2024-06-05T06:53:17.770Z"
   },
   {
    "duration": 8,
    "start_time": "2024-06-05T06:55:08.395Z"
   },
   {
    "duration": 4,
    "start_time": "2024-06-05T06:55:24.780Z"
   },
   {
    "duration": 8,
    "start_time": "2024-06-05T06:55:25.094Z"
   },
   {
    "duration": 8,
    "start_time": "2024-06-05T06:55:37.303Z"
   },
   {
    "duration": 3,
    "start_time": "2024-06-05T06:55:49.388Z"
   },
   {
    "duration": 7,
    "start_time": "2024-06-05T06:55:50.107Z"
   },
   {
    "duration": 6,
    "start_time": "2024-06-05T06:55:53.748Z"
   },
   {
    "duration": 7,
    "start_time": "2024-06-05T06:55:58.000Z"
   },
   {
    "duration": 5448,
    "start_time": "2024-06-05T06:56:01.066Z"
   },
   {
    "duration": 5,
    "start_time": "2024-06-05T06:56:12.143Z"
   },
   {
    "duration": 5498,
    "start_time": "2024-06-05T06:56:12.788Z"
   },
   {
    "duration": 4,
    "start_time": "2024-06-05T06:56:21.563Z"
   },
   {
    "duration": 3,
    "start_time": "2024-06-05T06:57:05.681Z"
   },
   {
    "duration": 5,
    "start_time": "2024-06-05T06:57:06.118Z"
   },
   {
    "duration": 5587,
    "start_time": "2024-06-05T06:57:07.071Z"
   },
   {
    "duration": 4,
    "start_time": "2024-06-05T06:57:12.660Z"
   },
   {
    "duration": 3,
    "start_time": "2024-06-05T06:58:11.444Z"
   },
   {
    "duration": 3,
    "start_time": "2024-06-05T06:58:11.643Z"
   },
   {
    "duration": 5,
    "start_time": "2024-06-05T06:58:11.957Z"
   },
   {
    "duration": 5455,
    "start_time": "2024-06-05T06:58:12.854Z"
   },
   {
    "duration": 773,
    "start_time": "2024-06-05T06:58:31.628Z"
   },
   {
    "duration": 615,
    "start_time": "2024-06-05T06:58:32.406Z"
   },
   {
    "duration": 4,
    "start_time": "2024-06-05T06:58:33.023Z"
   },
   {
    "duration": 20,
    "start_time": "2024-06-05T06:58:33.028Z"
   },
   {
    "duration": 274,
    "start_time": "2024-06-05T06:58:33.050Z"
   },
   {
    "duration": 213,
    "start_time": "2024-06-05T06:58:33.325Z"
   },
   {
    "duration": 224,
    "start_time": "2024-06-05T06:58:33.539Z"
   },
   {
    "duration": 2195,
    "start_time": "2024-06-05T06:58:33.765Z"
   },
   {
    "duration": 3,
    "start_time": "2024-06-05T06:58:35.961Z"
   },
   {
    "duration": 11,
    "start_time": "2024-06-05T06:58:35.966Z"
   },
   {
    "duration": 123,
    "start_time": "2024-06-05T06:58:35.978Z"
   },
   {
    "duration": 260,
    "start_time": "2024-06-05T06:58:36.102Z"
   },
   {
    "duration": 5,
    "start_time": "2024-06-05T06:58:36.455Z"
   },
   {
    "duration": 114,
    "start_time": "2024-06-05T06:58:36.462Z"
   },
   {
    "duration": 4,
    "start_time": "2024-06-05T06:58:36.578Z"
   },
   {
    "duration": 7,
    "start_time": "2024-06-05T06:58:36.584Z"
   },
   {
    "duration": 4,
    "start_time": "2024-06-05T06:58:36.592Z"
   },
   {
    "duration": 4,
    "start_time": "2024-06-05T06:58:36.597Z"
   },
   {
    "duration": 5,
    "start_time": "2024-06-05T06:58:36.603Z"
   },
   {
    "duration": 5485,
    "start_time": "2024-06-05T06:58:36.609Z"
   },
   {
    "duration": 820,
    "start_time": "2024-06-05T06:59:06.398Z"
   },
   {
    "duration": 589,
    "start_time": "2024-06-05T06:59:07.222Z"
   },
   {
    "duration": 3,
    "start_time": "2024-06-05T06:59:07.813Z"
   },
   {
    "duration": 10,
    "start_time": "2024-06-05T06:59:07.817Z"
   },
   {
    "duration": 252,
    "start_time": "2024-06-05T06:59:07.829Z"
   },
   {
    "duration": 217,
    "start_time": "2024-06-05T06:59:08.082Z"
   },
   {
    "duration": 225,
    "start_time": "2024-06-05T06:59:08.301Z"
   },
   {
    "duration": 2305,
    "start_time": "2024-06-05T06:59:08.527Z"
   },
   {
    "duration": 2,
    "start_time": "2024-06-05T06:59:10.834Z"
   },
   {
    "duration": 14,
    "start_time": "2024-06-05T06:59:10.838Z"
   },
   {
    "duration": 121,
    "start_time": "2024-06-05T06:59:10.853Z"
   },
   {
    "duration": 280,
    "start_time": "2024-06-05T06:59:10.976Z"
   },
   {
    "duration": 5,
    "start_time": "2024-06-05T06:59:11.258Z"
   },
   {
    "duration": 115,
    "start_time": "2024-06-05T06:59:11.266Z"
   },
   {
    "duration": 3,
    "start_time": "2024-06-05T06:59:11.383Z"
   },
   {
    "duration": 16,
    "start_time": "2024-06-05T06:59:11.387Z"
   },
   {
    "duration": 4,
    "start_time": "2024-06-05T06:59:11.405Z"
   },
   {
    "duration": 5,
    "start_time": "2024-06-05T06:59:11.410Z"
   },
   {
    "duration": 10,
    "start_time": "2024-06-05T06:59:11.417Z"
   },
   {
    "duration": 5700,
    "start_time": "2024-06-05T06:59:11.429Z"
   },
   {
    "duration": 779,
    "start_time": "2024-06-05T07:00:08.321Z"
   },
   {
    "duration": 618,
    "start_time": "2024-06-05T07:00:09.103Z"
   },
   {
    "duration": 3,
    "start_time": "2024-06-05T07:00:09.723Z"
   },
   {
    "duration": 19,
    "start_time": "2024-06-05T07:00:09.728Z"
   },
   {
    "duration": 280,
    "start_time": "2024-06-05T07:00:09.749Z"
   },
   {
    "duration": 236,
    "start_time": "2024-06-05T07:00:10.031Z"
   },
   {
    "duration": 234,
    "start_time": "2024-06-05T07:00:10.269Z"
   },
   {
    "duration": 2276,
    "start_time": "2024-06-05T07:00:10.504Z"
   },
   {
    "duration": 3,
    "start_time": "2024-06-05T07:00:12.781Z"
   },
   {
    "duration": 20,
    "start_time": "2024-06-05T07:00:12.785Z"
   },
   {
    "duration": 117,
    "start_time": "2024-06-05T07:00:12.806Z"
   },
   {
    "duration": 333,
    "start_time": "2024-06-05T07:00:12.924Z"
   },
   {
    "duration": 5,
    "start_time": "2024-06-05T07:00:13.259Z"
   },
   {
    "duration": 213,
    "start_time": "2024-06-05T07:00:13.267Z"
   },
   {
    "duration": 3,
    "start_time": "2024-06-05T07:00:13.481Z"
   },
   {
    "duration": 13,
    "start_time": "2024-06-05T07:00:13.485Z"
   },
   {
    "duration": 9,
    "start_time": "2024-06-05T07:00:13.500Z"
   },
   {
    "duration": 14,
    "start_time": "2024-06-05T07:00:13.510Z"
   },
   {
    "duration": 28,
    "start_time": "2024-06-05T07:00:13.526Z"
   },
   {
    "duration": 5515,
    "start_time": "2024-06-05T07:00:13.556Z"
   },
   {
    "duration": 725,
    "start_time": "2024-06-05T07:01:07.352Z"
   },
   {
    "duration": 606,
    "start_time": "2024-06-05T07:01:08.081Z"
   },
   {
    "duration": 4,
    "start_time": "2024-06-05T07:01:08.689Z"
   },
   {
    "duration": 12,
    "start_time": "2024-06-05T07:01:08.695Z"
   },
   {
    "duration": 259,
    "start_time": "2024-06-05T07:01:08.709Z"
   },
   {
    "duration": 217,
    "start_time": "2024-06-05T07:01:08.969Z"
   },
   {
    "duration": 221,
    "start_time": "2024-06-05T07:01:09.188Z"
   },
   {
    "duration": 2281,
    "start_time": "2024-06-05T07:01:09.411Z"
   },
   {
    "duration": 3,
    "start_time": "2024-06-05T07:01:11.693Z"
   },
   {
    "duration": 38,
    "start_time": "2024-06-05T07:01:11.697Z"
   },
   {
    "duration": 125,
    "start_time": "2024-06-05T07:01:11.737Z"
   },
   {
    "duration": 292,
    "start_time": "2024-06-05T07:01:11.864Z"
   },
   {
    "duration": 5,
    "start_time": "2024-06-05T07:01:12.158Z"
   },
   {
    "duration": 131,
    "start_time": "2024-06-05T07:01:12.167Z"
   },
   {
    "duration": 55,
    "start_time": "2024-06-05T07:01:12.300Z"
   },
   {
    "duration": 27,
    "start_time": "2024-06-05T07:01:12.357Z"
   },
   {
    "duration": 16,
    "start_time": "2024-06-05T07:01:12.386Z"
   },
   {
    "duration": 31,
    "start_time": "2024-06-05T07:01:12.403Z"
   },
   {
    "duration": 36,
    "start_time": "2024-06-05T07:01:12.436Z"
   },
   {
    "duration": 5703,
    "start_time": "2024-06-05T07:01:12.473Z"
   },
   {
    "duration": 759,
    "start_time": "2024-06-05T07:01:27.121Z"
   },
   {
    "duration": 617,
    "start_time": "2024-06-05T07:01:27.884Z"
   },
   {
    "duration": 4,
    "start_time": "2024-06-05T07:01:28.502Z"
   },
   {
    "duration": 10,
    "start_time": "2024-06-05T07:01:28.507Z"
   },
   {
    "duration": 255,
    "start_time": "2024-06-05T07:01:28.519Z"
   },
   {
    "duration": 218,
    "start_time": "2024-06-05T07:01:28.776Z"
   },
   {
    "duration": 218,
    "start_time": "2024-06-05T07:01:28.995Z"
   },
   {
    "duration": 2277,
    "start_time": "2024-06-05T07:01:29.215Z"
   },
   {
    "duration": 3,
    "start_time": "2024-06-05T07:01:31.493Z"
   },
   {
    "duration": 46,
    "start_time": "2024-06-05T07:01:31.498Z"
   },
   {
    "duration": 146,
    "start_time": "2024-06-05T07:01:31.545Z"
   },
   {
    "duration": 266,
    "start_time": "2024-06-05T07:01:31.693Z"
   },
   {
    "duration": 95,
    "start_time": "2024-06-05T07:01:31.961Z"
   },
   {
    "duration": 110,
    "start_time": "2024-06-05T07:01:32.060Z"
   },
   {
    "duration": 4,
    "start_time": "2024-06-05T07:01:32.171Z"
   },
   {
    "duration": 25,
    "start_time": "2024-06-05T07:01:32.176Z"
   },
   {
    "duration": 6,
    "start_time": "2024-06-05T07:01:32.203Z"
   },
   {
    "duration": 17,
    "start_time": "2024-06-05T07:01:32.210Z"
   },
   {
    "duration": 9,
    "start_time": "2024-06-05T07:01:32.229Z"
   },
   {
    "duration": 5502,
    "start_time": "2024-06-05T07:01:32.239Z"
   },
   {
    "duration": 991,
    "start_time": "2024-06-05T07:12:56.498Z"
   },
   {
    "duration": 592,
    "start_time": "2024-06-05T07:12:57.493Z"
   },
   {
    "duration": 4,
    "start_time": "2024-06-05T07:12:58.086Z"
   },
   {
    "duration": 6,
    "start_time": "2024-06-05T07:12:58.091Z"
   },
   {
    "duration": 257,
    "start_time": "2024-06-05T07:12:58.099Z"
   },
   {
    "duration": 219,
    "start_time": "2024-06-05T07:12:58.357Z"
   },
   {
    "duration": 249,
    "start_time": "2024-06-05T07:12:58.578Z"
   },
   {
    "duration": 2231,
    "start_time": "2024-06-05T07:12:58.829Z"
   },
   {
    "duration": 3,
    "start_time": "2024-06-05T07:13:01.061Z"
   },
   {
    "duration": 149,
    "start_time": "2024-06-05T07:13:01.066Z"
   },
   {
    "duration": 294,
    "start_time": "2024-06-05T07:13:01.217Z"
   },
   {
    "duration": 543,
    "start_time": "2024-06-05T07:13:01.513Z"
   },
   {
    "duration": 5,
    "start_time": "2024-06-05T07:13:02.059Z"
   },
   {
    "duration": 24,
    "start_time": "2024-06-05T07:13:02.157Z"
   },
   {
    "duration": 12,
    "start_time": "2024-06-05T07:13:02.183Z"
   },
   {
    "duration": 18,
    "start_time": "2024-06-05T07:13:02.197Z"
   },
   {
    "duration": 29,
    "start_time": "2024-06-05T07:13:02.217Z"
   },
   {
    "duration": 8,
    "start_time": "2024-06-05T07:13:02.247Z"
   },
   {
    "duration": 5,
    "start_time": "2024-06-05T07:13:02.257Z"
   },
   {
    "duration": 5485,
    "start_time": "2024-06-05T07:13:02.263Z"
   },
   {
    "duration": 6,
    "start_time": "2024-06-05T07:16:01.663Z"
   },
   {
    "duration": 5668,
    "start_time": "2024-06-05T07:16:01.890Z"
   },
   {
    "duration": 795,
    "start_time": "2024-06-05T07:16:14.276Z"
   },
   {
    "duration": 601,
    "start_time": "2024-06-05T07:16:15.076Z"
   },
   {
    "duration": 4,
    "start_time": "2024-06-05T07:16:15.679Z"
   },
   {
    "duration": 9,
    "start_time": "2024-06-05T07:16:15.685Z"
   },
   {
    "duration": 303,
    "start_time": "2024-06-05T07:16:15.696Z"
   },
   {
    "duration": 261,
    "start_time": "2024-06-05T07:16:16.001Z"
   },
   {
    "duration": 273,
    "start_time": "2024-06-05T07:16:16.265Z"
   },
   {
    "duration": 2492,
    "start_time": "2024-06-05T07:16:16.540Z"
   },
   {
    "duration": 4,
    "start_time": "2024-06-05T07:16:19.033Z"
   },
   {
    "duration": 13,
    "start_time": "2024-06-05T07:16:19.038Z"
   },
   {
    "duration": 163,
    "start_time": "2024-06-05T07:16:19.054Z"
   },
   {
    "duration": 349,
    "start_time": "2024-06-05T07:16:19.220Z"
   },
   {
    "duration": 87,
    "start_time": "2024-06-05T07:16:19.571Z"
   },
   {
    "duration": 115,
    "start_time": "2024-06-05T07:16:19.661Z"
   },
   {
    "duration": 4,
    "start_time": "2024-06-05T07:16:19.778Z"
   },
   {
    "duration": 22,
    "start_time": "2024-06-05T07:16:19.784Z"
   },
   {
    "duration": 15,
    "start_time": "2024-06-05T07:16:19.807Z"
   },
   {
    "duration": 15,
    "start_time": "2024-06-05T07:16:19.824Z"
   },
   {
    "duration": 11,
    "start_time": "2024-06-05T07:16:19.840Z"
   },
   {
    "duration": 5822,
    "start_time": "2024-06-05T07:16:19.852Z"
   },
   {
    "duration": 5,
    "start_time": "2024-06-05T07:16:46.477Z"
   },
   {
    "duration": 737,
    "start_time": "2024-06-05T07:16:53.728Z"
   },
   {
    "duration": 634,
    "start_time": "2024-06-05T07:16:54.470Z"
   },
   {
    "duration": 4,
    "start_time": "2024-06-05T07:16:55.105Z"
   },
   {
    "duration": 53,
    "start_time": "2024-06-05T07:16:55.110Z"
   },
   {
    "duration": 269,
    "start_time": "2024-06-05T07:16:55.165Z"
   },
   {
    "duration": 220,
    "start_time": "2024-06-05T07:16:55.436Z"
   },
   {
    "duration": 224,
    "start_time": "2024-06-05T07:16:55.658Z"
   },
   {
    "duration": 2293,
    "start_time": "2024-06-05T07:16:55.883Z"
   },
   {
    "duration": 3,
    "start_time": "2024-06-05T07:16:58.177Z"
   },
   {
    "duration": 15,
    "start_time": "2024-06-05T07:16:58.182Z"
   },
   {
    "duration": 117,
    "start_time": "2024-06-05T07:16:58.199Z"
   },
   {
    "duration": 248,
    "start_time": "2024-06-05T07:16:58.318Z"
   },
   {
    "duration": 4,
    "start_time": "2024-06-05T07:16:58.657Z"
   },
   {
    "duration": 108,
    "start_time": "2024-06-05T07:16:58.665Z"
   },
   {
    "duration": 10,
    "start_time": "2024-06-05T07:16:58.775Z"
   },
   {
    "duration": 10,
    "start_time": "2024-06-05T07:16:58.786Z"
   },
   {
    "duration": 6,
    "start_time": "2024-06-05T07:16:58.798Z"
   },
   {
    "duration": 7,
    "start_time": "2024-06-05T07:16:58.805Z"
   },
   {
    "duration": 5,
    "start_time": "2024-06-05T07:16:58.814Z"
   },
   {
    "duration": 5533,
    "start_time": "2024-06-05T07:16:58.820Z"
   },
   {
    "duration": 113,
    "start_time": "2024-06-05T07:19:23.344Z"
   },
   {
    "duration": 6,
    "start_time": "2024-06-05T07:19:31.082Z"
   },
   {
    "duration": 9,
    "start_time": "2024-06-05T07:19:35.455Z"
   },
   {
    "duration": 689,
    "start_time": "2024-06-05T07:20:13.687Z"
   },
   {
    "duration": 603,
    "start_time": "2024-06-05T07:20:14.380Z"
   },
   {
    "duration": 4,
    "start_time": "2024-06-05T07:20:14.984Z"
   },
   {
    "duration": 4,
    "start_time": "2024-06-05T07:20:14.990Z"
   },
   {
    "duration": 292,
    "start_time": "2024-06-05T07:20:14.997Z"
   },
   {
    "duration": 218,
    "start_time": "2024-06-05T07:20:15.291Z"
   },
   {
    "duration": 225,
    "start_time": "2024-06-05T07:20:15.511Z"
   },
   {
    "duration": 2243,
    "start_time": "2024-06-05T07:20:15.737Z"
   },
   {
    "duration": 3,
    "start_time": "2024-06-05T07:20:17.982Z"
   },
   {
    "duration": 7,
    "start_time": "2024-06-05T07:20:17.987Z"
   },
   {
    "duration": 111,
    "start_time": "2024-06-05T07:20:17.996Z"
   },
   {
    "duration": 253,
    "start_time": "2024-06-05T07:20:18.109Z"
   },
   {
    "duration": 94,
    "start_time": "2024-06-05T07:20:18.364Z"
   },
   {
    "duration": 111,
    "start_time": "2024-06-05T07:20:18.462Z"
   },
   {
    "duration": 3,
    "start_time": "2024-06-05T07:20:18.575Z"
   },
   {
    "duration": 11,
    "start_time": "2024-06-05T07:20:18.580Z"
   },
   {
    "duration": 18,
    "start_time": "2024-06-05T07:20:18.593Z"
   },
   {
    "duration": 6,
    "start_time": "2024-06-05T07:20:18.612Z"
   },
   {
    "duration": 15,
    "start_time": "2024-06-05T07:20:18.619Z"
   },
   {
    "duration": 5502,
    "start_time": "2024-06-05T07:20:18.636Z"
   },
   {
    "duration": 5,
    "start_time": "2024-06-05T07:20:33.177Z"
   },
   {
    "duration": 721,
    "start_time": "2024-06-05T07:41:43.059Z"
   },
   {
    "duration": 619,
    "start_time": "2024-06-05T07:41:43.784Z"
   },
   {
    "duration": 3,
    "start_time": "2024-06-05T07:41:44.405Z"
   },
   {
    "duration": 14,
    "start_time": "2024-06-05T07:41:44.410Z"
   },
   {
    "duration": 276,
    "start_time": "2024-06-05T07:41:44.426Z"
   },
   {
    "duration": 218,
    "start_time": "2024-06-05T07:41:44.704Z"
   },
   {
    "duration": 239,
    "start_time": "2024-06-05T07:41:44.924Z"
   },
   {
    "duration": 2283,
    "start_time": "2024-06-05T07:41:45.165Z"
   },
   {
    "duration": 3,
    "start_time": "2024-06-05T07:41:47.449Z"
   },
   {
    "duration": 8,
    "start_time": "2024-06-05T07:41:47.454Z"
   },
   {
    "duration": 110,
    "start_time": "2024-06-05T07:41:47.464Z"
   },
   {
    "duration": 284,
    "start_time": "2024-06-05T07:41:47.575Z"
   },
   {
    "duration": 94,
    "start_time": "2024-06-05T07:41:47.862Z"
   },
   {
    "duration": 119,
    "start_time": "2024-06-05T07:41:47.959Z"
   },
   {
    "duration": 3,
    "start_time": "2024-06-05T07:41:48.079Z"
   },
   {
    "duration": 8,
    "start_time": "2024-06-05T07:41:48.084Z"
   },
   {
    "duration": 4,
    "start_time": "2024-06-05T07:41:48.093Z"
   },
   {
    "duration": 4,
    "start_time": "2024-06-05T07:41:48.098Z"
   },
   {
    "duration": 12,
    "start_time": "2024-06-05T07:41:48.103Z"
   },
   {
    "duration": 5477,
    "start_time": "2024-06-05T07:41:48.116Z"
   },
   {
    "duration": 686,
    "start_time": "2024-06-05T07:49:26.108Z"
   },
   {
    "duration": 629,
    "start_time": "2024-06-05T07:49:26.798Z"
   },
   {
    "duration": 3,
    "start_time": "2024-06-05T07:49:27.429Z"
   },
   {
    "duration": 9,
    "start_time": "2024-06-05T07:49:27.433Z"
   },
   {
    "duration": 259,
    "start_time": "2024-06-05T07:49:27.443Z"
   },
   {
    "duration": 215,
    "start_time": "2024-06-05T07:49:27.704Z"
   },
   {
    "duration": 224,
    "start_time": "2024-06-05T07:49:27.921Z"
   },
   {
    "duration": 2262,
    "start_time": "2024-06-05T07:49:28.146Z"
   },
   {
    "duration": 3,
    "start_time": "2024-06-05T07:49:30.409Z"
   },
   {
    "duration": 36,
    "start_time": "2024-06-05T07:49:30.413Z"
   },
   {
    "duration": 165,
    "start_time": "2024-06-05T07:49:30.450Z"
   },
   {
    "duration": 339,
    "start_time": "2024-06-05T07:49:30.617Z"
   },
   {
    "duration": 5,
    "start_time": "2024-06-05T07:49:30.959Z"
   },
   {
    "duration": 116,
    "start_time": "2024-06-05T07:49:31.057Z"
   },
   {
    "duration": 61,
    "start_time": "2024-06-05T07:49:31.174Z"
   },
   {
    "duration": 40,
    "start_time": "2024-06-05T07:49:31.237Z"
   },
   {
    "duration": 33,
    "start_time": "2024-06-05T07:49:31.279Z"
   },
   {
    "duration": 67,
    "start_time": "2024-06-05T07:49:31.314Z"
   },
   {
    "duration": 28,
    "start_time": "2024-06-05T07:49:31.382Z"
   },
   {
    "duration": 5560,
    "start_time": "2024-06-05T07:49:31.411Z"
   },
   {
    "duration": 756,
    "start_time": "2024-06-05T07:50:47.256Z"
   },
   {
    "duration": 593,
    "start_time": "2024-06-05T07:50:48.016Z"
   },
   {
    "duration": 3,
    "start_time": "2024-06-05T07:50:48.610Z"
   },
   {
    "duration": 4,
    "start_time": "2024-06-05T07:50:48.615Z"
   },
   {
    "duration": 282,
    "start_time": "2024-06-05T07:50:48.621Z"
   },
   {
    "duration": 220,
    "start_time": "2024-06-05T07:50:48.905Z"
   },
   {
    "duration": 239,
    "start_time": "2024-06-05T07:50:49.127Z"
   },
   {
    "duration": 2268,
    "start_time": "2024-06-05T07:50:49.368Z"
   },
   {
    "duration": 2,
    "start_time": "2024-06-05T07:50:51.638Z"
   },
   {
    "duration": 9,
    "start_time": "2024-06-05T07:50:51.642Z"
   },
   {
    "duration": 107,
    "start_time": "2024-06-05T07:50:51.652Z"
   },
   {
    "duration": 307,
    "start_time": "2024-06-05T07:50:51.760Z"
   },
   {
    "duration": 91,
    "start_time": "2024-06-05T07:50:52.069Z"
   },
   {
    "duration": 120,
    "start_time": "2024-06-05T07:50:52.163Z"
   },
   {
    "duration": 4,
    "start_time": "2024-06-05T07:50:52.285Z"
   },
   {
    "duration": 23,
    "start_time": "2024-06-05T07:50:52.290Z"
   },
   {
    "duration": 19,
    "start_time": "2024-06-05T07:50:52.315Z"
   },
   {
    "duration": 10,
    "start_time": "2024-06-05T07:50:52.336Z"
   },
   {
    "duration": 5,
    "start_time": "2024-06-05T07:50:52.348Z"
   },
   {
    "duration": 5757,
    "start_time": "2024-06-05T07:50:52.355Z"
   },
   {
    "duration": 785,
    "start_time": "2024-06-05T07:58:04.535Z"
   },
   {
    "duration": 583,
    "start_time": "2024-06-05T07:58:05.324Z"
   },
   {
    "duration": 3,
    "start_time": "2024-06-05T07:58:05.909Z"
   },
   {
    "duration": 14,
    "start_time": "2024-06-05T07:58:05.914Z"
   },
   {
    "duration": 280,
    "start_time": "2024-06-05T07:58:05.929Z"
   },
   {
    "duration": 236,
    "start_time": "2024-06-05T07:58:06.211Z"
   },
   {
    "duration": 245,
    "start_time": "2024-06-05T07:58:06.449Z"
   },
   {
    "duration": 2256,
    "start_time": "2024-06-05T07:58:06.696Z"
   },
   {
    "duration": 3,
    "start_time": "2024-06-05T07:58:08.953Z"
   },
   {
    "duration": 10,
    "start_time": "2024-06-05T07:58:08.958Z"
   },
   {
    "duration": 112,
    "start_time": "2024-06-05T07:58:08.970Z"
   },
   {
    "duration": 273,
    "start_time": "2024-06-05T07:58:09.083Z"
   },
   {
    "duration": 5,
    "start_time": "2024-06-05T07:58:09.358Z"
   },
   {
    "duration": 223,
    "start_time": "2024-06-05T07:58:09.365Z"
   },
   {
    "duration": 4,
    "start_time": "2024-06-05T07:58:09.589Z"
   },
   {
    "duration": 7,
    "start_time": "2024-06-05T07:58:09.594Z"
   },
   {
    "duration": 19,
    "start_time": "2024-06-05T07:58:09.602Z"
   },
   {
    "duration": 6,
    "start_time": "2024-06-05T07:58:09.622Z"
   },
   {
    "duration": 23,
    "start_time": "2024-06-05T07:58:09.630Z"
   },
   {
    "duration": 5472,
    "start_time": "2024-06-05T07:58:09.656Z"
   }
  ],
  "kernelspec": {
   "display_name": "Python 3 (ipykernel)",
   "language": "python",
   "name": "python3"
  },
  "language_info": {
   "codemirror_mode": {
    "name": "ipython",
    "version": 3
   },
   "file_extension": ".py",
   "mimetype": "text/x-python",
   "name": "python",
   "nbconvert_exporter": "python",
   "pygments_lexer": "ipython3",
   "version": "3.9.5"
  },
  "toc": {
   "base_numbering": 1,
   "nav_menu": {
    "height": "242px",
    "width": "411px"
   },
   "number_sections": true,
   "sideBar": true,
   "skip_h1_title": true,
   "title_cell": "Содержание",
   "title_sidebar": "Contents",
   "toc_cell": true,
   "toc_position": {},
   "toc_section_display": true,
   "toc_window_display": false
  }
 },
 "nbformat": 4,
 "nbformat_minor": 2
}
