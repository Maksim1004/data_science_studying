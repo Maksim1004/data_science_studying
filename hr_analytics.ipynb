{
 "cells": [
  {
   "cell_type": "markdown",
   "id": "74788968",
   "metadata": {},
   "source": [
    "# HR-аналитика"
   ]
  },
  {
   "cell_type": "markdown",
   "id": "5c77bfe2",
   "metadata": {},
   "source": [
    "Аналитики HR отдела компании \"Работа с заботой\" помогают бизнесу оптимизировать управление персоналом: на основе данных предлагают, как избежать финансовых потерь и оттока сотрудников. И в этом аналитикам пригодится машинное обучение.\n",
    "\n",
    "У нас будет несколько задач:\n",
    "1. Построить модель предсказания уровня удовлетворённости сотрудника\n",
    "2. Построить модель, которая сможет предсказать, что сотрудник уволится\n",
    "\n",
    "Модели помогут избежать внезапных увольнений и предугадывать отток сотрудников."
   ]
  },
  {
   "cell_type": "markdown",
   "id": "bf5ac504",
   "metadata": {},
   "source": [
    "Для этих задач заказчик предоставил данные со следующими признаками:\n",
    "- id — уникальный идентификатор сотрудника;\n",
    "- dept — отдел, в котором работает сотрудник;\n",
    "- level — уровень занимаемой должности;\n",
    "- workload — уровень загруженности сотрудника;\n",
    "- employment_years — длительность работы в компании (в годах);\n",
    "- last_year_promo — показывает, было ли повышение за последний год;\n",
    "- last_year_violations — показывает, нарушал ли сотрудник трудовой договор за последний год;\n",
    "- supervisor_evaluation — оценка качества работы сотрудника, которую дал руководитель;\n",
    "- salary — ежемесячная зарплата сотрудника;\n",
    "- job_satisfaction_rate — уровень удовлетворённости сотрудника работой в компании, целевой признак."
   ]
  },
  {
   "cell_type": "markdown",
   "id": "b903e81c",
   "metadata": {
    "toc": true
   },
   "source": [
    "<h1>Содержание<span class=\"tocSkip\"></span></h1>\n",
    "<div class=\"toc\"><ul class=\"toc-item\"><li><span><a href=\"#Загрузка-и-ознакомление-с-данными\" data-toc-modified-id=\"Загрузка-и-ознакомление-с-данными-1\"><span class=\"toc-item-num\">1&nbsp;&nbsp;</span>Загрузка и ознакомление с данными</a></span></li><li><span><a href=\"#Предобработка-данных\" data-toc-modified-id=\"Предобработка-данных-2\"><span class=\"toc-item-num\">2&nbsp;&nbsp;</span>Предобработка данных</a></span></li><li><span><a href=\"#Исследовательский-анализ\" data-toc-modified-id=\"Исследовательский-анализ-3\"><span class=\"toc-item-num\">3&nbsp;&nbsp;</span>Исследовательский анализ</a></span></li><li><span><a href=\"#Подготовка-данных\" data-toc-modified-id=\"Подготовка-данных-4\"><span class=\"toc-item-num\">4&nbsp;&nbsp;</span>Подготовка данных</a></span></li><li><span><a href=\"#Обучение-моделей\" data-toc-modified-id=\"Обучение-моделей-5\"><span class=\"toc-item-num\">5&nbsp;&nbsp;</span>Обучение моделей</a></span></li></ul></div>"
   ]
  },
  {
   "cell_type": "code",
   "execution_count": 1,
   "id": "95b2b7c0",
   "metadata": {
    "scrolled": true
   },
   "outputs": [],
   "source": [
    "import pandas as pd\n",
    "import matplotlib.pyplot as plt\n",
    "import seaborn as sns\n",
    "from IPython.display import display\n",
    "import numpy as np\n",
    "\n",
    "from sklearn.pipeline import Pipeline\n",
    "from sklearn.impute import SimpleImputer\n",
    "from sklearn.compose import ColumnTransformer\n",
    "from sklearn.preprocessing import OneHotEncoder, OrdinalEncoder, MinMaxScaler, StandardScaler\n",
    "\n",
    "from sklearn.linear_model import LinearRegression\n",
    "from sklearn.tree import DecisionTreeRegressor\n",
    "\n",
    "from sklearn.metrics import make_scorer\n",
    "\n",
    "\n",
    "try:\n",
    "    from optuna import distributions\n",
    "except:\n",
    "    !pip install optuna\n",
    "    from optuna import distributions\n",
    "\n",
    "try:\n",
    "    from optuna.integration import OptunaSearchCV\n",
    "except:\n",
    "    !pip install optuna-integration\n",
    "    from optuna.integration import OptunaSearchCV\n",
    "\n",
    "try:\n",
    "    import phik\n",
    "except:\n",
    "    !pip install phik\n",
    "    import phik\n",
    "\n",
    "try:\n",
    "    import shap\n",
    "except:\n",
    "    !pip install shap\n",
    "    import shap"
   ]
  },
  {
   "cell_type": "code",
   "execution_count": 2,
   "id": "645cd6a7",
   "metadata": {},
   "outputs": [],
   "source": [
    "import warnings # Отключаем предупреждения о будущих версиях библиотек(версии для проекта обновляться не будут)\n",
    "warnings.filterwarnings(\"ignore\", category=FutureWarning)\n",
    "\n",
    "sns.set(style='darkgrid', palette='deep') # Устанавливаем стиль для графиков\n",
    "RANDOM_STATE = 38 # Константа определения случайных значений"
   ]
  },
  {
   "cell_type": "markdown",
   "id": "15dcf99d",
   "metadata": {},
   "source": [
    "## Загрузка и ознакомление с данными"
   ]
  },
  {
   "cell_type": "markdown",
   "id": "3ebad388",
   "metadata": {},
   "source": [
    "Для начала загрузим данные и ознакомимся с ними. Данные уже поделены на тренировочную и тестовую выборки."
   ]
  },
  {
   "cell_type": "code",
   "execution_count": 3,
   "id": "5159b8db",
   "metadata": {},
   "outputs": [],
   "source": [
    "def dataset_info(ds, info=True): # Универсальная функция презентации данных\n",
    "    print('Количество дубликатов:', ds.duplicated().sum())\n",
    "    print('Длина датасета:', len(ds))\n",
    "    display(ds.head())\n",
    "    if info: \n",
    "        ds.info()\n",
    "        display(ds.describe())"
   ]
  },
  {
   "cell_type": "code",
   "execution_count": 4,
   "id": "021b5e8c",
   "metadata": {},
   "outputs": [
    {
     "name": "stdout",
     "output_type": "stream",
     "text": [
      "Количество дубликатов: 0\n",
      "Длина датасета: 4000\n"
     ]
    },
    {
     "data": {
      "text/html": [
       "<div>\n",
       "<style scoped>\n",
       "    .dataframe tbody tr th:only-of-type {\n",
       "        vertical-align: middle;\n",
       "    }\n",
       "\n",
       "    .dataframe tbody tr th {\n",
       "        vertical-align: top;\n",
       "    }\n",
       "\n",
       "    .dataframe thead th {\n",
       "        text-align: right;\n",
       "    }\n",
       "</style>\n",
       "<table border=\"1\" class=\"dataframe\">\n",
       "  <thead>\n",
       "    <tr style=\"text-align: right;\">\n",
       "      <th></th>\n",
       "      <th>id</th>\n",
       "      <th>dept</th>\n",
       "      <th>level</th>\n",
       "      <th>workload</th>\n",
       "      <th>employment_years</th>\n",
       "      <th>last_year_promo</th>\n",
       "      <th>last_year_violations</th>\n",
       "      <th>supervisor_evaluation</th>\n",
       "      <th>salary</th>\n",
       "      <th>job_satisfaction_rate</th>\n",
       "    </tr>\n",
       "  </thead>\n",
       "  <tbody>\n",
       "    <tr>\n",
       "      <th>0</th>\n",
       "      <td>155278</td>\n",
       "      <td>sales</td>\n",
       "      <td>junior</td>\n",
       "      <td>medium</td>\n",
       "      <td>2</td>\n",
       "      <td>no</td>\n",
       "      <td>no</td>\n",
       "      <td>1</td>\n",
       "      <td>24000</td>\n",
       "      <td>0.58</td>\n",
       "    </tr>\n",
       "    <tr>\n",
       "      <th>1</th>\n",
       "      <td>653870</td>\n",
       "      <td>hr</td>\n",
       "      <td>junior</td>\n",
       "      <td>high</td>\n",
       "      <td>2</td>\n",
       "      <td>no</td>\n",
       "      <td>no</td>\n",
       "      <td>5</td>\n",
       "      <td>38400</td>\n",
       "      <td>0.76</td>\n",
       "    </tr>\n",
       "    <tr>\n",
       "      <th>2</th>\n",
       "      <td>184592</td>\n",
       "      <td>sales</td>\n",
       "      <td>junior</td>\n",
       "      <td>low</td>\n",
       "      <td>1</td>\n",
       "      <td>no</td>\n",
       "      <td>no</td>\n",
       "      <td>2</td>\n",
       "      <td>12000</td>\n",
       "      <td>0.11</td>\n",
       "    </tr>\n",
       "    <tr>\n",
       "      <th>3</th>\n",
       "      <td>171431</td>\n",
       "      <td>technology</td>\n",
       "      <td>junior</td>\n",
       "      <td>low</td>\n",
       "      <td>4</td>\n",
       "      <td>no</td>\n",
       "      <td>no</td>\n",
       "      <td>2</td>\n",
       "      <td>18000</td>\n",
       "      <td>0.37</td>\n",
       "    </tr>\n",
       "    <tr>\n",
       "      <th>4</th>\n",
       "      <td>693419</td>\n",
       "      <td>hr</td>\n",
       "      <td>junior</td>\n",
       "      <td>medium</td>\n",
       "      <td>1</td>\n",
       "      <td>no</td>\n",
       "      <td>no</td>\n",
       "      <td>3</td>\n",
       "      <td>22800</td>\n",
       "      <td>0.20</td>\n",
       "    </tr>\n",
       "  </tbody>\n",
       "</table>\n",
       "</div>"
      ],
      "text/plain": [
       "       id        dept   level workload  employment_years last_year_promo  \\\n",
       "0  155278       sales  junior   medium                 2              no   \n",
       "1  653870          hr  junior     high                 2              no   \n",
       "2  184592       sales  junior      low                 1              no   \n",
       "3  171431  technology  junior      low                 4              no   \n",
       "4  693419          hr  junior   medium                 1              no   \n",
       "\n",
       "  last_year_violations  supervisor_evaluation  salary  job_satisfaction_rate  \n",
       "0                   no                      1   24000                   0.58  \n",
       "1                   no                      5   38400                   0.76  \n",
       "2                   no                      2   12000                   0.11  \n",
       "3                   no                      2   18000                   0.37  \n",
       "4                   no                      3   22800                   0.20  "
      ]
     },
     "metadata": {},
     "output_type": "display_data"
    },
    {
     "name": "stdout",
     "output_type": "stream",
     "text": [
      "<class 'pandas.core.frame.DataFrame'>\n",
      "RangeIndex: 4000 entries, 0 to 3999\n",
      "Data columns (total 10 columns):\n",
      " #   Column                 Non-Null Count  Dtype  \n",
      "---  ------                 --------------  -----  \n",
      " 0   id                     4000 non-null   int64  \n",
      " 1   dept                   3994 non-null   object \n",
      " 2   level                  3996 non-null   object \n",
      " 3   workload               4000 non-null   object \n",
      " 4   employment_years       4000 non-null   int64  \n",
      " 5   last_year_promo        4000 non-null   object \n",
      " 6   last_year_violations   4000 non-null   object \n",
      " 7   supervisor_evaluation  4000 non-null   int64  \n",
      " 8   salary                 4000 non-null   int64  \n",
      " 9   job_satisfaction_rate  4000 non-null   float64\n",
      "dtypes: float64(1), int64(4), object(5)\n",
      "memory usage: 312.6+ KB\n"
     ]
    },
    {
     "data": {
      "text/html": [
       "<div>\n",
       "<style scoped>\n",
       "    .dataframe tbody tr th:only-of-type {\n",
       "        vertical-align: middle;\n",
       "    }\n",
       "\n",
       "    .dataframe tbody tr th {\n",
       "        vertical-align: top;\n",
       "    }\n",
       "\n",
       "    .dataframe thead th {\n",
       "        text-align: right;\n",
       "    }\n",
       "</style>\n",
       "<table border=\"1\" class=\"dataframe\">\n",
       "  <thead>\n",
       "    <tr style=\"text-align: right;\">\n",
       "      <th></th>\n",
       "      <th>id</th>\n",
       "      <th>employment_years</th>\n",
       "      <th>supervisor_evaluation</th>\n",
       "      <th>salary</th>\n",
       "      <th>job_satisfaction_rate</th>\n",
       "    </tr>\n",
       "  </thead>\n",
       "  <tbody>\n",
       "    <tr>\n",
       "      <th>count</th>\n",
       "      <td>4000.000000</td>\n",
       "      <td>4000.000000</td>\n",
       "      <td>4000.000000</td>\n",
       "      <td>4000.000000</td>\n",
       "      <td>4000.000000</td>\n",
       "    </tr>\n",
       "    <tr>\n",
       "      <th>mean</th>\n",
       "      <td>544957.621000</td>\n",
       "      <td>3.718500</td>\n",
       "      <td>3.476500</td>\n",
       "      <td>33926.700000</td>\n",
       "      <td>0.533995</td>\n",
       "    </tr>\n",
       "    <tr>\n",
       "      <th>std</th>\n",
       "      <td>257883.104622</td>\n",
       "      <td>2.542513</td>\n",
       "      <td>1.008812</td>\n",
       "      <td>14900.703838</td>\n",
       "      <td>0.225327</td>\n",
       "    </tr>\n",
       "    <tr>\n",
       "      <th>min</th>\n",
       "      <td>100954.000000</td>\n",
       "      <td>1.000000</td>\n",
       "      <td>1.000000</td>\n",
       "      <td>12000.000000</td>\n",
       "      <td>0.030000</td>\n",
       "    </tr>\n",
       "    <tr>\n",
       "      <th>25%</th>\n",
       "      <td>322836.750000</td>\n",
       "      <td>2.000000</td>\n",
       "      <td>3.000000</td>\n",
       "      <td>22800.000000</td>\n",
       "      <td>0.360000</td>\n",
       "    </tr>\n",
       "    <tr>\n",
       "      <th>50%</th>\n",
       "      <td>534082.500000</td>\n",
       "      <td>3.000000</td>\n",
       "      <td>4.000000</td>\n",
       "      <td>30000.000000</td>\n",
       "      <td>0.560000</td>\n",
       "    </tr>\n",
       "    <tr>\n",
       "      <th>75%</th>\n",
       "      <td>771446.000000</td>\n",
       "      <td>6.000000</td>\n",
       "      <td>4.000000</td>\n",
       "      <td>43200.000000</td>\n",
       "      <td>0.710000</td>\n",
       "    </tr>\n",
       "    <tr>\n",
       "      <th>max</th>\n",
       "      <td>999521.000000</td>\n",
       "      <td>10.000000</td>\n",
       "      <td>5.000000</td>\n",
       "      <td>98400.000000</td>\n",
       "      <td>1.000000</td>\n",
       "    </tr>\n",
       "  </tbody>\n",
       "</table>\n",
       "</div>"
      ],
      "text/plain": [
       "                  id  employment_years  supervisor_evaluation        salary  \\\n",
       "count    4000.000000       4000.000000            4000.000000   4000.000000   \n",
       "mean   544957.621000          3.718500               3.476500  33926.700000   \n",
       "std    257883.104622          2.542513               1.008812  14900.703838   \n",
       "min    100954.000000          1.000000               1.000000  12000.000000   \n",
       "25%    322836.750000          2.000000               3.000000  22800.000000   \n",
       "50%    534082.500000          3.000000               4.000000  30000.000000   \n",
       "75%    771446.000000          6.000000               4.000000  43200.000000   \n",
       "max    999521.000000         10.000000               5.000000  98400.000000   \n",
       "\n",
       "       job_satisfaction_rate  \n",
       "count            4000.000000  \n",
       "mean                0.533995  \n",
       "std                 0.225327  \n",
       "min                 0.030000  \n",
       "25%                 0.360000  \n",
       "50%                 0.560000  \n",
       "75%                 0.710000  \n",
       "max                 1.000000  "
      ]
     },
     "metadata": {},
     "output_type": "display_data"
    }
   ],
   "source": [
    "try:\n",
    "    ds_train_sat = pd.read_csv('/datasets/train_job_satisfaction_rate.csv')\n",
    "except:\n",
    "    ds_train_sat = pd.read_csv('datasets/train_job_satisfaction_rate.csv')\n",
    "dataset_info(ds_train_sat)"
   ]
  },
  {
   "cell_type": "markdown",
   "id": "a99bd649",
   "metadata": {},
   "source": [
    "Дубликатов нет, несколько пропусков в названиях отдела и уровнях должности. Типы данных в порядке."
   ]
  },
  {
   "cell_type": "code",
   "execution_count": 5,
   "id": "272472ed",
   "metadata": {},
   "outputs": [
    {
     "name": "stdout",
     "output_type": "stream",
     "text": [
      "Количество дубликатов: 0\n",
      "Длина датасета: 2000\n"
     ]
    },
    {
     "data": {
      "text/html": [
       "<div>\n",
       "<style scoped>\n",
       "    .dataframe tbody tr th:only-of-type {\n",
       "        vertical-align: middle;\n",
       "    }\n",
       "\n",
       "    .dataframe tbody tr th {\n",
       "        vertical-align: top;\n",
       "    }\n",
       "\n",
       "    .dataframe thead th {\n",
       "        text-align: right;\n",
       "    }\n",
       "</style>\n",
       "<table border=\"1\" class=\"dataframe\">\n",
       "  <thead>\n",
       "    <tr style=\"text-align: right;\">\n",
       "      <th></th>\n",
       "      <th>id</th>\n",
       "      <th>dept</th>\n",
       "      <th>level</th>\n",
       "      <th>workload</th>\n",
       "      <th>employment_years</th>\n",
       "      <th>last_year_promo</th>\n",
       "      <th>last_year_violations</th>\n",
       "      <th>supervisor_evaluation</th>\n",
       "      <th>salary</th>\n",
       "    </tr>\n",
       "  </thead>\n",
       "  <tbody>\n",
       "    <tr>\n",
       "      <th>0</th>\n",
       "      <td>485046</td>\n",
       "      <td>marketing</td>\n",
       "      <td>junior</td>\n",
       "      <td>medium</td>\n",
       "      <td>2</td>\n",
       "      <td>no</td>\n",
       "      <td>no</td>\n",
       "      <td>5</td>\n",
       "      <td>28800</td>\n",
       "    </tr>\n",
       "    <tr>\n",
       "      <th>1</th>\n",
       "      <td>686555</td>\n",
       "      <td>hr</td>\n",
       "      <td>junior</td>\n",
       "      <td>medium</td>\n",
       "      <td>1</td>\n",
       "      <td>no</td>\n",
       "      <td>no</td>\n",
       "      <td>4</td>\n",
       "      <td>30000</td>\n",
       "    </tr>\n",
       "    <tr>\n",
       "      <th>2</th>\n",
       "      <td>467458</td>\n",
       "      <td>sales</td>\n",
       "      <td>middle</td>\n",
       "      <td>low</td>\n",
       "      <td>5</td>\n",
       "      <td>no</td>\n",
       "      <td>no</td>\n",
       "      <td>4</td>\n",
       "      <td>19200</td>\n",
       "    </tr>\n",
       "    <tr>\n",
       "      <th>3</th>\n",
       "      <td>418655</td>\n",
       "      <td>sales</td>\n",
       "      <td>middle</td>\n",
       "      <td>low</td>\n",
       "      <td>6</td>\n",
       "      <td>no</td>\n",
       "      <td>no</td>\n",
       "      <td>4</td>\n",
       "      <td>19200</td>\n",
       "    </tr>\n",
       "    <tr>\n",
       "      <th>4</th>\n",
       "      <td>789145</td>\n",
       "      <td>hr</td>\n",
       "      <td>middle</td>\n",
       "      <td>medium</td>\n",
       "      <td>5</td>\n",
       "      <td>no</td>\n",
       "      <td>no</td>\n",
       "      <td>5</td>\n",
       "      <td>40800</td>\n",
       "    </tr>\n",
       "  </tbody>\n",
       "</table>\n",
       "</div>"
      ],
      "text/plain": [
       "       id       dept   level workload  employment_years last_year_promo  \\\n",
       "0  485046  marketing  junior   medium                 2              no   \n",
       "1  686555         hr  junior   medium                 1              no   \n",
       "2  467458      sales  middle      low                 5              no   \n",
       "3  418655      sales  middle      low                 6              no   \n",
       "4  789145         hr  middle   medium                 5              no   \n",
       "\n",
       "  last_year_violations  supervisor_evaluation  salary  \n",
       "0                   no                      5   28800  \n",
       "1                   no                      4   30000  \n",
       "2                   no                      4   19200  \n",
       "3                   no                      4   19200  \n",
       "4                   no                      5   40800  "
      ]
     },
     "metadata": {},
     "output_type": "display_data"
    },
    {
     "name": "stdout",
     "output_type": "stream",
     "text": [
      "<class 'pandas.core.frame.DataFrame'>\n",
      "RangeIndex: 2000 entries, 0 to 1999\n",
      "Data columns (total 9 columns):\n",
      " #   Column                 Non-Null Count  Dtype \n",
      "---  ------                 --------------  ----- \n",
      " 0   id                     2000 non-null   int64 \n",
      " 1   dept                   1998 non-null   object\n",
      " 2   level                  1999 non-null   object\n",
      " 3   workload               2000 non-null   object\n",
      " 4   employment_years       2000 non-null   int64 \n",
      " 5   last_year_promo        2000 non-null   object\n",
      " 6   last_year_violations   2000 non-null   object\n",
      " 7   supervisor_evaluation  2000 non-null   int64 \n",
      " 8   salary                 2000 non-null   int64 \n",
      "dtypes: int64(4), object(5)\n",
      "memory usage: 140.8+ KB\n"
     ]
    },
    {
     "data": {
      "text/html": [
       "<div>\n",
       "<style scoped>\n",
       "    .dataframe tbody tr th:only-of-type {\n",
       "        vertical-align: middle;\n",
       "    }\n",
       "\n",
       "    .dataframe tbody tr th {\n",
       "        vertical-align: top;\n",
       "    }\n",
       "\n",
       "    .dataframe thead th {\n",
       "        text-align: right;\n",
       "    }\n",
       "</style>\n",
       "<table border=\"1\" class=\"dataframe\">\n",
       "  <thead>\n",
       "    <tr style=\"text-align: right;\">\n",
       "      <th></th>\n",
       "      <th>id</th>\n",
       "      <th>employment_years</th>\n",
       "      <th>supervisor_evaluation</th>\n",
       "      <th>salary</th>\n",
       "    </tr>\n",
       "  </thead>\n",
       "  <tbody>\n",
       "    <tr>\n",
       "      <th>count</th>\n",
       "      <td>2000.000000</td>\n",
       "      <td>2000.000000</td>\n",
       "      <td>2000.000000</td>\n",
       "      <td>2000.000000</td>\n",
       "    </tr>\n",
       "    <tr>\n",
       "      <th>mean</th>\n",
       "      <td>552765.213500</td>\n",
       "      <td>3.666500</td>\n",
       "      <td>3.526500</td>\n",
       "      <td>34066.800000</td>\n",
       "    </tr>\n",
       "    <tr>\n",
       "      <th>std</th>\n",
       "      <td>253851.326129</td>\n",
       "      <td>2.537222</td>\n",
       "      <td>0.996892</td>\n",
       "      <td>15398.436729</td>\n",
       "    </tr>\n",
       "    <tr>\n",
       "      <th>min</th>\n",
       "      <td>100298.000000</td>\n",
       "      <td>1.000000</td>\n",
       "      <td>1.000000</td>\n",
       "      <td>12000.000000</td>\n",
       "    </tr>\n",
       "    <tr>\n",
       "      <th>25%</th>\n",
       "      <td>339052.000000</td>\n",
       "      <td>1.000000</td>\n",
       "      <td>3.000000</td>\n",
       "      <td>22800.000000</td>\n",
       "    </tr>\n",
       "    <tr>\n",
       "      <th>50%</th>\n",
       "      <td>550793.000000</td>\n",
       "      <td>3.000000</td>\n",
       "      <td>4.000000</td>\n",
       "      <td>30000.000000</td>\n",
       "    </tr>\n",
       "    <tr>\n",
       "      <th>75%</th>\n",
       "      <td>765763.750000</td>\n",
       "      <td>6.000000</td>\n",
       "      <td>4.000000</td>\n",
       "      <td>43200.000000</td>\n",
       "    </tr>\n",
       "    <tr>\n",
       "      <th>max</th>\n",
       "      <td>999029.000000</td>\n",
       "      <td>10.000000</td>\n",
       "      <td>5.000000</td>\n",
       "      <td>96000.000000</td>\n",
       "    </tr>\n",
       "  </tbody>\n",
       "</table>\n",
       "</div>"
      ],
      "text/plain": [
       "                  id  employment_years  supervisor_evaluation        salary\n",
       "count    2000.000000       2000.000000            2000.000000   2000.000000\n",
       "mean   552765.213500          3.666500               3.526500  34066.800000\n",
       "std    253851.326129          2.537222               0.996892  15398.436729\n",
       "min    100298.000000          1.000000               1.000000  12000.000000\n",
       "25%    339052.000000          1.000000               3.000000  22800.000000\n",
       "50%    550793.000000          3.000000               4.000000  30000.000000\n",
       "75%    765763.750000          6.000000               4.000000  43200.000000\n",
       "max    999029.000000         10.000000               5.000000  96000.000000"
      ]
     },
     "metadata": {},
     "output_type": "display_data"
    }
   ],
   "source": [
    "try:\n",
    "    X_test = pd.read_csv('/datasets/test_features.csv')\n",
    "except:\n",
    "    X_test = pd.read_csv('datasets/test_features.csv')\n",
    "dataset_info(X_test)"
   ]
  },
  {
   "cell_type": "markdown",
   "id": "09f06517",
   "metadata": {},
   "source": [
    "Такая-же картина, пропуски в отделах и уровнях должности"
   ]
  },
  {
   "cell_type": "code",
   "execution_count": 6,
   "id": "97df5f78",
   "metadata": {},
   "outputs": [
    {
     "name": "stdout",
     "output_type": "stream",
     "text": [
      "Количество дубликатов: 0\n",
      "Длина датасета: 2000\n"
     ]
    },
    {
     "data": {
      "text/html": [
       "<div>\n",
       "<style scoped>\n",
       "    .dataframe tbody tr th:only-of-type {\n",
       "        vertical-align: middle;\n",
       "    }\n",
       "\n",
       "    .dataframe tbody tr th {\n",
       "        vertical-align: top;\n",
       "    }\n",
       "\n",
       "    .dataframe thead th {\n",
       "        text-align: right;\n",
       "    }\n",
       "</style>\n",
       "<table border=\"1\" class=\"dataframe\">\n",
       "  <thead>\n",
       "    <tr style=\"text-align: right;\">\n",
       "      <th></th>\n",
       "      <th>id</th>\n",
       "      <th>job_satisfaction_rate</th>\n",
       "    </tr>\n",
       "  </thead>\n",
       "  <tbody>\n",
       "    <tr>\n",
       "      <th>0</th>\n",
       "      <td>130604</td>\n",
       "      <td>0.74</td>\n",
       "    </tr>\n",
       "    <tr>\n",
       "      <th>1</th>\n",
       "      <td>825977</td>\n",
       "      <td>0.75</td>\n",
       "    </tr>\n",
       "    <tr>\n",
       "      <th>2</th>\n",
       "      <td>418490</td>\n",
       "      <td>0.60</td>\n",
       "    </tr>\n",
       "    <tr>\n",
       "      <th>3</th>\n",
       "      <td>555320</td>\n",
       "      <td>0.72</td>\n",
       "    </tr>\n",
       "    <tr>\n",
       "      <th>4</th>\n",
       "      <td>826430</td>\n",
       "      <td>0.08</td>\n",
       "    </tr>\n",
       "  </tbody>\n",
       "</table>\n",
       "</div>"
      ],
      "text/plain": [
       "       id  job_satisfaction_rate\n",
       "0  130604                   0.74\n",
       "1  825977                   0.75\n",
       "2  418490                   0.60\n",
       "3  555320                   0.72\n",
       "4  826430                   0.08"
      ]
     },
     "metadata": {},
     "output_type": "display_data"
    },
    {
     "name": "stdout",
     "output_type": "stream",
     "text": [
      "<class 'pandas.core.frame.DataFrame'>\n",
      "RangeIndex: 2000 entries, 0 to 1999\n",
      "Data columns (total 2 columns):\n",
      " #   Column                 Non-Null Count  Dtype  \n",
      "---  ------                 --------------  -----  \n",
      " 0   id                     2000 non-null   int64  \n",
      " 1   job_satisfaction_rate  2000 non-null   float64\n",
      "dtypes: float64(1), int64(1)\n",
      "memory usage: 31.4 KB\n"
     ]
    },
    {
     "data": {
      "text/html": [
       "<div>\n",
       "<style scoped>\n",
       "    .dataframe tbody tr th:only-of-type {\n",
       "        vertical-align: middle;\n",
       "    }\n",
       "\n",
       "    .dataframe tbody tr th {\n",
       "        vertical-align: top;\n",
       "    }\n",
       "\n",
       "    .dataframe thead th {\n",
       "        text-align: right;\n",
       "    }\n",
       "</style>\n",
       "<table border=\"1\" class=\"dataframe\">\n",
       "  <thead>\n",
       "    <tr style=\"text-align: right;\">\n",
       "      <th></th>\n",
       "      <th>id</th>\n",
       "      <th>job_satisfaction_rate</th>\n",
       "    </tr>\n",
       "  </thead>\n",
       "  <tbody>\n",
       "    <tr>\n",
       "      <th>count</th>\n",
       "      <td>2000.000000</td>\n",
       "      <td>2000.00000</td>\n",
       "    </tr>\n",
       "    <tr>\n",
       "      <th>mean</th>\n",
       "      <td>552765.213500</td>\n",
       "      <td>0.54878</td>\n",
       "    </tr>\n",
       "    <tr>\n",
       "      <th>std</th>\n",
       "      <td>253851.326129</td>\n",
       "      <td>0.22011</td>\n",
       "    </tr>\n",
       "    <tr>\n",
       "      <th>min</th>\n",
       "      <td>100298.000000</td>\n",
       "      <td>0.03000</td>\n",
       "    </tr>\n",
       "    <tr>\n",
       "      <th>25%</th>\n",
       "      <td>339052.000000</td>\n",
       "      <td>0.38000</td>\n",
       "    </tr>\n",
       "    <tr>\n",
       "      <th>50%</th>\n",
       "      <td>550793.000000</td>\n",
       "      <td>0.58000</td>\n",
       "    </tr>\n",
       "    <tr>\n",
       "      <th>75%</th>\n",
       "      <td>765763.750000</td>\n",
       "      <td>0.72000</td>\n",
       "    </tr>\n",
       "    <tr>\n",
       "      <th>max</th>\n",
       "      <td>999029.000000</td>\n",
       "      <td>1.00000</td>\n",
       "    </tr>\n",
       "  </tbody>\n",
       "</table>\n",
       "</div>"
      ],
      "text/plain": [
       "                  id  job_satisfaction_rate\n",
       "count    2000.000000             2000.00000\n",
       "mean   552765.213500                0.54878\n",
       "std    253851.326129                0.22011\n",
       "min    100298.000000                0.03000\n",
       "25%    339052.000000                0.38000\n",
       "50%    550793.000000                0.58000\n",
       "75%    765763.750000                0.72000\n",
       "max    999029.000000                1.00000"
      ]
     },
     "metadata": {},
     "output_type": "display_data"
    }
   ],
   "source": [
    "try:\n",
    "    y_test_sat = pd.read_csv('/datasets/test_target_job_satisfaction_rate.csv')\n",
    "except:\n",
    "    y_test_sat = pd.read_csv('datasets/test_target_job_satisfaction_rate.csv')\n",
    "dataset_info(y_test_sat)"
   ]
  },
  {
   "cell_type": "markdown",
   "id": "7239cd4e",
   "metadata": {},
   "source": [
    "## Предобработка данных"
   ]
  },
  {
   "cell_type": "markdown",
   "id": "48fc319b",
   "metadata": {},
   "source": [
    "Для начала объединим все данные в один датасет. Он не будет использоваться при обучении модели, мы только одним глазком проведем исследовательский анализ."
   ]
  },
  {
   "cell_type": "code",
   "execution_count": 7,
   "id": "f9116860",
   "metadata": {},
   "outputs": [
    {
     "data": {
      "text/plain": [
       "(6000, 10)"
      ]
     },
     "execution_count": 7,
     "metadata": {},
     "output_type": "execute_result"
    }
   ],
   "source": [
    "ds_main = pd.concat([ds_train_sat, X_test.merge(y_test_sat, on='id')])\n",
    "ds_main.shape"
   ]
  },
  {
   "cell_type": "markdown",
   "id": "49fa683b",
   "metadata": {},
   "source": [
    "При загрузке мы выявили несколько пропусков, но ими мы будем заниматься в пайплайне. Сейчас проверим распределение значений, построим гистограммы для количественных признаков и барплоты для категориальных."
   ]
  },
  {
   "cell_type": "code",
   "execution_count": 8,
   "id": "3e203166",
   "metadata": {
    "scrolled": false
   },
   "outputs": [
    {
     "data": {
      "image/png": "[encoded data removed]",
      "text/plain": [
       "<Figure size 864x1008 with 6 Axes>"
      ]
     },
     "metadata": {},
     "output_type": "display_data"
    }
   ],
   "source": [
    "fig, axes = plt.subplots(nrows=3, ncols=2, figsize=(12, 14))\n",
    "bins=[50, 10, 9, 25, 30]\n",
    "\n",
    "for j, i in enumerate(ds_main.select_dtypes(include='number').columns):\n",
    "    ds_main[i].plot(kind='hist', title=i, ax=axes[j//2, j%2], bins=bins[j])\n",
    "    ymin, ymax = axes[j//2, j%2].get_ylim()\n",
    "    axes[j//2, j%2].vlines(x=ds_main[i].mean(), colors='red', ymin=ymin, ymax=ymax, label='Среднее')\n",
    "    axes[j//2, j%2].vlines(x=ds_main[i].median(), colors='red', ymin=ymin, ymax=ymax, linestyles='--', label='Медиана')\n",
    "    axes[j//2, j%2].legend()"
   ]
  },
  {
   "cell_type": "markdown",
   "id": "ed52af9a",
   "metadata": {},
   "source": [
    "Айди распределены сравнительно равномерно. Значения от 100.000, вплоть почти до миллиона, при том, что записей всего 6.000. Судя по всему, мы имеем дело со случайно отобранной выборкой.\n",
    "\n",
    "Больше всего в компании сотрудников, устроившихся недавно, звучит логично. Вместе с увеличением длительности работы падает кол-во сотрудников.\n",
    "\n",
    "Оценка качества работы представляет из себя только целые числа от 1 до 5, и больше смахивает на категориальный признак.\n",
    "\n",
    "Зарплата, ожидаемо, концентрируется ближе к минимальным значениям, в компании больше людей с низкой зарплатой.\n",
    "\n",
    "Уровень удовлетворенности имеет 2 пика. Удовлетворённость сотрудника чаще либо немного выше средней, либо немного ниже, реже - колеблется около 0.5, или сильно склоняется в одну из двух сторон.\n",
    "\n",
    "В данных отсутствуют аномалии, отлично. Переходим дальше - к категориальным признакам."
   ]
  },
  {
   "cell_type": "markdown",
   "id": "75b45c0c",
   "metadata": {},
   "source": [
    "Так как признак `supervisor_evaluation` показал сходство с категориальным типом данных - построим столбчатую диаграмму и для него. Заодно проверим наличие незначительно выбивающихся значений, которые не показала-бы гистограмма."
   ]
  },
  {
   "cell_type": "code",
   "execution_count": 9,
   "id": "421ebc9f",
   "metadata": {},
   "outputs": [
    {
     "data": {
      "image/png": "[encoded data removed]",
      "text/plain": [
       "<Figure size 864x1008 with 6 Axes>"
      ]
     },
     "metadata": {},
     "output_type": "display_data"
    }
   ],
   "source": [
    "fig, axes = plt.subplots(nrows=3, ncols=2, figsize=(12, 14))\n",
    "\n",
    "for j, i in enumerate(ds_main.select_dtypes(exclude='number').columns.union(['supervisor_evaluation'])):\n",
    "    ds_main[i].value_counts().sort_index().plot(kind='barh', title=i, ax=axes[j//2, j%2])"
   ]
  },
  {
   "cell_type": "markdown",
   "id": "e0878477",
   "metadata": {},
   "source": [
    "Самый крупный отдел в компании - отдел продаж.\n",
    "\n",
    "Повышения выдаются неохотно. \n",
    "\n",
    "Также неохотно происходят нарушения трудового договора. \n",
    "\n",
    "Распределение уровня должностей похоже на правдивое. \n",
    "\n",
    "Барплот оценки качества работы показал ту-же картину, что и гистограмма. Значения в действительности распределены между пятью категориями. \n",
    "\n",
    "Уровень загруженности тоже не даёт повода заподозрить здесь ошибку.\n",
    "\n",
    "Подозрительный отступ в загруженности и списке отделов. Попросим вывести уникальные значения этих признаков в каждом датасете."
   ]
  },
  {
   "cell_type": "code",
   "execution_count": 10,
   "id": "988f89c6",
   "metadata": {},
   "outputs": [
    {
     "name": "stdout",
     "output_type": "stream",
     "text": [
      "['medium' 'high' 'low']\n",
      "['sales' 'hr' 'technology' 'purchasing' 'marketing' nan]\n",
      "['medium' 'low' 'high' ' ']\n",
      "['marketing' 'hr' 'sales' 'purchasing' 'technology' nan ' ']\n"
     ]
    }
   ],
   "source": [
    "for i in ds_train_sat, X_test:\n",
    "    print(i['workload'].unique())\n",
    "    print(i['dept'].unique())"
   ]
  },
  {
   "cell_type": "markdown",
   "id": "74aa926e",
   "metadata": {},
   "source": [
    "В тестовых данных виднеется пара увлекательных записей"
   ]
  },
  {
   "cell_type": "code",
   "execution_count": 11,
   "id": "4e91283b",
   "metadata": {},
   "outputs": [
    {
     "data": {
      "text/html": [
       "<div>\n",
       "<style scoped>\n",
       "    .dataframe tbody tr th:only-of-type {\n",
       "        vertical-align: middle;\n",
       "    }\n",
       "\n",
       "    .dataframe tbody tr th {\n",
       "        vertical-align: top;\n",
       "    }\n",
       "\n",
       "    .dataframe thead th {\n",
       "        text-align: right;\n",
       "    }\n",
       "</style>\n",
       "<table border=\"1\" class=\"dataframe\">\n",
       "  <thead>\n",
       "    <tr style=\"text-align: right;\">\n",
       "      <th></th>\n",
       "      <th>id</th>\n",
       "      <th>dept</th>\n",
       "      <th>level</th>\n",
       "      <th>workload</th>\n",
       "      <th>employment_years</th>\n",
       "      <th>last_year_promo</th>\n",
       "      <th>last_year_violations</th>\n",
       "      <th>supervisor_evaluation</th>\n",
       "      <th>salary</th>\n",
       "    </tr>\n",
       "  </thead>\n",
       "  <tbody>\n",
       "    <tr>\n",
       "      <th>15</th>\n",
       "      <td>590867</td>\n",
       "      <td>marketing</td>\n",
       "      <td>junior</td>\n",
       "      <td></td>\n",
       "      <td>4</td>\n",
       "      <td>no</td>\n",
       "      <td>no</td>\n",
       "      <td>4</td>\n",
       "      <td>28800</td>\n",
       "    </tr>\n",
       "    <tr>\n",
       "      <th>1699</th>\n",
       "      <td>822186</td>\n",
       "      <td></td>\n",
       "      <td>middle</td>\n",
       "      <td>medium</td>\n",
       "      <td>3</td>\n",
       "      <td>no</td>\n",
       "      <td>no</td>\n",
       "      <td>4</td>\n",
       "      <td>38400</td>\n",
       "    </tr>\n",
       "  </tbody>\n",
       "</table>\n",
       "</div>"
      ],
      "text/plain": [
       "          id       dept   level workload  employment_years last_year_promo  \\\n",
       "15    590867  marketing  junior                          4              no   \n",
       "1699  822186             middle   medium                 3              no   \n",
       "\n",
       "     last_year_violations  supervisor_evaluation  salary  \n",
       "15                     no                      4   28800  \n",
       "1699                   no                      4   38400  "
      ]
     },
     "execution_count": 11,
     "metadata": {},
     "output_type": "execute_result"
    }
   ],
   "source": [
    "X_test[(X_test['workload'] == ' ')|(X_test['dept'] == ' ')]"
   ]
  },
  {
   "cell_type": "markdown",
   "id": "c1392b76",
   "metadata": {},
   "source": [
    "А вот и наши ошибки. Изменим пропуски на NaN"
   ]
  },
  {
   "cell_type": "code",
   "execution_count": 12,
   "id": "8139d726",
   "metadata": {},
   "outputs": [
    {
     "name": "stdout",
     "output_type": "stream",
     "text": [
      "['marketing' 'hr' 'sales' 'purchasing' 'technology' nan]\n",
      "['medium' 'low' 'high' nan]\n"
     ]
    }
   ],
   "source": [
    "X_test.loc[X_test['id'] == 822186, 'dept'] = np.nan\n",
    "X_test.loc[X_test['id'] == 590867, 'workload'] = np.nan\n",
    "for i in ['dept', 'workload']:\n",
    "    print(X_test[i].unique())"
   ]
  },
  {
   "cell_type": "markdown",
   "id": "b3c3bed4",
   "metadata": {},
   "source": [
    "## Исследовательский анализ"
   ]
  },
  {
   "cell_type": "markdown",
   "id": "7610c57d",
   "metadata": {},
   "source": [
    "На распределения данных мы уже посмотрели на этапе предобработки. Вернёмся к количественным признакам и взглянем на выбросы, построив ящиковые диаграммы. "
   ]
  },
  {
   "cell_type": "code",
   "execution_count": 13,
   "id": "4587ce84",
   "metadata": {},
   "outputs": [
    {
     "data": {
      "image/png": "[encoded data removed]",
      "text/plain": [
       "<Figure size 864x576 with 6 Axes>"
      ]
     },
     "metadata": {},
     "output_type": "display_data"
    }
   ],
   "source": [
    "fig, axes = plt.subplots(nrows=2, ncols=3, figsize=(12, 8))\n",
    "\n",
    "for j, i in enumerate(ds_main.select_dtypes(include='number').columns):\n",
    "    ds_main[i].plot(kind='box', title=i, ax=axes[j//3, j%3])\n",
    "plt.subplots_adjust(hspace=0.3)"
   ]
  },
  {
   "cell_type": "markdown",
   "id": "b3db732b",
   "metadata": {},
   "source": [
    "В значениях зарплаты много выбросов - сотрудники, чья зарплата выше 70.000 выбиваются из общей картины, но нам нельзя пренебречь этими значениями, иначе модель будет плохо предсказывать уход сотрудников с высокой зарплатой. \n",
    "\n",
    "Также имеются выбросы в значениях оценки качества работы. Низкие значения ставятся достаточно редко, из-за чего единица находится за пределами нижнего уса, они нам также пригодятся.\n",
    "\n",
    "Теперь займёмся корреляцией. Начнём с матрицы корреляции Спирмана."
   ]
  },
  {
   "cell_type": "code",
   "execution_count": 14,
   "id": "2af7016e",
   "metadata": {},
   "outputs": [
    {
     "data": {
      "image/png": "[encoded data removed]",
      "text/plain": [
       "<Figure size 576x432 with 2 Axes>"
      ]
     },
     "metadata": {},
     "output_type": "display_data"
    }
   ],
   "source": [
    "plt.figure(figsize=(8, 6))\n",
    "sns.heatmap(ds_main.corr(method='spearman'), annot=True, cmap='coolwarm');"
   ]
  },
  {
   "cell_type": "markdown",
   "id": "1bc4f23b",
   "metadata": {},
   "source": [
    "На уровень удовлетворённости прямо и достаточно сильно влияет оценка качества работы сотрудника. И имеется слабая корреляция с длительностью работы и зарплатой.\n",
    "\n",
    "Также слабо коррелируют между собой зарплата и длительность работы, но до мультиколлинеарности им ещё далеко."
   ]
  },
  {
   "cell_type": "markdown",
   "id": "980a240f",
   "metadata": {},
   "source": [
    "Теперь посмотрим на матрицу взаимосвязи библиотеки phik. Здесь мы сможем увидеть также и зависимости категориальных признаков"
   ]
  },
  {
   "cell_type": "code",
   "execution_count": 15,
   "id": "6bcda38a",
   "metadata": {},
   "outputs": [
    {
     "data": {
      "image/png": "[encoded data removed]",
      "text/plain": [
       "<Figure size 1008x720 with 2 Axes>"
      ]
     },
     "metadata": {},
     "output_type": "display_data"
    }
   ],
   "source": [
    "plt.figure(figsize=(14, 10))\n",
    "sns.heatmap(ds_main.phik_matrix(interval_cols=ds_main.select_dtypes(include='number').columns), annot=True, cmap='coolwarm');"
   ]
  },
  {
   "cell_type": "markdown",
   "id": "772190e4",
   "metadata": {},
   "source": [
    "Похожая картина, что и в матрице корреляции Спирмена, также видна зависимость удовлетворенности от наличия нарушений."
   ]
  },
  {
   "cell_type": "markdown",
   "id": "1571ff49",
   "metadata": {},
   "source": [
    "## Подготовка данных"
   ]
  },
  {
   "cell_type": "markdown",
   "id": "5326d381",
   "metadata": {},
   "source": [
    "Для начала создадим пайплайны для кодирования данных. У нас много категориальных признаков, и у некоторых из них есть последовательные значения. Например, уровень должности. Для таких признаков используем `OrdinalEncoder`, он назначит каждому значению число согласно переданной последовательности."
   ]
  },
  {
   "cell_type": "code",
   "execution_count": 16,
   "id": "3015fbf9",
   "metadata": {},
   "outputs": [],
   "source": [
    "ord_pipe = Pipeline([\n",
    "    ('impute_before', SimpleImputer(missing_values=np.nan, strategy='most_frequent')),\n",
    "    ('ord', OrdinalEncoder(categories=[\n",
    "        ['junior', 'middle', 'sinior'],\n",
    "        ['low', 'medium', 'high']\n",
    "    ], handle_unknown='use_encoded_value', unknown_value=np.nan)),\n",
    "    ('impute_after', SimpleImputer(missing_values=np.nan, strategy='most_frequent'))\n",
    "])"
   ]
  },
  {
   "cell_type": "markdown",
   "id": "0373b84f",
   "metadata": {},
   "source": [
    "Все остальные признаки закодируем при помощи `OneHotEncoder`."
   ]
  },
  {
   "cell_type": "code",
   "execution_count": 17,
   "id": "40e79395",
   "metadata": {},
   "outputs": [],
   "source": [
    "ohe_pipe = Pipeline([\n",
    "    ('impute_ohe', SimpleImputer(missing_values=np.nan, strategy='most_frequent')),\n",
    "    ('ohe', OneHotEncoder(sparse=False, drop='first'))\n",
    "])"
   ]
  },
  {
   "cell_type": "markdown",
   "id": "01c8446d",
   "metadata": {},
   "source": [
    "Нам потребуется расфасовать названия столбцов, что и где мы будем кодировать/масштабировать. И сразу-же объединим все пайплайны при помощи `ColumnTransformer`"
   ]
  },
  {
   "cell_type": "code",
   "execution_count": 18,
   "id": "b58332fe",
   "metadata": {},
   "outputs": [],
   "source": [
    "ohe_columns = ['last_year_promo', 'last_year_violations', 'dept']\n",
    "ord_columns = ['level', 'workload']\n",
    "num_columns = ['employment_years', 'supervisor_evaluation', 'salary']\n",
    "\n",
    "data_preprocessor = ColumnTransformer([\n",
    "    ('ohe_encode', ohe_pipe, ohe_columns),\n",
    "    ('ord_encode', ord_pipe, ord_columns),\n",
    "    ('num', MinMaxScaler(), num_columns)\n",
    "    ], \n",
    "    remainder='passthrough'\n",
    ")"
   ]
  },
  {
   "cell_type": "markdown",
   "id": "5a0f729d",
   "metadata": {},
   "source": [
    "На этом подготовка данных завершена, у нас есть пайплайны для препроцессинга, и на следующем шаге мы объединим его с самой моделью."
   ]
  },
  {
   "cell_type": "markdown",
   "id": "6e2f2936",
   "metadata": {},
   "source": [
    "## Обучение моделей"
   ]
  },
  {
   "cell_type": "code",
   "execution_count": 19,
   "id": "9fc73066",
   "metadata": {},
   "outputs": [],
   "source": [
    "X_train = ds_train_sat.drop('job_satisfaction_rate', axis=1).set_index('id')\n",
    "y_train = ds_train_sat['job_satisfaction_rate']"
   ]
  },
  {
   "cell_type": "markdown",
   "id": "61e6a847",
   "metadata": {},
   "source": [
    "Теперь создадим финальные пайплайны. Мы проверим 2 модели - линейную регрессию и регрессор дерева решений. Для каждого создадим свой итоговый пайплайн, и позже сравним значения метрик."
   ]
  },
  {
   "cell_type": "code",
   "execution_count": 20,
   "id": "52388991",
   "metadata": {},
   "outputs": [],
   "source": [
    "pipe_linear = Pipeline([\n",
    "    ('preprocessor', data_preprocessor),\n",
    "    ('model', LinearRegression())\n",
    "])\n",
    "pipe_tree = Pipeline([\n",
    "    ('preprocessor', data_preprocessor),\n",
    "    ('model', DecisionTreeRegressor(random_state=RANDOM_STATE))\n",
    "])"
   ]
  },
  {
   "cell_type": "markdown",
   "id": "a00e4fea",
   "metadata": {},
   "source": [
    "Кстати о метрике - мы будем использовать SMAPE. Это симметричная средняя абсолютная процентная ошибка, её нет в библиотеке sklearn, поэтому создадим её сами. Для этого инициализируем функцию с расчётами."
   ]
  },
  {
   "cell_type": "code",
   "execution_count": 21,
   "id": "4b5d6ca5",
   "metadata": {},
   "outputs": [],
   "source": [
    "def smape(true, pred):\n",
    "    error = np.abs(true - pred)\n",
    "    scale = (np.abs(true) + np.abs(pred)) / 2\n",
    "    return np.mean(error / scale) * 100"
   ]
  },
  {
   "cell_type": "markdown",
   "id": "868f3d9e",
   "metadata": {},
   "source": [
    "И используем `make_scorer`, передав ему нашу функцию, и параметр `greater_is_better` равный False. SMAPE показывает процент содержания ошибок в ответах модели. Соответственно, высокое значение SMAPE - это значит, что модель работает плохо."
   ]
  },
  {
   "cell_type": "code",
   "execution_count": 22,
   "id": "ebe3f979",
   "metadata": {},
   "outputs": [],
   "source": [
    "smape_score = make_scorer(smape, greater_is_better=False)"
   ]
  },
  {
   "cell_type": "markdown",
   "id": "4bd4ee0c",
   "metadata": {},
   "source": [
    "Создаём объект OptunaSearchCV, он будет заниматься для нас поиском лучших параметров. Для этого ему понадобится сетка параметров param_grid. Начнём с линейной модели, у неё не так много параметров, и хватит всего 2 итераций."
   ]
  },
  {
   "cell_type": "code",
   "execution_count": 23,
   "id": "f7cfbb1d",
   "metadata": {},
   "outputs": [
    {
     "name": "stderr",
     "output_type": "stream",
     "text": [
      "/tmp/ipykernel_504/2617086103.py:5: ExperimentalWarning: OptunaSearchCV is experimental (supported from v0.17.0). The interface can change in the future.\n",
      "  cval_linear = OptunaSearchCV(\n"
     ]
    }
   ],
   "source": [
    "param_grid_linear={\n",
    "    'model__fit_intercept':distributions.CategoricalDistribution([True, False])\n",
    "}\n",
    "\n",
    "cval_linear = OptunaSearchCV(\n",
    "    pipe_linear,\n",
    "    param_distributions=param_grid_linear,\n",
    "    scoring=smape_score,\n",
    "    n_jobs=-1,\n",
    "    cv=8,\n",
    "    n_trials=2,\n",
    "    random_state=RANDOM_STATE\n",
    ") "
   ]
  },
  {
   "cell_type": "markdown",
   "id": "83926ac1",
   "metadata": {},
   "source": [
    "А у дерева решений параметров значительно больше. Переберём 10 комбинаций."
   ]
  },
  {
   "cell_type": "code",
   "execution_count": 24,
   "id": "ef809445",
   "metadata": {
    "scrolled": true
   },
   "outputs": [
    {
     "name": "stderr",
     "output_type": "stream",
     "text": [
      "/tmp/ipykernel_504/1607381658.py:7: ExperimentalWarning: OptunaSearchCV is experimental (supported from v0.17.0). The interface can change in the future.\n",
      "  cval_tree = OptunaSearchCV(\n"
     ]
    }
   ],
   "source": [
    "param_grid_tree={\n",
    "    'model__max_depth':distributions.IntDistribution(3, 10),\n",
    "    'model__min_samples_split':distributions.IntDistribution(2, 8),\n",
    "    'model__min_samples_leaf':distributions.IntDistribution(2, 8)\n",
    "}\n",
    "\n",
    "cval_tree = OptunaSearchCV(\n",
    "    pipe_tree,\n",
    "    param_distributions=param_grid_tree,\n",
    "    scoring=smape_score,\n",
    "    n_jobs=-1,\n",
    "    cv=8,\n",
    "    n_trials=10,\n",
    "    random_state=RANDOM_STATE\n",
    ") "
   ]
  },
  {
   "cell_type": "code",
   "execution_count": 25,
   "id": "1d00d344",
   "metadata": {},
   "outputs": [
    {
     "name": "stderr",
     "output_type": "stream",
     "text": [
      "[I 2024-05-14 10:12:44,823] A new study created in memory with name: no-name-18bf1556-3716-4e6a-ae6b-bfe869c747d7\n",
      "[I 2024-05-14 10:12:46,302] Trial 1 finished with value: -25.032744771783463 and parameters: {'model__fit_intercept': True}. Best is trial 1 with value: -25.032744771783463.\n",
      "[I 2024-05-14 10:12:46,366] Trial 0 finished with value: -25.032744771783463 and parameters: {'model__fit_intercept': True}. Best is trial 1 with value: -25.032744771783463.\n"
     ]
    },
    {
     "name": "stdout",
     "output_type": "stream",
     "text": [
      "CPU times: user 1.15 s, sys: 502 ms, total: 1.65 s\n",
      "Wall time: 1.64 s\n",
      "Лучшая оценка: -25.032744771783463 с параметрами - \n"
     ]
    },
    {
     "data": {
      "text/plain": [
       "{'model__fit_intercept': True}"
      ]
     },
     "execution_count": 25,
     "metadata": {},
     "output_type": "execute_result"
    }
   ],
   "source": [
    "%time cval_linear.fit(X_train, y_train)\n",
    "print('Лучшая оценка:', cval_linear.best_score_, 'с параметрами - ')\n",
    "cval_linear.best_params_"
   ]
  },
  {
   "cell_type": "markdown",
   "id": "037dafcd",
   "metadata": {},
   "source": [
    "Значение метрики -25. Всё сломалось? Нет, мы с вами наблюдаем костыль планетарного масштаба - последствия применения параметра \"greater_is_better=False\". Дело в том, что наш кросс-валидатор не умеет работать с метриками, высокое значение которых означает плохое качество модели. Поэтому значения этих метрик отражаются зеркально, из-за чего сейчас мы видим самое высокое значение метрики, но при этом самое низкое по модулю - 25%"
   ]
  },
  {
   "cell_type": "code",
   "execution_count": 26,
   "id": "5f725f04",
   "metadata": {
    "scrolled": true
   },
   "outputs": [
    {
     "name": "stderr",
     "output_type": "stream",
     "text": [
      "[I 2024-05-14 10:12:46,476] A new study created in memory with name: no-name-6b06225a-7153-47c0-a693-ae5435ed66d7\n",
      "[I 2024-05-14 10:12:50,126] Trial 0 finished with value: -16.68516449422655 and parameters: {'model__max_depth': 8, 'model__min_samples_split': 8, 'model__min_samples_leaf': 6}. Best is trial 0 with value: -16.68516449422655.\n",
      "[I 2024-05-14 10:12:50,181] Trial 4 finished with value: -18.77452296594591 and parameters: {'model__max_depth': 6, 'model__min_samples_split': 3, 'model__min_samples_leaf': 7}. Best is trial 0 with value: -16.68516449422655.\n",
      "[I 2024-05-14 10:12:50,361] Trial 5 finished with value: -17.835427770459194 and parameters: {'model__max_depth': 7, 'model__min_samples_split': 7, 'model__min_samples_leaf': 3}. Best is trial 0 with value: -16.68516449422655.\n",
      "[I 2024-05-14 10:12:50,386] Trial 1 finished with value: -16.058813534651684 and parameters: {'model__max_depth': 9, 'model__min_samples_split': 3, 'model__min_samples_leaf': 8}. Best is trial 1 with value: -16.058813534651684.\n",
      "[I 2024-05-14 10:12:50,413] Trial 2 finished with value: -15.57475787829761 and parameters: {'model__max_depth': 10, 'model__min_samples_split': 3, 'model__min_samples_leaf': 5}. Best is trial 2 with value: -15.57475787829761.\n",
      "[I 2024-05-14 10:12:50,475] Trial 7 finished with value: -15.83007828852816 and parameters: {'model__max_depth': 9, 'model__min_samples_split': 4, 'model__min_samples_leaf': 3}. Best is trial 2 with value: -15.57475787829761.\n",
      "[I 2024-05-14 10:12:50,486] Trial 3 finished with value: -16.68128049736282 and parameters: {'model__max_depth': 8, 'model__min_samples_split': 6, 'model__min_samples_leaf': 7}. Best is trial 2 with value: -15.57475787829761.\n",
      "[I 2024-05-14 10:12:50,497] Trial 6 finished with value: -15.57475787829761 and parameters: {'model__max_depth': 10, 'model__min_samples_split': 4, 'model__min_samples_leaf': 5}. Best is trial 2 with value: -15.57475787829761.\n",
      "[I 2024-05-14 10:12:51,111] Trial 9 finished with value: -22.37405912469033 and parameters: {'model__max_depth': 3, 'model__min_samples_split': 5, 'model__min_samples_leaf': 2}. Best is trial 2 with value: -15.57475787829761.\n",
      "[I 2024-05-14 10:12:51,125] Trial 8 finished with value: -18.761173633740462 and parameters: {'model__max_depth': 6, 'model__min_samples_split': 6, 'model__min_samples_leaf': 6}. Best is trial 2 with value: -15.57475787829761.\n"
     ]
    },
    {
     "name": "stdout",
     "output_type": "stream",
     "text": [
      "CPU times: user 4.12 s, sys: 537 ms, total: 4.65 s\n",
      "Wall time: 4.7 s\n",
      "Лучшая оценка: -15.57475787829761 с параметрами - \n"
     ]
    },
    {
     "data": {
      "text/plain": [
       "{'model__max_depth': 10,\n",
       " 'model__min_samples_split': 3,\n",
       " 'model__min_samples_leaf': 5}"
      ]
     },
     "execution_count": 26,
     "metadata": {},
     "output_type": "execute_result"
    }
   ],
   "source": [
    "%time cval_tree.fit(X_train, y_train)\n",
    "print('Лучшая оценка:', cval_tree.best_score_, 'с параметрами - ')\n",
    "cval_tree.best_params_"
   ]
  },
  {
   "cell_type": "code",
   "execution_count": 28,
   "id": "774e26f9",
   "metadata": {},
   "outputs": [
    {
     "data": {
      "text/plain": [
       "48.87035882287103"
      ]
     },
     "execution_count": 28,
     "metadata": {},
     "output_type": "execute_result"
    }
   ],
   "source": [
    "smape(y_test_sat['job_satisfaction_rate'], cval_tree.predict(X_test.drop('id', axis=1)))"
   ]
  },
  {
   "cell_type": "code",
   "execution_count": null,
   "id": "5069e7dc",
   "metadata": {},
   "outputs": [],
   "source": []
  }
 ],
 "metadata": {
  "ExecuteTimeLog": [
   {
    "duration": 1159,
    "start_time": "2024-05-13T03:11:09.219Z"
   },
   {
    "duration": 3,
    "start_time": "2024-05-13T03:12:00.840Z"
   },
   {
    "duration": 3,
    "start_time": "2024-05-13T03:12:18.956Z"
   },
   {
    "duration": 4,
    "start_time": "2024-05-13T03:13:02.010Z"
   },
   {
    "duration": 22,
    "start_time": "2024-05-13T03:14:35.211Z"
   },
   {
    "duration": 74,
    "start_time": "2024-05-13T03:14:41.923Z"
   },
   {
    "duration": 32,
    "start_time": "2024-05-13T03:14:59.608Z"
   },
   {
    "duration": 63,
    "start_time": "2024-05-13T03:15:09.888Z"
   },
   {
    "duration": 102,
    "start_time": "2024-05-13T03:17:54.197Z"
   },
   {
    "duration": 53,
    "start_time": "2024-05-13T03:19:01.031Z"
   },
   {
    "duration": 117,
    "start_time": "2024-05-13T03:19:38.860Z"
   },
   {
    "duration": 54,
    "start_time": "2024-05-13T03:19:47.225Z"
   },
   {
    "duration": 48,
    "start_time": "2024-05-13T03:23:33.960Z"
   },
   {
    "duration": 46,
    "start_time": "2024-05-13T03:23:44.123Z"
   },
   {
    "duration": 84,
    "start_time": "2024-05-13T03:24:08.249Z"
   },
   {
    "duration": 23029,
    "start_time": "2024-05-13T03:24:33.471Z"
   },
   {
    "duration": 906,
    "start_time": "2024-05-13T03:25:14.345Z"
   },
   {
    "duration": 3,
    "start_time": "2024-05-13T03:25:16.654Z"
   },
   {
    "duration": 3,
    "start_time": "2024-05-13T03:25:17.501Z"
   },
   {
    "duration": 121,
    "start_time": "2024-05-13T03:25:18.221Z"
   },
   {
    "duration": 45,
    "start_time": "2024-05-13T03:25:18.448Z"
   },
   {
    "duration": 59,
    "start_time": "2024-05-13T03:25:26.183Z"
   },
   {
    "duration": 51,
    "start_time": "2024-05-13T03:25:28.668Z"
   },
   {
    "duration": 56,
    "start_time": "2024-05-13T03:25:31.010Z"
   },
   {
    "duration": 3280,
    "start_time": "2024-05-13T03:26:38.794Z"
   },
   {
    "duration": 3,
    "start_time": "2024-05-13T03:26:55.183Z"
   },
   {
    "duration": 50,
    "start_time": "2024-05-13T03:27:13.874Z"
   },
   {
    "duration": 1114,
    "start_time": "2024-05-13T03:27:22.667Z"
   },
   {
    "duration": 11,
    "start_time": "2024-05-13T03:27:46.706Z"
   },
   {
    "duration": 2,
    "start_time": "2024-05-13T03:28:21.616Z"
   },
   {
    "duration": 3,
    "start_time": "2024-05-13T03:28:23.135Z"
   },
   {
    "duration": 3,
    "start_time": "2024-05-13T03:28:23.662Z"
   },
   {
    "duration": 71,
    "start_time": "2024-05-13T03:28:24.051Z"
   },
   {
    "duration": 43,
    "start_time": "2024-05-13T03:28:24.297Z"
   },
   {
    "duration": 42,
    "start_time": "2024-05-13T03:28:24.689Z"
   },
   {
    "duration": 1374,
    "start_time": "2024-05-13T13:22:47.619Z"
   },
   {
    "duration": 2,
    "start_time": "2024-05-13T13:22:48.996Z"
   },
   {
    "duration": 15,
    "start_time": "2024-05-13T13:22:49.000Z"
   },
   {
    "duration": 192,
    "start_time": "2024-05-13T13:22:49.017Z"
   },
   {
    "duration": 101,
    "start_time": "2024-05-13T13:22:49.211Z"
   },
   {
    "duration": 90,
    "start_time": "2024-05-13T13:22:49.314Z"
   },
   {
    "duration": 80,
    "start_time": "2024-05-13T13:24:28.669Z"
   },
   {
    "duration": 6,
    "start_time": "2024-05-13T13:25:01.759Z"
   },
   {
    "duration": 7,
    "start_time": "2024-05-13T13:25:39.548Z"
   },
   {
    "duration": 6,
    "start_time": "2024-05-13T13:25:42.672Z"
   },
   {
    "duration": 1416,
    "start_time": "2024-05-13T13:26:37.522Z"
   },
   {
    "duration": 1279,
    "start_time": "2024-05-13T13:26:47.335Z"
   },
   {
    "duration": 1281,
    "start_time": "2024-05-13T13:26:53.051Z"
   },
   {
    "duration": 1164,
    "start_time": "2024-05-13T13:27:01.256Z"
   },
   {
    "duration": 1105,
    "start_time": "2024-05-13T13:27:24.493Z"
   },
   {
    "duration": 1438,
    "start_time": "2024-05-13T13:28:07.032Z"
   },
   {
    "duration": 1276,
    "start_time": "2024-05-13T13:28:18.468Z"
   },
   {
    "duration": 1244,
    "start_time": "2024-05-13T13:29:02.668Z"
   },
   {
    "duration": 561,
    "start_time": "2024-05-13T13:36:24.001Z"
   },
   {
    "duration": 1140,
    "start_time": "2024-05-13T13:36:40.624Z"
   },
   {
    "duration": 717,
    "start_time": "2024-05-13T13:37:18.065Z"
   },
   {
    "duration": 1226,
    "start_time": "2024-05-13T13:37:21.226Z"
   },
   {
    "duration": 1330,
    "start_time": "2024-05-13T13:37:36.652Z"
   },
   {
    "duration": 1109,
    "start_time": "2024-05-13T13:41:45.920Z"
   },
   {
    "duration": 14,
    "start_time": "2024-05-13T13:45:15.275Z"
   },
   {
    "duration": 6,
    "start_time": "2024-05-13T13:45:18.657Z"
   },
   {
    "duration": 14,
    "start_time": "2024-05-13T13:45:45.553Z"
   },
   {
    "duration": 5,
    "start_time": "2024-05-13T13:45:57.028Z"
   },
   {
    "duration": 11,
    "start_time": "2024-05-13T13:46:19.200Z"
   },
   {
    "duration": 10,
    "start_time": "2024-05-13T13:48:32.502Z"
   },
   {
    "duration": 7,
    "start_time": "2024-05-13T13:48:43.510Z"
   },
   {
    "duration": 5,
    "start_time": "2024-05-13T13:48:46.621Z"
   },
   {
    "duration": 9,
    "start_time": "2024-05-13T13:48:52.797Z"
   },
   {
    "duration": 6,
    "start_time": "2024-05-13T13:49:34.038Z"
   },
   {
    "duration": 5,
    "start_time": "2024-05-13T13:50:14.875Z"
   },
   {
    "duration": 7,
    "start_time": "2024-05-13T13:50:23.964Z"
   },
   {
    "duration": 6,
    "start_time": "2024-05-13T13:50:36.014Z"
   },
   {
    "duration": 6,
    "start_time": "2024-05-13T13:50:42.894Z"
   },
   {
    "duration": 6,
    "start_time": "2024-05-13T13:50:50.777Z"
   },
   {
    "duration": 212,
    "start_time": "2024-05-13T13:51:36.966Z"
   },
   {
    "duration": 778,
    "start_time": "2024-05-13T13:52:32.554Z"
   },
   {
    "duration": 872,
    "start_time": "2024-05-13T13:53:29.012Z"
   },
   {
    "duration": 813,
    "start_time": "2024-05-13T13:53:49.460Z"
   },
   {
    "duration": 723,
    "start_time": "2024-05-13T14:05:56.617Z"
   },
   {
    "duration": 785,
    "start_time": "2024-05-13T14:06:15.027Z"
   },
   {
    "duration": 864,
    "start_time": "2024-05-13T14:06:20.551Z"
   },
   {
    "duration": 1152,
    "start_time": "2024-05-13T14:06:49.086Z"
   },
   {
    "duration": 1373,
    "start_time": "2024-05-13T14:07:05.922Z"
   },
   {
    "duration": 3,
    "start_time": "2024-05-13T14:08:18.028Z"
   },
   {
    "duration": 914,
    "start_time": "2024-05-13T14:08:20.403Z"
   },
   {
    "duration": 1399,
    "start_time": "2024-05-13T14:08:24.706Z"
   },
   {
    "duration": 758,
    "start_time": "2024-05-13T14:08:28.470Z"
   },
   {
    "duration": 1466,
    "start_time": "2024-05-13T14:08:36.071Z"
   },
   {
    "duration": 9,
    "start_time": "2024-05-13T14:09:31.798Z"
   },
   {
    "duration": 3,
    "start_time": "2024-05-13T14:09:51.561Z"
   },
   {
    "duration": 1431,
    "start_time": "2024-05-13T14:09:54.840Z"
   },
   {
    "duration": 790,
    "start_time": "2024-05-13T14:09:59.387Z"
   },
   {
    "duration": 742,
    "start_time": "2024-05-13T14:11:30.554Z"
   },
   {
    "duration": 637,
    "start_time": "2024-05-13T14:11:52.662Z"
   },
   {
    "duration": 573,
    "start_time": "2024-05-13T14:11:59.992Z"
   },
   {
    "duration": 4,
    "start_time": "2024-05-13T14:12:23.458Z"
   },
   {
    "duration": 72,
    "start_time": "2024-05-13T14:12:23.464Z"
   },
   {
    "duration": 15,
    "start_time": "2024-05-13T14:12:23.538Z"
   },
   {
    "duration": 83,
    "start_time": "2024-05-13T14:12:23.555Z"
   },
   {
    "duration": 50,
    "start_time": "2024-05-13T14:12:23.640Z"
   },
   {
    "duration": 49,
    "start_time": "2024-05-13T14:12:23.691Z"
   },
   {
    "duration": 1444,
    "start_time": "2024-05-13T14:12:23.741Z"
   },
   {
    "duration": 816,
    "start_time": "2024-05-13T14:12:25.187Z"
   },
   {
    "duration": 585,
    "start_time": "2024-05-13T14:12:26.005Z"
   },
   {
    "duration": 552,
    "start_time": "2024-05-13T14:13:10.166Z"
   },
   {
    "duration": 675,
    "start_time": "2024-05-13T14:13:15.305Z"
   },
   {
    "duration": 416,
    "start_time": "2024-05-13T14:19:51.309Z"
   },
   {
    "duration": 303,
    "start_time": "2024-05-13T14:19:54.500Z"
   },
   {
    "duration": 8,
    "start_time": "2024-05-13T14:20:12.268Z"
   },
   {
    "duration": 378,
    "start_time": "2024-05-13T14:20:18.606Z"
   },
   {
    "duration": 150,
    "start_time": "2024-05-13T14:20:25.574Z"
   },
   {
    "duration": 423,
    "start_time": "2024-05-13T14:20:47.724Z"
   },
   {
    "duration": 360,
    "start_time": "2024-05-13T14:21:08.591Z"
   },
   {
    "duration": 397,
    "start_time": "2024-05-13T14:21:35.757Z"
   },
   {
    "duration": 5094,
    "start_time": "2024-05-13T14:25:04.033Z"
   },
   {
    "duration": 52,
    "start_time": "2024-05-13T14:27:56.698Z"
   },
   {
    "duration": 12,
    "start_time": "2024-05-13T14:28:05.234Z"
   },
   {
    "duration": 7,
    "start_time": "2024-05-13T14:28:16.636Z"
   },
   {
    "duration": 22,
    "start_time": "2024-05-13T14:28:19.438Z"
   },
   {
    "duration": 25,
    "start_time": "2024-05-13T14:29:13.918Z"
   },
   {
    "duration": 18,
    "start_time": "2024-05-13T14:29:22.373Z"
   },
   {
    "duration": 18,
    "start_time": "2024-05-13T14:32:41.653Z"
   },
   {
    "duration": 1424,
    "start_time": "2024-05-13T14:32:42.486Z"
   },
   {
    "duration": 774,
    "start_time": "2024-05-13T14:32:46.704Z"
   },
   {
    "duration": 716,
    "start_time": "2024-05-13T14:32:49.675Z"
   },
   {
    "duration": 474,
    "start_time": "2024-05-13T14:32:54.837Z"
   },
   {
    "duration": 19,
    "start_time": "2024-05-13T14:33:31.119Z"
   },
   {
    "duration": 11,
    "start_time": "2024-05-13T14:33:33.780Z"
   },
   {
    "duration": 16,
    "start_time": "2024-05-13T14:35:16.873Z"
   },
   {
    "duration": 1889,
    "start_time": "2024-05-13T14:35:31.199Z"
   },
   {
    "duration": 3,
    "start_time": "2024-05-13T14:35:33.090Z"
   },
   {
    "duration": 25,
    "start_time": "2024-05-13T14:35:33.095Z"
   },
   {
    "duration": 80,
    "start_time": "2024-05-13T14:35:33.122Z"
   },
   {
    "duration": 58,
    "start_time": "2024-05-13T14:35:33.204Z"
   },
   {
    "duration": 49,
    "start_time": "2024-05-13T14:35:33.264Z"
   },
   {
    "duration": 10,
    "start_time": "2024-05-13T14:35:33.314Z"
   },
   {
    "duration": 1445,
    "start_time": "2024-05-13T14:35:33.326Z"
   },
   {
    "duration": 885,
    "start_time": "2024-05-13T14:35:34.773Z"
   },
   {
    "duration": 599,
    "start_time": "2024-05-13T14:35:35.661Z"
   },
   {
    "duration": 402,
    "start_time": "2024-05-13T14:35:36.262Z"
   },
   {
    "duration": 140,
    "start_time": "2024-05-13T14:35:36.666Z"
   },
   {
    "duration": 3414,
    "start_time": "2024-05-13T14:36:01.239Z"
   },
   {
    "duration": 22,
    "start_time": "2024-05-13T14:36:08.775Z"
   },
   {
    "duration": 1361,
    "start_time": "2024-05-13T14:36:21.233Z"
   },
   {
    "duration": 10471,
    "start_time": "2024-05-14T07:13:37.611Z"
   },
   {
    "duration": 5,
    "start_time": "2024-05-14T07:13:48.084Z"
   },
   {
    "duration": 25,
    "start_time": "2024-05-14T07:13:48.091Z"
   },
   {
    "duration": 199,
    "start_time": "2024-05-14T07:13:48.118Z"
   },
   {
    "duration": 103,
    "start_time": "2024-05-14T07:13:48.320Z"
   },
   {
    "duration": 89,
    "start_time": "2024-05-14T07:13:48.424Z"
   },
   {
    "duration": 11,
    "start_time": "2024-05-14T07:13:48.515Z"
   },
   {
    "duration": 1631,
    "start_time": "2024-05-14T07:13:48.528Z"
   },
   {
    "duration": 911,
    "start_time": "2024-05-14T07:13:50.161Z"
   },
   {
    "duration": 655,
    "start_time": "2024-05-14T07:13:51.073Z"
   },
   {
    "duration": 501,
    "start_time": "2024-05-14T07:13:51.730Z"
   },
   {
    "duration": 1320,
    "start_time": "2024-05-14T07:13:52.233Z"
   },
   {
    "duration": 145,
    "start_time": "2024-05-14T07:20:43.012Z"
   },
   {
    "duration": 5,
    "start_time": "2024-05-14T07:20:55.414Z"
   },
   {
    "duration": 8,
    "start_time": "2024-05-14T07:23:46.168Z"
   },
   {
    "duration": 6,
    "start_time": "2024-05-14T07:26:31.178Z"
   },
   {
    "duration": 13,
    "start_time": "2024-05-14T07:26:58.558Z"
   },
   {
    "duration": 6,
    "start_time": "2024-05-14T07:27:12.041Z"
   },
   {
    "duration": 5,
    "start_time": "2024-05-14T07:30:32.020Z"
   },
   {
    "duration": 13,
    "start_time": "2024-05-14T07:33:35.136Z"
   },
   {
    "duration": 8,
    "start_time": "2024-05-14T07:34:10.646Z"
   },
   {
    "duration": 5,
    "start_time": "2024-05-14T07:36:00.672Z"
   },
   {
    "duration": 12,
    "start_time": "2024-05-14T07:36:02.472Z"
   },
   {
    "duration": 6,
    "start_time": "2024-05-14T07:36:19.202Z"
   },
   {
    "duration": 4,
    "start_time": "2024-05-14T07:36:23.492Z"
   },
   {
    "duration": 6,
    "start_time": "2024-05-14T07:36:39.224Z"
   },
   {
    "duration": 16,
    "start_time": "2024-05-14T07:39:35.659Z"
   },
   {
    "duration": 7,
    "start_time": "2024-05-14T07:39:40.797Z"
   },
   {
    "duration": 14,
    "start_time": "2024-05-14T07:39:55.121Z"
   },
   {
    "duration": 14,
    "start_time": "2024-05-14T07:40:07.697Z"
   },
   {
    "duration": 7,
    "start_time": "2024-05-14T07:40:13.884Z"
   },
   {
    "duration": 2,
    "start_time": "2024-05-14T07:41:13.528Z"
   },
   {
    "duration": 3,
    "start_time": "2024-05-14T07:41:19.912Z"
   },
   {
    "duration": 3,
    "start_time": "2024-05-14T07:41:54.883Z"
   },
   {
    "duration": 13,
    "start_time": "2024-05-14T07:42:17.158Z"
   },
   {
    "duration": 3,
    "start_time": "2024-05-14T07:42:21.184Z"
   },
   {
    "duration": 15,
    "start_time": "2024-05-14T07:43:30.720Z"
   },
   {
    "duration": 4380,
    "start_time": "2024-05-14T07:43:52.938Z"
   },
   {
    "duration": 71,
    "start_time": "2024-05-14T07:44:11.195Z"
   },
   {
    "duration": 3855,
    "start_time": "2024-05-14T07:44:15.358Z"
   },
   {
    "duration": 3376,
    "start_time": "2024-05-14T07:44:54.736Z"
   },
   {
    "duration": 9,
    "start_time": "2024-05-14T07:45:05.278Z"
   },
   {
    "duration": 4,
    "start_time": "2024-05-14T07:46:16.151Z"
   },
   {
    "duration": 6,
    "start_time": "2024-05-14T07:46:23.608Z"
   },
   {
    "duration": 6,
    "start_time": "2024-05-14T07:46:30.336Z"
   },
   {
    "duration": 20,
    "start_time": "2024-05-14T07:54:51.618Z"
   },
   {
    "duration": 2732,
    "start_time": "2024-05-14T07:56:38.337Z"
   },
   {
    "duration": 2742,
    "start_time": "2024-05-14T07:56:49.195Z"
   },
   {
    "duration": 12,
    "start_time": "2024-05-14T07:57:34.477Z"
   },
   {
    "duration": 3,
    "start_time": "2024-05-14T08:03:11.045Z"
   },
   {
    "duration": 3,
    "start_time": "2024-05-14T08:03:11.874Z"
   },
   {
    "duration": 4,
    "start_time": "2024-05-14T08:03:17.900Z"
   },
   {
    "duration": 17,
    "start_time": "2024-05-14T08:03:26.680Z"
   },
   {
    "duration": 93,
    "start_time": "2024-05-14T08:04:02.240Z"
   },
   {
    "duration": 3,
    "start_time": "2024-05-14T08:04:10.982Z"
   },
   {
    "duration": 15,
    "start_time": "2024-05-14T08:04:12.548Z"
   },
   {
    "duration": 3,
    "start_time": "2024-05-14T08:04:23.749Z"
   },
   {
    "duration": 15,
    "start_time": "2024-05-14T08:04:24.121Z"
   },
   {
    "duration": 4,
    "start_time": "2024-05-14T08:04:33.548Z"
   },
   {
    "duration": 3,
    "start_time": "2024-05-14T08:04:34.035Z"
   },
   {
    "duration": 4,
    "start_time": "2024-05-14T08:05:01.887Z"
   },
   {
    "duration": 5,
    "start_time": "2024-05-14T08:05:02.388Z"
   },
   {
    "duration": 4,
    "start_time": "2024-05-14T08:05:57.467Z"
   },
   {
    "duration": 3,
    "start_time": "2024-05-14T08:05:58.084Z"
   },
   {
    "duration": 4,
    "start_time": "2024-05-14T08:07:41.946Z"
   },
   {
    "duration": 3,
    "start_time": "2024-05-14T08:07:42.263Z"
   },
   {
    "duration": 3,
    "start_time": "2024-05-14T08:07:42.784Z"
   },
   {
    "duration": 3,
    "start_time": "2024-05-14T08:07:50.506Z"
   },
   {
    "duration": 4,
    "start_time": "2024-05-14T08:07:50.830Z"
   },
   {
    "duration": 4,
    "start_time": "2024-05-14T08:07:51.226Z"
   },
   {
    "duration": 3,
    "start_time": "2024-05-14T08:07:59.785Z"
   },
   {
    "duration": 4,
    "start_time": "2024-05-14T08:08:00.046Z"
   },
   {
    "duration": 4,
    "start_time": "2024-05-14T08:08:00.238Z"
   },
   {
    "duration": 4,
    "start_time": "2024-05-14T08:08:39.802Z"
   },
   {
    "duration": 14,
    "start_time": "2024-05-14T08:08:40.095Z"
   },
   {
    "duration": 12,
    "start_time": "2024-05-14T08:08:43.862Z"
   },
   {
    "duration": 4,
    "start_time": "2024-05-14T08:09:28.665Z"
   },
   {
    "duration": 4,
    "start_time": "2024-05-14T08:09:29.011Z"
   },
   {
    "duration": 2,
    "start_time": "2024-05-14T08:09:29.319Z"
   },
   {
    "duration": 83,
    "start_time": "2024-05-14T08:09:52.649Z"
   },
   {
    "duration": 5,
    "start_time": "2024-05-14T08:10:00.693Z"
   },
   {
    "duration": 4,
    "start_time": "2024-05-14T08:10:25.145Z"
   },
   {
    "duration": 20,
    "start_time": "2024-05-14T08:10:31.360Z"
   },
   {
    "duration": 24699,
    "start_time": "2024-05-14T08:11:34.405Z"
   },
   {
    "duration": 24096,
    "start_time": "2024-05-14T08:15:52.680Z"
   },
   {
    "duration": 0,
    "start_time": "2024-05-14T08:16:16.777Z"
   },
   {
    "duration": 18,
    "start_time": "2024-05-14T08:16:29.039Z"
   },
   {
    "duration": 1128,
    "start_time": "2024-05-14T08:16:46.123Z"
   },
   {
    "duration": 3,
    "start_time": "2024-05-14T08:17:00.372Z"
   },
   {
    "duration": 4,
    "start_time": "2024-05-14T08:17:00.683Z"
   },
   {
    "duration": 14,
    "start_time": "2024-05-14T08:17:00.952Z"
   },
   {
    "duration": 4,
    "start_time": "2024-05-14T08:17:01.227Z"
   },
   {
    "duration": 5,
    "start_time": "2024-05-14T08:17:01.534Z"
   },
   {
    "duration": 3,
    "start_time": "2024-05-14T08:17:01.888Z"
   },
   {
    "duration": 5,
    "start_time": "2024-05-14T08:17:02.182Z"
   },
   {
    "duration": 25472,
    "start_time": "2024-05-14T08:17:02.969Z"
   },
   {
    "duration": 0,
    "start_time": "2024-05-14T08:17:28.442Z"
   },
   {
    "duration": 4,
    "start_time": "2024-05-14T08:18:11.745Z"
   },
   {
    "duration": 3,
    "start_time": "2024-05-14T08:18:16.089Z"
   },
   {
    "duration": 14,
    "start_time": "2024-05-14T08:18:16.357Z"
   },
   {
    "duration": 4,
    "start_time": "2024-05-14T08:18:16.671Z"
   },
   {
    "duration": 3,
    "start_time": "2024-05-14T08:18:16.986Z"
   },
   {
    "duration": 4,
    "start_time": "2024-05-14T08:18:17.272Z"
   },
   {
    "duration": 654,
    "start_time": "2024-05-14T08:18:18.614Z"
   },
   {
    "duration": 3,
    "start_time": "2024-05-14T08:19:13.024Z"
   },
   {
    "duration": 3,
    "start_time": "2024-05-14T08:19:13.324Z"
   },
   {
    "duration": 4,
    "start_time": "2024-05-14T08:19:13.553Z"
   },
   {
    "duration": 3,
    "start_time": "2024-05-14T08:19:13.790Z"
   },
   {
    "duration": 3,
    "start_time": "2024-05-14T08:19:13.993Z"
   },
   {
    "duration": 5,
    "start_time": "2024-05-14T08:19:14.202Z"
   },
   {
    "duration": 2519,
    "start_time": "2024-05-14T08:19:14.656Z"
   },
   {
    "duration": 4,
    "start_time": "2024-05-14T08:19:29.099Z"
   },
   {
    "duration": 3528,
    "start_time": "2024-05-14T08:19:30.122Z"
   },
   {
    "duration": 8,
    "start_time": "2024-05-14T08:21:14.772Z"
   },
   {
    "duration": 3,
    "start_time": "2024-05-14T08:21:15.244Z"
   },
   {
    "duration": 5,
    "start_time": "2024-05-14T08:21:15.476Z"
   },
   {
    "duration": 1330,
    "start_time": "2024-05-14T08:21:16.164Z"
   },
   {
    "duration": 4,
    "start_time": "2024-05-14T08:22:03.602Z"
   },
   {
    "duration": 3,
    "start_time": "2024-05-14T08:22:04.033Z"
   },
   {
    "duration": 6,
    "start_time": "2024-05-14T08:22:04.184Z"
   },
   {
    "duration": 1308,
    "start_time": "2024-05-14T08:22:04.505Z"
   },
   {
    "duration": 4,
    "start_time": "2024-05-14T08:22:23.842Z"
   },
   {
    "duration": 24,
    "start_time": "2024-05-14T08:22:29.257Z"
   },
   {
    "duration": 5,
    "start_time": "2024-05-14T08:22:33.178Z"
   },
   {
    "duration": 4,
    "start_time": "2024-05-14T08:22:41.672Z"
   },
   {
    "duration": 4,
    "start_time": "2024-05-14T08:22:43.009Z"
   },
   {
    "duration": 4,
    "start_time": "2024-05-14T08:22:48.990Z"
   },
   {
    "duration": 3,
    "start_time": "2024-05-14T08:23:08.413Z"
   },
   {
    "duration": 3,
    "start_time": "2024-05-14T08:23:14.427Z"
   },
   {
    "duration": 2,
    "start_time": "2024-05-14T08:23:18.362Z"
   },
   {
    "duration": 3,
    "start_time": "2024-05-14T08:23:21.277Z"
   },
   {
    "duration": 2,
    "start_time": "2024-05-14T08:23:24.087Z"
   },
   {
    "duration": 11,
    "start_time": "2024-05-14T08:23:29.340Z"
   },
   {
    "duration": 3,
    "start_time": "2024-05-14T08:23:32.800Z"
   },
   {
    "duration": 4,
    "start_time": "2024-05-14T08:23:53.869Z"
   },
   {
    "duration": 3,
    "start_time": "2024-05-14T08:23:54.162Z"
   },
   {
    "duration": 4,
    "start_time": "2024-05-14T08:23:54.368Z"
   },
   {
    "duration": 1237,
    "start_time": "2024-05-14T08:23:54.824Z"
   },
   {
    "duration": 1289,
    "start_time": "2024-05-14T08:26:44.209Z"
   },
   {
    "duration": 4,
    "start_time": "2024-05-14T08:26:56.523Z"
   },
   {
    "duration": 4,
    "start_time": "2024-05-14T08:26:59.637Z"
   },
   {
    "duration": 1235,
    "start_time": "2024-05-14T08:27:00.051Z"
   },
   {
    "duration": 5,
    "start_time": "2024-05-14T08:27:37.588Z"
   },
   {
    "duration": 9185,
    "start_time": "2024-05-14T08:27:37.919Z"
   },
   {
    "duration": 4,
    "start_time": "2024-05-14T08:31:24.707Z"
   },
   {
    "duration": 2,
    "start_time": "2024-05-14T08:31:24.964Z"
   },
   {
    "duration": 5,
    "start_time": "2024-05-14T08:31:25.199Z"
   },
   {
    "duration": 8913,
    "start_time": "2024-05-14T08:31:25.580Z"
   },
   {
    "duration": 3,
    "start_time": "2024-05-14T08:31:53.779Z"
   },
   {
    "duration": 5,
    "start_time": "2024-05-14T08:40:20.232Z"
   },
   {
    "duration": 3,
    "start_time": "2024-05-14T08:40:20.489Z"
   },
   {
    "duration": 4,
    "start_time": "2024-05-14T08:40:20.728Z"
   },
   {
    "duration": 9119,
    "start_time": "2024-05-14T08:40:20.951Z"
   },
   {
    "duration": 3,
    "start_time": "2024-05-14T08:44:06.538Z"
   },
   {
    "duration": 2,
    "start_time": "2024-05-14T08:44:07.168Z"
   },
   {
    "duration": 5,
    "start_time": "2024-05-14T08:44:10.636Z"
   },
   {
    "duration": 9311,
    "start_time": "2024-05-14T08:44:11.110Z"
   },
   {
    "duration": 5,
    "start_time": "2024-05-14T08:44:40.966Z"
   },
   {
    "duration": 6638,
    "start_time": "2024-05-14T08:44:41.368Z"
   },
   {
    "duration": 2036,
    "start_time": "2024-05-14T08:49:17.628Z"
   },
   {
    "duration": 4,
    "start_time": "2024-05-14T08:49:19.665Z"
   },
   {
    "duration": 20,
    "start_time": "2024-05-14T08:49:19.671Z"
   },
   {
    "duration": 98,
    "start_time": "2024-05-14T08:49:19.693Z"
   },
   {
    "duration": 55,
    "start_time": "2024-05-14T08:49:19.793Z"
   },
   {
    "duration": 49,
    "start_time": "2024-05-14T08:49:19.860Z"
   },
   {
    "duration": 11,
    "start_time": "2024-05-14T08:49:19.911Z"
   },
   {
    "duration": 1719,
    "start_time": "2024-05-14T08:49:19.924Z"
   },
   {
    "duration": 826,
    "start_time": "2024-05-14T08:49:21.644Z"
   },
   {
    "duration": 660,
    "start_time": "2024-05-14T08:49:22.472Z"
   },
   {
    "duration": 447,
    "start_time": "2024-05-14T08:49:23.133Z"
   },
   {
    "duration": 1290,
    "start_time": "2024-05-14T08:49:23.582Z"
   },
   {
    "duration": 4,
    "start_time": "2024-05-14T08:49:24.873Z"
   },
   {
    "duration": 28,
    "start_time": "2024-05-14T08:49:24.879Z"
   },
   {
    "duration": 34,
    "start_time": "2024-05-14T08:49:24.909Z"
   },
   {
    "duration": 21,
    "start_time": "2024-05-14T08:49:24.945Z"
   },
   {
    "duration": 6,
    "start_time": "2024-05-14T08:49:24.968Z"
   },
   {
    "duration": 11,
    "start_time": "2024-05-14T08:49:24.975Z"
   },
   {
    "duration": 16,
    "start_time": "2024-05-14T08:49:24.987Z"
   },
   {
    "duration": 9214,
    "start_time": "2024-05-14T08:49:25.005Z"
   },
   {
    "duration": 3,
    "start_time": "2024-05-14T08:51:38.421Z"
   },
   {
    "duration": 150,
    "start_time": "2024-05-14T08:52:02.092Z"
   },
   {
    "duration": 4,
    "start_time": "2024-05-14T08:53:20.884Z"
   },
   {
    "duration": 329,
    "start_time": "2024-05-14T08:53:21.761Z"
   },
   {
    "duration": 2633,
    "start_time": "2024-05-14T08:53:57.573Z"
   },
   {
    "duration": 4,
    "start_time": "2024-05-14T08:54:00.208Z"
   },
   {
    "duration": 67,
    "start_time": "2024-05-14T08:54:00.215Z"
   },
   {
    "duration": 156,
    "start_time": "2024-05-14T08:54:00.283Z"
   },
   {
    "duration": 64,
    "start_time": "2024-05-14T08:54:00.441Z"
   },
   {
    "duration": 214,
    "start_time": "2024-05-14T08:54:00.507Z"
   },
   {
    "duration": 417,
    "start_time": "2024-05-14T08:54:00.723Z"
   },
   {
    "duration": 1881,
    "start_time": "2024-05-14T08:54:01.142Z"
   },
   {
    "duration": 896,
    "start_time": "2024-05-14T08:54:03.025Z"
   },
   {
    "duration": 572,
    "start_time": "2024-05-14T08:54:03.923Z"
   },
   {
    "duration": 390,
    "start_time": "2024-05-14T08:54:04.497Z"
   },
   {
    "duration": 1310,
    "start_time": "2024-05-14T08:54:04.888Z"
   },
   {
    "duration": 3,
    "start_time": "2024-05-14T08:54:06.200Z"
   },
   {
    "duration": 27,
    "start_time": "2024-05-14T08:54:06.206Z"
   },
   {
    "duration": 33,
    "start_time": "2024-05-14T08:54:06.235Z"
   },
   {
    "duration": 26,
    "start_time": "2024-05-14T08:54:06.270Z"
   },
   {
    "duration": 22,
    "start_time": "2024-05-14T08:54:06.298Z"
   },
   {
    "duration": 27,
    "start_time": "2024-05-14T08:54:06.321Z"
   },
   {
    "duration": 35,
    "start_time": "2024-05-14T08:54:06.350Z"
   },
   {
    "duration": 465,
    "start_time": "2024-05-14T08:54:06.387Z"
   },
   {
    "duration": 0,
    "start_time": "2024-05-14T08:54:06.858Z"
   },
   {
    "duration": 0,
    "start_time": "2024-05-14T08:54:06.859Z"
   },
   {
    "duration": 4,
    "start_time": "2024-05-14T08:54:29.917Z"
   },
   {
    "duration": 2774,
    "start_time": "2024-05-14T08:54:30.508Z"
   },
   {
    "duration": 4,
    "start_time": "2024-05-14T08:54:35.758Z"
   },
   {
    "duration": 1157,
    "start_time": "2024-05-14T08:54:36.284Z"
   },
   {
    "duration": 4,
    "start_time": "2024-05-14T08:56:36.534Z"
   },
   {
    "duration": 4,
    "start_time": "2024-05-14T08:56:36.750Z"
   },
   {
    "duration": 4,
    "start_time": "2024-05-14T08:56:36.958Z"
   },
   {
    "duration": 4,
    "start_time": "2024-05-14T08:56:37.207Z"
   },
   {
    "duration": 4,
    "start_time": "2024-05-14T08:56:37.474Z"
   },
   {
    "duration": 3,
    "start_time": "2024-05-14T08:56:37.740Z"
   },
   {
    "duration": 4,
    "start_time": "2024-05-14T08:56:37.996Z"
   },
   {
    "duration": 4,
    "start_time": "2024-05-14T08:56:38.294Z"
   },
   {
    "duration": 2815,
    "start_time": "2024-05-14T08:56:39.348Z"
   },
   {
    "duration": 1372,
    "start_time": "2024-05-14T08:56:42.166Z"
   },
   {
    "duration": 5,
    "start_time": "2024-05-14T08:59:44.498Z"
   },
   {
    "duration": 5,
    "start_time": "2024-05-14T08:59:44.729Z"
   },
   {
    "duration": 1672,
    "start_time": "2024-05-14T08:59:45.010Z"
   },
   {
    "duration": 4623,
    "start_time": "2024-05-14T08:59:46.685Z"
   },
   {
    "duration": 34,
    "start_time": "2024-05-14T09:00:25.860Z"
   },
   {
    "duration": 1939,
    "start_time": "2024-05-14T09:01:22.220Z"
   },
   {
    "duration": 4776,
    "start_time": "2024-05-14T09:01:24.162Z"
   },
   {
    "duration": 1651,
    "start_time": "2024-05-14T09:01:56.023Z"
   },
   {
    "duration": 4738,
    "start_time": "2024-05-14T09:01:57.676Z"
   },
   {
    "duration": 1860,
    "start_time": "2024-05-14T09:17:42.808Z"
   },
   {
    "duration": 4724,
    "start_time": "2024-05-14T09:17:44.670Z"
   },
   {
    "duration": 3,
    "start_time": "2024-05-14T09:19:07.472Z"
   },
   {
    "duration": 5,
    "start_time": "2024-05-14T09:21:56.784Z"
   },
   {
    "duration": 4,
    "start_time": "2024-05-14T09:26:49.796Z"
   },
   {
    "duration": 4,
    "start_time": "2024-05-14T09:26:50.665Z"
   },
   {
    "duration": 24,
    "start_time": "2024-05-14T09:26:51.251Z"
   },
   {
    "duration": 3849,
    "start_time": "2024-05-14T09:26:55.791Z"
   },
   {
    "duration": 5,
    "start_time": "2024-05-14T09:27:13.939Z"
   },
   {
    "duration": 3457,
    "start_time": "2024-05-14T09:27:18.338Z"
   },
   {
    "duration": 5,
    "start_time": "2024-05-14T09:27:34.562Z"
   },
   {
    "duration": 4,
    "start_time": "2024-05-14T09:27:36.330Z"
   },
   {
    "duration": 4,
    "start_time": "2024-05-14T09:27:37.040Z"
   },
   {
    "duration": 3,
    "start_time": "2024-05-14T09:27:37.604Z"
   },
   {
    "duration": 4,
    "start_time": "2024-05-14T09:27:38.088Z"
   },
   {
    "duration": 4,
    "start_time": "2024-05-14T09:27:39.051Z"
   },
   {
    "duration": 1672,
    "start_time": "2024-05-14T09:27:39.491Z"
   },
   {
    "duration": 4,
    "start_time": "2024-05-14T09:27:50.587Z"
   },
   {
    "duration": 4,
    "start_time": "2024-05-14T09:27:51.279Z"
   },
   {
    "duration": 3,
    "start_time": "2024-05-14T09:27:51.600Z"
   },
   {
    "duration": 3,
    "start_time": "2024-05-14T09:27:51.920Z"
   },
   {
    "duration": 5,
    "start_time": "2024-05-14T09:27:52.222Z"
   },
   {
    "duration": 4,
    "start_time": "2024-05-14T09:27:54.472Z"
   },
   {
    "duration": 1801,
    "start_time": "2024-05-14T09:28:01.775Z"
   },
   {
    "duration": 3,
    "start_time": "2024-05-14T09:28:48.147Z"
   },
   {
    "duration": 4,
    "start_time": "2024-05-14T09:28:49.058Z"
   },
   {
    "duration": 4,
    "start_time": "2024-05-14T09:28:49.453Z"
   },
   {
    "duration": 3,
    "start_time": "2024-05-14T09:28:49.911Z"
   },
   {
    "duration": 4,
    "start_time": "2024-05-14T09:28:53.367Z"
   },
   {
    "duration": 5,
    "start_time": "2024-05-14T09:28:53.967Z"
   },
   {
    "duration": 4148,
    "start_time": "2024-05-14T09:28:56.458Z"
   },
   {
    "duration": 3,
    "start_time": "2024-05-14T09:32:50.894Z"
   },
   {
    "duration": 4,
    "start_time": "2024-05-14T09:32:52.344Z"
   },
   {
    "duration": 4,
    "start_time": "2024-05-14T09:32:53.069Z"
   },
   {
    "duration": 3,
    "start_time": "2024-05-14T09:32:53.609Z"
   },
   {
    "duration": 5,
    "start_time": "2024-05-14T09:32:54.305Z"
   },
   {
    "duration": 4,
    "start_time": "2024-05-14T09:32:55.279Z"
   },
   {
    "duration": 362,
    "start_time": "2024-05-14T09:32:56.259Z"
   },
   {
    "duration": 74,
    "start_time": "2024-05-14T09:35:30.513Z"
   },
   {
    "duration": 17,
    "start_time": "2024-05-14T09:35:36.895Z"
   },
   {
    "duration": 4,
    "start_time": "2024-05-14T09:35:47.758Z"
   },
   {
    "duration": 16,
    "start_time": "2024-05-14T09:35:50.220Z"
   },
   {
    "duration": 39,
    "start_time": "2024-05-14T09:35:50.238Z"
   },
   {
    "duration": 38,
    "start_time": "2024-05-14T09:35:50.279Z"
   },
   {
    "duration": 95,
    "start_time": "2024-05-14T09:35:50.319Z"
   },
   {
    "duration": 50,
    "start_time": "2024-05-14T09:35:50.415Z"
   },
   {
    "duration": 49,
    "start_time": "2024-05-14T09:35:50.467Z"
   },
   {
    "duration": 11,
    "start_time": "2024-05-14T09:35:50.518Z"
   },
   {
    "duration": 1532,
    "start_time": "2024-05-14T09:35:50.531Z"
   },
   {
    "duration": 1732,
    "start_time": "2024-05-14T09:35:52.065Z"
   },
   {
    "duration": 1145,
    "start_time": "2024-05-14T09:35:53.799Z"
   },
   {
    "duration": 430,
    "start_time": "2024-05-14T09:35:54.946Z"
   },
   {
    "duration": 1270,
    "start_time": "2024-05-14T09:35:55.378Z"
   },
   {
    "duration": 9,
    "start_time": "2024-05-14T09:35:56.650Z"
   },
   {
    "duration": 18,
    "start_time": "2024-05-14T09:35:56.660Z"
   },
   {
    "duration": 29,
    "start_time": "2024-05-14T09:35:56.680Z"
   },
   {
    "duration": 15,
    "start_time": "2024-05-14T09:35:56.711Z"
   },
   {
    "duration": 17,
    "start_time": "2024-05-14T09:35:56.728Z"
   },
   {
    "duration": 14,
    "start_time": "2024-05-14T09:35:56.747Z"
   },
   {
    "duration": 14,
    "start_time": "2024-05-14T09:35:56.763Z"
   },
   {
    "duration": 6,
    "start_time": "2024-05-14T09:35:56.778Z"
   },
   {
    "duration": 10,
    "start_time": "2024-05-14T09:35:56.786Z"
   },
   {
    "duration": 523,
    "start_time": "2024-05-14T09:35:56.797Z"
   },
   {
    "duration": 0,
    "start_time": "2024-05-14T09:35:57.321Z"
   },
   {
    "duration": 1241,
    "start_time": "2024-05-14T09:36:18.640Z"
   },
   {
    "duration": 3799,
    "start_time": "2024-05-14T09:36:40.823Z"
   },
   {
    "duration": 3,
    "start_time": "2024-05-14T09:37:05.816Z"
   },
   {
    "duration": 4,
    "start_time": "2024-05-14T09:37:06.613Z"
   },
   {
    "duration": 4,
    "start_time": "2024-05-14T09:37:07.096Z"
   },
   {
    "duration": 4,
    "start_time": "2024-05-14T09:37:07.566Z"
   },
   {
    "duration": 3,
    "start_time": "2024-05-14T09:37:07.957Z"
   },
   {
    "duration": 4,
    "start_time": "2024-05-14T09:37:08.426Z"
   },
   {
    "duration": 4,
    "start_time": "2024-05-14T09:37:08.932Z"
   },
   {
    "duration": 1672,
    "start_time": "2024-05-14T09:37:09.200Z"
   },
   {
    "duration": 4195,
    "start_time": "2024-05-14T09:37:10.877Z"
   },
   {
    "duration": 4,
    "start_time": "2024-05-14T09:37:54.074Z"
   },
   {
    "duration": 4,
    "start_time": "2024-05-14T09:37:54.973Z"
   },
   {
    "duration": 4,
    "start_time": "2024-05-14T09:37:55.557Z"
   },
   {
    "duration": 3,
    "start_time": "2024-05-14T09:37:56.188Z"
   },
   {
    "duration": 2,
    "start_time": "2024-05-14T09:37:56.686Z"
   },
   {
    "duration": 5,
    "start_time": "2024-05-14T09:37:57.227Z"
   },
   {
    "duration": 4,
    "start_time": "2024-05-14T09:37:58.007Z"
   },
   {
    "duration": 393,
    "start_time": "2024-05-14T09:37:58.380Z"
   },
   {
    "duration": 2177,
    "start_time": "2024-05-14T09:37:59.508Z"
   },
   {
    "duration": 4,
    "start_time": "2024-05-14T09:39:16.482Z"
   },
   {
    "duration": 6,
    "start_time": "2024-05-14T09:39:17.317Z"
   },
   {
    "duration": 3,
    "start_time": "2024-05-14T09:39:17.910Z"
   },
   {
    "duration": 4,
    "start_time": "2024-05-14T09:39:19.348Z"
   },
   {
    "duration": 4,
    "start_time": "2024-05-14T09:39:29.469Z"
   },
   {
    "duration": 3,
    "start_time": "2024-05-14T09:39:30.135Z"
   },
   {
    "duration": 4,
    "start_time": "2024-05-14T09:39:30.616Z"
   },
   {
    "duration": 6,
    "start_time": "2024-05-14T09:39:31.344Z"
   },
   {
    "duration": 3,
    "start_time": "2024-05-14T09:39:31.799Z"
   },
   {
    "duration": 4,
    "start_time": "2024-05-14T09:39:32.205Z"
   },
   {
    "duration": 3,
    "start_time": "2024-05-14T09:39:32.627Z"
   },
   {
    "duration": 4,
    "start_time": "2024-05-14T09:39:33.074Z"
   },
   {
    "duration": 4,
    "start_time": "2024-05-14T09:39:35.134Z"
   },
   {
    "duration": 1634,
    "start_time": "2024-05-14T09:39:35.642Z"
   },
   {
    "duration": 3918,
    "start_time": "2024-05-14T09:39:40.920Z"
   },
   {
    "duration": 3,
    "start_time": "2024-05-14T09:40:10.905Z"
   },
   {
    "duration": 3,
    "start_time": "2024-05-14T09:40:11.345Z"
   },
   {
    "duration": 3,
    "start_time": "2024-05-14T09:40:11.811Z"
   },
   {
    "duration": 5,
    "start_time": "2024-05-14T09:40:12.571Z"
   },
   {
    "duration": 3,
    "start_time": "2024-05-14T09:40:13.055Z"
   },
   {
    "duration": 4,
    "start_time": "2024-05-14T09:40:13.303Z"
   },
   {
    "duration": 2,
    "start_time": "2024-05-14T09:40:13.726Z"
   },
   {
    "duration": 4,
    "start_time": "2024-05-14T09:40:14.183Z"
   },
   {
    "duration": 5,
    "start_time": "2024-05-14T09:40:14.641Z"
   },
   {
    "duration": 1726,
    "start_time": "2024-05-14T09:40:14.863Z"
   },
   {
    "duration": 4156,
    "start_time": "2024-05-14T09:40:16.660Z"
   },
   {
    "duration": 11,
    "start_time": "2024-05-14T09:41:05.726Z"
   },
   {
    "duration": 6,
    "start_time": "2024-05-14T09:41:58.277Z"
   },
   {
    "duration": 3,
    "start_time": "2024-05-14T09:41:58.815Z"
   },
   {
    "duration": 5,
    "start_time": "2024-05-14T09:41:59.381Z"
   },
   {
    "duration": 3,
    "start_time": "2024-05-14T09:41:59.896Z"
   },
   {
    "duration": 89,
    "start_time": "2024-05-14T09:42:00.359Z"
   },
   {
    "duration": 4,
    "start_time": "2024-05-14T09:42:07.090Z"
   },
   {
    "duration": 4,
    "start_time": "2024-05-14T09:42:08.886Z"
   },
   {
    "duration": 13,
    "start_time": "2024-05-14T09:42:09.344Z"
   },
   {
    "duration": 6,
    "start_time": "2024-05-14T09:42:42.296Z"
   },
   {
    "duration": 4,
    "start_time": "2024-05-14T09:44:46.266Z"
   },
   {
    "duration": 5,
    "start_time": "2024-05-14T09:44:50.087Z"
   },
   {
    "duration": 1952,
    "start_time": "2024-05-14T09:44:50.915Z"
   },
   {
    "duration": 4072,
    "start_time": "2024-05-14T09:44:53.324Z"
   },
   {
    "duration": 2,
    "start_time": "2024-05-14T09:46:12.299Z"
   },
   {
    "duration": 15,
    "start_time": "2024-05-14T09:47:45.883Z"
   },
   {
    "duration": 27,
    "start_time": "2024-05-14T09:48:12.905Z"
   },
   {
    "duration": 11,
    "start_time": "2024-05-14T09:49:56.439Z"
   },
   {
    "duration": 1647,
    "start_time": "2024-05-14T09:50:08.285Z"
   },
   {
    "duration": 6,
    "start_time": "2024-05-14T09:50:16.716Z"
   },
   {
    "duration": 16,
    "start_time": "2024-05-14T09:51:53.053Z"
   },
   {
    "duration": 12,
    "start_time": "2024-05-14T09:52:05.290Z"
   },
   {
    "duration": 16,
    "start_time": "2024-05-14T09:52:49.789Z"
   },
   {
    "duration": 5,
    "start_time": "2024-05-14T09:54:59.480Z"
   },
   {
    "duration": 7,
    "start_time": "2024-05-14T09:55:21.060Z"
   },
   {
    "duration": 13,
    "start_time": "2024-05-14T09:55:28.074Z"
   },
   {
    "duration": 66,
    "start_time": "2024-05-14T09:55:28.089Z"
   },
   {
    "duration": 30,
    "start_time": "2024-05-14T09:55:28.157Z"
   },
   {
    "duration": 91,
    "start_time": "2024-05-14T09:55:28.189Z"
   },
   {
    "duration": 51,
    "start_time": "2024-05-14T09:55:28.282Z"
   },
   {
    "duration": 57,
    "start_time": "2024-05-14T09:55:28.335Z"
   },
   {
    "duration": 11,
    "start_time": "2024-05-14T09:55:28.394Z"
   },
   {
    "duration": 1483,
    "start_time": "2024-05-14T09:55:28.406Z"
   },
   {
    "duration": 1670,
    "start_time": "2024-05-14T09:55:29.891Z"
   },
   {
    "duration": 9,
    "start_time": "2024-05-14T09:55:31.563Z"
   },
   {
    "duration": 141,
    "start_time": "2024-05-14T09:55:31.573Z"
   },
   {
    "duration": 42,
    "start_time": "2024-05-14T09:55:31.716Z"
   },
   {
    "duration": 618,
    "start_time": "2024-05-14T09:55:31.759Z"
   },
   {
    "duration": 379,
    "start_time": "2024-05-14T09:55:32.380Z"
   },
   {
    "duration": 1237,
    "start_time": "2024-05-14T09:55:32.760Z"
   },
   {
    "duration": 4,
    "start_time": "2024-05-14T09:55:33.999Z"
   },
   {
    "duration": 16,
    "start_time": "2024-05-14T09:55:34.004Z"
   },
   {
    "duration": 7,
    "start_time": "2024-05-14T09:55:34.022Z"
   },
   {
    "duration": 29,
    "start_time": "2024-05-14T09:55:34.031Z"
   },
   {
    "duration": 14,
    "start_time": "2024-05-14T09:55:34.062Z"
   },
   {
    "duration": 6,
    "start_time": "2024-05-14T09:55:34.078Z"
   },
   {
    "duration": 6,
    "start_time": "2024-05-14T09:55:34.086Z"
   },
   {
    "duration": 5,
    "start_time": "2024-05-14T09:55:34.094Z"
   },
   {
    "duration": 10,
    "start_time": "2024-05-14T09:55:34.101Z"
   },
   {
    "duration": 1651,
    "start_time": "2024-05-14T09:55:34.113Z"
   },
   {
    "duration": 4509,
    "start_time": "2024-05-14T09:55:35.766Z"
   },
   {
    "duration": 3,
    "start_time": "2024-05-14T09:55:40.276Z"
   },
   {
    "duration": 83,
    "start_time": "2024-05-14T09:55:40.281Z"
   },
   {
    "duration": 28,
    "start_time": "2024-05-14T09:55:59.195Z"
   },
   {
    "duration": 1976,
    "start_time": "2024-05-14T09:56:32.301Z"
   },
   {
    "duration": 4,
    "start_time": "2024-05-14T09:56:34.279Z"
   },
   {
    "duration": 44,
    "start_time": "2024-05-14T09:56:34.284Z"
   },
   {
    "duration": 97,
    "start_time": "2024-05-14T09:56:34.329Z"
   },
   {
    "duration": 50,
    "start_time": "2024-05-14T09:56:34.428Z"
   },
   {
    "duration": 49,
    "start_time": "2024-05-14T09:56:34.480Z"
   },
   {
    "duration": 11,
    "start_time": "2024-05-14T09:56:34.531Z"
   },
   {
    "duration": 1567,
    "start_time": "2024-05-14T09:56:34.544Z"
   },
   {
    "duration": 750,
    "start_time": "2024-05-14T09:56:36.113Z"
   },
   {
    "duration": 6,
    "start_time": "2024-05-14T09:56:36.865Z"
   },
   {
    "duration": 36,
    "start_time": "2024-05-14T09:56:36.873Z"
   },
   {
    "duration": 38,
    "start_time": "2024-05-14T09:56:36.911Z"
   },
   {
    "duration": 600,
    "start_time": "2024-05-14T09:56:36.951Z"
   },
   {
    "duration": 403,
    "start_time": "2024-05-14T09:56:37.553Z"
   },
   {
    "duration": 1287,
    "start_time": "2024-05-14T09:56:37.958Z"
   },
   {
    "duration": 12,
    "start_time": "2024-05-14T09:56:39.247Z"
   },
   {
    "duration": 11,
    "start_time": "2024-05-14T09:56:39.261Z"
   },
   {
    "duration": 39,
    "start_time": "2024-05-14T09:56:39.274Z"
   },
   {
    "duration": 7,
    "start_time": "2024-05-14T09:56:39.315Z"
   },
   {
    "duration": 19,
    "start_time": "2024-05-14T09:56:39.324Z"
   },
   {
    "duration": 4,
    "start_time": "2024-05-14T09:56:39.345Z"
   },
   {
    "duration": 19,
    "start_time": "2024-05-14T09:56:39.351Z"
   },
   {
    "duration": 30,
    "start_time": "2024-05-14T09:56:39.372Z"
   },
   {
    "duration": 46,
    "start_time": "2024-05-14T09:56:39.404Z"
   },
   {
    "duration": 1714,
    "start_time": "2024-05-14T09:56:39.452Z"
   },
   {
    "duration": 4293,
    "start_time": "2024-05-14T09:56:41.168Z"
   },
   {
    "duration": 3,
    "start_time": "2024-05-14T09:56:45.464Z"
   },
   {
    "duration": 203,
    "start_time": "2024-05-14T09:56:45.468Z"
   },
   {
    "duration": 16,
    "start_time": "2024-05-14T09:57:16.314Z"
   },
   {
    "duration": 5,
    "start_time": "2024-05-14T09:57:42.468Z"
   },
   {
    "duration": 7,
    "start_time": "2024-05-14T09:57:52.521Z"
   },
   {
    "duration": 9,
    "start_time": "2024-05-14T09:58:11.922Z"
   },
   {
    "duration": 7,
    "start_time": "2024-05-14T09:58:29.508Z"
   },
   {
    "duration": 1118,
    "start_time": "2024-05-14T09:59:20.339Z"
   },
   {
    "duration": 10,
    "start_time": "2024-05-14T09:59:25.550Z"
   },
   {
    "duration": 3,
    "start_time": "2024-05-14T09:59:50.027Z"
   },
   {
    "duration": 77,
    "start_time": "2024-05-14T09:59:50.211Z"
   },
   {
    "duration": 48,
    "start_time": "2024-05-14T09:59:50.604Z"
   },
   {
    "duration": 57,
    "start_time": "2024-05-14T09:59:50.986Z"
   },
   {
    "duration": 10,
    "start_time": "2024-05-14T09:59:51.486Z"
   },
   {
    "duration": 1555,
    "start_time": "2024-05-14T09:59:51.832Z"
   },
   {
    "duration": 763,
    "start_time": "2024-05-14T09:59:53.390Z"
   },
   {
    "duration": 9,
    "start_time": "2024-05-14T09:59:54.155Z"
   },
   {
    "duration": 15,
    "start_time": "2024-05-14T09:59:54.166Z"
   },
   {
    "duration": 41,
    "start_time": "2024-05-14T09:59:54.182Z"
   },
   {
    "duration": 6,
    "start_time": "2024-05-14T10:00:54.761Z"
   },
   {
    "duration": 11,
    "start_time": "2024-05-14T10:01:53.132Z"
   },
   {
    "duration": 19,
    "start_time": "2024-05-14T10:01:57.032Z"
   },
   {
    "duration": 85,
    "start_time": "2024-05-14T10:01:57.053Z"
   },
   {
    "duration": 23,
    "start_time": "2024-05-14T10:01:57.139Z"
   },
   {
    "duration": 84,
    "start_time": "2024-05-14T10:01:57.165Z"
   },
   {
    "duration": 49,
    "start_time": "2024-05-14T10:01:57.251Z"
   },
   {
    "duration": 47,
    "start_time": "2024-05-14T10:01:57.302Z"
   },
   {
    "duration": 11,
    "start_time": "2024-05-14T10:01:57.350Z"
   },
   {
    "duration": 1425,
    "start_time": "2024-05-14T10:01:57.362Z"
   },
   {
    "duration": 873,
    "start_time": "2024-05-14T10:01:58.789Z"
   },
   {
    "duration": 5,
    "start_time": "2024-05-14T10:01:59.665Z"
   },
   {
    "duration": 21,
    "start_time": "2024-05-14T10:01:59.672Z"
   },
   {
    "duration": 7,
    "start_time": "2024-05-14T10:03:33.600Z"
   },
   {
    "duration": 2144,
    "start_time": "2024-05-14T10:03:48.035Z"
   },
   {
    "duration": 3,
    "start_time": "2024-05-14T10:03:50.181Z"
   },
   {
    "duration": 28,
    "start_time": "2024-05-14T10:03:50.186Z"
   },
   {
    "duration": 98,
    "start_time": "2024-05-14T10:03:50.216Z"
   },
   {
    "duration": 52,
    "start_time": "2024-05-14T10:03:50.317Z"
   },
   {
    "duration": 50,
    "start_time": "2024-05-14T10:03:50.371Z"
   },
   {
    "duration": 16,
    "start_time": "2024-05-14T10:03:50.422Z"
   },
   {
    "duration": 1643,
    "start_time": "2024-05-14T10:03:50.440Z"
   },
   {
    "duration": 737,
    "start_time": "2024-05-14T10:03:52.085Z"
   },
   {
    "duration": 6,
    "start_time": "2024-05-14T10:03:52.824Z"
   },
   {
    "duration": 13,
    "start_time": "2024-05-14T10:03:52.831Z"
   },
   {
    "duration": 16,
    "start_time": "2024-05-14T10:03:52.858Z"
   },
   {
    "duration": 599,
    "start_time": "2024-05-14T10:03:52.876Z"
   },
   {
    "duration": 415,
    "start_time": "2024-05-14T10:03:53.478Z"
   },
   {
    "duration": 1299,
    "start_time": "2024-05-14T10:03:53.895Z"
   },
   {
    "duration": 4,
    "start_time": "2024-05-14T10:03:55.195Z"
   },
   {
    "duration": 87,
    "start_time": "2024-05-14T10:03:55.200Z"
   },
   {
    "duration": 13,
    "start_time": "2024-05-14T10:03:55.289Z"
   },
   {
    "duration": 8,
    "start_time": "2024-05-14T10:03:55.303Z"
   },
   {
    "duration": 3,
    "start_time": "2024-05-14T10:03:55.312Z"
   },
   {
    "duration": 5,
    "start_time": "2024-05-14T10:03:55.317Z"
   },
   {
    "duration": 15,
    "start_time": "2024-05-14T10:03:55.324Z"
   },
   {
    "duration": 4,
    "start_time": "2024-05-14T10:03:55.340Z"
   },
   {
    "duration": 10,
    "start_time": "2024-05-14T10:03:55.346Z"
   },
   {
    "duration": 1813,
    "start_time": "2024-05-14T10:03:55.357Z"
   },
   {
    "duration": 5250,
    "start_time": "2024-05-14T10:03:57.172Z"
   },
   {
    "duration": 2,
    "start_time": "2024-05-14T10:04:02.424Z"
   },
   {
    "duration": 44,
    "start_time": "2024-05-14T10:04:02.428Z"
   },
   {
    "duration": 195,
    "start_time": "2024-05-14T10:04:02.474Z"
   },
   {
    "duration": 24,
    "start_time": "2024-05-14T10:04:13.183Z"
   },
   {
    "duration": 24,
    "start_time": "2024-05-14T10:04:16.367Z"
   },
   {
    "duration": 17,
    "start_time": "2024-05-14T10:08:27.121Z"
   },
   {
    "duration": 20,
    "start_time": "2024-05-14T10:08:50.846Z"
   },
   {
    "duration": 24,
    "start_time": "2024-05-14T10:08:58.265Z"
   },
   {
    "duration": 36,
    "start_time": "2024-05-14T10:10:20.023Z"
   },
   {
    "duration": 25,
    "start_time": "2024-05-14T10:10:49.857Z"
   },
   {
    "duration": 19,
    "start_time": "2024-05-14T10:10:53.996Z"
   },
   {
    "duration": 19,
    "start_time": "2024-05-14T10:11:53.081Z"
   },
   {
    "duration": 18,
    "start_time": "2024-05-14T10:11:56.088Z"
   },
   {
    "duration": 2076,
    "start_time": "2024-05-14T10:12:37.442Z"
   },
   {
    "duration": 6,
    "start_time": "2024-05-14T10:12:39.520Z"
   },
   {
    "duration": 6,
    "start_time": "2024-05-14T10:12:39.528Z"
   },
   {
    "duration": 102,
    "start_time": "2024-05-14T10:12:39.536Z"
   },
   {
    "duration": 57,
    "start_time": "2024-05-14T10:12:39.640Z"
   },
   {
    "duration": 60,
    "start_time": "2024-05-14T10:12:39.699Z"
   },
   {
    "duration": 15,
    "start_time": "2024-05-14T10:12:39.761Z"
   },
   {
    "duration": 1661,
    "start_time": "2024-05-14T10:12:39.778Z"
   },
   {
    "duration": 766,
    "start_time": "2024-05-14T10:12:41.441Z"
   },
   {
    "duration": 4,
    "start_time": "2024-05-14T10:12:42.209Z"
   },
   {
    "duration": 20,
    "start_time": "2024-05-14T10:12:42.215Z"
   },
   {
    "duration": 25,
    "start_time": "2024-05-14T10:12:42.237Z"
   },
   {
    "duration": 626,
    "start_time": "2024-05-14T10:12:42.264Z"
   },
   {
    "duration": 390,
    "start_time": "2024-05-14T10:12:42.893Z"
   },
   {
    "duration": 1329,
    "start_time": "2024-05-14T10:12:43.284Z"
   },
   {
    "duration": 4,
    "start_time": "2024-05-14T10:12:44.615Z"
   },
   {
    "duration": 27,
    "start_time": "2024-05-14T10:12:44.620Z"
   },
   {
    "duration": 21,
    "start_time": "2024-05-14T10:12:44.649Z"
   },
   {
    "duration": 11,
    "start_time": "2024-05-14T10:12:44.671Z"
   },
   {
    "duration": 12,
    "start_time": "2024-05-14T10:12:44.684Z"
   },
   {
    "duration": 34,
    "start_time": "2024-05-14T10:12:44.697Z"
   },
   {
    "duration": 29,
    "start_time": "2024-05-14T10:12:44.732Z"
   },
   {
    "duration": 28,
    "start_time": "2024-05-14T10:12:44.763Z"
   },
   {
    "duration": 21,
    "start_time": "2024-05-14T10:12:44.792Z"
   },
   {
    "duration": 1654,
    "start_time": "2024-05-14T10:12:44.815Z"
   },
   {
    "duration": 4711,
    "start_time": "2024-05-14T10:12:46.470Z"
   },
   {
    "duration": 3,
    "start_time": "2024-05-14T10:12:51.183Z"
   },
   {
    "duration": 42,
    "start_time": "2024-05-14T10:12:51.188Z"
   }
  ],
  "kernelspec": {
   "display_name": "Python 3 (ipykernel)",
   "language": "python",
   "name": "python3"
  },
  "language_info": {
   "codemirror_mode": {
    "name": "ipython",
    "version": 3
   },
   "file_extension": ".py",
   "mimetype": "text/x-python",
   "name": "python",
   "nbconvert_exporter": "python",
   "pygments_lexer": "ipython3",
   "version": "3.9.5"
  },
  "toc": {
   "base_numbering": 1,
   "nav_menu": {},
   "number_sections": true,
   "sideBar": true,
   "skip_h1_title": true,
   "title_cell": "Содержание",
   "title_sidebar": "Contents",
   "toc_cell": true,
   "toc_position": {
    "height": "calc(100% - 180px)",
    "left": "10px",
    "top": "150px",
    "width": "350px"
   },
   "toc_section_display": true,
   "toc_window_display": true
  }
 },
 "nbformat": 4,
 "nbformat_minor": 5
}
